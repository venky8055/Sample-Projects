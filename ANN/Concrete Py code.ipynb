{
 "cells": [
  {
   "cell_type": "markdown",
   "id": "474c1958",
   "metadata": {},
   "source": [
    "# * Kurapati Venkatesh\n",
    "\n",
    "# * 09012021\n",
    "\n",
    "# * Topic: Neural Network - ANN ✨🧠🕸"
   ]
  },
  {
   "cell_type": "markdown",
   "id": "92fdaa5b",
   "metadata": {},
   "source": [
    "# ---------------------------------------------------------------------------"
   ]
  },
  {
   "cell_type": "markdown",
   "id": "db889cbd",
   "metadata": {},
   "source": [
    "## Problem Statement:"
   ]
  },
  {
   "cell_type": "markdown",
   "id": "3d647cf7",
   "metadata": {},
   "source": [
    "## The following dataset consists of 1030 instances with 9 attributes and has no missing values. There are 8 input variables and 1 output variable. Seven input variables represent the amount of raw material (measured in kg/m³) and one represents Age (in Days). The target variable is Concrete Compressive Strength measured in (MPa — Mega Pascal). Build Neural network model to predict the compressive strength."
   ]
  },
  {
   "cell_type": "markdown",
   "id": "d65a3af3",
   "metadata": {},
   "source": [
    "## -----------------------------------------------------------------------------------"
   ]
  },
  {
   "cell_type": "markdown",
   "id": "2c7115b5",
   "metadata": {},
   "source": [
    "### Problem Objective:\n",
    "##### To Build Neural network model to predict the compressive strength."
   ]
  },
  {
   "cell_type": "markdown",
   "id": "5be8c429",
   "metadata": {},
   "source": [
    "## -------------------------------------------------------------------------------------------"
   ]
  },
  {
   "cell_type": "markdown",
   "id": "903daa37",
   "metadata": {},
   "source": [
    "## Importing libraries:"
   ]
  },
  {
   "cell_type": "code",
   "execution_count": 1,
   "id": "81e41978",
   "metadata": {},
   "outputs": [],
   "source": [
    "import numpy as np\n",
    "import pandas as pd\n",
    "import seaborn as sns\n",
    "import matplotlib.pyplot as plt"
   ]
  },
  {
   "cell_type": "code",
   "execution_count": 2,
   "id": "2c84223e",
   "metadata": {},
   "outputs": [],
   "source": [
    "from keras.layers.core import Dense\n",
    "from keras import Sequential"
   ]
  },
  {
   "cell_type": "markdown",
   "id": "88cc8a48",
   "metadata": {},
   "source": [
    "# Importing Dataset"
   ]
  },
  {
   "cell_type": "code",
   "execution_count": 4,
   "id": "9fd38960",
   "metadata": {},
   "outputs": [
    {
     "data": {
      "text/html": [
       "<div>\n",
       "<style scoped>\n",
       "    .dataframe tbody tr th:only-of-type {\n",
       "        vertical-align: middle;\n",
       "    }\n",
       "\n",
       "    .dataframe tbody tr th {\n",
       "        vertical-align: top;\n",
       "    }\n",
       "\n",
       "    .dataframe thead th {\n",
       "        text-align: right;\n",
       "    }\n",
       "</style>\n",
       "<table border=\"1\" class=\"dataframe\">\n",
       "  <thead>\n",
       "    <tr style=\"text-align: right;\">\n",
       "      <th></th>\n",
       "      <th>cement</th>\n",
       "      <th>slag</th>\n",
       "      <th>ash</th>\n",
       "      <th>water</th>\n",
       "      <th>superplastic</th>\n",
       "      <th>coarseagg</th>\n",
       "      <th>fineagg</th>\n",
       "      <th>age</th>\n",
       "      <th>strength</th>\n",
       "    </tr>\n",
       "  </thead>\n",
       "  <tbody>\n",
       "    <tr>\n",
       "      <th>0</th>\n",
       "      <td>141.3</td>\n",
       "      <td>212.0</td>\n",
       "      <td>0.0</td>\n",
       "      <td>203.5</td>\n",
       "      <td>0.0</td>\n",
       "      <td>971.8</td>\n",
       "      <td>748.5</td>\n",
       "      <td>28</td>\n",
       "      <td>29.89</td>\n",
       "    </tr>\n",
       "    <tr>\n",
       "      <th>1</th>\n",
       "      <td>168.9</td>\n",
       "      <td>42.2</td>\n",
       "      <td>124.3</td>\n",
       "      <td>158.3</td>\n",
       "      <td>10.8</td>\n",
       "      <td>1080.8</td>\n",
       "      <td>796.2</td>\n",
       "      <td>14</td>\n",
       "      <td>23.51</td>\n",
       "    </tr>\n",
       "    <tr>\n",
       "      <th>2</th>\n",
       "      <td>250.0</td>\n",
       "      <td>0.0</td>\n",
       "      <td>95.7</td>\n",
       "      <td>187.4</td>\n",
       "      <td>5.5</td>\n",
       "      <td>956.9</td>\n",
       "      <td>861.2</td>\n",
       "      <td>28</td>\n",
       "      <td>29.22</td>\n",
       "    </tr>\n",
       "    <tr>\n",
       "      <th>3</th>\n",
       "      <td>266.0</td>\n",
       "      <td>114.0</td>\n",
       "      <td>0.0</td>\n",
       "      <td>228.0</td>\n",
       "      <td>0.0</td>\n",
       "      <td>932.0</td>\n",
       "      <td>670.0</td>\n",
       "      <td>28</td>\n",
       "      <td>45.85</td>\n",
       "    </tr>\n",
       "    <tr>\n",
       "      <th>4</th>\n",
       "      <td>154.8</td>\n",
       "      <td>183.4</td>\n",
       "      <td>0.0</td>\n",
       "      <td>193.3</td>\n",
       "      <td>9.1</td>\n",
       "      <td>1047.4</td>\n",
       "      <td>696.7</td>\n",
       "      <td>28</td>\n",
       "      <td>18.29</td>\n",
       "    </tr>\n",
       "    <tr>\n",
       "      <th>...</th>\n",
       "      <td>...</td>\n",
       "      <td>...</td>\n",
       "      <td>...</td>\n",
       "      <td>...</td>\n",
       "      <td>...</td>\n",
       "      <td>...</td>\n",
       "      <td>...</td>\n",
       "      <td>...</td>\n",
       "      <td>...</td>\n",
       "    </tr>\n",
       "    <tr>\n",
       "      <th>1025</th>\n",
       "      <td>135.0</td>\n",
       "      <td>0.0</td>\n",
       "      <td>166.0</td>\n",
       "      <td>180.0</td>\n",
       "      <td>10.0</td>\n",
       "      <td>961.0</td>\n",
       "      <td>805.0</td>\n",
       "      <td>28</td>\n",
       "      <td>13.29</td>\n",
       "    </tr>\n",
       "    <tr>\n",
       "      <th>1026</th>\n",
       "      <td>531.3</td>\n",
       "      <td>0.0</td>\n",
       "      <td>0.0</td>\n",
       "      <td>141.8</td>\n",
       "      <td>28.2</td>\n",
       "      <td>852.1</td>\n",
       "      <td>893.7</td>\n",
       "      <td>3</td>\n",
       "      <td>41.30</td>\n",
       "    </tr>\n",
       "    <tr>\n",
       "      <th>1027</th>\n",
       "      <td>276.4</td>\n",
       "      <td>116.0</td>\n",
       "      <td>90.3</td>\n",
       "      <td>179.6</td>\n",
       "      <td>8.9</td>\n",
       "      <td>870.1</td>\n",
       "      <td>768.3</td>\n",
       "      <td>28</td>\n",
       "      <td>44.28</td>\n",
       "    </tr>\n",
       "    <tr>\n",
       "      <th>1028</th>\n",
       "      <td>342.0</td>\n",
       "      <td>38.0</td>\n",
       "      <td>0.0</td>\n",
       "      <td>228.0</td>\n",
       "      <td>0.0</td>\n",
       "      <td>932.0</td>\n",
       "      <td>670.0</td>\n",
       "      <td>270</td>\n",
       "      <td>55.06</td>\n",
       "    </tr>\n",
       "    <tr>\n",
       "      <th>1029</th>\n",
       "      <td>540.0</td>\n",
       "      <td>0.0</td>\n",
       "      <td>0.0</td>\n",
       "      <td>173.0</td>\n",
       "      <td>0.0</td>\n",
       "      <td>1125.0</td>\n",
       "      <td>613.0</td>\n",
       "      <td>7</td>\n",
       "      <td>52.61</td>\n",
       "    </tr>\n",
       "  </tbody>\n",
       "</table>\n",
       "<p>1030 rows × 9 columns</p>\n",
       "</div>"
      ],
      "text/plain": [
       "      cement   slag    ash  water  superplastic  coarseagg  fineagg  age  \\\n",
       "0      141.3  212.0    0.0  203.5           0.0      971.8    748.5   28   \n",
       "1      168.9   42.2  124.3  158.3          10.8     1080.8    796.2   14   \n",
       "2      250.0    0.0   95.7  187.4           5.5      956.9    861.2   28   \n",
       "3      266.0  114.0    0.0  228.0           0.0      932.0    670.0   28   \n",
       "4      154.8  183.4    0.0  193.3           9.1     1047.4    696.7   28   \n",
       "...      ...    ...    ...    ...           ...        ...      ...  ...   \n",
       "1025   135.0    0.0  166.0  180.0          10.0      961.0    805.0   28   \n",
       "1026   531.3    0.0    0.0  141.8          28.2      852.1    893.7    3   \n",
       "1027   276.4  116.0   90.3  179.6           8.9      870.1    768.3   28   \n",
       "1028   342.0   38.0    0.0  228.0           0.0      932.0    670.0  270   \n",
       "1029   540.0    0.0    0.0  173.0           0.0     1125.0    613.0    7   \n",
       "\n",
       "      strength  \n",
       "0        29.89  \n",
       "1        23.51  \n",
       "2        29.22  \n",
       "3        45.85  \n",
       "4        18.29  \n",
       "...        ...  \n",
       "1025     13.29  \n",
       "1026     41.30  \n",
       "1027     44.28  \n",
       "1028     55.06  \n",
       "1029     52.61  \n",
       "\n",
       "[1030 rows x 9 columns]"
      ]
     },
     "execution_count": 4,
     "metadata": {},
     "output_type": "execute_result"
    }
   ],
   "source": [
    "df=pd.read_csv(r\"G:\\360digit\\assignments meterial\\ANN\\concrete.csv\")\n",
    "df"
   ]
  },
  {
   "cell_type": "code",
   "execution_count": 5,
   "id": "c7be33eb",
   "metadata": {},
   "outputs": [],
   "source": [
    "x=df.drop(['strength'],axis=1)\n",
    "y=df['strength']"
   ]
  },
  {
   "cell_type": "code",
   "execution_count": 6,
   "id": "98126f6e",
   "metadata": {},
   "outputs": [
    {
     "data": {
      "text/plain": [
       "(1030, 8)"
      ]
     },
     "execution_count": 6,
     "metadata": {},
     "output_type": "execute_result"
    }
   ],
   "source": [
    "x.shape"
   ]
  },
  {
   "cell_type": "markdown",
   "id": "ee535238",
   "metadata": {},
   "source": [
    "# Performing Sequential model"
   ]
  },
  {
   "cell_type": "code",
   "execution_count": 7,
   "id": "fbd2cbb8",
   "metadata": {},
   "outputs": [],
   "source": [
    "model=Sequential()\n",
    "model.add(Dense(12,input_dim=8,kernel_initializer='normal',activation='relu'))\n",
    "model.add(Dense(8,kernel_initializer='normal',activation='relu'))\n",
    "model.add(Dense(1,kernel_initializer='normal'))"
   ]
  },
  {
   "cell_type": "code",
   "execution_count": 8,
   "id": "0a179302",
   "metadata": {},
   "outputs": [],
   "source": [
    "model.compile(loss='mean_squared_error',optimizer='adam')"
   ]
  },
  {
   "cell_type": "markdown",
   "id": "51cbe737",
   "metadata": {},
   "source": [
    "# Fitting The Model"
   ]
  },
  {
   "cell_type": "code",
   "execution_count": 9,
   "id": "d03c5511",
   "metadata": {
    "scrolled": true
   },
   "outputs": [
    {
     "name": "stdout",
     "output_type": "stream",
     "text": [
      "Epoch 1/100\n",
      "103/103 [==============================] - 0s 808us/step - loss: 743.1807\n",
      "Epoch 2/100\n",
      "103/103 [==============================] - 0s 802us/step - loss: 254.6247\n",
      "Epoch 3/100\n",
      "103/103 [==============================] - 0s 829us/step - loss: 238.0578\n",
      "Epoch 4/100\n",
      "103/103 [==============================] - 0s 816us/step - loss: 217.6169\n",
      "Epoch 5/100\n",
      "103/103 [==============================] - 0s 816us/step - loss: 200.2980\n",
      "Epoch 6/100\n",
      "103/103 [==============================] - 0s 748us/step - loss: 184.6461\n",
      "Epoch 7/100\n",
      "103/103 [==============================] - 0s 718us/step - loss: 166.2407\n",
      "Epoch 8/100\n",
      "103/103 [==============================] - 0s 718us/step - loss: 150.5191\n",
      "Epoch 9/100\n",
      "103/103 [==============================] - 0s 748us/step - loss: 138.7288\n",
      "Epoch 10/100\n",
      "103/103 [==============================] - 0s 796us/step - loss: 130.1452\n",
      "Epoch 11/100\n",
      "103/103 [==============================] - 0s 777us/step - loss: 124.4577\n",
      "Epoch 12/100\n",
      "103/103 [==============================] - 0s 767us/step - loss: 124.1277\n",
      "Epoch 13/100\n",
      "103/103 [==============================] - 0s 718us/step - loss: 119.1636\n",
      "Epoch 14/100\n",
      "103/103 [==============================] - 0s 728us/step - loss: 117.0214\n",
      "Epoch 15/100\n",
      "103/103 [==============================] - 0s 699us/step - loss: 116.9530\n",
      "Epoch 16/100\n",
      "103/103 [==============================] - 0s 738us/step - loss: 116.3908\n",
      "Epoch 17/100\n",
      "103/103 [==============================] - 0s 738us/step - loss: 118.7377\n",
      "Epoch 18/100\n",
      "103/103 [==============================] - 0s 757us/step - loss: 115.1866\n",
      "Epoch 19/100\n",
      "103/103 [==============================] - 0s 835us/step - loss: 114.3729\n",
      "Epoch 20/100\n",
      "103/103 [==============================] - 0s 1ms/step - loss: 114.6451\n",
      "Epoch 21/100\n",
      "103/103 [==============================] - 0s 1ms/step - loss: 116.2299\n",
      "Epoch 22/100\n",
      "103/103 [==============================] - 0s 757us/step - loss: 113.9600\n",
      "Epoch 23/100\n",
      "103/103 [==============================] - 0s 825us/step - loss: 113.4530\n",
      "Epoch 24/100\n",
      "103/103 [==============================] - 0s 738us/step - loss: 111.5467\n",
      "Epoch 25/100\n",
      "103/103 [==============================] - 0s 718us/step - loss: 111.7992\n",
      "Epoch 26/100\n",
      "103/103 [==============================] - 0s 835us/step - loss: 111.8316\n",
      "Epoch 27/100\n",
      "103/103 [==============================] - 0s 796us/step - loss: 111.6582\n",
      "Epoch 28/100\n",
      "103/103 [==============================] - 0s 835us/step - loss: 112.7562\n",
      "Epoch 29/100\n",
      "103/103 [==============================] - 0s 854us/step - loss: 109.9908\n",
      "Epoch 30/100\n",
      "103/103 [==============================] - 0s 806us/step - loss: 112.5121\n",
      "Epoch 31/100\n",
      "103/103 [==============================] - 0s 1ms/step - loss: 111.0084\n",
      "Epoch 32/100\n",
      "103/103 [==============================] - 0s 1ms/step - loss: 111.0255\n",
      "Epoch 33/100\n",
      "103/103 [==============================] - 0s 1ms/step - loss: 112.7786\n",
      "Epoch 34/100\n",
      "103/103 [==============================] - 0s 728us/step - loss: 110.9917\n",
      "Epoch 35/100\n",
      "103/103 [==============================] - 0s 767us/step - loss: 112.4517\n",
      "Epoch 36/100\n",
      "103/103 [==============================] - 0s 728us/step - loss: 110.8578\n",
      "Epoch 37/100\n",
      "103/103 [==============================] - 0s 796us/step - loss: 110.7886\n",
      "Epoch 38/100\n",
      "103/103 [==============================] - 0s 816us/step - loss: 110.2506\n",
      "Epoch 39/100\n",
      "103/103 [==============================] - 0s 835us/step - loss: 111.4561\n",
      "Epoch 40/100\n",
      "103/103 [==============================] - 0s 748us/step - loss: 110.9438\n",
      "Epoch 41/100\n",
      "103/103 [==============================] - 0s 767us/step - loss: 109.7366\n",
      "Epoch 42/100\n",
      "103/103 [==============================] - 0s 854us/step - loss: 110.8964\n",
      "Epoch 43/100\n",
      "103/103 [==============================] - 0s 786us/step - loss: 110.0080\n",
      "Epoch 44/100\n",
      "103/103 [==============================] - 0s 728us/step - loss: 109.3346\n",
      "Epoch 45/100\n",
      "103/103 [==============================] - 0s 816us/step - loss: 110.0624\n",
      "Epoch 46/100\n",
      "103/103 [==============================] - 0s 767us/step - loss: 110.0008\n",
      "Epoch 47/100\n",
      "103/103 [==============================] - 0s 748us/step - loss: 109.8898\n",
      "Epoch 48/100\n",
      "103/103 [==============================] - 0s 718us/step - loss: 109.7065\n",
      "Epoch 49/100\n",
      "103/103 [==============================] - 0s 806us/step - loss: 112.7104\n",
      "Epoch 50/100\n",
      "103/103 [==============================] - 0s 777us/step - loss: 109.7646\n",
      "Epoch 51/100\n",
      "103/103 [==============================] - 0s 806us/step - loss: 110.3751\n",
      "Epoch 52/100\n",
      "103/103 [==============================] - 0s 718us/step - loss: 109.3118\n",
      "Epoch 53/100\n",
      "103/103 [==============================] - 0s 748us/step - loss: 109.6346\n",
      "Epoch 54/100\n",
      "103/103 [==============================] - 0s 748us/step - loss: 112.1060\n",
      "Epoch 55/100\n",
      "103/103 [==============================] - 0s 757us/step - loss: 109.1291\n",
      "Epoch 56/100\n",
      "103/103 [==============================] - 0s 786us/step - loss: 109.0651\n",
      "Epoch 57/100\n",
      "103/103 [==============================] - 0s 1ms/step - loss: 108.9129\n",
      "Epoch 58/100\n",
      "103/103 [==============================] - 0s 1ms/step - loss: 110.6936\n",
      "Epoch 59/100\n",
      "103/103 [==============================] - 0s 1ms/step - loss: 110.9063\n",
      "Epoch 60/100\n",
      "103/103 [==============================] - 0s 971us/step - loss: 110.1363\n",
      "Epoch 61/100\n",
      "103/103 [==============================] - 0s 1ms/step - loss: 109.7711\n",
      "Epoch 62/100\n",
      "103/103 [==============================] - 0s 884us/step - loss: 109.4095\n",
      "Epoch 63/100\n",
      "103/103 [==============================] - 0s 777us/step - loss: 110.6992\n",
      "Epoch 64/100\n",
      "103/103 [==============================] - 0s 689us/step - loss: 109.5888\n",
      "Epoch 65/100\n",
      "103/103 [==============================] - 0s 903us/step - loss: 109.6632\n",
      "Epoch 66/100\n",
      "103/103 [==============================] - 0s 1ms/step - loss: 110.7993\n",
      "Epoch 67/100\n",
      "103/103 [==============================] - 0s 796us/step - loss: 108.4773\n",
      "Epoch 68/100\n",
      "103/103 [==============================] - 0s 670us/step - loss: 109.9223\n",
      "Epoch 69/100\n",
      "103/103 [==============================] - 0s 670us/step - loss: 109.8125\n",
      "Epoch 70/100\n",
      "103/103 [==============================] - 0s 718us/step - loss: 109.9497\n",
      "Epoch 71/100\n",
      "103/103 [==============================] - 0s 757us/step - loss: 108.7451\n",
      "Epoch 72/100\n",
      "103/103 [==============================] - 0s 699us/step - loss: 109.8736\n",
      "Epoch 73/100\n",
      "103/103 [==============================] - 0s 718us/step - loss: 114.2798\n",
      "Epoch 74/100\n",
      "103/103 [==============================] - 0s 738us/step - loss: 109.0603\n",
      "Epoch 75/100\n",
      "103/103 [==============================] - 0s 718us/step - loss: 110.9512\n",
      "Epoch 76/100\n",
      "103/103 [==============================] - 0s 738us/step - loss: 110.6278\n",
      "Epoch 77/100\n",
      "103/103 [==============================] - 0s 728us/step - loss: 108.5895\n",
      "Epoch 78/100\n",
      "103/103 [==============================] - 0s 767us/step - loss: 110.5897\n",
      "Epoch 79/100\n",
      "103/103 [==============================] - 0s 738us/step - loss: 109.6027\n",
      "Epoch 80/100\n",
      "103/103 [==============================] - 0s 709us/step - loss: 108.7297\n",
      "Epoch 81/100\n",
      "103/103 [==============================] - 0s 728us/step - loss: 109.3983\n",
      "Epoch 82/100\n",
      "103/103 [==============================] - 0s 903us/step - loss: 109.5584\n",
      "Epoch 83/100\n",
      "103/103 [==============================] - 0s 748us/step - loss: 110.4946\n",
      "Epoch 84/100\n",
      "103/103 [==============================] - 0s 728us/step - loss: 108.8931\n",
      "Epoch 85/100\n",
      "103/103 [==============================] - 0s 699us/step - loss: 109.4699\n",
      "Epoch 86/100\n",
      "103/103 [==============================] - 0s 738us/step - loss: 110.1569\n",
      "Epoch 87/100\n",
      "103/103 [==============================] - 0s 699us/step - loss: 109.4052\n",
      "Epoch 88/100\n",
      "103/103 [==============================] - 0s 728us/step - loss: 109.7419\n",
      "Epoch 89/100\n",
      "103/103 [==============================] - 0s 777us/step - loss: 109.8527\n",
      "Epoch 90/100\n",
      "103/103 [==============================] - 0s 699us/step - loss: 111.2311\n",
      "Epoch 91/100\n",
      "103/103 [==============================] - 0s 786us/step - loss: 110.2263\n",
      "Epoch 92/100\n",
      "103/103 [==============================] - 0s 718us/step - loss: 109.2565\n",
      "Epoch 93/100\n",
      "103/103 [==============================] - 0s 699us/step - loss: 110.9878\n",
      "Epoch 94/100\n",
      "103/103 [==============================] - 0s 699us/step - loss: 111.1336\n",
      "Epoch 95/100\n"
     ]
    },
    {
     "name": "stdout",
     "output_type": "stream",
     "text": [
      "103/103 [==============================] - 0s 680us/step - loss: 108.9594\n",
      "Epoch 96/100\n",
      "103/103 [==============================] - 0s 709us/step - loss: 109.7453\n",
      "Epoch 97/100\n",
      "103/103 [==============================] - 0s 699us/step - loss: 110.3961\n",
      "Epoch 98/100\n",
      "103/103 [==============================] - 0s 660us/step - loss: 109.5193\n",
      "Epoch 99/100\n",
      "103/103 [==============================] - 0s 670us/step - loss: 109.0635\n",
      "Epoch 100/100\n",
      "103/103 [==============================] - 0s 660us/step - loss: 111.1396\n"
     ]
    },
    {
     "data": {
      "text/plain": [
       "<tensorflow.python.keras.callbacks.History at 0x2b37fb96370>"
      ]
     },
     "execution_count": 9,
     "metadata": {},
     "output_type": "execute_result"
    }
   ],
   "source": [
    "model.fit(x,y,epochs=100,batch_size=10)"
   ]
  },
  {
   "cell_type": "markdown",
   "id": "52128e4f",
   "metadata": {},
   "source": [
    "# Predicting the model"
   ]
  },
  {
   "cell_type": "code",
   "execution_count": 10,
   "id": "9dd20099",
   "metadata": {},
   "outputs": [
    {
     "data": {
      "text/plain": [
       "array([[22.21767 ],\n",
       "       [29.978506],\n",
       "       [27.183409],\n",
       "       ...,\n",
       "       [41.228745],\n",
       "       [50.15879 ],\n",
       "       [49.93155 ]], dtype=float32)"
      ]
     },
     "execution_count": 10,
     "metadata": {},
     "output_type": "execute_result"
    }
   ],
   "source": [
    "y_pred=model.predict(x)\n",
    "y_pred"
   ]
  },
  {
   "cell_type": "code",
   "execution_count": 11,
   "id": "b896d018",
   "metadata": {},
   "outputs": [
    {
     "data": {
      "text/plain": [
       "(1030,)"
      ]
     },
     "execution_count": 11,
     "metadata": {},
     "output_type": "execute_result"
    }
   ],
   "source": [
    "y.shape"
   ]
  },
  {
   "cell_type": "code",
   "execution_count": 12,
   "id": "8cfe0bfd",
   "metadata": {},
   "outputs": [
    {
     "data": {
      "text/plain": [
       "(1030, 1)"
      ]
     },
     "execution_count": 12,
     "metadata": {},
     "output_type": "execute_result"
    }
   ],
   "source": [
    "y_pred.shape"
   ]
  },
  {
   "cell_type": "code",
   "execution_count": 13,
   "id": "c23d913c",
   "metadata": {},
   "outputs": [
    {
     "data": {
      "text/plain": [
       "<matplotlib.collections.PathCollection at 0x2b3021ad490>"
      ]
     },
     "execution_count": 13,
     "metadata": {},
     "output_type": "execute_result"
    },
    {
     "data": {
      "image/png": "[encoded data removed]",
      "text/plain": [
       "<Figure size 432x288 with 1 Axes>"
      ]
     },
     "metadata": {
      "needs_background": "light"
     },
     "output_type": "display_data"
    }
   ],
   "source": [
    "plt.scatter(y,y_pred)"
   ]
  }
 ],
 "metadata": {
  "kernelspec": {
   "display_name": "Python 3",
   "language": "python",
   "name": "python3"
  },
  "language_info": {
   "codemirror_mode": {
    "name": "ipython",
    "version": 3
   },
   "file_extension": ".py",
   "mimetype": "text/x-python",
   "name": "python",
   "nbconvert_exporter": "python",
   "pygments_lexer": "ipython3",
   "version": "3.8.8"
  }
 },
 "nbformat": 4,
 "nbformat_minor": 5
}
