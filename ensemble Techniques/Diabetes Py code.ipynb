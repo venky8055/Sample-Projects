{
 "cells": [
  {
   "cell_type": "markdown",
   "id": "a5e071d1",
   "metadata": {},
   "source": [
    "# * Kurapati Venkatesh\n",
    "\n",
    "# * 09012021\n",
    "\n",
    "# * Topic: Forecasting – Ensemble Techniques  ✨🎄"
   ]
  },
  {
   "cell_type": "markdown",
   "id": "2a7d9eff",
   "metadata": {},
   "source": [
    "# ---------------------------------------------------------------------------"
   ]
  },
  {
   "cell_type": "markdown",
   "id": "30aeb645",
   "metadata": {},
   "source": [
    "## Problem Statement:"
   ]
  },
  {
   "cell_type": "markdown",
   "id": "b2eca843",
   "metadata": {},
   "source": [
    "## Diabetes is disease caused by increase in Blood glucose levels in your body, Blood glucose is the main source of energy and it gets from the food you eat. Insulin a hormone, made by the pancreas helps to get glucose from your food reach every cell of your body for energy. Sometimes, your body does not make enough or use Insulin at all, due to this the glucose levels in your body increases which leads to severe health problems and moreover diabetes has no cure, you can only avoid taking sugar filled foods and take precautions.  In Pregnant women’s the rising of glucose levels is a danger for to be mother and the baby, if we can predict accurately whether a pregnant women will become diabetic or not can be help doctors to treat patients in a much efficient way and also for pregnant women can avoid becoming diabetic by taking necessary steps during pregnancy. Build an ensemble model to correctly classify the outcome variable and improve your model prediction by using GridSearchCV. You must apply Bagging, Boosting, Stacking and Voting on the dataset.  "
   ]
  },
  {
   "cell_type": "markdown",
   "id": "2b539e5a",
   "metadata": {},
   "source": [
    "## -----------------------------------------------------------------------------------"
   ]
  },
  {
   "cell_type": "markdown",
   "id": "27478c5f",
   "metadata": {},
   "source": [
    "### Problem Objective:\n",
    "##### To build an ensemble model to correctly classify the outcome variable and improve your model prediction by using GridSearchCV. we  must apply Bagging, Boosting, Stacking and Voting on the dataset."
   ]
  },
  {
   "cell_type": "markdown",
   "id": "8c139ba7",
   "metadata": {},
   "source": [
    "### Dataset Description:"
   ]
  },
  {
   "cell_type": "markdown",
   "id": "566dc8ff",
   "metadata": {},
   "source": [
    "The datasets consists 8 independent variables and one Dependent variable."
   ]
  },
  {
   "cell_type": "markdown",
   "id": "85bf50e4",
   "metadata": {},
   "source": [
    "### Independent variables includes:"
   ]
  },
  {
   "cell_type": "markdown",
   "id": "296dd95d",
   "metadata": {},
   "source": [
    "Pregnancies: Number of times pregnant\n",
    "\n",
    "Glucose: Plasma glucose concentration a 2 hours in an oral glucose tolerance test\n",
    "\n",
    "BloodPressure: Diastolic blood pressure (mm Hg)\n",
    "\n",
    "SkinThickness: Triceps skin fold thickness (mm)\n",
    "\n",
    "Insulin: 2-Hour serum insulin (mu U/ml)\n",
    "\n",
    "BMI: Body mass index (weight in kg/(height in m)^2)\n",
    "\n",
    "DiabetesPedigreeFunction: Diabetes pedigree function\n",
    "\n",
    "Age: Age (years)"
   ]
  },
  {
   "cell_type": "markdown",
   "id": "17e666c7",
   "metadata": {},
   "source": [
    "### Dependent variable:"
   ]
  },
  {
   "cell_type": "markdown",
   "id": "cd7d1877",
   "metadata": {},
   "source": [
    "Outcome: 1 as diabites detected & 0 as not detetcted"
   ]
  },
  {
   "cell_type": "markdown",
   "id": "f0acedba",
   "metadata": {},
   "source": [
    "## -------------------------------------------------------------------------------------------"
   ]
  },
  {
   "cell_type": "markdown",
   "id": "8dc15e40",
   "metadata": {},
   "source": [
    "## import libraries:"
   ]
  },
  {
   "cell_type": "code",
   "execution_count": 1,
   "id": "0c26c15f",
   "metadata": {},
   "outputs": [],
   "source": [
    "import pandas as pd\n",
    "from sklearn.tree import DecisionTreeClassifier # Import Decision Tree Classifier\n",
    "from sklearn.model_selection import train_test_split # Import train_test_split function\n",
    "from sklearn import metrics #Import scikit-learn metrics module for accuracy calculation"
   ]
  },
  {
   "cell_type": "markdown",
   "id": "c11bbe31",
   "metadata": {},
   "source": [
    "## import dataset:"
   ]
  },
  {
   "cell_type": "code",
   "execution_count": 2,
   "id": "695527dd",
   "metadata": {},
   "outputs": [],
   "source": [
    "col_names = ['pregnant', 'glucose', 'bp', 'skin', 'insulin', 'bmi', 'pedigree', 'age', 'label']\n",
    "# load dataset\n",
    "pima = pd.read_csv(r\"G:\\360digit\\assignments meterial\\ensamble techniques\\Diabeted_Ensemble.csv\", header=None, names=col_names)"
   ]
  },
  {
   "cell_type": "code",
   "execution_count": 3,
   "id": "1c9e38d6",
   "metadata": {},
   "outputs": [],
   "source": [
    "pima = pima.iloc[1:]"
   ]
  },
  {
   "cell_type": "code",
   "execution_count": 4,
   "id": "0b73857f",
   "metadata": {},
   "outputs": [
    {
     "data": {
      "text/html": [
       "<div>\n",
       "<style scoped>\n",
       "    .dataframe tbody tr th:only-of-type {\n",
       "        vertical-align: middle;\n",
       "    }\n",
       "\n",
       "    .dataframe tbody tr th {\n",
       "        vertical-align: top;\n",
       "    }\n",
       "\n",
       "    .dataframe thead th {\n",
       "        text-align: right;\n",
       "    }\n",
       "</style>\n",
       "<table border=\"1\" class=\"dataframe\">\n",
       "  <thead>\n",
       "    <tr style=\"text-align: right;\">\n",
       "      <th></th>\n",
       "      <th>pregnant</th>\n",
       "      <th>glucose</th>\n",
       "      <th>bp</th>\n",
       "      <th>skin</th>\n",
       "      <th>insulin</th>\n",
       "      <th>bmi</th>\n",
       "      <th>pedigree</th>\n",
       "      <th>age</th>\n",
       "      <th>label</th>\n",
       "    </tr>\n",
       "  </thead>\n",
       "  <tbody>\n",
       "    <tr>\n",
       "      <th>1</th>\n",
       "      <td>6</td>\n",
       "      <td>148</td>\n",
       "      <td>72</td>\n",
       "      <td>35</td>\n",
       "      <td>0</td>\n",
       "      <td>33.6</td>\n",
       "      <td>0.627</td>\n",
       "      <td>50</td>\n",
       "      <td>YES</td>\n",
       "    </tr>\n",
       "    <tr>\n",
       "      <th>2</th>\n",
       "      <td>1</td>\n",
       "      <td>85</td>\n",
       "      <td>66</td>\n",
       "      <td>29</td>\n",
       "      <td>0</td>\n",
       "      <td>26.6</td>\n",
       "      <td>0.351</td>\n",
       "      <td>31</td>\n",
       "      <td>NO</td>\n",
       "    </tr>\n",
       "    <tr>\n",
       "      <th>3</th>\n",
       "      <td>8</td>\n",
       "      <td>183</td>\n",
       "      <td>64</td>\n",
       "      <td>0</td>\n",
       "      <td>0</td>\n",
       "      <td>23.3</td>\n",
       "      <td>0.672</td>\n",
       "      <td>32</td>\n",
       "      <td>YES</td>\n",
       "    </tr>\n",
       "    <tr>\n",
       "      <th>4</th>\n",
       "      <td>1</td>\n",
       "      <td>89</td>\n",
       "      <td>66</td>\n",
       "      <td>23</td>\n",
       "      <td>94</td>\n",
       "      <td>28.1</td>\n",
       "      <td>0.167</td>\n",
       "      <td>21</td>\n",
       "      <td>NO</td>\n",
       "    </tr>\n",
       "    <tr>\n",
       "      <th>5</th>\n",
       "      <td>0</td>\n",
       "      <td>137</td>\n",
       "      <td>40</td>\n",
       "      <td>35</td>\n",
       "      <td>168</td>\n",
       "      <td>43.1</td>\n",
       "      <td>2.288</td>\n",
       "      <td>33</td>\n",
       "      <td>YES</td>\n",
       "    </tr>\n",
       "  </tbody>\n",
       "</table>\n",
       "</div>"
      ],
      "text/plain": [
       "  pregnant glucose  bp skin insulin   bmi pedigree age label\n",
       "1        6     148  72   35       0  33.6    0.627  50   YES\n",
       "2        1      85  66   29       0  26.6    0.351  31    NO\n",
       "3        8     183  64    0       0  23.3    0.672  32   YES\n",
       "4        1      89  66   23      94  28.1    0.167  21    NO\n",
       "5        0     137  40   35     168  43.1    2.288  33   YES"
      ]
     },
     "execution_count": 4,
     "metadata": {},
     "output_type": "execute_result"
    }
   ],
   "source": [
    "pima.head()"
   ]
  },
  {
   "cell_type": "markdown",
   "id": "ed4864a8",
   "metadata": {},
   "source": [
    "### Feature Selection:"
   ]
  },
  {
   "cell_type": "markdown",
   "id": "4e074649",
   "metadata": {},
   "source": [
    "Here, we need to divide given columns into two types of variables dependent(or target variable) and independent variable(or feature variables)."
   ]
  },
  {
   "cell_type": "code",
   "execution_count": 5,
   "id": "f7094531",
   "metadata": {},
   "outputs": [],
   "source": [
    "#split dataset in features and target variable\n",
    "feature_cols = ['pregnant', 'insulin', 'bmi', 'age','glucose','bp','pedigree']\n",
    "x = pima[feature_cols] # Features\n",
    "y = pima.label # Target variable"
   ]
  },
  {
   "cell_type": "markdown",
   "id": "f2b5e2cd",
   "metadata": {},
   "source": [
    "### Splitting Data:"
   ]
  },
  {
   "cell_type": "markdown",
   "id": "2f798fd7",
   "metadata": {},
   "source": [
    "To understand model performance, dividing the dataset into a training set and a test set is a good strategy."
   ]
  },
  {
   "cell_type": "markdown",
   "id": "d366d089",
   "metadata": {},
   "source": [
    "Let's split the dataset by using function train_test_split(). You need to pass 3 parameters features, target, and test_set size."
   ]
  },
  {
   "cell_type": "code",
   "execution_count": 6,
   "id": "59677f60",
   "metadata": {},
   "outputs": [],
   "source": [
    "# Split dataset into training set and test set\n",
    "x_train, x_test, y_train, y_test = train_test_split(x, y, test_size=0.3, random_state=1) # 70% training and 30% test"
   ]
  },
  {
   "cell_type": "markdown",
   "id": "46642a1c",
   "metadata": {},
   "source": [
    "# Random Forest Model:"
   ]
  },
  {
   "cell_type": "code",
   "execution_count": 7,
   "id": "3e1cfca4",
   "metadata": {},
   "outputs": [],
   "source": [
    "from sklearn.ensemble import RandomForestClassifier"
   ]
  },
  {
   "cell_type": "code",
   "execution_count": 8,
   "id": "7d1b8e4d",
   "metadata": {},
   "outputs": [
    {
     "data": {
      "text/plain": [
       "RandomForestClassifier(n_estimators=500, n_jobs=1, random_state=42)"
      ]
     },
     "execution_count": 8,
     "metadata": {},
     "output_type": "execute_result"
    }
   ],
   "source": [
    "rf_clf = RandomForestClassifier(n_estimators=500, n_jobs=1, random_state=42)\n",
    "\n",
    "rf_clf.fit(x_train, y_train)"
   ]
  },
  {
   "cell_type": "code",
   "execution_count": 9,
   "id": "678fa094",
   "metadata": {},
   "outputs": [],
   "source": [
    "from sklearn.metrics import accuracy_score, confusion_matrix"
   ]
  },
  {
   "cell_type": "code",
   "execution_count": 10,
   "id": "4e0b5d3a",
   "metadata": {},
   "outputs": [
    {
     "data": {
      "text/plain": [
       "0.7965367965367965"
      ]
     },
     "execution_count": 10,
     "metadata": {},
     "output_type": "execute_result"
    }
   ],
   "source": [
    "confusion_matrix(y_test, rf_clf.predict(x_test))\n",
    "accuracy_score(y_test, rf_clf.predict(x_test))"
   ]
  },
  {
   "cell_type": "markdown",
   "id": "ef139341",
   "metadata": {},
   "source": [
    "# GridSearchCV"
   ]
  },
  {
   "cell_type": "code",
   "execution_count": 11,
   "id": "ff1407d2",
   "metadata": {},
   "outputs": [],
   "source": [
    "from sklearn.model_selection import GridSearchCV"
   ]
  },
  {
   "cell_type": "code",
   "execution_count": 12,
   "id": "f03c2de5",
   "metadata": {},
   "outputs": [],
   "source": [
    "rf_clf_grid = RandomForestClassifier(n_estimators=500, n_jobs=1, random_state=42)"
   ]
  },
  {
   "cell_type": "code",
   "execution_count": 13,
   "id": "6658d6d0",
   "metadata": {},
   "outputs": [],
   "source": [
    "param_grid = {\"max_features\": [4, 5, 6, 7, 8, 9, 10], \"min_samples_split\": [2, 3, 10]}"
   ]
  },
  {
   "cell_type": "code",
   "execution_count": 14,
   "id": "2ec159de",
   "metadata": {},
   "outputs": [],
   "source": [
    "grid_search = GridSearchCV(rf_clf_grid, param_grid, n_jobs = -1, cv = 5, scoring = 'accuracy')"
   ]
  },
  {
   "cell_type": "code",
   "execution_count": 15,
   "id": "81652512",
   "metadata": {},
   "outputs": [
    {
     "name": "stderr",
     "output_type": "stream",
     "text": [
      "C:\\Users\\Hp\\anaconda3\\envs\\digit\\lib\\site-packages\\sklearn\\model_selection\\_search.py:918: UserWarning: One or more of the test scores are non-finite: [0.76168224 0.75794393 0.75425753 0.75424022 0.75429214 0.7635514\n",
      " 0.76169955 0.7598477  0.75799585 0.75422291 0.75797854 0.75986501\n",
      "        nan        nan        nan        nan        nan        nan\n",
      "        nan        nan        nan]\n",
      "  warnings.warn(\n"
     ]
    },
    {
     "data": {
      "text/plain": [
       "GridSearchCV(cv=5,\n",
       "             estimator=RandomForestClassifier(n_estimators=500, n_jobs=1,\n",
       "                                              random_state=42),\n",
       "             n_jobs=-1,\n",
       "             param_grid={'max_features': [4, 5, 6, 7, 8, 9, 10],\n",
       "                         'min_samples_split': [2, 3, 10]},\n",
       "             scoring='accuracy')"
      ]
     },
     "execution_count": 15,
     "metadata": {},
     "output_type": "execute_result"
    }
   ],
   "source": [
    "grid_search.fit(x_train, y_train)"
   ]
  },
  {
   "cell_type": "code",
   "execution_count": 16,
   "id": "571f9dc5",
   "metadata": {},
   "outputs": [
    {
     "data": {
      "text/plain": [
       "{'max_features': 5, 'min_samples_split': 10}"
      ]
     },
     "execution_count": 16,
     "metadata": {},
     "output_type": "execute_result"
    }
   ],
   "source": [
    "grid_search.best_params_"
   ]
  },
  {
   "cell_type": "code",
   "execution_count": 17,
   "id": "5ea56e5f",
   "metadata": {},
   "outputs": [],
   "source": [
    "cv_rf_clf_grid = grid_search.best_estimator_"
   ]
  },
  {
   "cell_type": "code",
   "execution_count": 18,
   "id": "4c2302d6",
   "metadata": {},
   "outputs": [],
   "source": [
    "from sklearn.metrics import accuracy_score, confusion_matrix"
   ]
  },
  {
   "cell_type": "code",
   "execution_count": 19,
   "id": "0513b07f",
   "metadata": {},
   "outputs": [
    {
     "data": {
      "text/plain": [
       "0.7922077922077922"
      ]
     },
     "execution_count": 19,
     "metadata": {},
     "output_type": "execute_result"
    }
   ],
   "source": [
    "confusion_matrix(y_test, cv_rf_clf_grid.predict(x_test))\n",
    "accuracy_score(y_test, cv_rf_clf_grid.predict(x_test))"
   ]
  },
  {
   "cell_type": "markdown",
   "id": "49632e1d",
   "metadata": {},
   "source": [
    "no luck in gridsearchcv method."
   ]
  },
  {
   "cell_type": "markdown",
   "id": "c2188800",
   "metadata": {},
   "source": [
    "# Bagging:"
   ]
  },
  {
   "cell_type": "code",
   "execution_count": 20,
   "id": "958dd616",
   "metadata": {},
   "outputs": [],
   "source": [
    "from sklearn import tree\n",
    "clftree = tree.DecisionTreeClassifier()\n",
    "from sklearn.ensemble import BaggingClassifier"
   ]
  },
  {
   "cell_type": "code",
   "execution_count": 21,
   "id": "64275cdd",
   "metadata": {},
   "outputs": [],
   "source": [
    "bag_clf = BaggingClassifier(base_estimator = clftree, n_estimators = 500,\n",
    "                            bootstrap = True, n_jobs = 1, random_state = 42)"
   ]
  },
  {
   "cell_type": "code",
   "execution_count": 22,
   "id": "951493ae",
   "metadata": {},
   "outputs": [
    {
     "data": {
      "text/plain": [
       "BaggingClassifier(base_estimator=DecisionTreeClassifier(), n_estimators=500,\n",
       "                  n_jobs=1, random_state=42)"
      ]
     },
     "execution_count": 22,
     "metadata": {},
     "output_type": "execute_result"
    }
   ],
   "source": [
    "bag_clf.fit(x_train, y_train)"
   ]
  },
  {
   "cell_type": "code",
   "execution_count": 23,
   "id": "50bd4d1a",
   "metadata": {},
   "outputs": [],
   "source": [
    "from sklearn.metrics import accuracy_score, confusion_matrix"
   ]
  },
  {
   "cell_type": "code",
   "execution_count": 24,
   "id": "cdffd4ff",
   "metadata": {},
   "outputs": [
    {
     "data": {
      "text/plain": [
       "0.7878787878787878"
      ]
     },
     "execution_count": 24,
     "metadata": {},
     "output_type": "execute_result"
    }
   ],
   "source": [
    "# Evaluation on Testing Data\n",
    "confusion_matrix(y_test, bag_clf.predict(x_test))\n",
    "accuracy_score(y_test, bag_clf.predict(x_test))"
   ]
  },
  {
   "cell_type": "code",
   "execution_count": 25,
   "id": "911baaed",
   "metadata": {},
   "outputs": [
    {
     "data": {
      "text/plain": [
       "1.0"
      ]
     },
     "execution_count": 25,
     "metadata": {},
     "output_type": "execute_result"
    }
   ],
   "source": [
    "# Evaluation on Training Data\n",
    "confusion_matrix(y_train, bag_clf.predict(x_train))\n",
    "accuracy_score(y_train, bag_clf.predict(x_train))"
   ]
  },
  {
   "cell_type": "markdown",
   "id": "c1c1489b",
   "metadata": {},
   "source": [
    "Here in bagging model, the accuracy has decreased by 1%."
   ]
  },
  {
   "cell_type": "markdown",
   "id": "eb52cb95",
   "metadata": {},
   "source": [
    "# Boosting:"
   ]
  },
  {
   "cell_type": "markdown",
   "id": "6f0b5db0",
   "metadata": {},
   "source": [
    "## AdaBoosting:"
   ]
  },
  {
   "cell_type": "code",
   "execution_count": 26,
   "id": "42b3701c",
   "metadata": {},
   "outputs": [],
   "source": [
    "from sklearn.ensemble import AdaBoostClassifier"
   ]
  },
  {
   "cell_type": "code",
   "execution_count": 27,
   "id": "d96cc85d",
   "metadata": {},
   "outputs": [],
   "source": [
    "ada_clf = AdaBoostClassifier(learning_rate = 0.02, n_estimators = 5000)"
   ]
  },
  {
   "cell_type": "code",
   "execution_count": 28,
   "id": "ad665bdd",
   "metadata": {},
   "outputs": [
    {
     "data": {
      "text/plain": [
       "AdaBoostClassifier(learning_rate=0.02, n_estimators=5000)"
      ]
     },
     "execution_count": 28,
     "metadata": {},
     "output_type": "execute_result"
    }
   ],
   "source": [
    "ada_clf.fit(x_train, y_train)"
   ]
  },
  {
   "cell_type": "code",
   "execution_count": 29,
   "id": "04764e21",
   "metadata": {},
   "outputs": [],
   "source": [
    "from sklearn.metrics import accuracy_score, confusion_matrix"
   ]
  },
  {
   "cell_type": "code",
   "execution_count": 30,
   "id": "0a5deef1",
   "metadata": {},
   "outputs": [
    {
     "data": {
      "text/plain": [
       "0.8225108225108225"
      ]
     },
     "execution_count": 30,
     "metadata": {},
     "output_type": "execute_result"
    }
   ],
   "source": [
    "# Evaluation on Testing Data\n",
    "confusion_matrix(y_test, ada_clf.predict(x_test))\n",
    "accuracy_score(y_test, ada_clf.predict(x_test))"
   ]
  },
  {
   "cell_type": "code",
   "execution_count": 31,
   "id": "ce7e749a",
   "metadata": {},
   "outputs": [
    {
     "data": {
      "text/plain": [
       "0.8417132216014898"
      ]
     },
     "execution_count": 31,
     "metadata": {},
     "output_type": "execute_result"
    }
   ],
   "source": [
    "# Evaluation on Training Data\n",
    "accuracy_score(y_train, ada_clf.predict(x_train))"
   ]
  },
  {
   "cell_type": "markdown",
   "id": "d66654bc",
   "metadata": {},
   "source": [
    "this time adaboosting model shown slight improvement in accuracy."
   ]
  },
  {
   "cell_type": "markdown",
   "id": "a1d1ba81",
   "metadata": {},
   "source": [
    "## Gradient Boosting:"
   ]
  },
  {
   "cell_type": "code",
   "execution_count": 32,
   "id": "387d36f2",
   "metadata": {},
   "outputs": [],
   "source": [
    "from sklearn.ensemble import GradientBoostingClassifier"
   ]
  },
  {
   "cell_type": "code",
   "execution_count": 33,
   "id": "a181957b",
   "metadata": {},
   "outputs": [
    {
     "data": {
      "text/plain": [
       "GradientBoostingClassifier()"
      ]
     },
     "execution_count": 33,
     "metadata": {},
     "output_type": "execute_result"
    }
   ],
   "source": [
    "boost_clf = GradientBoostingClassifier()\n",
    "\n",
    "boost_clf.fit(x_train, y_train)"
   ]
  },
  {
   "cell_type": "code",
   "execution_count": 34,
   "id": "8288dc7e",
   "metadata": {},
   "outputs": [],
   "source": [
    "from sklearn.metrics import accuracy_score, confusion_matrix"
   ]
  },
  {
   "cell_type": "code",
   "execution_count": 35,
   "id": "6c297cf9",
   "metadata": {},
   "outputs": [
    {
     "data": {
      "text/plain": [
       "0.8008658008658008"
      ]
     },
     "execution_count": 35,
     "metadata": {},
     "output_type": "execute_result"
    }
   ],
   "source": [
    "confusion_matrix(y_test, boost_clf.predict(x_test))\n",
    "accuracy_score(y_test, boost_clf.predict(x_test))"
   ]
  },
  {
   "cell_type": "markdown",
   "id": "44a23aee",
   "metadata": {},
   "source": [
    "### Hyperparameters:"
   ]
  },
  {
   "cell_type": "code",
   "execution_count": 36,
   "id": "4ead49fa",
   "metadata": {},
   "outputs": [
    {
     "data": {
      "text/plain": [
       "GradientBoostingClassifier(learning_rate=0.02, max_depth=1, n_estimators=1000)"
      ]
     },
     "execution_count": 36,
     "metadata": {},
     "output_type": "execute_result"
    }
   ],
   "source": [
    "boost_clf2 = GradientBoostingClassifier(learning_rate = 0.02, n_estimators = 1000, max_depth = 1)\n",
    "boost_clf2.fit(x_train, y_train)"
   ]
  },
  {
   "cell_type": "code",
   "execution_count": 37,
   "id": "44ad9f1e",
   "metadata": {},
   "outputs": [],
   "source": [
    "from sklearn.metrics import accuracy_score, confusion_matrix"
   ]
  },
  {
   "cell_type": "code",
   "execution_count": 38,
   "id": "15282bc6",
   "metadata": {},
   "outputs": [
    {
     "data": {
      "text/plain": [
       "0.8051948051948052"
      ]
     },
     "execution_count": 38,
     "metadata": {},
     "output_type": "execute_result"
    }
   ],
   "source": [
    "# Evaluation on Testing Data\n",
    "confusion_matrix(y_test, boost_clf2.predict(x_test))\n",
    "accuracy_score(y_test, boost_clf2.predict(x_test))"
   ]
  },
  {
   "cell_type": "code",
   "execution_count": 39,
   "id": "5a023792",
   "metadata": {},
   "outputs": [
    {
     "data": {
      "text/plain": [
       "0.8044692737430168"
      ]
     },
     "execution_count": 39,
     "metadata": {},
     "output_type": "execute_result"
    }
   ],
   "source": [
    "# Evaluation on Training Data\n",
    "accuracy_score(y_train, boost_clf2.predict(x_train))"
   ]
  },
  {
   "cell_type": "markdown",
   "id": "bfa91785",
   "metadata": {},
   "source": [
    "Good accuracy but not better than others."
   ]
  },
  {
   "cell_type": "markdown",
   "id": "b467f80b",
   "metadata": {},
   "source": [
    "# Stacking:"
   ]
  },
  {
   "cell_type": "code",
   "execution_count": 43,
   "id": "035f4d14",
   "metadata": {},
   "outputs": [],
   "source": [
    "from sklearn.neighbors import KNeighborsClassifier\n",
    "from sklearn.tree import DecisionTreeClassifier\n",
    "from sklearn.neural_network import MLPClassifier\n",
    "#from sklearn.naive_bayes import GaussianNB\n",
    "from sklearn.linear_model import LogisticRegression\n",
    "from sklearn.model_selection import KFold\n",
    "from sklearn import metrics\n",
    "import numpy as np"
   ]
  },
  {
   "cell_type": "code",
   "execution_count": 55,
   "id": "26e42fb5",
   "metadata": {},
   "outputs": [
    {
     "name": "stdout",
     "output_type": "stream",
     "text": [
      "<class 'pandas.core.frame.DataFrame'>\n",
      "RangeIndex: 768 entries, 1 to 768\n",
      "Data columns (total 9 columns):\n",
      " #   Column    Non-Null Count  Dtype \n",
      "---  ------    --------------  ----- \n",
      " 0   pregnant  768 non-null    object\n",
      " 1   glucose   768 non-null    object\n",
      " 2   bp        768 non-null    object\n",
      " 3   skin      768 non-null    object\n",
      " 4   insulin   768 non-null    object\n",
      " 5   bmi       768 non-null    object\n",
      " 6   pedigree  768 non-null    object\n",
      " 7   age       768 non-null    object\n",
      " 8   label     768 non-null    object\n",
      "dtypes: object(9)\n",
      "memory usage: 54.1+ KB\n"
     ]
    }
   ],
   "source": [
    "pima.info()"
   ]
  },
  {
   "cell_type": "code",
   "execution_count": 58,
   "id": "a603abe5",
   "metadata": {},
   "outputs": [],
   "source": [
    "train_x, train_y = x[:600], y[:600]\n",
    "test_x, test_y = x[600:], y[600:]"
   ]
  },
  {
   "cell_type": "code",
   "execution_count": 44,
   "id": "3e6377d9",
   "metadata": {},
   "outputs": [],
   "source": [
    "base_learners = []"
   ]
  },
  {
   "cell_type": "code",
   "execution_count": 45,
   "id": "efc8f44c",
   "metadata": {},
   "outputs": [],
   "source": [
    "# KNN classifier model\n",
    "knn = KNeighborsClassifier(n_neighbors=2)\n",
    "base_learners.append(knn)"
   ]
  },
  {
   "cell_type": "code",
   "execution_count": 46,
   "id": "820318a3",
   "metadata": {},
   "outputs": [],
   "source": [
    "# Decision Tree Classifier model\n",
    "dtr = DecisionTreeClassifier(max_depth=4, random_state=123456)\n",
    "base_learners.append(dtr)"
   ]
  },
  {
   "cell_type": "code",
   "execution_count": 47,
   "id": "77183068",
   "metadata": {},
   "outputs": [],
   "source": [
    "# Multi Layered Perceptron classifier\n",
    "mlpc = MLPClassifier(hidden_layer_sizes =(100, ), solver='lbfgs', random_state=123456)\n",
    "base_learners.append(mlpc)"
   ]
  },
  {
   "cell_type": "code",
   "execution_count": 48,
   "id": "9a8cbb37",
   "metadata": {},
   "outputs": [],
   "source": [
    "# Meta model using Logistic Regression\n",
    "meta_learner = LogisticRegression(solver='lbfgs')"
   ]
  },
  {
   "cell_type": "markdown",
   "id": "0b915799",
   "metadata": {},
   "source": [
    "#### Create the training meta data:"
   ]
  },
  {
   "cell_type": "code",
   "execution_count": 59,
   "id": "00b50150",
   "metadata": {},
   "outputs": [],
   "source": [
    "# Create variables to store meta data and the targets\n",
    "meta_data = np.zeros((len(base_learners), len(train_x)))\n",
    "meta_targets = np.zeros(len(train_x))"
   ]
  },
  {
   "cell_type": "code",
   "execution_count": 60,
   "id": "e00e8c90",
   "metadata": {},
   "outputs": [],
   "source": [
    "# Create the cross-validation folds\n",
    "KF = KFold(n_splits = 5)\n",
    "meta_index = 0"
   ]
  },
  {
   "cell_type": "code",
   "execution_count": 62,
   "id": "ab491cff",
   "metadata": {
    "collapsed": true
   },
   "outputs": [
    {
     "ename": "KeyError",
     "evalue": "\"None of [Int64Index([120, 121, 122, 123, 124, 125, 126, 127, 128, 129,\\n            ...\\n            590, 591, 592, 593, 594, 595, 596, 597, 598, 599],\\n           dtype='int64', length=480)] are in the [columns]\"",
     "output_type": "error",
     "traceback": [
      "\u001b[1;31m---------------------------------------------------------------------------\u001b[0m",
      "\u001b[1;31mKeyError\u001b[0m                                  Traceback (most recent call last)",
      "\u001b[1;32m<ipython-input-62-87ceca4efe6d>\u001b[0m in \u001b[0;36m<module>\u001b[1;34m\u001b[0m\n\u001b[0;32m      4\u001b[0m         \u001b[0mlearner\u001b[0m \u001b[1;33m=\u001b[0m \u001b[0mbase_learners\u001b[0m\u001b[1;33m[\u001b[0m\u001b[0mi\u001b[0m\u001b[1;33m]\u001b[0m\u001b[1;33m\u001b[0m\u001b[1;33m\u001b[0m\u001b[0m\n\u001b[0;32m      5\u001b[0m \u001b[1;33m\u001b[0m\u001b[0m\n\u001b[1;32m----> 6\u001b[1;33m         \u001b[0mlearner\u001b[0m\u001b[1;33m.\u001b[0m\u001b[0mfit\u001b[0m\u001b[1;33m(\u001b[0m\u001b[0mtrain_x\u001b[0m\u001b[1;33m[\u001b[0m\u001b[0mtrain_indices\u001b[0m\u001b[1;33m]\u001b[0m\u001b[1;33m,\u001b[0m \u001b[0mtrain_y\u001b[0m\u001b[1;33m[\u001b[0m\u001b[0mtrain_indices\u001b[0m\u001b[1;33m]\u001b[0m\u001b[1;33m)\u001b[0m\u001b[1;33m\u001b[0m\u001b[1;33m\u001b[0m\u001b[0m\n\u001b[0m\u001b[0;32m      7\u001b[0m         \u001b[0mpredictions\u001b[0m \u001b[1;33m=\u001b[0m \u001b[0mlearner\u001b[0m\u001b[1;33m.\u001b[0m\u001b[0mpredict_proba\u001b[0m\u001b[1;33m(\u001b[0m\u001b[0mtrain_x\u001b[0m\u001b[1;33m[\u001b[0m\u001b[0mtest_indices\u001b[0m\u001b[1;33m]\u001b[0m\u001b[1;33m)\u001b[0m\u001b[1;33m[\u001b[0m\u001b[1;33m:\u001b[0m\u001b[1;33m,\u001b[0m\u001b[1;36m0\u001b[0m\u001b[1;33m]\u001b[0m\u001b[1;33m\u001b[0m\u001b[1;33m\u001b[0m\u001b[0m\n\u001b[0;32m      8\u001b[0m \u001b[1;33m\u001b[0m\u001b[0m\n",
      "\u001b[1;32m~\\anaconda3\\envs\\digit\\lib\\site-packages\\pandas\\core\\frame.py\u001b[0m in \u001b[0;36m__getitem__\u001b[1;34m(self, key)\u001b[0m\n\u001b[0;32m   3028\u001b[0m             \u001b[1;32mif\u001b[0m \u001b[0mis_iterator\u001b[0m\u001b[1;33m(\u001b[0m\u001b[0mkey\u001b[0m\u001b[1;33m)\u001b[0m\u001b[1;33m:\u001b[0m\u001b[1;33m\u001b[0m\u001b[1;33m\u001b[0m\u001b[0m\n\u001b[0;32m   3029\u001b[0m                 \u001b[0mkey\u001b[0m \u001b[1;33m=\u001b[0m \u001b[0mlist\u001b[0m\u001b[1;33m(\u001b[0m\u001b[0mkey\u001b[0m\u001b[1;33m)\u001b[0m\u001b[1;33m\u001b[0m\u001b[1;33m\u001b[0m\u001b[0m\n\u001b[1;32m-> 3030\u001b[1;33m             \u001b[0mindexer\u001b[0m \u001b[1;33m=\u001b[0m \u001b[0mself\u001b[0m\u001b[1;33m.\u001b[0m\u001b[0mloc\u001b[0m\u001b[1;33m.\u001b[0m\u001b[0m_get_listlike_indexer\u001b[0m\u001b[1;33m(\u001b[0m\u001b[0mkey\u001b[0m\u001b[1;33m,\u001b[0m \u001b[0maxis\u001b[0m\u001b[1;33m=\u001b[0m\u001b[1;36m1\u001b[0m\u001b[1;33m,\u001b[0m \u001b[0mraise_missing\u001b[0m\u001b[1;33m=\u001b[0m\u001b[1;32mTrue\u001b[0m\u001b[1;33m)\u001b[0m\u001b[1;33m[\u001b[0m\u001b[1;36m1\u001b[0m\u001b[1;33m]\u001b[0m\u001b[1;33m\u001b[0m\u001b[1;33m\u001b[0m\u001b[0m\n\u001b[0m\u001b[0;32m   3031\u001b[0m \u001b[1;33m\u001b[0m\u001b[0m\n\u001b[0;32m   3032\u001b[0m         \u001b[1;31m# take() does not accept boolean indexers\u001b[0m\u001b[1;33m\u001b[0m\u001b[1;33m\u001b[0m\u001b[1;33m\u001b[0m\u001b[0m\n",
      "\u001b[1;32m~\\anaconda3\\envs\\digit\\lib\\site-packages\\pandas\\core\\indexing.py\u001b[0m in \u001b[0;36m_get_listlike_indexer\u001b[1;34m(self, key, axis, raise_missing)\u001b[0m\n\u001b[0;32m   1264\u001b[0m             \u001b[0mkeyarr\u001b[0m\u001b[1;33m,\u001b[0m \u001b[0mindexer\u001b[0m\u001b[1;33m,\u001b[0m \u001b[0mnew_indexer\u001b[0m \u001b[1;33m=\u001b[0m \u001b[0max\u001b[0m\u001b[1;33m.\u001b[0m\u001b[0m_reindex_non_unique\u001b[0m\u001b[1;33m(\u001b[0m\u001b[0mkeyarr\u001b[0m\u001b[1;33m)\u001b[0m\u001b[1;33m\u001b[0m\u001b[1;33m\u001b[0m\u001b[0m\n\u001b[0;32m   1265\u001b[0m \u001b[1;33m\u001b[0m\u001b[0m\n\u001b[1;32m-> 1266\u001b[1;33m         \u001b[0mself\u001b[0m\u001b[1;33m.\u001b[0m\u001b[0m_validate_read_indexer\u001b[0m\u001b[1;33m(\u001b[0m\u001b[0mkeyarr\u001b[0m\u001b[1;33m,\u001b[0m \u001b[0mindexer\u001b[0m\u001b[1;33m,\u001b[0m \u001b[0maxis\u001b[0m\u001b[1;33m,\u001b[0m \u001b[0mraise_missing\u001b[0m\u001b[1;33m=\u001b[0m\u001b[0mraise_missing\u001b[0m\u001b[1;33m)\u001b[0m\u001b[1;33m\u001b[0m\u001b[1;33m\u001b[0m\u001b[0m\n\u001b[0m\u001b[0;32m   1267\u001b[0m         \u001b[1;32mreturn\u001b[0m \u001b[0mkeyarr\u001b[0m\u001b[1;33m,\u001b[0m \u001b[0mindexer\u001b[0m\u001b[1;33m\u001b[0m\u001b[1;33m\u001b[0m\u001b[0m\n\u001b[0;32m   1268\u001b[0m \u001b[1;33m\u001b[0m\u001b[0m\n",
      "\u001b[1;32m~\\anaconda3\\envs\\digit\\lib\\site-packages\\pandas\\core\\indexing.py\u001b[0m in \u001b[0;36m_validate_read_indexer\u001b[1;34m(self, key, indexer, axis, raise_missing)\u001b[0m\n\u001b[0;32m   1306\u001b[0m             \u001b[1;32mif\u001b[0m \u001b[0mmissing\u001b[0m \u001b[1;33m==\u001b[0m \u001b[0mlen\u001b[0m\u001b[1;33m(\u001b[0m\u001b[0mindexer\u001b[0m\u001b[1;33m)\u001b[0m\u001b[1;33m:\u001b[0m\u001b[1;33m\u001b[0m\u001b[1;33m\u001b[0m\u001b[0m\n\u001b[0;32m   1307\u001b[0m                 \u001b[0maxis_name\u001b[0m \u001b[1;33m=\u001b[0m \u001b[0mself\u001b[0m\u001b[1;33m.\u001b[0m\u001b[0mobj\u001b[0m\u001b[1;33m.\u001b[0m\u001b[0m_get_axis_name\u001b[0m\u001b[1;33m(\u001b[0m\u001b[0maxis\u001b[0m\u001b[1;33m)\u001b[0m\u001b[1;33m\u001b[0m\u001b[1;33m\u001b[0m\u001b[0m\n\u001b[1;32m-> 1308\u001b[1;33m                 \u001b[1;32mraise\u001b[0m \u001b[0mKeyError\u001b[0m\u001b[1;33m(\u001b[0m\u001b[1;34mf\"None of [{key}] are in the [{axis_name}]\"\u001b[0m\u001b[1;33m)\u001b[0m\u001b[1;33m\u001b[0m\u001b[1;33m\u001b[0m\u001b[0m\n\u001b[0m\u001b[0;32m   1309\u001b[0m \u001b[1;33m\u001b[0m\u001b[0m\n\u001b[0;32m   1310\u001b[0m             \u001b[0max\u001b[0m \u001b[1;33m=\u001b[0m \u001b[0mself\u001b[0m\u001b[1;33m.\u001b[0m\u001b[0mobj\u001b[0m\u001b[1;33m.\u001b[0m\u001b[0m_get_axis\u001b[0m\u001b[1;33m(\u001b[0m\u001b[0maxis\u001b[0m\u001b[1;33m)\u001b[0m\u001b[1;33m\u001b[0m\u001b[1;33m\u001b[0m\u001b[0m\n",
      "\u001b[1;31mKeyError\u001b[0m: \"None of [Int64Index([120, 121, 122, 123, 124, 125, 126, 127, 128, 129,\\n            ...\\n            590, 591, 592, 593, 594, 595, 596, 597, 598, 599],\\n           dtype='int64', length=480)] are in the [columns]\""
     ]
    }
   ],
   "source": [
    "for train_indices, test_indices in KF.split(train_x):\n",
    "    # Train each learner on the K-1 folds and create meta data for the Kth fold\n",
    "    for i in range(len(base_learners)):\n",
    "        learner = base_learners[i]\n",
    "\n",
    "        learner.fit(train_x[train_indices], train_y[train_indices])\n",
    "        predictions = learner.predict_proba(train_x[test_indices])[:,0]\n",
    "\n",
    "        meta_data[i][meta_index:meta_index+len(test_indices)] = predictions\n",
    "\n",
    "    meta_targets[meta_index:meta_index+len(test_indices)] = train_y[test_indices]\n",
    "    meta_index += len(test_indices)"
   ]
  },
  {
   "cell_type": "markdown",
   "id": "b21e3b8d",
   "metadata": {},
   "source": [
    "# Voting:"
   ]
  },
  {
   "cell_type": "markdown",
   "id": "f8499931",
   "metadata": {},
   "source": [
    "## Hard Voting:"
   ]
  },
  {
   "cell_type": "code",
   "execution_count": 63,
   "id": "d7d0e7d0",
   "metadata": {},
   "outputs": [],
   "source": [
    "from sklearn import datasets, linear_model, svm, neighbors, naive_bayes\n",
    "from sklearn.ensemble import VotingClassifier\n",
    "from sklearn.metrics import accuracy_score"
   ]
  },
  {
   "cell_type": "code",
   "execution_count": 64,
   "id": "d6c7e395",
   "metadata": {},
   "outputs": [],
   "source": [
    "# Instantiate the learners (classifiers)\n",
    "learner_1 = neighbors.KNeighborsClassifier(n_neighbors=5)\n",
    "learner_2 = linear_model.Perceptron(tol=1e-2, random_state=0)\n",
    "learner_3 = svm.SVC(gamma=0.001)"
   ]
  },
  {
   "cell_type": "code",
   "execution_count": 65,
   "id": "5d1b6071",
   "metadata": {},
   "outputs": [],
   "source": [
    "# Instantiate the voting classifier\n",
    "voting = VotingClassifier([('KNN', learner_1),\n",
    "                           ('Prc', learner_2),\n",
    "                           ('SVM', learner_3)])"
   ]
  },
  {
   "cell_type": "code",
   "execution_count": 66,
   "id": "40d03992",
   "metadata": {},
   "outputs": [
    {
     "data": {
      "text/plain": [
       "VotingClassifier(estimators=[('KNN', KNeighborsClassifier()),\n",
       "                             ('Prc', Perceptron(tol=0.01)),\n",
       "                             ('SVM', SVC(gamma=0.001))])"
      ]
     },
     "execution_count": 66,
     "metadata": {},
     "output_type": "execute_result"
    }
   ],
   "source": [
    "# Fit classifier with the training data\n",
    "voting.fit(x_train, y_train)"
   ]
  },
  {
   "cell_type": "code",
   "execution_count": 67,
   "id": "f905bb3e",
   "metadata": {},
   "outputs": [],
   "source": [
    "# Predict the most voted class\n",
    "hard_predictions = voting.predict(x_test)"
   ]
  },
  {
   "cell_type": "code",
   "execution_count": 68,
   "id": "f5831294",
   "metadata": {},
   "outputs": [
    {
     "name": "stdout",
     "output_type": "stream",
     "text": [
      "Hard Voting: 0.7619047619047619\n"
     ]
    }
   ],
   "source": [
    "# Accuracy of hard voting\n",
    "print('Hard Voting:', accuracy_score(y_test, hard_predictions))"
   ]
  },
  {
   "cell_type": "markdown",
   "id": "2dcf3588",
   "metadata": {},
   "source": [
    "## Soft Voting:"
   ]
  },
  {
   "cell_type": "code",
   "execution_count": 69,
   "id": "d4bf9ab5",
   "metadata": {},
   "outputs": [],
   "source": [
    "# Instantiate the learners (classifiers)\n",
    "learner_4 = neighbors.KNeighborsClassifier(n_neighbors = 5)\n",
    "learner_5 = naive_bayes.GaussianNB()\n",
    "learner_6 = svm.SVC(gamma = 0.001, probability = True)"
   ]
  },
  {
   "cell_type": "code",
   "execution_count": 70,
   "id": "c15cf2de",
   "metadata": {},
   "outputs": [],
   "source": [
    "# Instantiate the voting classifier\n",
    "voting = VotingClassifier([('KNN', learner_4),\n",
    "                           ('NB', learner_5),\n",
    "                           ('SVM', learner_6)],\n",
    "                            voting = 'soft')"
   ]
  },
  {
   "cell_type": "code",
   "execution_count": 71,
   "id": "f43aa1e2",
   "metadata": {},
   "outputs": [
    {
     "data": {
      "text/plain": [
       "SVC(gamma=0.001, probability=True)"
      ]
     },
     "execution_count": 71,
     "metadata": {},
     "output_type": "execute_result"
    }
   ],
   "source": [
    "# Fit classifier with the training data\n",
    "voting.fit(x_train, y_train)\n",
    "learner_4.fit(x_train, y_train)\n",
    "learner_5.fit(x_train, y_train)\n",
    "learner_6.fit(x_train, y_train)"
   ]
  },
  {
   "cell_type": "code",
   "execution_count": 72,
   "id": "f34b3b5c",
   "metadata": {},
   "outputs": [],
   "source": [
    "# Predict the most probable class\n",
    "soft_predictions = voting.predict(x_test)"
   ]
  },
  {
   "cell_type": "code",
   "execution_count": 73,
   "id": "e4b258c8",
   "metadata": {},
   "outputs": [],
   "source": [
    "# Get the base learner predictions\n",
    "predictions_4 = learner_4.predict(x_test)\n",
    "predictions_5 = learner_5.predict(x_test)\n",
    "predictions_6 = learner_6.predict(x_test)"
   ]
  },
  {
   "cell_type": "code",
   "execution_count": 74,
   "id": "42de781d",
   "metadata": {},
   "outputs": [
    {
     "name": "stdout",
     "output_type": "stream",
     "text": [
      "L4: 0.7662337662337663\n",
      "L5: 0.7748917748917749\n",
      "L6: 0.7748917748917749\n"
     ]
    }
   ],
   "source": [
    "# Accuracies of base learners\n",
    "print('L4:', accuracy_score(y_test, predictions_4))\n",
    "print('L5:', accuracy_score(y_test, predictions_5))\n",
    "print('L6:', accuracy_score(y_test, predictions_6))"
   ]
  },
  {
   "cell_type": "code",
   "execution_count": 75,
   "id": "73c46cf4",
   "metadata": {},
   "outputs": [
    {
     "name": "stdout",
     "output_type": "stream",
     "text": [
      "Soft Voting: 0.8008658008658008\n"
     ]
    }
   ],
   "source": [
    "# Accuracy of Soft voting\n",
    "print('Soft Voting:', accuracy_score(y_test, soft_predictions))"
   ]
  }
 ],
 "metadata": {
  "kernelspec": {
   "display_name": "Python 3",
   "language": "python",
   "name": "python3"
  },
  "language_info": {
   "codemirror_mode": {
    "name": "ipython",
    "version": 3
   },
   "file_extension": ".py",
   "mimetype": "text/x-python",
   "name": "python",
   "nbconvert_exporter": "python",
   "pygments_lexer": "ipython3",
   "version": "3.8.10"
  }
 },
 "nbformat": 4,
 "nbformat_minor": 5
}
