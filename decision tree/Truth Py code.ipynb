{
 "cells": [
  {
   "cell_type": "markdown",
   "id": "a5e071d1",
   "metadata": {},
   "source": [
    "# * Kurapati Venkatesh\n",
    "\n",
    "# * 09012021\n",
    "\n",
    "# * Topic: Forecasting – Decision Tree And Random Forest  ✨🎄"
   ]
  },
  {
   "cell_type": "markdown",
   "id": "2a7d9eff",
   "metadata": {},
   "source": [
    "# ---------------------------------------------------------------------------"
   ]
  },
  {
   "cell_type": "markdown",
   "id": "30aeb645",
   "metadata": {},
   "source": [
    "## Problem Statement:"
   ]
  },
  {
   "cell_type": "markdown",
   "id": "b2eca843",
   "metadata": {},
   "source": [
    "## In Recruitment domain, HR faces with the challenge of predicting if the candidate is faking his salary or the candidate is genuine. In order to do it manually, let us use our Machine Learning algorithm to correctly classify using Decision Tree and Random Forest. We have a scenario where, a candidate claims to have 5 years of experience and earning 70000 per month working as regional manager and the candidate is expecting more than his previous CTC. A sample data has been collected, find out the candidate claims are genuine or fake."
   ]
  },
  {
   "cell_type": "markdown",
   "id": "2b539e5a",
   "metadata": {},
   "source": [
    "## -----------------------------------------------------------------------------------"
   ]
  },
  {
   "cell_type": "markdown",
   "id": "27478c5f",
   "metadata": {},
   "source": [
    "### Problem Objective:\n",
    "##### To correctly classify using Decision Tree and Random Forest - find out the candidate claims are genuine or fake."
   ]
  },
  {
   "cell_type": "markdown",
   "id": "f0acedba",
   "metadata": {},
   "source": [
    "## -------------------------------------------------------------------------------------------"
   ]
  },
  {
   "cell_type": "markdown",
   "id": "5ff91320",
   "metadata": {},
   "source": [
    "## import libraries:"
   ]
  },
  {
   "cell_type": "code",
   "execution_count": 1,
   "id": "2397fb97",
   "metadata": {},
   "outputs": [],
   "source": [
    "import numpy as np\n",
    "import pandas as pd\n",
    "import matplotlib.pyplot as plt\n",
    "%matplotlib inline"
   ]
  },
  {
   "cell_type": "markdown",
   "id": "4313bb0a",
   "metadata": {},
   "source": [
    "## import dataset:"
   ]
  },
  {
   "cell_type": "code",
   "execution_count": 14,
   "id": "ac04fc04",
   "metadata": {},
   "outputs": [],
   "source": [
    "dataset=pd.read_csv(r\"G:\\360digit\\assignments meterial\\Decision tree\\HR_DT.csv\")"
   ]
  },
  {
   "cell_type": "code",
   "execution_count": 15,
   "id": "a915cf29",
   "metadata": {},
   "outputs": [],
   "source": [
    "df = dataset"
   ]
  },
  {
   "cell_type": "markdown",
   "id": "6215c60b",
   "metadata": {},
   "source": [
    "Suppose we want to predict the salary for a new employee whose level of experience is 5 and he said that the previous company paid him 70000 and he wants a higher salary and we have got some data which has three columns- Position,Level and salary. then here we will use decision tree to predict his salary based on the data we have."
   ]
  },
  {
   "cell_type": "markdown",
   "id": "990e31be",
   "metadata": {},
   "source": [
    "By this approach we can predict whether he/she telling the truth or bluffing."
   ]
  },
  {
   "cell_type": "code",
   "execution_count": 5,
   "id": "ccfcc227",
   "metadata": {},
   "outputs": [
    {
     "data": {
      "text/plain": [
       "<bound method DataFrame.info of     Position of the employee  no of Years of Experience of employee  \\\n",
       "0           Business Analyst                                    1.1   \n",
       "1          Junior Consultant                                    1.3   \n",
       "2          Senior Consultant                                    1.5   \n",
       "3                    Manager                                    2.0   \n",
       "4            Country Manager                                    2.2   \n",
       "..                       ...                                    ...   \n",
       "191           Region Manager                                    3.9   \n",
       "192                  Partner                                    4.0   \n",
       "193           Senior Partner                                    4.0   \n",
       "194                  C-level                                    4.1   \n",
       "195                      CEO                                    4.5   \n",
       "\n",
       "      monthly income of employee  \n",
       "0                          39343  \n",
       "1                          46205  \n",
       "2                          37731  \n",
       "3                          43525  \n",
       "4                          39891  \n",
       "..                           ...  \n",
       "191                        55794  \n",
       "192                        56957  \n",
       "193                        57081  \n",
       "194                        61111  \n",
       "195                        67938  \n",
       "\n",
       "[196 rows x 3 columns]>"
      ]
     },
     "execution_count": 5,
     "metadata": {},
     "output_type": "execute_result"
    }
   ],
   "source": [
    "dataset.info"
   ]
  },
  {
   "cell_type": "code",
   "execution_count": 6,
   "id": "a94c90a2",
   "metadata": {},
   "outputs": [
    {
     "name": "stdout",
     "output_type": "stream",
     "text": [
      "<class 'pandas.core.frame.DataFrame'>\n",
      "RangeIndex: 196 entries, 0 to 195\n",
      "Data columns (total 3 columns):\n",
      " #   Column                                 Non-Null Count  Dtype  \n",
      "---  ------                                 --------------  -----  \n",
      " 0   Position of the employee               196 non-null    object \n",
      " 1   no of Years of Experience of employee  196 non-null    float64\n",
      " 2    monthly income of employee            196 non-null    int64  \n",
      "dtypes: float64(1), int64(1), object(1)\n",
      "memory usage: 4.7+ KB\n"
     ]
    }
   ],
   "source": [
    "dataset.info()"
   ]
  },
  {
   "cell_type": "markdown",
   "id": "99af3dc2",
   "metadata": {},
   "source": [
    "now we divide our dataset into X and y, where X is the independent variable and y is the dependent variable."
   ]
  },
  {
   "cell_type": "code",
   "execution_count": 7,
   "id": "ca53b17f",
   "metadata": {},
   "outputs": [],
   "source": [
    "X=dataset.iloc[:,1:2].values\n",
    "y=dataset.iloc[:,2].values"
   ]
  },
  {
   "cell_type": "markdown",
   "id": "6c44dac3",
   "metadata": {},
   "source": [
    "## fitting the decision tree regression model to the dataset:"
   ]
  },
  {
   "cell_type": "code",
   "execution_count": 8,
   "id": "6ab9dec0",
   "metadata": {},
   "outputs": [
    {
     "data": {
      "text/plain": [
       "DecisionTreeRegressor(random_state=0)"
      ]
     },
     "execution_count": 8,
     "metadata": {},
     "output_type": "execute_result"
    }
   ],
   "source": [
    "from sklearn.tree import DecisionTreeRegressor\n",
    "regressor=DecisionTreeRegressor(random_state=0)\n",
    "regressor.fit(X,y)"
   ]
  },
  {
   "cell_type": "markdown",
   "id": "162e7d97",
   "metadata": {},
   "source": [
    "we are training the entire dataset here and we will test it on any random value. Suppose the new employee said he has a experience of 5 years so we will predict his salary based on that."
   ]
  },
  {
   "cell_type": "code",
   "execution_count": 9,
   "id": "f5b8cac0",
   "metadata": {},
   "outputs": [],
   "source": [
    "y_pred = regressor.predict([[5]])"
   ]
  },
  {
   "cell_type": "markdown",
   "id": "057cab95",
   "metadata": {},
   "source": [
    "Now let's check what is the predicted salary for the new employee."
   ]
  },
  {
   "cell_type": "code",
   "execution_count": 10,
   "id": "83b848c6",
   "metadata": {},
   "outputs": [
    {
     "data": {
      "text/plain": [
       "array([67938.])"
      ]
     },
     "execution_count": 10,
     "metadata": {},
     "output_type": "execute_result"
    }
   ],
   "source": [
    "y_pred"
   ]
  },
  {
   "cell_type": "markdown",
   "id": "50e57776",
   "metadata": {},
   "source": [
    "It returns 67938 which is a little less than the salary that the employee told us"
   ]
  },
  {
   "cell_type": "markdown",
   "id": "2c568cac",
   "metadata": {},
   "source": [
    "### Now visualising the results:"
   ]
  },
  {
   "cell_type": "code",
   "execution_count": 11,
   "id": "c7d44081",
   "metadata": {},
   "outputs": [
    {
     "data": {
      "text/plain": [
       "(950,)"
      ]
     },
     "execution_count": 11,
     "metadata": {},
     "output_type": "execute_result"
    }
   ],
   "source": [
    "#visualising the decision tree regression result(for higher resolution and smoother curves)\n",
    "X_grid=np.arange(min(X),max(X),0.01)\n",
    "X_grid.shape"
   ]
  },
  {
   "cell_type": "code",
   "execution_count": 12,
   "id": "3f066814",
   "metadata": {},
   "outputs": [],
   "source": [
    "#reshaping X_grid from 1-D array to 2-D array\n",
    "X_grid=X_grid.reshape(len(X_grid),1)"
   ]
  },
  {
   "cell_type": "code",
   "execution_count": 13,
   "id": "a33e73f5",
   "metadata": {},
   "outputs": [
    {
     "data": {
      "image/png": "[encoded data removed]",
      "text/plain": [
       "<Figure size 432x288 with 1 Axes>"
      ]
     },
     "metadata": {
      "needs_background": "light"
     },
     "output_type": "display_data"
    }
   ],
   "source": [
    "plt.scatter(X,y,color='red')\n",
    "plt.plot(X_grid,regressor.predict(X_grid),color='blue')\n",
    "plt.title('Truth vs Bluff(Decision tree regression)')\n",
    "plt.xlabel('Position level')\n",
    "plt.ylabel('Salary')\n",
    "plt.show()"
   ]
  },
  {
   "cell_type": "markdown",
   "id": "e7b9625b",
   "metadata": {},
   "source": [
    "So, we can conclude that the prediction is not accurate but close to the real value.\n",
    "\n",
    "\n",
    "To overcome this accuracy issue we have another algorithm called Random forest.Random forest is an ensemble learning algorithm, which uses multiple algorithms together to get the result."
   ]
  },
  {
   "cell_type": "markdown",
   "id": "bb3c6599",
   "metadata": {},
   "source": [
    "Random forest uses many decision trees so, it makes our predictions more accurate."
   ]
  },
  {
   "cell_type": "markdown",
   "id": "20826143",
   "metadata": {},
   "source": [
    "# Random Forest:"
   ]
  },
  {
   "cell_type": "code",
   "execution_count": 17,
   "id": "f31730cb",
   "metadata": {},
   "outputs": [
    {
     "data": {
      "text/html": [
       "<div>\n",
       "<style scoped>\n",
       "    .dataframe tbody tr th:only-of-type {\n",
       "        vertical-align: middle;\n",
       "    }\n",
       "\n",
       "    .dataframe tbody tr th {\n",
       "        vertical-align: top;\n",
       "    }\n",
       "\n",
       "    .dataframe thead th {\n",
       "        text-align: right;\n",
       "    }\n",
       "</style>\n",
       "<table border=\"1\" class=\"dataframe\">\n",
       "  <thead>\n",
       "    <tr style=\"text-align: right;\">\n",
       "      <th></th>\n",
       "      <th>Position of the employee</th>\n",
       "      <th>no of Years of Experience of employee</th>\n",
       "      <th>monthly income of employee</th>\n",
       "    </tr>\n",
       "  </thead>\n",
       "  <tbody>\n",
       "    <tr>\n",
       "      <th>0</th>\n",
       "      <td>Business Analyst</td>\n",
       "      <td>1.1</td>\n",
       "      <td>39343</td>\n",
       "    </tr>\n",
       "    <tr>\n",
       "      <th>1</th>\n",
       "      <td>Junior Consultant</td>\n",
       "      <td>1.3</td>\n",
       "      <td>46205</td>\n",
       "    </tr>\n",
       "    <tr>\n",
       "      <th>2</th>\n",
       "      <td>Senior Consultant</td>\n",
       "      <td>1.5</td>\n",
       "      <td>37731</td>\n",
       "    </tr>\n",
       "    <tr>\n",
       "      <th>3</th>\n",
       "      <td>Manager</td>\n",
       "      <td>2.0</td>\n",
       "      <td>43525</td>\n",
       "    </tr>\n",
       "    <tr>\n",
       "      <th>4</th>\n",
       "      <td>Country Manager</td>\n",
       "      <td>2.2</td>\n",
       "      <td>39891</td>\n",
       "    </tr>\n",
       "  </tbody>\n",
       "</table>\n",
       "</div>"
      ],
      "text/plain": [
       "  Position of the employee  no of Years of Experience of employee  \\\n",
       "0         Business Analyst                                    1.1   \n",
       "1        Junior Consultant                                    1.3   \n",
       "2        Senior Consultant                                    1.5   \n",
       "3                  Manager                                    2.0   \n",
       "4          Country Manager                                    2.2   \n",
       "\n",
       "    monthly income of employee  \n",
       "0                        39343  \n",
       "1                        46205  \n",
       "2                        37731  \n",
       "3                        43525  \n",
       "4                        39891  "
      ]
     },
     "execution_count": 17,
     "metadata": {},
     "output_type": "execute_result"
    }
   ],
   "source": [
    "df.head()"
   ]
  },
  {
   "cell_type": "code",
   "execution_count": 18,
   "id": "66ddea44",
   "metadata": {},
   "outputs": [],
   "source": [
    "X =df.iloc[:, 1:2].values\n",
    "y =df.iloc[:, 2].values"
   ]
  },
  {
   "cell_type": "markdown",
   "id": "497ac9fd",
   "metadata": {},
   "source": [
    "As the dataset is very small we won’t perform any splitting. We will proceed directly to fitting the data."
   ]
  },
  {
   "cell_type": "code",
   "execution_count": 19,
   "id": "992953d1",
   "metadata": {},
   "outputs": [
    {
     "data": {
      "text/plain": [
       "RandomForestRegressor(n_estimators=10, random_state=0)"
      ]
     },
     "execution_count": 19,
     "metadata": {},
     "output_type": "execute_result"
    }
   ],
   "source": [
    "from sklearn.ensemble import RandomForestRegressor\n",
    "model = RandomForestRegressor(n_estimators = 10, random_state = 0)\n",
    "model.fit(X, y)"
   ]
  },
  {
   "cell_type": "markdown",
   "id": "0a6a580c",
   "metadata": {},
   "source": [
    "Did you notice that we have made just 10 trees by putting n_estimators=10? It is up to us to play around with the number of trees. As it is a small dataset, 10 trees are enough."
   ]
  },
  {
   "cell_type": "markdown",
   "id": "7a13db76",
   "metadata": {},
   "source": [
    "Now we will predict the salary of a person who has an experience of 5 years"
   ]
  },
  {
   "cell_type": "code",
   "execution_count": 21,
   "id": "fa363e00",
   "metadata": {},
   "outputs": [],
   "source": [
    "y_pred =model.predict([[5]])"
   ]
  },
  {
   "cell_type": "code",
   "execution_count": 22,
   "id": "58b991dc",
   "metadata": {},
   "outputs": [
    {
     "data": {
      "text/plain": [
       "array([67938.])"
      ]
     },
     "execution_count": 22,
     "metadata": {},
     "output_type": "execute_result"
    }
   ],
   "source": [
    "y_pred "
   ]
  },
  {
   "cell_type": "markdown",
   "id": "2a10627e",
   "metadata": {},
   "source": [
    "The prediction is same as the decision tree."
   ]
  },
  {
   "cell_type": "code",
   "execution_count": 25,
   "id": "d607bb22",
   "metadata": {},
   "outputs": [
    {
     "data": {
      "image/png": "[encoded data removed]",
      "text/plain": [
       "<Figure size 432x288 with 1 Axes>"
      ]
     },
     "metadata": {
      "needs_background": "light"
     },
     "output_type": "display_data"
    }
   ],
   "source": [
    "X_grid_data = np.arange(min(X), max(X), 0.01)\n",
    "X_grid_data = X_grid.reshape((len(X_grid_data), 1))\n",
    "plt.scatter(X, y, color = 'red')\n",
    "plt.plot(X_grid_data,model.predict(X_grid_data), color = 'blue')\n",
    "plt.title('Random Forest Regression')\n",
    "plt.xlabel('Position')\n",
    "plt.ylabel('Salary')\n",
    "plt.show()"
   ]
  }
 ],
 "metadata": {
  "kernelspec": {
   "display_name": "Python 3",
   "language": "python",
   "name": "python3"
  },
  "language_info": {
   "codemirror_mode": {
    "name": "ipython",
    "version": 3
   },
   "file_extension": ".py",
   "mimetype": "text/x-python",
   "name": "python",
   "nbconvert_exporter": "python",
   "pygments_lexer": "ipython3",
   "version": "3.8.8"
  }
 },
 "nbformat": 4,
 "nbformat_minor": 5
}
