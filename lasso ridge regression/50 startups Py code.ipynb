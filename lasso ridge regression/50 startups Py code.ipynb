{
 "cells": [
  {
   "cell_type": "markdown",
   "id": "a5e071d1",
   "metadata": {},
   "source": [
    "# * Kurapati Venkatesh\n",
    "\n",
    "# * 09012021\n",
    "\n",
    "# * Topic: Lasso & Ridge Regression  ✨🐱‍🏍"
   ]
  },
  {
   "cell_type": "markdown",
   "id": "2a7d9eff",
   "metadata": {},
   "source": [
    "# ---------------------------------------------------------------------------"
   ]
  },
  {
   "cell_type": "markdown",
   "id": "30aeb645",
   "metadata": {},
   "source": [
    "## Problem Statement:"
   ]
  },
  {
   "cell_type": "markdown",
   "id": "b2eca843",
   "metadata": {},
   "source": [
    "## An Analytics Company has been tasked by a crucial job of  finding out what factors does affect a startup company and will it be profitable to do so or not. For this, they have collected some historical data and would like to applying supervised predictive learning algorithm such as Lasso Ridge Regression on it and provide brief insights about their data. Predict Profit, given different attributes for various startup companies."
   ]
  },
  {
   "cell_type": "markdown",
   "id": "2b539e5a",
   "metadata": {},
   "source": [
    "## -----------------------------------------------------------------------------------"
   ]
  },
  {
   "cell_type": "markdown",
   "id": "27478c5f",
   "metadata": {},
   "source": [
    "### Problem Objective:\n",
    "##### To prepare a prediction model  - To perform the Lasso and Ridge regression on the given data to predict the profit of the startup companies"
   ]
  },
  {
   "cell_type": "markdown",
   "id": "f0acedba",
   "metadata": {},
   "source": [
    "## -------------------------------------------------------------------------------------------"
   ]
  },
  {
   "cell_type": "markdown",
   "id": "5ff91320",
   "metadata": {},
   "source": [
    "## import libraries:"
   ]
  },
  {
   "cell_type": "code",
   "execution_count": 21,
   "id": "97776bc9",
   "metadata": {},
   "outputs": [],
   "source": [
    "import numpy as np\n",
    "import pandas as pd\n",
    "import matplotlib.pyplot as plt\n",
    "import seaborn as sns\n",
    "\n",
    "#Import the classes we need to test linear, ridge, and lasso to compare\n",
    "from sklearn.linear_model import LinearRegression, Ridge, Lasso, LassoCV\n",
    "\n",
    "#Need these for selecting the best model\n",
    "from sklearn.model_selection import KFold, GridSearchCV\n",
    "\n",
    "#These will be our main evaluation metrics \n",
    "from sklearn.metrics import r2_score, mean_squared_error\n",
    "\n",
    "# Splitting the dataset into the Training set and Test set\n",
    "from sklearn.model_selection import train_test_split\n",
    "\n",
    "# Will use this to \"normalize\" our data.\n",
    "from sklearn.preprocessing import normalize"
   ]
  },
  {
   "cell_type": "markdown",
   "id": "ad169d93",
   "metadata": {},
   "source": [
    "## import dataset:"
   ]
  },
  {
   "cell_type": "code",
   "execution_count": 4,
   "id": "e97da276",
   "metadata": {},
   "outputs": [
    {
     "data": {
      "text/html": [
       "<div>\n",
       "<style scoped>\n",
       "    .dataframe tbody tr th:only-of-type {\n",
       "        vertical-align: middle;\n",
       "    }\n",
       "\n",
       "    .dataframe tbody tr th {\n",
       "        vertical-align: top;\n",
       "    }\n",
       "\n",
       "    .dataframe thead th {\n",
       "        text-align: right;\n",
       "    }\n",
       "</style>\n",
       "<table border=\"1\" class=\"dataframe\">\n",
       "  <thead>\n",
       "    <tr style=\"text-align: right;\">\n",
       "      <th></th>\n",
       "      <th>R&amp;D Spend</th>\n",
       "      <th>Administration</th>\n",
       "      <th>Marketing Spend</th>\n",
       "      <th>State</th>\n",
       "      <th>Profit</th>\n",
       "    </tr>\n",
       "  </thead>\n",
       "  <tbody>\n",
       "    <tr>\n",
       "      <th>0</th>\n",
       "      <td>165349.20</td>\n",
       "      <td>136897.80</td>\n",
       "      <td>471784.10</td>\n",
       "      <td>New York</td>\n",
       "      <td>192261.83</td>\n",
       "    </tr>\n",
       "    <tr>\n",
       "      <th>1</th>\n",
       "      <td>162597.70</td>\n",
       "      <td>151377.59</td>\n",
       "      <td>443898.53</td>\n",
       "      <td>California</td>\n",
       "      <td>191792.06</td>\n",
       "    </tr>\n",
       "    <tr>\n",
       "      <th>2</th>\n",
       "      <td>153441.51</td>\n",
       "      <td>101145.55</td>\n",
       "      <td>407934.54</td>\n",
       "      <td>Florida</td>\n",
       "      <td>191050.39</td>\n",
       "    </tr>\n",
       "    <tr>\n",
       "      <th>3</th>\n",
       "      <td>144372.41</td>\n",
       "      <td>118671.85</td>\n",
       "      <td>383199.62</td>\n",
       "      <td>New York</td>\n",
       "      <td>182901.99</td>\n",
       "    </tr>\n",
       "    <tr>\n",
       "      <th>4</th>\n",
       "      <td>142107.34</td>\n",
       "      <td>91391.77</td>\n",
       "      <td>366168.42</td>\n",
       "      <td>Florida</td>\n",
       "      <td>166187.94</td>\n",
       "    </tr>\n",
       "  </tbody>\n",
       "</table>\n",
       "</div>"
      ],
      "text/plain": [
       "   R&D Spend  Administration  Marketing Spend       State     Profit\n",
       "0  165349.20       136897.80        471784.10    New York  192261.83\n",
       "1  162597.70       151377.59        443898.53  California  191792.06\n",
       "2  153441.51       101145.55        407934.54     Florida  191050.39\n",
       "3  144372.41       118671.85        383199.62    New York  182901.99\n",
       "4  142107.34        91391.77        366168.42     Florida  166187.94"
      ]
     },
     "execution_count": 4,
     "metadata": {},
     "output_type": "execute_result"
    }
   ],
   "source": [
    "dataset = pd.read_csv(r\"G:\\360digit\\assignments meterial\\lasso ridge regression\\50_Startups (1).csv\")\n",
    "dataset.head()"
   ]
  },
  {
   "cell_type": "markdown",
   "id": "4b6bb5db",
   "metadata": {},
   "source": [
    "To keep this simple, I am only going to look at the continous variables, so we need to drop the State Column."
   ]
  },
  {
   "cell_type": "code",
   "execution_count": 5,
   "id": "922ce2cd",
   "metadata": {},
   "outputs": [
    {
     "data": {
      "text/html": [
       "<div>\n",
       "<style scoped>\n",
       "    .dataframe tbody tr th:only-of-type {\n",
       "        vertical-align: middle;\n",
       "    }\n",
       "\n",
       "    .dataframe tbody tr th {\n",
       "        vertical-align: top;\n",
       "    }\n",
       "\n",
       "    .dataframe thead th {\n",
       "        text-align: right;\n",
       "    }\n",
       "</style>\n",
       "<table border=\"1\" class=\"dataframe\">\n",
       "  <thead>\n",
       "    <tr style=\"text-align: right;\">\n",
       "      <th></th>\n",
       "      <th>R&amp;D Spend</th>\n",
       "      <th>Administration</th>\n",
       "      <th>Marketing Spend</th>\n",
       "      <th>Profit</th>\n",
       "    </tr>\n",
       "  </thead>\n",
       "  <tbody>\n",
       "    <tr>\n",
       "      <th>0</th>\n",
       "      <td>165349.20</td>\n",
       "      <td>136897.80</td>\n",
       "      <td>471784.10</td>\n",
       "      <td>192261.83</td>\n",
       "    </tr>\n",
       "    <tr>\n",
       "      <th>1</th>\n",
       "      <td>162597.70</td>\n",
       "      <td>151377.59</td>\n",
       "      <td>443898.53</td>\n",
       "      <td>191792.06</td>\n",
       "    </tr>\n",
       "    <tr>\n",
       "      <th>2</th>\n",
       "      <td>153441.51</td>\n",
       "      <td>101145.55</td>\n",
       "      <td>407934.54</td>\n",
       "      <td>191050.39</td>\n",
       "    </tr>\n",
       "    <tr>\n",
       "      <th>3</th>\n",
       "      <td>144372.41</td>\n",
       "      <td>118671.85</td>\n",
       "      <td>383199.62</td>\n",
       "      <td>182901.99</td>\n",
       "    </tr>\n",
       "    <tr>\n",
       "      <th>4</th>\n",
       "      <td>142107.34</td>\n",
       "      <td>91391.77</td>\n",
       "      <td>366168.42</td>\n",
       "      <td>166187.94</td>\n",
       "    </tr>\n",
       "  </tbody>\n",
       "</table>\n",
       "</div>"
      ],
      "text/plain": [
       "   R&D Spend  Administration  Marketing Spend     Profit\n",
       "0  165349.20       136897.80        471784.10  192261.83\n",
       "1  162597.70       151377.59        443898.53  191792.06\n",
       "2  153441.51       101145.55        407934.54  191050.39\n",
       "3  144372.41       118671.85        383199.62  182901.99\n",
       "4  142107.34        91391.77        366168.42  166187.94"
      ]
     },
     "execution_count": 5,
     "metadata": {},
     "output_type": "execute_result"
    }
   ],
   "source": [
    "#drop the column\n",
    "dataset = dataset.drop(columns = ['State'])\n",
    "dataset.head()"
   ]
  },
  {
   "cell_type": "code",
   "execution_count": 15,
   "id": "2e2e4aa5",
   "metadata": {},
   "outputs": [
    {
     "data": {
      "text/plain": [
       "(50, 4)"
      ]
     },
     "execution_count": 15,
     "metadata": {},
     "output_type": "execute_result"
    }
   ],
   "source": [
    "#shape of our dataset\n",
    "dataset.shape"
   ]
  },
  {
   "cell_type": "code",
   "execution_count": 16,
   "id": "1e397f10",
   "metadata": {},
   "outputs": [
    {
     "name": "stdout",
     "output_type": "stream",
     "text": [
      "<class 'pandas.core.frame.DataFrame'>\n",
      "RangeIndex: 50 entries, 0 to 49\n",
      "Data columns (total 4 columns):\n",
      " #   Column           Non-Null Count  Dtype  \n",
      "---  ------           --------------  -----  \n",
      " 0   R&D Spend        50 non-null     float64\n",
      " 1   Administration   50 non-null     float64\n",
      " 2   Marketing Spend  50 non-null     float64\n",
      " 3   Profit           50 non-null     float64\n",
      "dtypes: float64(4)\n",
      "memory usage: 1.7 KB\n"
     ]
    }
   ],
   "source": [
    "dataset.info()"
   ]
  },
  {
   "cell_type": "code",
   "execution_count": 17,
   "id": "a26cf86b",
   "metadata": {},
   "outputs": [
    {
     "data": {
      "text/plain": [
       "R&D Spend          0\n",
       "Administration     0\n",
       "Marketing Spend    0\n",
       "Profit             0\n",
       "dtype: int64"
      ]
     },
     "execution_count": 17,
     "metadata": {},
     "output_type": "execute_result"
    }
   ],
   "source": [
    "#checking for missing data\n",
    "dataset.isnull().sum()\n",
    "#there is no missing value in the data"
   ]
  },
  {
   "cell_type": "code",
   "execution_count": 18,
   "id": "4718d410",
   "metadata": {},
   "outputs": [
    {
     "data": {
      "text/html": [
       "<div>\n",
       "<style scoped>\n",
       "    .dataframe tbody tr th:only-of-type {\n",
       "        vertical-align: middle;\n",
       "    }\n",
       "\n",
       "    .dataframe tbody tr th {\n",
       "        vertical-align: top;\n",
       "    }\n",
       "\n",
       "    .dataframe thead th {\n",
       "        text-align: right;\n",
       "    }\n",
       "</style>\n",
       "<table border=\"1\" class=\"dataframe\">\n",
       "  <thead>\n",
       "    <tr style=\"text-align: right;\">\n",
       "      <th></th>\n",
       "      <th>R&amp;D Spend</th>\n",
       "      <th>Administration</th>\n",
       "      <th>Marketing Spend</th>\n",
       "      <th>Profit</th>\n",
       "    </tr>\n",
       "  </thead>\n",
       "  <tbody>\n",
       "    <tr>\n",
       "      <th>count</th>\n",
       "      <td>50.000000</td>\n",
       "      <td>50.000000</td>\n",
       "      <td>50.000000</td>\n",
       "      <td>50.000000</td>\n",
       "    </tr>\n",
       "    <tr>\n",
       "      <th>mean</th>\n",
       "      <td>73721.615600</td>\n",
       "      <td>121344.639600</td>\n",
       "      <td>211025.097800</td>\n",
       "      <td>112012.639200</td>\n",
       "    </tr>\n",
       "    <tr>\n",
       "      <th>std</th>\n",
       "      <td>45902.256482</td>\n",
       "      <td>28017.802755</td>\n",
       "      <td>122290.310726</td>\n",
       "      <td>40306.180338</td>\n",
       "    </tr>\n",
       "    <tr>\n",
       "      <th>min</th>\n",
       "      <td>0.000000</td>\n",
       "      <td>51283.140000</td>\n",
       "      <td>0.000000</td>\n",
       "      <td>14681.400000</td>\n",
       "    </tr>\n",
       "    <tr>\n",
       "      <th>25%</th>\n",
       "      <td>39936.370000</td>\n",
       "      <td>103730.875000</td>\n",
       "      <td>129300.132500</td>\n",
       "      <td>90138.902500</td>\n",
       "    </tr>\n",
       "    <tr>\n",
       "      <th>50%</th>\n",
       "      <td>73051.080000</td>\n",
       "      <td>122699.795000</td>\n",
       "      <td>212716.240000</td>\n",
       "      <td>107978.190000</td>\n",
       "    </tr>\n",
       "    <tr>\n",
       "      <th>75%</th>\n",
       "      <td>101602.800000</td>\n",
       "      <td>144842.180000</td>\n",
       "      <td>299469.085000</td>\n",
       "      <td>139765.977500</td>\n",
       "    </tr>\n",
       "    <tr>\n",
       "      <th>max</th>\n",
       "      <td>165349.200000</td>\n",
       "      <td>182645.560000</td>\n",
       "      <td>471784.100000</td>\n",
       "      <td>192261.830000</td>\n",
       "    </tr>\n",
       "  </tbody>\n",
       "</table>\n",
       "</div>"
      ],
      "text/plain": [
       "           R&D Spend  Administration  Marketing Spend         Profit\n",
       "count      50.000000       50.000000        50.000000      50.000000\n",
       "mean    73721.615600   121344.639600    211025.097800  112012.639200\n",
       "std     45902.256482    28017.802755    122290.310726   40306.180338\n",
       "min         0.000000    51283.140000         0.000000   14681.400000\n",
       "25%     39936.370000   103730.875000    129300.132500   90138.902500\n",
       "50%     73051.080000   122699.795000    212716.240000  107978.190000\n",
       "75%    101602.800000   144842.180000    299469.085000  139765.977500\n",
       "max    165349.200000   182645.560000    471784.100000  192261.830000"
      ]
     },
     "execution_count": 18,
     "metadata": {},
     "output_type": "execute_result"
    }
   ],
   "source": [
    "dataset.describe(include=\"all\")"
   ]
  },
  {
   "cell_type": "markdown",
   "id": "324be3d2",
   "metadata": {},
   "source": [
    "## Visualising Dataset:"
   ]
  },
  {
   "cell_type": "code",
   "execution_count": 19,
   "id": "5b093ae1",
   "metadata": {},
   "outputs": [
    {
     "ename": "NameError",
     "evalue": "name 'sns' is not defined",
     "output_type": "error",
     "traceback": [
      "\u001b[1;31m---------------------------------------------------------------------------\u001b[0m",
      "\u001b[1;31mNameError\u001b[0m                                 Traceback (most recent call last)",
      "\u001b[1;32m<ipython-input-19-559178f9ab2f>\u001b[0m in \u001b[0;36m<module>\u001b[1;34m\u001b[0m\n\u001b[0;32m      3\u001b[0m \u001b[1;32mfor\u001b[0m \u001b[0mi\u001b[0m\u001b[1;33m,\u001b[0m\u001b[0mcol\u001b[0m \u001b[1;32min\u001b[0m \u001b[0mzip\u001b[0m\u001b[1;33m(\u001b[0m\u001b[0mrange\u001b[0m\u001b[1;33m(\u001b[0m\u001b[1;36m1\u001b[0m\u001b[1;33m,\u001b[0m\u001b[1;36m4\u001b[0m\u001b[1;33m)\u001b[0m\u001b[1;33m,\u001b[0m\u001b[0mdataset\u001b[0m\u001b[1;33m.\u001b[0m\u001b[0mcolumns\u001b[0m\u001b[1;33m)\u001b[0m\u001b[1;33m:\u001b[0m\u001b[1;33m\u001b[0m\u001b[1;33m\u001b[0m\u001b[0m\n\u001b[0;32m      4\u001b[0m     \u001b[0mplt\u001b[0m\u001b[1;33m.\u001b[0m\u001b[0msubplot\u001b[0m\u001b[1;33m(\u001b[0m\u001b[1;36m1\u001b[0m\u001b[1;33m,\u001b[0m\u001b[1;36m4\u001b[0m\u001b[1;33m,\u001b[0m\u001b[0mi\u001b[0m\u001b[1;33m)\u001b[0m\u001b[1;33m\u001b[0m\u001b[1;33m\u001b[0m\u001b[0m\n\u001b[1;32m----> 5\u001b[1;33m     \u001b[0msns\u001b[0m\u001b[1;33m.\u001b[0m\u001b[0mboxplot\u001b[0m\u001b[1;33m(\u001b[0m\u001b[0mx\u001b[0m\u001b[1;33m=\u001b[0m\u001b[0mcol\u001b[0m\u001b[1;33m,\u001b[0m\u001b[0mdata\u001b[0m\u001b[1;33m=\u001b[0m\u001b[0mdataset\u001b[0m\u001b[1;33m,\u001b[0m\u001b[0mcolor\u001b[0m\u001b[1;33m=\u001b[0m\u001b[1;34m'pink'\u001b[0m\u001b[1;33m)\u001b[0m\u001b[1;33m\u001b[0m\u001b[1;33m\u001b[0m\u001b[0m\n\u001b[0m\u001b[0;32m      6\u001b[0m     \u001b[0mplt\u001b[0m\u001b[1;33m.\u001b[0m\u001b[0mtitle\u001b[0m\u001b[1;33m(\u001b[0m\u001b[1;34mf\"Box Plot of {col}\"\u001b[0m\u001b[1;33m)\u001b[0m\u001b[1;33m\u001b[0m\u001b[1;33m\u001b[0m\u001b[0m\n\u001b[0;32m      7\u001b[0m     \u001b[0mplt\u001b[0m\u001b[1;33m.\u001b[0m\u001b[0mtight_layout\u001b[0m\u001b[1;33m(\u001b[0m\u001b[1;33m)\u001b[0m\u001b[1;33m\u001b[0m\u001b[1;33m\u001b[0m\u001b[0m\n",
      "\u001b[1;31mNameError\u001b[0m: name 'sns' is not defined"
     ]
    },
    {
     "data": {
      "image/png": "[encoded data removed]",
      "text/plain": [
       "<Figure size 1440x216 with 1 Axes>"
      ]
     },
     "metadata": {
      "needs_background": "light"
     },
     "output_type": "display_data"
    }
   ],
   "source": [
    "#Box Plot of independent variables an it seems we dont have outliers in our independent varables\n",
    "plt.figure(figsize=(20,3))\n",
    "for i,col in zip(range(1,4),dataset.columns):\n",
    "    plt.subplot(1,4,i)\n",
    "    sns.boxplot(x=col,data=dataset,color='pink')\n",
    "    plt.title(f\"Box Plot of {col}\")\n",
    "    plt.tight_layout()"
   ]
  },
  {
   "cell_type": "code",
   "execution_count": null,
   "id": "cc5e65df",
   "metadata": {},
   "outputs": [],
   "source": [
    "#Distribution Plot of independent variables an it seems  all variables are Normally distributed.\n",
    "plt.figure(figsize=(20,3))\n",
    "for i,col in zip(range(1,4),dataset.columns):\n",
    "    plt.subplot(1,4,i)\n",
    "    sns.distplot(a=dataset[col],color='orange')\n",
    "    plt.tight_layout()"
   ]
  },
  {
   "cell_type": "code",
   "execution_count": 22,
   "id": "d8c89013",
   "metadata": {},
   "outputs": [
    {
     "name": "stderr",
     "output_type": "stream",
     "text": [
      "C:\\Users\\Hp\\anaconda3\\envs\\digit\\lib\\site-packages\\seaborn\\_decorators.py:36: FutureWarning: Pass the following variable as a keyword arg: x. From version 0.12, the only valid positional argument will be `data`, and passing other arguments without an explicit keyword will result in an error or misinterpretation.\n",
      "  warnings.warn(\n",
      "C:\\Users\\Hp\\anaconda3\\envs\\digit\\lib\\site-packages\\seaborn\\distributions.py:2557: FutureWarning: `distplot` is a deprecated function and will be removed in a future version. Please adapt your code to use either `displot` (a figure-level function with similar flexibility) or `histplot` (an axes-level function for histograms).\n",
      "  warnings.warn(msg, FutureWarning)\n"
     ]
    },
    {
     "data": {
      "image/png": "[encoded data removed]",
      "text/plain": [
       "<Figure size 1440x216 with 2 Axes>"
      ]
     },
     "metadata": {
      "needs_background": "light"
     },
     "output_type": "display_data"
    }
   ],
   "source": [
    "#Box Plot and Distribution Plot for Dependent variable PROFIT\n",
    "plt.figure(figsize=(20,3))\n",
    "\n",
    "plt.subplot(1,2,1)\n",
    "sns.boxplot(dataset.Profit,color='#005030')\n",
    "plt.title('Box Plot of Profit')\n",
    "\n",
    "plt.subplot(1,2,2)\n",
    "sns.distplot(a=dataset.Profit,color='#500050')\n",
    "plt.title('Distribution Plot of Profit')\n",
    "plt.show()"
   ]
  },
  {
   "cell_type": "code",
   "execution_count": 23,
   "id": "17975cec",
   "metadata": {},
   "outputs": [
    {
     "data": {
      "text/html": [
       "<div>\n",
       "<style scoped>\n",
       "    .dataframe tbody tr th:only-of-type {\n",
       "        vertical-align: middle;\n",
       "    }\n",
       "\n",
       "    .dataframe tbody tr th {\n",
       "        vertical-align: top;\n",
       "    }\n",
       "\n",
       "    .dataframe thead th {\n",
       "        text-align: right;\n",
       "    }\n",
       "</style>\n",
       "<table border=\"1\" class=\"dataframe\">\n",
       "  <thead>\n",
       "    <tr style=\"text-align: right;\">\n",
       "      <th></th>\n",
       "      <th>R&amp;D Spend</th>\n",
       "      <th>Administration</th>\n",
       "      <th>Marketing Spend</th>\n",
       "      <th>Profit</th>\n",
       "    </tr>\n",
       "  </thead>\n",
       "  <tbody>\n",
       "    <tr>\n",
       "      <th>49</th>\n",
       "      <td>0.0</td>\n",
       "      <td>116983.8</td>\n",
       "      <td>45173.06</td>\n",
       "      <td>14681.4</td>\n",
       "    </tr>\n",
       "  </tbody>\n",
       "</table>\n",
       "</div>"
      ],
      "text/plain": [
       "    R&D Spend  Administration  Marketing Spend   Profit\n",
       "49        0.0        116983.8         45173.06  14681.4"
      ]
     },
     "execution_count": 23,
     "metadata": {},
     "output_type": "execute_result"
    }
   ],
   "source": [
    "dataset[dataset['Profit']<25000]"
   ]
  },
  {
   "cell_type": "markdown",
   "id": "fd5f56b5",
   "metadata": {},
   "source": [
    "* This is the outlier, since we see the R&D is higly correlated to the Proft\n",
    "* Here R&D spend is zero so its obious the profit is very low for this startup"
   ]
  },
  {
   "cell_type": "code",
   "execution_count": 24,
   "id": "72effe5c",
   "metadata": {},
   "outputs": [
    {
     "data": {
      "text/html": [
       "<div>\n",
       "<style scoped>\n",
       "    .dataframe tbody tr th:only-of-type {\n",
       "        vertical-align: middle;\n",
       "    }\n",
       "\n",
       "    .dataframe tbody tr th {\n",
       "        vertical-align: top;\n",
       "    }\n",
       "\n",
       "    .dataframe thead th {\n",
       "        text-align: right;\n",
       "    }\n",
       "</style>\n",
       "<table border=\"1\" class=\"dataframe\">\n",
       "  <thead>\n",
       "    <tr style=\"text-align: right;\">\n",
       "      <th></th>\n",
       "      <th>R&amp;D Spend</th>\n",
       "      <th>Administration</th>\n",
       "      <th>Marketing Spend</th>\n",
       "      <th>Profit</th>\n",
       "    </tr>\n",
       "  </thead>\n",
       "  <tbody>\n",
       "    <tr>\n",
       "      <th>45</th>\n",
       "      <td>1000.23</td>\n",
       "      <td>124153.04</td>\n",
       "      <td>1903.93</td>\n",
       "      <td>64926.08</td>\n",
       "    </tr>\n",
       "    <tr>\n",
       "      <th>46</th>\n",
       "      <td>1315.46</td>\n",
       "      <td>115816.21</td>\n",
       "      <td>297114.46</td>\n",
       "      <td>49490.75</td>\n",
       "    </tr>\n",
       "    <tr>\n",
       "      <th>47</th>\n",
       "      <td>0.00</td>\n",
       "      <td>135426.92</td>\n",
       "      <td>0.00</td>\n",
       "      <td>42559.73</td>\n",
       "    </tr>\n",
       "    <tr>\n",
       "      <th>48</th>\n",
       "      <td>542.05</td>\n",
       "      <td>51743.15</td>\n",
       "      <td>0.00</td>\n",
       "      <td>35673.41</td>\n",
       "    </tr>\n",
       "    <tr>\n",
       "      <th>49</th>\n",
       "      <td>0.00</td>\n",
       "      <td>116983.80</td>\n",
       "      <td>45173.06</td>\n",
       "      <td>14681.40</td>\n",
       "    </tr>\n",
       "  </tbody>\n",
       "</table>\n",
       "</div>"
      ],
      "text/plain": [
       "    R&D Spend  Administration  Marketing Spend    Profit\n",
       "45    1000.23       124153.04          1903.93  64926.08\n",
       "46    1315.46       115816.21        297114.46  49490.75\n",
       "47       0.00       135426.92             0.00  42559.73\n",
       "48     542.05        51743.15             0.00  35673.41\n",
       "49       0.00       116983.80         45173.06  14681.40"
      ]
     },
     "execution_count": 24,
     "metadata": {},
     "output_type": "execute_result"
    }
   ],
   "source": [
    "dataset[dataset['R&D Spend']<10000]"
   ]
  },
  {
   "cell_type": "markdown",
   "id": "662d2cd8",
   "metadata": {},
   "source": [
    "- After observing above few startup data, We can say that for Index 49 (which is Outlier) there is some error in Profit\n",
    "- typo error maybe. Sonce Profit for other startups with very R&D Spend is much higher than this\n",
    "- We will be removing the outlier from the dataset"
   ]
  },
  {
   "cell_type": "code",
   "execution_count": 25,
   "id": "46331efe",
   "metadata": {},
   "outputs": [
    {
     "data": {
      "text/plain": [
       "(49, 4)"
      ]
     },
     "execution_count": 25,
     "metadata": {},
     "output_type": "execute_result"
    }
   ],
   "source": [
    "dataset.drop(index=49,axis=0,inplace=True)\n",
    "dataset.shape"
   ]
  },
  {
   "cell_type": "code",
   "execution_count": 26,
   "id": "67aee87d",
   "metadata": {},
   "outputs": [
    {
     "data": {
      "image/png": "[encoded data removed]",
      "text/plain": [
       "<Figure size 1440x216 with 3 Axes>"
      ]
     },
     "metadata": {
      "needs_background": "light"
     },
     "output_type": "display_data"
    }
   ],
   "source": [
    "#Distribution Plot of independent variables an it seems  all variables are Normally distributed.\n",
    "plt.figure(figsize=(20,3))\n",
    "for i,col in zip(range(1,4),dataset.columns):\n",
    "    plt.subplot(1,4,i)\n",
    "    sns.scatterplot(x=col,y='Profit',data=dataset,color='blue')\n",
    "    plt.title(f\"{col} vs Profit\")\n",
    "    plt.tight_layout()"
   ]
  },
  {
   "cell_type": "code",
   "execution_count": 27,
   "id": "3b7f967f",
   "metadata": {},
   "outputs": [
    {
     "data": {
      "text/plain": [
       "<AxesSubplot:title={'center':'Correlation Matrix'}>"
      ]
     },
     "execution_count": 27,
     "metadata": {},
     "output_type": "execute_result"
    },
    {
     "data": {
      "image/png": "[encoded data removed]",
      "text/plain": [
       "<Figure size 432x288 with 2 Axes>"
      ]
     },
     "metadata": {
      "needs_background": "light"
     },
     "output_type": "display_data"
    }
   ],
   "source": [
    "#we can see that R&D is highly linearly correalted with Profit\n",
    "#let us look at correlation matrix\n",
    "plt.title(\"Correlation Matrix\")\n",
    "sns.heatmap(data=dataset.corr(),annot=True,cmap='coolwarm',linewidths=0.1)"
   ]
  },
  {
   "cell_type": "markdown",
   "id": "0f9c16df",
   "metadata": {},
   "source": [
    "* We can see that R&D Spend and Marketing Spend are 0.98 and 0.75 correlated with Profit which is very high.\n",
    "* And Adminstration Spend is very less correlated, so we can drop that feature for buliding model.\n",
    "* Also, we can see that R&D and Marketing are correlated with 0.72 which is high => Multicollinearity in independent variables."
   ]
  },
  {
   "cell_type": "markdown",
   "id": "1d636532",
   "metadata": {},
   "source": [
    "We cannot have Multicollinearity in the dataset"
   ]
  },
  {
   "cell_type": "code",
   "execution_count": 28,
   "id": "715beeb1",
   "metadata": {},
   "outputs": [
    {
     "data": {
      "text/plain": [
       "Text(0.5, 1.0, 'R&D Spend vs Marketing Spend')"
      ]
     },
     "execution_count": 28,
     "metadata": {},
     "output_type": "execute_result"
    },
    {
     "data": {
      "image/png": "[encoded data removed]",
      "text/plain": [
       "<Figure size 432x288 with 1 Axes>"
      ]
     },
     "metadata": {
      "needs_background": "light"
     },
     "output_type": "display_data"
    }
   ],
   "source": [
    "#This shows linear relationship between R&D Spend and Marketing Spend\n",
    "sns.scatterplot(x='R&D Spend',y='Marketing Spend',data=dataset)\n",
    "plt.title(\"R&D Spend vs Marketing Spend\")"
   ]
  },
  {
   "cell_type": "markdown",
   "id": "bb10d39c",
   "metadata": {},
   "source": [
    "# Lasso and Ridge regression:"
   ]
  },
  {
   "cell_type": "markdown",
   "id": "2c4181fb",
   "metadata": {},
   "source": [
    "Now we need to select the X variables and the Y variable (Independent and Dependent)"
   ]
  },
  {
   "cell_type": "code",
   "execution_count": 6,
   "id": "d7950129",
   "metadata": {},
   "outputs": [
    {
     "data": {
      "text/plain": [
       "array([[165349.2 , 136897.8 , 471784.1 ],\n",
       "       [162597.7 , 151377.59, 443898.53],\n",
       "       [153441.51, 101145.55, 407934.54],\n",
       "       [144372.41, 118671.85, 383199.62],\n",
       "       [142107.34,  91391.77, 366168.42],\n",
       "       [131876.9 ,  99814.71, 362861.36],\n",
       "       [134615.46, 147198.87, 127716.82],\n",
       "       [130298.13, 145530.06, 323876.68],\n",
       "       [120542.52, 148718.95, 311613.29],\n",
       "       [123334.88, 108679.17, 304981.62]])"
      ]
     },
     "execution_count": 6,
     "metadata": {},
     "output_type": "execute_result"
    }
   ],
   "source": [
    "#set independent variable by using all rows, but just column 1.\n",
    "X = dataset.iloc[:, :-1].values\n",
    "\n",
    "#set the dependent variable using all rows but only the last column. \n",
    "y = dataset.iloc[:, -1].values\n",
    "\n",
    "#lets take a look at X right now.\n",
    "X[0:10]"
   ]
  },
  {
   "cell_type": "markdown",
   "id": "dd9e8428",
   "metadata": {},
   "source": [
    "- Next we need to scale down our X variables in order for our \"alphas\" to have an impact later when we introduce LASSO and RIDGE.\n",
    "\n",
    "\n",
    "- We have two options, standardize and normalize. Since we don't know the distrobution of our data, we will use normalize."
   ]
  },
  {
   "cell_type": "code",
   "execution_count": 7,
   "id": "cfef4a89",
   "metadata": {},
   "outputs": [
    {
     "data": {
      "text/plain": [
       "array([[0.31900633, 0.26411537, 0.91020769],\n",
       "       [0.32756301, 0.30495941, 0.89426072],\n",
       "       [0.34294681, 0.22606362, 0.91174707],\n",
       "       [0.33862972, 0.2783483 , 0.89880595],\n",
       "       [0.35238805, 0.22662705, 0.90799936],\n",
       "       [0.33070362, 0.25030226, 0.9099362 ],\n",
       "       [0.56834481, 0.62147181, 0.53921884],\n",
       "       [0.34450073, 0.38477307, 0.85631123],\n",
       "       [0.32960386, 0.40664771, 0.85205571],\n",
       "       [0.35598308, 0.31368211, 0.88027245]])"
      ]
     },
     "execution_count": 7,
     "metadata": {},
     "output_type": "execute_result"
    }
   ],
   "source": [
    "X = normalize(X, 'l2')\n",
    "\n",
    "X[0:10]"
   ]
  },
  {
   "cell_type": "markdown",
   "id": "d8497fac",
   "metadata": {},
   "source": [
    "In order to understand the effectiveness of Lasso and Ridge regression we will need a test set, so lets split our data into training and test sets."
   ]
  },
  {
   "cell_type": "code",
   "execution_count": 8,
   "id": "e118735f",
   "metadata": {},
   "outputs": [],
   "source": [
    "#split the dataset.  Take 20% to be our test set. \n",
    "\n",
    "X_train, X_test, y_train, y_test = train_test_split(X, y, test_size = 0.2, random_state = 0)"
   ]
  },
  {
   "cell_type": "markdown",
   "id": "23d7e2ee",
   "metadata": {},
   "source": [
    "With the dataset split, we can now load and fit the models.\n",
    "\n",
    "I will start with basic Linear Regression first."
   ]
  },
  {
   "cell_type": "code",
   "execution_count": 9,
   "id": "993ff9c3",
   "metadata": {},
   "outputs": [
    {
     "data": {
      "text/plain": [
       "LinearRegression()"
      ]
     },
     "execution_count": 9,
     "metadata": {},
     "output_type": "execute_result"
    }
   ],
   "source": [
    "#this sets the object regressor to the class of LinearRegression from the Sklearn library.\n",
    "regressor = LinearRegression()\n",
    "\n",
    "#this fits the model to our training data.\n",
    "regressor.fit(X_train, y_train)"
   ]
  },
  {
   "cell_type": "markdown",
   "id": "8a7c9acb",
   "metadata": {},
   "source": [
    "Now we can use the model to predict fit on the test set."
   ]
  },
  {
   "cell_type": "code",
   "execution_count": 10,
   "id": "86087506",
   "metadata": {},
   "outputs": [],
   "source": [
    "#Predict on our test set.\n",
    "y_pred = regressor.predict(X_test)"
   ]
  },
  {
   "cell_type": "markdown",
   "id": "8b7f4cf5",
   "metadata": {},
   "source": [
    "Finally, we can evaluate the quality of the fit."
   ]
  },
  {
   "cell_type": "code",
   "execution_count": 11,
   "id": "8adfcc09",
   "metadata": {},
   "outputs": [
    {
     "name": "stdout",
     "output_type": "stream",
     "text": [
      "R^2 score: 0.8392%\n",
      "MSE 205670606.12\n"
     ]
    }
   ],
   "source": [
    "#calculate the R^2 score\n",
    "score = r2_score(y_test, y_pred)\n",
    "mse = mean_squared_error(y_test, y_pred)\n",
    "\n",
    "#print out our score properly formatted as a percent.\n",
    "print(\"R^2 score:\", \"{:.4f}%\".format(score))\n",
    "print(\"MSE\", round(mse,2))"
   ]
  },
  {
   "cell_type": "markdown",
   "id": "d43f627e",
   "metadata": {},
   "source": [
    "- We get an R^2 score of 83%, which is pretty good, but the mean squared error looks super high.\n",
    "\n",
    "\n",
    "- I would normally visualize this, but because we have 4 dimensions in the data that won't be possible.\n",
    "\n",
    "\n",
    "- So let's move on and look at Lasso Regression and see if we can bring down the error."
   ]
  },
  {
   "cell_type": "code",
   "execution_count": 12,
   "id": "e0f72571",
   "metadata": {},
   "outputs": [
    {
     "name": "stdout",
     "output_type": "stream",
     "text": [
      "ALPHA: -5.000 R2 SCORE: 0.8397% new_score, 205061686.8\n",
      "ALPHA: -1.000 R2 SCORE: 0.8393% new_score, 205546470.6\n",
      "ALPHA: 0.000 R2 SCORE: 0.8392% new_score, 205670618.5\n",
      "ALPHA: 0.001 R2 SCORE: 0.8392% new_score, 205670730.0\n",
      "ALPHA: 0.010 R2 SCORE: 0.8392% new_score, 205671845.2\n",
      "ALPHA: 1.000 R2 SCORE: 0.8391% new_score, 205795142.4\n",
      "ALPHA: 5.000 R2 SCORE: 0.8387% new_score, 206305683.4\n"
     ]
    },
    {
     "name": "stderr",
     "output_type": "stream",
     "text": [
      "C:\\Users\\Hp\\anaconda3\\envs\\digit\\lib\\site-packages\\sklearn\\linear_model\\_coordinate_descent.py:530: ConvergenceWarning: Objective did not converge. You might want to increase the number of iterations. Duality gap: 26607979245.494476, tolerance: 6549883.634226939\n",
      "  model = cd_fast.enet_coordinate_descent(\n",
      "C:\\Users\\Hp\\anaconda3\\envs\\digit\\lib\\site-packages\\sklearn\\linear_model\\_coordinate_descent.py:530: ConvergenceWarning: Objective did not converge. You might want to increase the number of iterations. Duality gap: 26740591411.980232, tolerance: 6549883.634226939\n",
      "  model = cd_fast.enet_coordinate_descent(\n"
     ]
    }
   ],
   "source": [
    "alphas = [-5, -1, 1e-4, 1e-3, 1e-2, 1, 5]\n",
    "\n",
    "def test_alpha(a):\n",
    "    model_lasso = Lasso(alpha=a)\n",
    "    model_lasso.fit(X_train, y_train) \n",
    "    pred_test_lasso = model_lasso.predict(X_test)\n",
    "    new_score = r2_score(y_test, pred_test_lasso)\n",
    "    new_mse = mean_squared_error(y_test, pred_test_lasso)\n",
    "    print('ALPHA: {:.3f} R2 SCORE: {:.4f}% new_score, {:.1f}'.format(a, new_score, new_mse))\n",
    "    \n",
    "    \n",
    "for alpha in alphas:\n",
    "    test_alpha(alpha)"
   ]
  },
  {
   "cell_type": "markdown",
   "id": "5a53c92a",
   "metadata": {},
   "source": [
    "- Here we see that Lasso only slightly improved the accuracy of the model in the base case scenario. Specifically where the Alpha was a large negative value. This means that the true distrubtion actually has a higher slope than our inital model predicted.\n",
    "\n",
    "- Now lets move on to ridge."
   ]
  },
  {
   "cell_type": "code",
   "execution_count": 13,
   "id": "ee0687a9",
   "metadata": {},
   "outputs": [
    {
     "name": "stdout",
     "output_type": "stream",
     "text": [
      "ALPHA: -5.000 R2 SCORE: -15.2992% new_score, 20844955457.2\n",
      "ALPHA: -1.000 R2 SCORE: -3.0518% new_score, 5181830329.8\n",
      "ALPHA: 0.000 R2 SCORE: 0.8391% new_score, 205719113.4\n",
      "ALPHA: 0.001 R2 SCORE: 0.8388% new_score, 206160876.0\n",
      "ALPHA: 0.010 R2 SCORE: 0.8350% new_score, 211030627.8\n",
      "ALPHA: 1.000 R2 SCORE: 0.4925% new_score, 649026376.4\n",
      "ALPHA: 5.000 R2 SCORE: 0.2125% new_score, 1007154398.1\n"
     ]
    }
   ],
   "source": [
    "alphas = [-5, -1, 1e-4, 1e-3, 1e-2, 1, 5]\n",
    "\n",
    "def test_alpha_ridge(a):\n",
    "    model_lasso = Ridge(alpha=a)\n",
    "    model_lasso.fit(X_train, y_train) \n",
    "    pred_test_lasso = model_lasso.predict(X_test)\n",
    "    new_score = r2_score(y_test, pred_test_lasso)\n",
    "    new_mse = mean_squared_error(y_test, pred_test_lasso)\n",
    "    print('ALPHA: {:.3f} R2 SCORE: {:.4f}% new_score, {:.1f}'.format(a, new_score, new_mse))\n",
    "    \n",
    "    \n",
    "for alpha in alphas:\n",
    "    test_alpha_ridge(alpha)"
   ]
  },
  {
   "cell_type": "markdown",
   "id": "2f97ab9c",
   "metadata": {},
   "source": [
    "Here we see that Ridge is much more sensitive to the scale of Alpha, so lets fine tune it using only positive values."
   ]
  },
  {
   "cell_type": "code",
   "execution_count": 14,
   "id": "22c412c4",
   "metadata": {},
   "outputs": [
    {
     "name": "stdout",
     "output_type": "stream",
     "text": [
      "ALPHA: 0.000 R2 SCORE: 0.8392% new_score, 205670606.1\n",
      "ALPHA: 0.000 R2 SCORE: 0.8392% new_score, 205670606.2\n",
      "ALPHA: 0.000 R2 SCORE: 0.8392% new_score, 205670611.0\n",
      "ALPHA: 0.000 R2 SCORE: 0.8391% new_score, 205719113.4\n",
      "ALPHA: 0.001 R2 SCORE: 0.8388% new_score, 206160876.0\n",
      "ALPHA: 0.010 R2 SCORE: 0.8350% new_score, 211030627.8\n",
      "ALPHA: 1.000 R2 SCORE: 0.4925% new_score, 649026376.4\n"
     ]
    }
   ],
   "source": [
    "new_alphas = [1e-15,1e-10,1e-8,1e-4, 1e-3, 1e-2, 1]\n",
    "\n",
    "for alpha in new_alphas:\n",
    "    test_alpha_ridge(alpha)"
   ]
  },
  {
   "cell_type": "markdown",
   "id": "91f930e5",
   "metadata": {},
   "source": [
    "- Here we see that Lasso and Ridge Regression in this case DO NOT significantly improve the overall fit of the model.\n",
    "\n",
    "\n",
    "- This is to be expected in some situations, but it is always great to check and verify when trying to fine tune our regression model."
   ]
  }
 ],
 "metadata": {
  "kernelspec": {
   "display_name": "Python 3",
   "language": "python",
   "name": "python3"
  },
  "language_info": {
   "codemirror_mode": {
    "name": "ipython",
    "version": 3
   },
   "file_extension": ".py",
   "mimetype": "text/x-python",
   "name": "python",
   "nbconvert_exporter": "python",
   "pygments_lexer": "ipython3",
   "version": "3.8.8"
  }
 },
 "nbformat": 4,
 "nbformat_minor": 5
}
