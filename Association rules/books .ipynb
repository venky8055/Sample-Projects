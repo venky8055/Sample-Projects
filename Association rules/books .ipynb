{
 "cells": [
  {
   "cell_type": "markdown",
   "metadata": {},
   "source": [
    "# Kurapati Venkatesh\n",
    "# 09012021\n",
    "# Topic: Association Rules"
   ]
  },
  {
   "cell_type": "markdown",
   "metadata": {},
   "source": [
    "# ---------------------------------------------------------------------------"
   ]
  },
  {
   "cell_type": "markdown",
   "metadata": {},
   "source": [
    "## Kitabi Duniya , a famous book store in India, which was established before Independence, the growth of the company was incremental year by year, but due to online selling of books and wide spread Internet access its annual growth started to collapse, seeing sharp downfalls, you as a Data Scientist help this heritage book store gain its popularity back and increase footfall of customers and provide ways the business can improve exponentially, apply Association Rule Algorithm, explain the rules, and visualize the graphs for clear understanding of solution."
   ]
  },
  {
   "cell_type": "markdown",
   "metadata": {},
   "source": [
    "## -----------------------------------------------------------------------------------"
   ]
  },
  {
   "cell_type": "markdown",
   "metadata": {},
   "source": [
    "### Business objective: To help this heritage book store gain its popularity back and increase footfall of customers and provide ways the business can improve exponentially, apply Association Rule Algorithm, explain the rules, and visualize the graphs for clear understanding of solution."
   ]
  },
  {
   "cell_type": "markdown",
   "metadata": {},
   "source": [
    "## -------------------------------------------------------------------------------------------"
   ]
  },
  {
   "attachments": {
    "image.png": {
     "image/png": "[encoded data removed]"
    }
   },
   "cell_type": "markdown",
   "metadata": {},
   "source": [
    "![image.png](attachment:image.png)"
   ]
  },
  {
   "cell_type": "markdown",
   "metadata": {},
   "source": [
    "Import libraries:"
   ]
  },
  {
   "cell_type": "code",
   "execution_count": 2,
   "metadata": {},
   "outputs": [],
   "source": [
    "import pandas as pd\n",
    "import numpy as np\n",
    "from mlxtend.frequent_patterns import apriori, association_rules\n",
    "import matplotlib.pyplot as plt"
   ]
  },
  {
   "cell_type": "markdown",
   "metadata": {},
   "source": [
    "Load Dataset:"
   ]
  },
  {
   "cell_type": "code",
   "execution_count": 3,
   "metadata": {},
   "outputs": [],
   "source": [
    "df = pd.read_csv(\"G:\\\\360digit\\\\assignments meterial\\\\association rules\\\\book.csv\", sep=',') "
   ]
  },
  {
   "cell_type": "markdown",
   "metadata": {},
   "source": [
    "Print top 5 rows: "
   ]
  },
  {
   "cell_type": "code",
   "execution_count": 4,
   "metadata": {},
   "outputs": [
    {
     "data": {
      "text/html": [
       "<div>\n",
       "<style scoped>\n",
       "    .dataframe tbody tr th:only-of-type {\n",
       "        vertical-align: middle;\n",
       "    }\n",
       "\n",
       "    .dataframe tbody tr th {\n",
       "        vertical-align: top;\n",
       "    }\n",
       "\n",
       "    .dataframe thead th {\n",
       "        text-align: right;\n",
       "    }\n",
       "</style>\n",
       "<table border=\"1\" class=\"dataframe\">\n",
       "  <thead>\n",
       "    <tr style=\"text-align: right;\">\n",
       "      <th></th>\n",
       "      <th>ChildBks</th>\n",
       "      <th>YouthBks</th>\n",
       "      <th>CookBks</th>\n",
       "      <th>DoItYBks</th>\n",
       "      <th>RefBks</th>\n",
       "      <th>ArtBks</th>\n",
       "      <th>GeogBks</th>\n",
       "      <th>ItalCook</th>\n",
       "      <th>ItalAtlas</th>\n",
       "      <th>ItalArt</th>\n",
       "      <th>Florence</th>\n",
       "    </tr>\n",
       "  </thead>\n",
       "  <tbody>\n",
       "    <tr>\n",
       "      <th>0</th>\n",
       "      <td>0</td>\n",
       "      <td>1</td>\n",
       "      <td>0</td>\n",
       "      <td>1</td>\n",
       "      <td>0</td>\n",
       "      <td>0</td>\n",
       "      <td>1</td>\n",
       "      <td>0</td>\n",
       "      <td>0</td>\n",
       "      <td>0</td>\n",
       "      <td>0</td>\n",
       "    </tr>\n",
       "    <tr>\n",
       "      <th>1</th>\n",
       "      <td>1</td>\n",
       "      <td>0</td>\n",
       "      <td>0</td>\n",
       "      <td>0</td>\n",
       "      <td>0</td>\n",
       "      <td>0</td>\n",
       "      <td>0</td>\n",
       "      <td>0</td>\n",
       "      <td>0</td>\n",
       "      <td>0</td>\n",
       "      <td>0</td>\n",
       "    </tr>\n",
       "    <tr>\n",
       "      <th>2</th>\n",
       "      <td>0</td>\n",
       "      <td>0</td>\n",
       "      <td>0</td>\n",
       "      <td>0</td>\n",
       "      <td>0</td>\n",
       "      <td>0</td>\n",
       "      <td>0</td>\n",
       "      <td>0</td>\n",
       "      <td>0</td>\n",
       "      <td>0</td>\n",
       "      <td>0</td>\n",
       "    </tr>\n",
       "    <tr>\n",
       "      <th>3</th>\n",
       "      <td>1</td>\n",
       "      <td>1</td>\n",
       "      <td>1</td>\n",
       "      <td>0</td>\n",
       "      <td>1</td>\n",
       "      <td>0</td>\n",
       "      <td>1</td>\n",
       "      <td>0</td>\n",
       "      <td>0</td>\n",
       "      <td>0</td>\n",
       "      <td>0</td>\n",
       "    </tr>\n",
       "    <tr>\n",
       "      <th>4</th>\n",
       "      <td>0</td>\n",
       "      <td>0</td>\n",
       "      <td>1</td>\n",
       "      <td>0</td>\n",
       "      <td>0</td>\n",
       "      <td>0</td>\n",
       "      <td>1</td>\n",
       "      <td>0</td>\n",
       "      <td>0</td>\n",
       "      <td>0</td>\n",
       "      <td>0</td>\n",
       "    </tr>\n",
       "  </tbody>\n",
       "</table>\n",
       "</div>"
      ],
      "text/plain": [
       "   ChildBks  YouthBks  CookBks  DoItYBks  RefBks  ArtBks  GeogBks  ItalCook  \\\n",
       "0         0         1        0         1       0       0        1         0   \n",
       "1         1         0        0         0       0       0        0         0   \n",
       "2         0         0        0         0       0       0        0         0   \n",
       "3         1         1        1         0       1       0        1         0   \n",
       "4         0         0        1         0       0       0        1         0   \n",
       "\n",
       "   ItalAtlas  ItalArt  Florence  \n",
       "0          0        0         0  \n",
       "1          0        0         0  \n",
       "2          0        0         0  \n",
       "3          0        0         0  \n",
       "4          0        0         0  "
      ]
     },
     "execution_count": 4,
     "metadata": {},
     "output_type": "execute_result"
    }
   ],
   "source": [
    "df.head(5)"
   ]
  },
  {
   "cell_type": "markdown",
   "metadata": {},
   "source": [
    "Each row of the dataset represents items that were purchased together on the same day at the same store."
   ]
  },
  {
   "cell_type": "markdown",
   "metadata": {},
   "source": [
    "There are only 11 books in total that make up the entire dataset."
   ]
  },
  {
   "cell_type": "code",
   "execution_count": 109,
   "metadata": {},
   "outputs": [
    {
     "data": {
      "text/html": [
       "<div>\n",
       "<style scoped>\n",
       "    .dataframe tbody tr th:only-of-type {\n",
       "        vertical-align: middle;\n",
       "    }\n",
       "\n",
       "    .dataframe tbody tr th {\n",
       "        vertical-align: top;\n",
       "    }\n",
       "\n",
       "    .dataframe thead th {\n",
       "        text-align: right;\n",
       "    }\n",
       "</style>\n",
       "<table border=\"1\" class=\"dataframe\">\n",
       "  <thead>\n",
       "    <tr style=\"text-align: right;\">\n",
       "      <th></th>\n",
       "      <th>ChildBks</th>\n",
       "      <th>YouthBks</th>\n",
       "      <th>CookBks</th>\n",
       "      <th>DoItYBks</th>\n",
       "      <th>RefBks</th>\n",
       "      <th>ArtBks</th>\n",
       "      <th>GeogBks</th>\n",
       "      <th>ItalCook</th>\n",
       "      <th>ItalAtlas</th>\n",
       "      <th>ItalArt</th>\n",
       "      <th>Florence</th>\n",
       "    </tr>\n",
       "  </thead>\n",
       "  <tbody>\n",
       "    <tr>\n",
       "      <th>count</th>\n",
       "      <td>2000.000000</td>\n",
       "      <td>2000.000000</td>\n",
       "      <td>2000.00000</td>\n",
       "      <td>2000.000000</td>\n",
       "      <td>2000.000000</td>\n",
       "      <td>2000.000000</td>\n",
       "      <td>2000.000000</td>\n",
       "      <td>2000.000000</td>\n",
       "      <td>2000.000000</td>\n",
       "      <td>2000.000000</td>\n",
       "      <td>2000.000000</td>\n",
       "    </tr>\n",
       "    <tr>\n",
       "      <th>mean</th>\n",
       "      <td>0.423000</td>\n",
       "      <td>0.247500</td>\n",
       "      <td>0.43100</td>\n",
       "      <td>0.282000</td>\n",
       "      <td>0.214500</td>\n",
       "      <td>0.241000</td>\n",
       "      <td>0.276000</td>\n",
       "      <td>0.113500</td>\n",
       "      <td>0.037000</td>\n",
       "      <td>0.048500</td>\n",
       "      <td>0.108500</td>\n",
       "    </tr>\n",
       "    <tr>\n",
       "      <th>std</th>\n",
       "      <td>0.494159</td>\n",
       "      <td>0.431668</td>\n",
       "      <td>0.49534</td>\n",
       "      <td>0.450086</td>\n",
       "      <td>0.410578</td>\n",
       "      <td>0.427797</td>\n",
       "      <td>0.447129</td>\n",
       "      <td>0.317282</td>\n",
       "      <td>0.188809</td>\n",
       "      <td>0.214874</td>\n",
       "      <td>0.311089</td>\n",
       "    </tr>\n",
       "    <tr>\n",
       "      <th>min</th>\n",
       "      <td>0.000000</td>\n",
       "      <td>0.000000</td>\n",
       "      <td>0.00000</td>\n",
       "      <td>0.000000</td>\n",
       "      <td>0.000000</td>\n",
       "      <td>0.000000</td>\n",
       "      <td>0.000000</td>\n",
       "      <td>0.000000</td>\n",
       "      <td>0.000000</td>\n",
       "      <td>0.000000</td>\n",
       "      <td>0.000000</td>\n",
       "    </tr>\n",
       "    <tr>\n",
       "      <th>25%</th>\n",
       "      <td>0.000000</td>\n",
       "      <td>0.000000</td>\n",
       "      <td>0.00000</td>\n",
       "      <td>0.000000</td>\n",
       "      <td>0.000000</td>\n",
       "      <td>0.000000</td>\n",
       "      <td>0.000000</td>\n",
       "      <td>0.000000</td>\n",
       "      <td>0.000000</td>\n",
       "      <td>0.000000</td>\n",
       "      <td>0.000000</td>\n",
       "    </tr>\n",
       "    <tr>\n",
       "      <th>50%</th>\n",
       "      <td>0.000000</td>\n",
       "      <td>0.000000</td>\n",
       "      <td>0.00000</td>\n",
       "      <td>0.000000</td>\n",
       "      <td>0.000000</td>\n",
       "      <td>0.000000</td>\n",
       "      <td>0.000000</td>\n",
       "      <td>0.000000</td>\n",
       "      <td>0.000000</td>\n",
       "      <td>0.000000</td>\n",
       "      <td>0.000000</td>\n",
       "    </tr>\n",
       "    <tr>\n",
       "      <th>75%</th>\n",
       "      <td>1.000000</td>\n",
       "      <td>0.000000</td>\n",
       "      <td>1.00000</td>\n",
       "      <td>1.000000</td>\n",
       "      <td>0.000000</td>\n",
       "      <td>0.000000</td>\n",
       "      <td>1.000000</td>\n",
       "      <td>0.000000</td>\n",
       "      <td>0.000000</td>\n",
       "      <td>0.000000</td>\n",
       "      <td>0.000000</td>\n",
       "    </tr>\n",
       "    <tr>\n",
       "      <th>max</th>\n",
       "      <td>1.000000</td>\n",
       "      <td>1.000000</td>\n",
       "      <td>1.00000</td>\n",
       "      <td>1.000000</td>\n",
       "      <td>1.000000</td>\n",
       "      <td>1.000000</td>\n",
       "      <td>1.000000</td>\n",
       "      <td>1.000000</td>\n",
       "      <td>1.000000</td>\n",
       "      <td>1.000000</td>\n",
       "      <td>1.000000</td>\n",
       "    </tr>\n",
       "  </tbody>\n",
       "</table>\n",
       "</div>"
      ],
      "text/plain": [
       "          ChildBks     YouthBks     CookBks     DoItYBks       RefBks  \\\n",
       "count  2000.000000  2000.000000  2000.00000  2000.000000  2000.000000   \n",
       "mean      0.423000     0.247500     0.43100     0.282000     0.214500   \n",
       "std       0.494159     0.431668     0.49534     0.450086     0.410578   \n",
       "min       0.000000     0.000000     0.00000     0.000000     0.000000   \n",
       "25%       0.000000     0.000000     0.00000     0.000000     0.000000   \n",
       "50%       0.000000     0.000000     0.00000     0.000000     0.000000   \n",
       "75%       1.000000     0.000000     1.00000     1.000000     0.000000   \n",
       "max       1.000000     1.000000     1.00000     1.000000     1.000000   \n",
       "\n",
       "            ArtBks      GeogBks     ItalCook    ItalAtlas      ItalArt  \\\n",
       "count  2000.000000  2000.000000  2000.000000  2000.000000  2000.000000   \n",
       "mean      0.241000     0.276000     0.113500     0.037000     0.048500   \n",
       "std       0.427797     0.447129     0.317282     0.188809     0.214874   \n",
       "min       0.000000     0.000000     0.000000     0.000000     0.000000   \n",
       "25%       0.000000     0.000000     0.000000     0.000000     0.000000   \n",
       "50%       0.000000     0.000000     0.000000     0.000000     0.000000   \n",
       "75%       0.000000     1.000000     0.000000     0.000000     0.000000   \n",
       "max       1.000000     1.000000     1.000000     1.000000     1.000000   \n",
       "\n",
       "          Florence  \n",
       "count  2000.000000  \n",
       "mean      0.108500  \n",
       "std       0.311089  \n",
       "min       0.000000  \n",
       "25%       0.000000  \n",
       "50%       0.000000  \n",
       "75%       0.000000  \n",
       "max       1.000000  "
      ]
     },
     "execution_count": 109,
     "metadata": {},
     "output_type": "execute_result"
    }
   ],
   "source": [
    "df.describe()"
   ]
  },
  {
   "cell_type": "code",
   "execution_count": 110,
   "metadata": {},
   "outputs": [
    {
     "name": "stdout",
     "output_type": "stream",
     "text": [
      "<class 'pandas.core.frame.DataFrame'>\n",
      "RangeIndex: 2000 entries, 0 to 1999\n",
      "Data columns (total 11 columns):\n",
      " #   Column     Non-Null Count  Dtype\n",
      "---  ------     --------------  -----\n",
      " 0   ChildBks   2000 non-null   int64\n",
      " 1   YouthBks   2000 non-null   int64\n",
      " 2   CookBks    2000 non-null   int64\n",
      " 3   DoItYBks   2000 non-null   int64\n",
      " 4   RefBks     2000 non-null   int64\n",
      " 5   ArtBks     2000 non-null   int64\n",
      " 6   GeogBks    2000 non-null   int64\n",
      " 7   ItalCook   2000 non-null   int64\n",
      " 8   ItalAtlas  2000 non-null   int64\n",
      " 9   ItalArt    2000 non-null   int64\n",
      " 10  Florence   2000 non-null   int64\n",
      "dtypes: int64(11)\n",
      "memory usage: 172.0 KB\n"
     ]
    }
   ],
   "source": [
    "df.info()"
   ]
  },
  {
   "cell_type": "markdown",
   "metadata": {},
   "source": [
    "### Applying Apriori:"
   ]
  },
  {
   "cell_type": "code",
   "execution_count": 29,
   "metadata": {},
   "outputs": [
    {
     "name": "stdout",
     "output_type": "stream",
     "text": [
      "\r",
      "Processing 72 combinations | Sampling itemset size 2\r",
      "Processing 168 combinations | Sampling itemset size 3\r",
      "Processing 272 combinations | Sampling itemset size 4\r",
      "Processing 175 combinations | Sampling itemset size 5\n"
     ]
    },
    {
     "data": {
      "text/html": [
       "<div>\n",
       "<style scoped>\n",
       "    .dataframe tbody tr th:only-of-type {\n",
       "        vertical-align: middle;\n",
       "    }\n",
       "\n",
       "    .dataframe tbody tr th {\n",
       "        vertical-align: top;\n",
       "    }\n",
       "\n",
       "    .dataframe thead th {\n",
       "        text-align: right;\n",
       "    }\n",
       "</style>\n",
       "<table border=\"1\" class=\"dataframe\">\n",
       "  <thead>\n",
       "    <tr style=\"text-align: right;\">\n",
       "      <th></th>\n",
       "      <th>support</th>\n",
       "      <th>itemsets</th>\n",
       "    </tr>\n",
       "  </thead>\n",
       "  <tbody>\n",
       "    <tr>\n",
       "      <th>0</th>\n",
       "      <td>0.4230</td>\n",
       "      <td>(ChildBks)</td>\n",
       "    </tr>\n",
       "    <tr>\n",
       "      <th>1</th>\n",
       "      <td>0.2475</td>\n",
       "      <td>(YouthBks)</td>\n",
       "    </tr>\n",
       "    <tr>\n",
       "      <th>2</th>\n",
       "      <td>0.4310</td>\n",
       "      <td>(CookBks)</td>\n",
       "    </tr>\n",
       "    <tr>\n",
       "      <th>3</th>\n",
       "      <td>0.2820</td>\n",
       "      <td>(DoItYBks)</td>\n",
       "    </tr>\n",
       "    <tr>\n",
       "      <th>4</th>\n",
       "      <td>0.2145</td>\n",
       "      <td>(RefBks)</td>\n",
       "    </tr>\n",
       "    <tr>\n",
       "      <th>...</th>\n",
       "      <td>...</td>\n",
       "      <td>...</td>\n",
       "    </tr>\n",
       "    <tr>\n",
       "      <th>95</th>\n",
       "      <td>0.0600</td>\n",
       "      <td>(CookBks, DoItYBks, GeogBks, YouthBks)</td>\n",
       "    </tr>\n",
       "    <tr>\n",
       "      <th>96</th>\n",
       "      <td>0.0560</td>\n",
       "      <td>(CookBks, ArtBks, GeogBks, YouthBks)</td>\n",
       "    </tr>\n",
       "    <tr>\n",
       "      <th>97</th>\n",
       "      <td>0.0650</td>\n",
       "      <td>(CookBks, DoItYBks, GeogBks, ArtBks)</td>\n",
       "    </tr>\n",
       "    <tr>\n",
       "      <th>98</th>\n",
       "      <td>0.0510</td>\n",
       "      <td>(ChildBks, DoItYBks, YouthBks, CookBks, GeogBks)</td>\n",
       "    </tr>\n",
       "    <tr>\n",
       "      <th>99</th>\n",
       "      <td>0.0535</td>\n",
       "      <td>(ChildBks, DoItYBks, ArtBks, CookBks, GeogBks)</td>\n",
       "    </tr>\n",
       "  </tbody>\n",
       "</table>\n",
       "<p>100 rows × 2 columns</p>\n",
       "</div>"
      ],
      "text/plain": [
       "    support                                          itemsets\n",
       "0    0.4230                                        (ChildBks)\n",
       "1    0.2475                                        (YouthBks)\n",
       "2    0.4310                                         (CookBks)\n",
       "3    0.2820                                        (DoItYBks)\n",
       "4    0.2145                                          (RefBks)\n",
       "..      ...                                               ...\n",
       "95   0.0600            (CookBks, DoItYBks, GeogBks, YouthBks)\n",
       "96   0.0560              (CookBks, ArtBks, GeogBks, YouthBks)\n",
       "97   0.0650              (CookBks, DoItYBks, GeogBks, ArtBks)\n",
       "98   0.0510  (ChildBks, DoItYBks, YouthBks, CookBks, GeogBks)\n",
       "99   0.0535    (ChildBks, DoItYBks, ArtBks, CookBks, GeogBks)\n",
       "\n",
       "[100 rows x 2 columns]"
      ]
     },
     "execution_count": 29,
     "metadata": {},
     "output_type": "execute_result"
    }
   ],
   "source": [
    "freq_items = apriori(df, min_support=0.05, use_colnames=True, verbose=1)\n",
    "freq_items"
   ]
  },
  {
   "cell_type": "markdown",
   "metadata": {},
   "source": [
    "#### Mining Association Rules:"
   ]
  },
  {
   "cell_type": "markdown",
   "metadata": {},
   "source": [
    "#### Most Frequent item sets based on support:"
   ]
  },
  {
   "cell_type": "code",
   "execution_count": 77,
   "metadata": {},
   "outputs": [],
   "source": [
    "freq_items.sort_values('support', ascending = False, inplace = True)"
   ]
  },
  {
   "cell_type": "code",
   "execution_count": 99,
   "metadata": {},
   "outputs": [
    {
     "name": "stderr",
     "output_type": "stream",
     "text": [
      "<ipython-input-99-16a0ffc2cde6>:1: MatplotlibDeprecationWarning: Using a string of single character colors as a color sequence is deprecated. Use an explicit list instead.\n",
      "  plt.bar(x = list(range(0, 11)), height = freq_items.support[0:11], color ='rgmyk')\n"
     ]
    },
    {
     "data": {
      "image/png": "[encoded data removed]",
      "text/plain": [
       "<Figure size 1440x936 with 1 Axes>"
      ]
     },
     "metadata": {
      "needs_background": "light"
     },
     "output_type": "display_data"
    }
   ],
   "source": [
    "plt.bar(x = list(range(0, 11)), height = freq_items.support[0:11], color ='rgmyk')\n",
    "plt.xticks(list(range(0, 11)), freq_items.itemsets[0:11], rotation=20)\n",
    "plt.xlabel('item-sets')\n",
    "plt.ylabel('support')\n",
    "plt.show()"
   ]
  },
  {
   "cell_type": "markdown",
   "metadata": {},
   "source": [
    "Cook books and Child books are highly sold books."
   ]
  },
  {
   "cell_type": "code",
   "execution_count": 82,
   "metadata": {},
   "outputs": [
    {
     "data": {
      "text/html": [
       "<div>\n",
       "<style scoped>\n",
       "    .dataframe tbody tr th:only-of-type {\n",
       "        vertical-align: middle;\n",
       "    }\n",
       "\n",
       "    .dataframe tbody tr th {\n",
       "        vertical-align: top;\n",
       "    }\n",
       "\n",
       "    .dataframe thead th {\n",
       "        text-align: right;\n",
       "    }\n",
       "</style>\n",
       "<table border=\"1\" class=\"dataframe\">\n",
       "  <thead>\n",
       "    <tr style=\"text-align: right;\">\n",
       "      <th></th>\n",
       "      <th>antecedents</th>\n",
       "      <th>consequents</th>\n",
       "      <th>antecedent support</th>\n",
       "      <th>consequent support</th>\n",
       "      <th>support</th>\n",
       "      <th>confidence</th>\n",
       "      <th>lift</th>\n",
       "      <th>leverage</th>\n",
       "      <th>conviction</th>\n",
       "    </tr>\n",
       "  </thead>\n",
       "  <tbody>\n",
       "    <tr>\n",
       "      <th>422</th>\n",
       "      <td>(ItalCook)</td>\n",
       "      <td>(CookBks, YouthBks)</td>\n",
       "      <td>0.1135</td>\n",
       "      <td>0.1620</td>\n",
       "      <td>0.0590</td>\n",
       "      <td>0.519824</td>\n",
       "      <td>3.208789</td>\n",
       "      <td>0.040613</td>\n",
       "      <td>1.745193</td>\n",
       "    </tr>\n",
       "    <tr>\n",
       "      <th>419</th>\n",
       "      <td>(CookBks, YouthBks)</td>\n",
       "      <td>(ItalCook)</td>\n",
       "      <td>0.1620</td>\n",
       "      <td>0.1135</td>\n",
       "      <td>0.0590</td>\n",
       "      <td>0.364198</td>\n",
       "      <td>3.208789</td>\n",
       "      <td>0.040613</td>\n",
       "      <td>1.394301</td>\n",
       "    </tr>\n",
       "    <tr>\n",
       "      <th>564</th>\n",
       "      <td>(ItalCook, ChildBks)</td>\n",
       "      <td>(CookBks, GeogBks)</td>\n",
       "      <td>0.0850</td>\n",
       "      <td>0.1925</td>\n",
       "      <td>0.0525</td>\n",
       "      <td>0.617647</td>\n",
       "      <td>3.208556</td>\n",
       "      <td>0.036137</td>\n",
       "      <td>2.111923</td>\n",
       "    </tr>\n",
       "    <tr>\n",
       "      <th>561</th>\n",
       "      <td>(CookBks, GeogBks)</td>\n",
       "      <td>(ItalCook, ChildBks)</td>\n",
       "      <td>0.1925</td>\n",
       "      <td>0.0850</td>\n",
       "      <td>0.0525</td>\n",
       "      <td>0.272727</td>\n",
       "      <td>3.208556</td>\n",
       "      <td>0.036137</td>\n",
       "      <td>1.258125</td>\n",
       "    </tr>\n",
       "    <tr>\n",
       "      <th>563</th>\n",
       "      <td>(ItalCook, GeogBks)</td>\n",
       "      <td>(CookBks, ChildBks)</td>\n",
       "      <td>0.0640</td>\n",
       "      <td>0.2560</td>\n",
       "      <td>0.0525</td>\n",
       "      <td>0.820312</td>\n",
       "      <td>3.204346</td>\n",
       "      <td>0.036116</td>\n",
       "      <td>4.140522</td>\n",
       "    </tr>\n",
       "    <tr>\n",
       "      <th>562</th>\n",
       "      <td>(CookBks, ChildBks)</td>\n",
       "      <td>(ItalCook, GeogBks)</td>\n",
       "      <td>0.2560</td>\n",
       "      <td>0.0640</td>\n",
       "      <td>0.0525</td>\n",
       "      <td>0.205078</td>\n",
       "      <td>3.204346</td>\n",
       "      <td>0.036116</td>\n",
       "      <td>1.177474</td>\n",
       "    </tr>\n",
       "    <tr>\n",
       "      <th>514</th>\n",
       "      <td>(CookBks, ArtBks, ChildBks)</td>\n",
       "      <td>(DoItYBks, GeogBks)</td>\n",
       "      <td>0.1265</td>\n",
       "      <td>0.1325</td>\n",
       "      <td>0.0535</td>\n",
       "      <td>0.422925</td>\n",
       "      <td>3.191886</td>\n",
       "      <td>0.036739</td>\n",
       "      <td>1.503271</td>\n",
       "    </tr>\n",
       "    <tr>\n",
       "      <th>527</th>\n",
       "      <td>(DoItYBks, GeogBks)</td>\n",
       "      <td>(CookBks, ArtBks, ChildBks)</td>\n",
       "      <td>0.1325</td>\n",
       "      <td>0.1265</td>\n",
       "      <td>0.0535</td>\n",
       "      <td>0.403774</td>\n",
       "      <td>3.191886</td>\n",
       "      <td>0.036739</td>\n",
       "      <td>1.465047</td>\n",
       "    </tr>\n",
       "    <tr>\n",
       "      <th>567</th>\n",
       "      <td>(ItalCook)</td>\n",
       "      <td>(CookBks, GeogBks, ChildBks)</td>\n",
       "      <td>0.1135</td>\n",
       "      <td>0.1495</td>\n",
       "      <td>0.0525</td>\n",
       "      <td>0.462555</td>\n",
       "      <td>3.094014</td>\n",
       "      <td>0.035532</td>\n",
       "      <td>1.582488</td>\n",
       "    </tr>\n",
       "    <tr>\n",
       "      <th>558</th>\n",
       "      <td>(CookBks, GeogBks, ChildBks)</td>\n",
       "      <td>(ItalCook)</td>\n",
       "      <td>0.1495</td>\n",
       "      <td>0.1135</td>\n",
       "      <td>0.0525</td>\n",
       "      <td>0.351171</td>\n",
       "      <td>3.094014</td>\n",
       "      <td>0.035532</td>\n",
       "      <td>1.366307</td>\n",
       "    </tr>\n",
       "  </tbody>\n",
       "</table>\n",
       "</div>"
      ],
      "text/plain": [
       "                      antecedents                   consequents  \\\n",
       "422                    (ItalCook)           (CookBks, YouthBks)   \n",
       "419           (CookBks, YouthBks)                    (ItalCook)   \n",
       "564          (ItalCook, ChildBks)            (CookBks, GeogBks)   \n",
       "561            (CookBks, GeogBks)          (ItalCook, ChildBks)   \n",
       "563           (ItalCook, GeogBks)           (CookBks, ChildBks)   \n",
       "562           (CookBks, ChildBks)           (ItalCook, GeogBks)   \n",
       "514   (CookBks, ArtBks, ChildBks)           (DoItYBks, GeogBks)   \n",
       "527           (DoItYBks, GeogBks)   (CookBks, ArtBks, ChildBks)   \n",
       "567                    (ItalCook)  (CookBks, GeogBks, ChildBks)   \n",
       "558  (CookBks, GeogBks, ChildBks)                    (ItalCook)   \n",
       "\n",
       "     antecedent support  consequent support  support  confidence      lift  \\\n",
       "422              0.1135              0.1620   0.0590    0.519824  3.208789   \n",
       "419              0.1620              0.1135   0.0590    0.364198  3.208789   \n",
       "564              0.0850              0.1925   0.0525    0.617647  3.208556   \n",
       "561              0.1925              0.0850   0.0525    0.272727  3.208556   \n",
       "563              0.0640              0.2560   0.0525    0.820312  3.204346   \n",
       "562              0.2560              0.0640   0.0525    0.205078  3.204346   \n",
       "514              0.1265              0.1325   0.0535    0.422925  3.191886   \n",
       "527              0.1325              0.1265   0.0535    0.403774  3.191886   \n",
       "567              0.1135              0.1495   0.0525    0.462555  3.094014   \n",
       "558              0.1495              0.1135   0.0525    0.351171  3.094014   \n",
       "\n",
       "     leverage  conviction  \n",
       "422  0.040613    1.745193  \n",
       "419  0.040613    1.394301  \n",
       "564  0.036137    2.111923  \n",
       "561  0.036137    1.258125  \n",
       "563  0.036116    4.140522  \n",
       "562  0.036116    1.177474  \n",
       "514  0.036739    1.503271  \n",
       "527  0.036739    1.465047  \n",
       "567  0.035532    1.582488  \n",
       "558  0.035532    1.366307  "
      ]
     },
     "execution_count": 82,
     "metadata": {},
     "output_type": "execute_result"
    }
   ],
   "source": [
    "rules = association_rules(freq_items, metric = \"lift\", min_threshold = 1)\n",
    "rules.head(20)\n",
    "rules.sort_values('lift', ascending = False).head(10)"
   ]
  },
  {
   "cell_type": "markdown",
   "metadata": {},
   "source": [
    "The result of association analysis shows which item is frequently purchased with other items."
   ]
  },
  {
   "cell_type": "markdown",
   "metadata": {},
   "source": [
    "## Analysis of Rules:"
   ]
  },
  {
   "cell_type": "markdown",
   "metadata": {},
   "source": [
    "##### Let's say we are ony interested in rules that satisfy the following criteria:\n",
    "\n",
    "##### 1. at least 2 antecedents\n",
    "##### 2. a confidence > 0.75\n",
    "##### 3. a lift score > 1.2"
   ]
  },
  {
   "cell_type": "markdown",
   "metadata": {},
   "source": [
    "###### 1.  Rule 5 indicates that if a ItalCook book and Geography Books are purchased, then with 82.03% confidence a Child book and a Cook Book will also be purchased. The Antecedent Support column indicates that the rule has the support of 64 transactions, meaning that 64 people bought a Ital Cook book, and a Geography book. The Cosequent Support column indicates the number of transactions involving the purchase of a Child book and a Cook Book . The Support column indicate the number of transactions where a ItalCook book, Geography book, Child book and Cook Book were purchased.\n",
    "###### 2.  The Lift Ratio indicates how likely a transaction will be found where all four book types (ItalCook, Geography, Cook and Child) are purchased, as compared to the entire population of transactions. In other words, the Lift Ratio is the Confidence divided by the value for Support for Consequent. \n",
    "###### 3. The support value for the fifth rule is 0.0525. This number is calculated by dividing the number of transactions containing Italcook and Geography books divided by total number of transactions. The confidence level for the rule is 0.820312 which shows that out of all the transactions that contain Italcook and Geobooks, 82.03% of the transactions also contain child book and Cook book. Finally, the lift of 3.2 tells us that  child book and Cook book is 3.2 times more likely to be bought by the customers who buy  ItalCook book and Geography Book compared to the default likelihood of the sale of ItalCook book and Geography Book."
   ]
  },
  {
   "cell_type": "markdown",
   "metadata": {},
   "source": [
    "##### --------------------------------------------------------------------------------------------------------------------------------------------------------------------------------"
   ]
  },
  {
   "cell_type": "markdown",
   "metadata": {},
   "source": [
    "### Visualizing results:"
   ]
  },
  {
   "cell_type": "markdown",
   "metadata": {},
   "source": [
    "#### 1. Support vs Confidence:"
   ]
  },
  {
   "cell_type": "code",
   "execution_count": 20,
   "metadata": {
    "scrolled": true
   },
   "outputs": [
    {
     "data": {
      "image/png": "[encoded data removed]",
      "text/plain": [
       "<Figure size 432x288 with 1 Axes>"
      ]
     },
     "metadata": {
      "needs_background": "light"
     },
     "output_type": "display_data"
    }
   ],
   "source": [
    "plt.scatter(rules['support'], rules['confidence'], alpha=0.5)\n",
    "plt.xlabel('support')\n",
    "plt.ylabel('confidence')\n",
    "plt.title('Support vs Confidence')\n",
    "plt.show()"
   ]
  },
  {
   "cell_type": "markdown",
   "metadata": {},
   "source": [
    "###### Above Scatter plot represents moderate, negetive and may be linear correlation between Support and Confidence. There are atleast 6 outliers present in the top area of the plot."
   ]
  },
  {
   "cell_type": "markdown",
   "metadata": {},
   "source": [
    "#### 2. Support vs Lift:"
   ]
  },
  {
   "cell_type": "code",
   "execution_count": 24,
   "metadata": {
    "scrolled": false
   },
   "outputs": [
    {
     "data": {
      "image/png": "[encoded data removed]",
      "text/plain": [
       "<Figure size 432x288 with 1 Axes>"
      ]
     },
     "metadata": {
      "needs_background": "light"
     },
     "output_type": "display_data"
    }
   ],
   "source": [
    "plt.scatter(rules['support'], rules['lift'], alpha=0.5)\n",
    "plt.xlabel('support')\n",
    "plt.ylabel('lift')\n",
    "plt.title('Support vs Lift')\n",
    "plt.show()"
   ]
  },
  {
   "cell_type": "markdown",
   "metadata": {},
   "source": [
    "###### Above Scatter plot represents moderate, negetive and linear correlation between Support and Lift. There is an outlier present in the top area of the plot."
   ]
  },
  {
   "cell_type": "markdown",
   "metadata": {},
   "source": [
    "#### 3. Lift vs Confidence:"
   ]
  },
  {
   "cell_type": "code",
   "execution_count": 26,
   "metadata": {
    "scrolled": true
   },
   "outputs": [
    {
     "data": {
      "text/plain": [
       "[<matplotlib.lines.Line2D at 0x2974ea4da60>,\n",
       " <matplotlib.lines.Line2D at 0x2974ea4db80>]"
      ]
     },
     "execution_count": 26,
     "metadata": {},
     "output_type": "execute_result"
    },
    {
     "data": {
      "image/png": "[encoded data removed]",
      "text/plain": [
       "<Figure size 432x288 with 1 Axes>"
      ]
     },
     "metadata": {
      "needs_background": "light"
     },
     "output_type": "display_data"
    }
   ],
   "source": [
    "fit = np.polyfit(rules['lift'], rules['confidence'], 1)\n",
    "fit_fn = np.poly1d(fit)\n",
    "plt.plot(rules['lift'], rules['confidence'], 'yo', rules['lift'], \n",
    " fit_fn(rules['lift']))"
   ]
  },
  {
   "cell_type": "markdown",
   "metadata": {},
   "source": [
    "###### Mathematically it is not the best fit to the data. Above Scatter plot represents strong, positive and linear correlation between Lift and Confidence. There is an outliers present in the plot."
   ]
  },
  {
   "cell_type": "markdown",
   "metadata": {},
   "source": [
    "### --------------------EXTRA PART-------------------------"
   ]
  },
  {
   "cell_type": "code",
   "execution_count": 102,
   "metadata": {},
   "outputs": [],
   "source": [
    "def to_list(i):\n",
    "    return (sorted(list(i)))"
   ]
  },
  {
   "cell_type": "code",
   "execution_count": 103,
   "metadata": {},
   "outputs": [],
   "source": [
    "ma_X = rules.antecedents.apply(to_list) + rules.consequents.apply(to_list)\n",
    "ma_X = ma_X.apply(sorted)\n",
    "rules_sets = list(ma_X)"
   ]
  },
  {
   "cell_type": "code",
   "execution_count": 104,
   "metadata": {},
   "outputs": [],
   "source": [
    "unique_rules_sets = [list(m) for m in set(tuple(i) for i in rules_sets)]"
   ]
  },
  {
   "cell_type": "code",
   "execution_count": 105,
   "metadata": {},
   "outputs": [],
   "source": [
    "index_rules = []\n",
    "for i in unique_rules_sets:\n",
    "    index_rules.append(rules_sets.index(i))"
   ]
  },
  {
   "cell_type": "markdown",
   "metadata": {},
   "source": [
    "#### Getting rules without any redudancy: "
   ]
  },
  {
   "cell_type": "code",
   "execution_count": 106,
   "metadata": {},
   "outputs": [],
   "source": [
    "rules_no_redudancy = rules.iloc[index_rules, :]"
   ]
  },
  {
   "cell_type": "markdown",
   "metadata": {},
   "source": [
    "#### Sorting them with respect to list and getting top 10 rules:"
   ]
  },
  {
   "cell_type": "code",
   "execution_count": 107,
   "metadata": {},
   "outputs": [
    {
     "data": {
      "text/html": [
       "<div>\n",
       "<style scoped>\n",
       "    .dataframe tbody tr th:only-of-type {\n",
       "        vertical-align: middle;\n",
       "    }\n",
       "\n",
       "    .dataframe tbody tr th {\n",
       "        vertical-align: top;\n",
       "    }\n",
       "\n",
       "    .dataframe thead th {\n",
       "        text-align: right;\n",
       "    }\n",
       "</style>\n",
       "<table border=\"1\" class=\"dataframe\">\n",
       "  <thead>\n",
       "    <tr style=\"text-align: right;\">\n",
       "      <th></th>\n",
       "      <th>antecedents</th>\n",
       "      <th>consequents</th>\n",
       "      <th>antecedent support</th>\n",
       "      <th>consequent support</th>\n",
       "      <th>support</th>\n",
       "      <th>confidence</th>\n",
       "      <th>lift</th>\n",
       "      <th>leverage</th>\n",
       "      <th>conviction</th>\n",
       "    </tr>\n",
       "  </thead>\n",
       "  <tbody>\n",
       "    <tr>\n",
       "      <th>542</th>\n",
       "      <td>(DoItYBks, ChildBks, YouthBks)</td>\n",
       "      <td>(RefBks)</td>\n",
       "      <td>0.0950</td>\n",
       "      <td>0.2145</td>\n",
       "      <td>0.0530</td>\n",
       "      <td>0.557895</td>\n",
       "      <td>2.600908</td>\n",
       "      <td>0.032622</td>\n",
       "      <td>1.776726</td>\n",
       "    </tr>\n",
       "    <tr>\n",
       "      <th>340</th>\n",
       "      <td>(CookBks, DoItYBks, GeogBks)</td>\n",
       "      <td>(ArtBks)</td>\n",
       "      <td>0.1085</td>\n",
       "      <td>0.2410</td>\n",
       "      <td>0.0650</td>\n",
       "      <td>0.599078</td>\n",
       "      <td>2.485802</td>\n",
       "      <td>0.038852</td>\n",
       "      <td>1.893138</td>\n",
       "    </tr>\n",
       "    <tr>\n",
       "      <th>312</th>\n",
       "      <td>(CookBks, ChildBks, YouthBks)</td>\n",
       "      <td>(RefBks)</td>\n",
       "      <td>0.1290</td>\n",
       "      <td>0.2145</td>\n",
       "      <td>0.0680</td>\n",
       "      <td>0.527132</td>\n",
       "      <td>2.457491</td>\n",
       "      <td>0.040330</td>\n",
       "      <td>1.661139</td>\n",
       "    </tr>\n",
       "    <tr>\n",
       "      <th>254</th>\n",
       "      <td>(CookBks, GeogBks, ChildBks)</td>\n",
       "      <td>(RefBks)</td>\n",
       "      <td>0.1495</td>\n",
       "      <td>0.2145</td>\n",
       "      <td>0.0785</td>\n",
       "      <td>0.525084</td>\n",
       "      <td>2.447942</td>\n",
       "      <td>0.046432</td>\n",
       "      <td>1.653975</td>\n",
       "    </tr>\n",
       "    <tr>\n",
       "      <th>604</th>\n",
       "      <td>(GeogBks, ChildBks, YouthBks)</td>\n",
       "      <td>(RefBks)</td>\n",
       "      <td>0.0990</td>\n",
       "      <td>0.2145</td>\n",
       "      <td>0.0515</td>\n",
       "      <td>0.520202</td>\n",
       "      <td>2.425184</td>\n",
       "      <td>0.030264</td>\n",
       "      <td>1.637147</td>\n",
       "    </tr>\n",
       "    <tr>\n",
       "      <th>280</th>\n",
       "      <td>(CookBks, DoItYBks, ChildBks)</td>\n",
       "      <td>(RefBks)</td>\n",
       "      <td>0.1460</td>\n",
       "      <td>0.2145</td>\n",
       "      <td>0.0745</td>\n",
       "      <td>0.510274</td>\n",
       "      <td>2.378900</td>\n",
       "      <td>0.043183</td>\n",
       "      <td>1.603958</td>\n",
       "    </tr>\n",
       "    <tr>\n",
       "      <th>506</th>\n",
       "      <td>(CookBks, DoItYBks, ChildBks, ArtBks)</td>\n",
       "      <td>(GeogBks)</td>\n",
       "      <td>0.0820</td>\n",
       "      <td>0.2760</td>\n",
       "      <td>0.0535</td>\n",
       "      <td>0.652439</td>\n",
       "      <td>2.363910</td>\n",
       "      <td>0.030868</td>\n",
       "      <td>2.083088</td>\n",
       "    </tr>\n",
       "    <tr>\n",
       "      <th>402</th>\n",
       "      <td>(DoItYBks, GeogBks, ChildBks)</td>\n",
       "      <td>(ArtBks)</td>\n",
       "      <td>0.1045</td>\n",
       "      <td>0.2410</td>\n",
       "      <td>0.0595</td>\n",
       "      <td>0.569378</td>\n",
       "      <td>2.362564</td>\n",
       "      <td>0.034315</td>\n",
       "      <td>1.762567</td>\n",
       "    </tr>\n",
       "    <tr>\n",
       "      <th>194</th>\n",
       "      <td>(ChildBks, YouthBks)</td>\n",
       "      <td>(RefBks)</td>\n",
       "      <td>0.1650</td>\n",
       "      <td>0.2145</td>\n",
       "      <td>0.0830</td>\n",
       "      <td>0.503030</td>\n",
       "      <td>2.345130</td>\n",
       "      <td>0.047608</td>\n",
       "      <td>1.580579</td>\n",
       "    </tr>\n",
       "    <tr>\n",
       "      <th>570</th>\n",
       "      <td>(DoItYBks, GeogBks, ChildBks)</td>\n",
       "      <td>(RefBks)</td>\n",
       "      <td>0.1045</td>\n",
       "      <td>0.2145</td>\n",
       "      <td>0.0525</td>\n",
       "      <td>0.502392</td>\n",
       "      <td>2.342155</td>\n",
       "      <td>0.030085</td>\n",
       "      <td>1.578553</td>\n",
       "    </tr>\n",
       "  </tbody>\n",
       "</table>\n",
       "</div>"
      ],
      "text/plain": [
       "                               antecedents consequents  antecedent support  \\\n",
       "542         (DoItYBks, ChildBks, YouthBks)    (RefBks)              0.0950   \n",
       "340           (CookBks, DoItYBks, GeogBks)    (ArtBks)              0.1085   \n",
       "312          (CookBks, ChildBks, YouthBks)    (RefBks)              0.1290   \n",
       "254           (CookBks, GeogBks, ChildBks)    (RefBks)              0.1495   \n",
       "604          (GeogBks, ChildBks, YouthBks)    (RefBks)              0.0990   \n",
       "280          (CookBks, DoItYBks, ChildBks)    (RefBks)              0.1460   \n",
       "506  (CookBks, DoItYBks, ChildBks, ArtBks)   (GeogBks)              0.0820   \n",
       "402          (DoItYBks, GeogBks, ChildBks)    (ArtBks)              0.1045   \n",
       "194                   (ChildBks, YouthBks)    (RefBks)              0.1650   \n",
       "570          (DoItYBks, GeogBks, ChildBks)    (RefBks)              0.1045   \n",
       "\n",
       "     consequent support  support  confidence      lift  leverage  conviction  \n",
       "542              0.2145   0.0530    0.557895  2.600908  0.032622    1.776726  \n",
       "340              0.2410   0.0650    0.599078  2.485802  0.038852    1.893138  \n",
       "312              0.2145   0.0680    0.527132  2.457491  0.040330    1.661139  \n",
       "254              0.2145   0.0785    0.525084  2.447942  0.046432    1.653975  \n",
       "604              0.2145   0.0515    0.520202  2.425184  0.030264    1.637147  \n",
       "280              0.2145   0.0745    0.510274  2.378900  0.043183    1.603958  \n",
       "506              0.2760   0.0535    0.652439  2.363910  0.030868    2.083088  \n",
       "402              0.2410   0.0595    0.569378  2.362564  0.034315    1.762567  \n",
       "194              0.2145   0.0830    0.503030  2.345130  0.047608    1.580579  \n",
       "570              0.2145   0.0525    0.502392  2.342155  0.030085    1.578553  "
      ]
     },
     "execution_count": 107,
     "metadata": {},
     "output_type": "execute_result"
    }
   ],
   "source": [
    "rules_no_redudancy.sort_values('lift', ascending = False).head(10)"
   ]
  },
  {
   "cell_type": "markdown",
   "metadata": {},
   "source": [
    "##### Recommendations:"
   ]
  },
  {
   "cell_type": "markdown",
   "metadata": {},
   "source": [
    "From the above table it is clear that, in most purchases the consequent is Reference Book. So, it is Recommendable that the shop should maintain the Reference Books stock all the time. "
   ]
  }
 ],
 "metadata": {
  "kernelspec": {
   "display_name": "Python 3",
   "language": "python",
   "name": "python3"
  },
  "language_info": {
   "codemirror_mode": {
    "name": "ipython",
    "version": 3
   },
   "file_extension": ".py",
   "mimetype": "text/x-python",
   "name": "python",
   "nbconvert_exporter": "python",
   "pygments_lexer": "ipython3",
   "version": "3.8.3"
  }
 },
 "nbformat": 4,
 "nbformat_minor": 4
}
