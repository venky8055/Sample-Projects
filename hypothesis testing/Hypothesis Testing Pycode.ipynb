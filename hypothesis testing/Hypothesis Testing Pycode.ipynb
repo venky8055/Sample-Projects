{
 "cells": [
  {
   "cell_type": "markdown",
   "id": "9f89f17c",
   "metadata": {},
   "source": [
    "# * Kurapati Venkatesh\n",
    "\n",
    "# * 09012021\n",
    "\n",
    "# * Topic: Hypothesis Testing ✨"
   ]
  },
  {
   "cell_type": "markdown",
   "id": "a5c9ee1c",
   "metadata": {},
   "source": [
    "# ---------------------------------------------------------------------------"
   ]
  },
  {
   "cell_type": "code",
   "execution_count": 12,
   "id": "5fb504fa",
   "metadata": {},
   "outputs": [],
   "source": [
    "# import libraries\n",
    "import pandas as pd \n",
    "import numpy as np\n",
    "import matplotlib.pyplot as plt\n",
    "import scipy\n",
    "from scipy import stats"
   ]
  },
  {
   "cell_type": "markdown",
   "id": "929e74a6",
   "metadata": {},
   "source": [
    "## 1. A F&B manager wants to determine whether there is any significant difference in the diameter of the cutlet between two units. A randomly selected sample of cutlets was collected from both units and measured? Analyze the data and draw inferences at 5% significance level. Please state the assumptions and tests that you carried out to check validity of the assumptions. "
   ]
  },
  {
   "cell_type": "markdown",
   "id": "9ffa5cfe",
   "metadata": {},
   "source": [
    "## ANSWER:"
   ]
  },
  {
   "cell_type": "code",
   "execution_count": 13,
   "id": "27341a71",
   "metadata": {},
   "outputs": [],
   "source": [
    "cut = pd.read_csv(r\"G:\\360digit\\assignments meterial\\Hypothesis testing\\Cutlets.csv\")"
   ]
  },
  {
   "cell_type": "code",
   "execution_count": 14,
   "id": "48d02385",
   "metadata": {},
   "outputs": [
    {
     "data": {
      "text/html": [
       "<div>\n",
       "<style scoped>\n",
       "    .dataframe tbody tr th:only-of-type {\n",
       "        vertical-align: middle;\n",
       "    }\n",
       "\n",
       "    .dataframe tbody tr th {\n",
       "        vertical-align: top;\n",
       "    }\n",
       "\n",
       "    .dataframe thead th {\n",
       "        text-align: right;\n",
       "    }\n",
       "</style>\n",
       "<table border=\"1\" class=\"dataframe\">\n",
       "  <thead>\n",
       "    <tr style=\"text-align: right;\">\n",
       "      <th></th>\n",
       "      <th>Unit A</th>\n",
       "      <th>Unit B</th>\n",
       "    </tr>\n",
       "  </thead>\n",
       "  <tbody>\n",
       "    <tr>\n",
       "      <th>0</th>\n",
       "      <td>6.8090</td>\n",
       "      <td>6.7703</td>\n",
       "    </tr>\n",
       "    <tr>\n",
       "      <th>1</th>\n",
       "      <td>6.4376</td>\n",
       "      <td>7.5093</td>\n",
       "    </tr>\n",
       "    <tr>\n",
       "      <th>2</th>\n",
       "      <td>6.9157</td>\n",
       "      <td>6.7300</td>\n",
       "    </tr>\n",
       "    <tr>\n",
       "      <th>3</th>\n",
       "      <td>7.3012</td>\n",
       "      <td>6.7878</td>\n",
       "    </tr>\n",
       "    <tr>\n",
       "      <th>4</th>\n",
       "      <td>7.4488</td>\n",
       "      <td>7.1522</td>\n",
       "    </tr>\n",
       "  </tbody>\n",
       "</table>\n",
       "</div>"
      ],
      "text/plain": [
       "   Unit A  Unit B\n",
       "0  6.8090  6.7703\n",
       "1  6.4376  7.5093\n",
       "2  6.9157  6.7300\n",
       "3  7.3012  6.7878\n",
       "4  7.4488  7.1522"
      ]
     },
     "execution_count": 14,
     "metadata": {},
     "output_type": "execute_result"
    }
   ],
   "source": [
    "cut.head()"
   ]
  },
  {
   "cell_type": "code",
   "execution_count": 15,
   "id": "edab34e3",
   "metadata": {},
   "outputs": [],
   "source": [
    "cu = cut.dropna()"
   ]
  },
  {
   "cell_type": "code",
   "execution_count": 16,
   "id": "b9973de5",
   "metadata": {},
   "outputs": [],
   "source": [
    "cu.columns = [\"A\", \"B\"]"
   ]
  },
  {
   "cell_type": "code",
   "execution_count": 17,
   "id": "20474684",
   "metadata": {},
   "outputs": [
    {
     "data": {
      "text/html": [
       "<div>\n",
       "<style scoped>\n",
       "    .dataframe tbody tr th:only-of-type {\n",
       "        vertical-align: middle;\n",
       "    }\n",
       "\n",
       "    .dataframe tbody tr th {\n",
       "        vertical-align: top;\n",
       "    }\n",
       "\n",
       "    .dataframe thead th {\n",
       "        text-align: right;\n",
       "    }\n",
       "</style>\n",
       "<table border=\"1\" class=\"dataframe\">\n",
       "  <thead>\n",
       "    <tr style=\"text-align: right;\">\n",
       "      <th></th>\n",
       "      <th>A</th>\n",
       "      <th>B</th>\n",
       "    </tr>\n",
       "  </thead>\n",
       "  <tbody>\n",
       "    <tr>\n",
       "      <th>0</th>\n",
       "      <td>6.8090</td>\n",
       "      <td>6.7703</td>\n",
       "    </tr>\n",
       "    <tr>\n",
       "      <th>1</th>\n",
       "      <td>6.4376</td>\n",
       "      <td>7.5093</td>\n",
       "    </tr>\n",
       "    <tr>\n",
       "      <th>2</th>\n",
       "      <td>6.9157</td>\n",
       "      <td>6.7300</td>\n",
       "    </tr>\n",
       "    <tr>\n",
       "      <th>3</th>\n",
       "      <td>7.3012</td>\n",
       "      <td>6.7878</td>\n",
       "    </tr>\n",
       "    <tr>\n",
       "      <th>4</th>\n",
       "      <td>7.4488</td>\n",
       "      <td>7.1522</td>\n",
       "    </tr>\n",
       "  </tbody>\n",
       "</table>\n",
       "</div>"
      ],
      "text/plain": [
       "        A       B\n",
       "0  6.8090  6.7703\n",
       "1  6.4376  7.5093\n",
       "2  6.9157  6.7300\n",
       "3  7.3012  6.7878\n",
       "4  7.4488  7.1522"
      ]
     },
     "execution_count": 17,
     "metadata": {},
     "output_type": "execute_result"
    }
   ],
   "source": [
    "cu.head()"
   ]
  },
  {
   "cell_type": "markdown",
   "id": "4828afda",
   "metadata": {},
   "source": [
    "## Assumptions:"
   ]
  },
  {
   "cell_type": "markdown",
   "id": "789c16e4",
   "metadata": {},
   "source": [
    "#### H0 : There is no significant differences between diameter of the cutlets between 2 units \n",
    "- Diameter of cutlets in A = Diameter of cutlets in B \n",
    "\n",
    "\n",
    "#### Ha : There is significant differences between diameter of the cutlets between 2 units \n",
    "- Diameter of cutlets in A >> Diameter of cutlets in B or Diameter of cutlets in A << Diameter of cutlets in B"
   ]
  },
  {
   "cell_type": "markdown",
   "id": "2ec1e22b",
   "metadata": {},
   "source": [
    "Alpha = 0.05"
   ]
  },
  {
   "cell_type": "markdown",
   "id": "6cb24ca4",
   "metadata": {},
   "source": [
    "#### Step 1: \n",
    "We need to determine wether the diameters are similar or not"
   ]
  },
  {
   "cell_type": "markdown",
   "id": "08bfb026",
   "metadata": {},
   "source": [
    "#### Step 2: \n",
    "We need to determine which Test is to be done. \n",
    "\n",
    "Here y is continuous and x is discrete and there 2 independent variables, \n",
    "\n",
    "We now have to check if y1 and y2 are normal, for which we perform shapiro test"
   ]
  },
  {
   "cell_type": "markdown",
   "id": "fe152b12",
   "metadata": {},
   "source": [
    "#### Step 3: \n",
    "Find Normality of the data."
   ]
  },
  {
   "cell_type": "markdown",
   "id": "c2e116cd",
   "metadata": {},
   "source": [
    "##### Normality Test of Unit A:"
   ]
  },
  {
   "cell_type": "markdown",
   "id": "b4543f0e",
   "metadata": {},
   "source": [
    "* H0: Data are normal\n",
    "\n",
    "\n",
    "* Ha: Data are not normal \n",
    "\n",
    "\n",
    "* if p-value is > 0.05 => Accept null hypothesis\n",
    "\n",
    "\n",
    "* if p-value is < 0.05 =>Reject null hypothesis"
   ]
  },
  {
   "cell_type": "code",
   "execution_count": 26,
   "id": "5046cd8b",
   "metadata": {},
   "outputs": [
    {
     "data": {
      "text/plain": [
       "ShapiroResult(statistic=0.9649458527565002, pvalue=0.3199819028377533)"
      ]
     },
     "execution_count": 26,
     "metadata": {},
     "output_type": "execute_result"
    }
   ],
   "source": [
    "stats.shapiro(cu.A)"
   ]
  },
  {
   "cell_type": "markdown",
   "id": "2b9fb4c2",
   "metadata": {},
   "source": [
    "##### p value = 0.32 > 0.05, therefor we accept null hypothesis, i.e Unit A is normal. "
   ]
  },
  {
   "cell_type": "code",
   "execution_count": 22,
   "id": "2f1af90e",
   "metadata": {},
   "outputs": [
    {
     "data": {
      "text/plain": [
       "ShapiroResult(statistic=0.9727300405502319, pvalue=0.5224985480308533)"
      ]
     },
     "execution_count": 22,
     "metadata": {},
     "output_type": "execute_result"
    }
   ],
   "source": [
    "stats.shapiro(cu.B)"
   ]
  },
  {
   "cell_type": "markdown",
   "id": "a78329c9",
   "metadata": {},
   "source": [
    "###### p value = 0.5225 > 0.05, therefor we accept null hypothesis, i.e Unit A is normal"
   ]
  },
  {
   "cell_type": "markdown",
   "id": "e820c07b",
   "metadata": {},
   "source": [
    "#### Step 4:\n",
    "Now we have to check if variances are equal"
   ]
  },
  {
   "cell_type": "code",
   "execution_count": 23,
   "id": "91da291d",
   "metadata": {},
   "outputs": [
    {
     "data": {
      "text/plain": [
       "LeveneResult(statistic=0.6650897638632386, pvalue=0.4176162212502553)"
      ]
     },
     "execution_count": 23,
     "metadata": {},
     "output_type": "execute_result"
    }
   ],
   "source": [
    "scipy.stats.levene(cu.A, cu.B)"
   ]
  },
  {
   "cell_type": "markdown",
   "id": "4dfc79b5",
   "metadata": {},
   "source": [
    "###### p-value = 0.4176 > 0.05 therefore, variances are said to be equal. "
   ]
  },
  {
   "cell_type": "markdown",
   "id": "c7c17e39",
   "metadata": {},
   "source": [
    "* So, we have to do 2- Sample t test. "
   ]
  },
  {
   "cell_type": "code",
   "execution_count": 24,
   "id": "8fb9ed53",
   "metadata": {},
   "outputs": [
    {
     "data": {
      "text/plain": [
       "Ttest_indResult(statistic=0.7228688704678063, pvalue=0.4722394724599501)"
      ]
     },
     "execution_count": 24,
     "metadata": {},
     "output_type": "execute_result"
    }
   ],
   "source": [
    "scipy.stats.ttest_ind(cu.A, cu.B)"
   ]
  },
  {
   "cell_type": "markdown",
   "id": "ba9917d3",
   "metadata": {},
   "source": [
    "##### As observed above, p value > 0.05 and means are similar, therefore we can accept Null Hypothesis."
   ]
  },
  {
   "cell_type": "markdown",
   "id": "1502a3f0",
   "metadata": {},
   "source": [
    "##### That is: \n",
    "\n",
    "##### H0: There is no significant differences between diameter of the cutlets between 2 units Diameter of cutlets in A = Diameter of cutlets in B"
   ]
  },
  {
   "cell_type": "markdown",
   "id": "3bee5528",
   "metadata": {},
   "source": [
    "# ---------------------------------------------------------------------------------------------------"
   ]
  },
  {
   "cell_type": "markdown",
   "id": "83778b3c",
   "metadata": {},
   "source": [
    "## 2. A hospital wants to determine whether there is any difference in the average Turn Around Time (TAT) of reports of the laboratories on their preferred list. They collected a random sample and recorded TAT for reports of 4 laboratories. TAT is defined as sample collected to report dispatch. Analyze the data and determine whether there is any difference in average TAT among the different laboratories at 5% significance level."
   ]
  },
  {
   "cell_type": "markdown",
   "id": "7ae155d7",
   "metadata": {},
   "source": [
    "## ANSWER:"
   ]
  },
  {
   "cell_type": "code",
   "execution_count": 46,
   "id": "6f9232b0",
   "metadata": {},
   "outputs": [],
   "source": [
    "#libraries:\n",
    "from scipy.stats import f_oneway\n",
    "from statsmodels.stats.multicomp import pairwise_tukeyhsd"
   ]
  },
  {
   "cell_type": "code",
   "execution_count": 27,
   "id": "85cb7c76",
   "metadata": {},
   "outputs": [],
   "source": [
    "labtat = pd.read_csv(\"G:\\\\360digit\\\\assignments meterial\\\\Hypothesis testing\\\\lab_tat_updated.csv\")"
   ]
  },
  {
   "cell_type": "code",
   "execution_count": 28,
   "id": "03436e4f",
   "metadata": {},
   "outputs": [
    {
     "data": {
      "text/html": [
       "<div>\n",
       "<style scoped>\n",
       "    .dataframe tbody tr th:only-of-type {\n",
       "        vertical-align: middle;\n",
       "    }\n",
       "\n",
       "    .dataframe tbody tr th {\n",
       "        vertical-align: top;\n",
       "    }\n",
       "\n",
       "    .dataframe thead th {\n",
       "        text-align: right;\n",
       "    }\n",
       "</style>\n",
       "<table border=\"1\" class=\"dataframe\">\n",
       "  <thead>\n",
       "    <tr style=\"text-align: right;\">\n",
       "      <th></th>\n",
       "      <th>Laboratory_1</th>\n",
       "      <th>Laboratory_2</th>\n",
       "      <th>Laboratory_3</th>\n",
       "      <th>Laboratory_4</th>\n",
       "    </tr>\n",
       "  </thead>\n",
       "  <tbody>\n",
       "    <tr>\n",
       "      <th>0</th>\n",
       "      <td>185.35</td>\n",
       "      <td>165.53</td>\n",
       "      <td>176.70</td>\n",
       "      <td>166.13</td>\n",
       "    </tr>\n",
       "    <tr>\n",
       "      <th>1</th>\n",
       "      <td>170.49</td>\n",
       "      <td>185.91</td>\n",
       "      <td>198.45</td>\n",
       "      <td>160.79</td>\n",
       "    </tr>\n",
       "    <tr>\n",
       "      <th>2</th>\n",
       "      <td>192.77</td>\n",
       "      <td>194.92</td>\n",
       "      <td>201.23</td>\n",
       "      <td>185.18</td>\n",
       "    </tr>\n",
       "    <tr>\n",
       "      <th>3</th>\n",
       "      <td>177.33</td>\n",
       "      <td>183.00</td>\n",
       "      <td>199.61</td>\n",
       "      <td>176.42</td>\n",
       "    </tr>\n",
       "    <tr>\n",
       "      <th>4</th>\n",
       "      <td>193.41</td>\n",
       "      <td>169.57</td>\n",
       "      <td>204.63</td>\n",
       "      <td>152.60</td>\n",
       "    </tr>\n",
       "  </tbody>\n",
       "</table>\n",
       "</div>"
      ],
      "text/plain": [
       "   Laboratory_1  Laboratory_2  Laboratory_3  Laboratory_4\n",
       "0        185.35        165.53        176.70        166.13\n",
       "1        170.49        185.91        198.45        160.79\n",
       "2        192.77        194.92        201.23        185.18\n",
       "3        177.33        183.00        199.61        176.42\n",
       "4        193.41        169.57        204.63        152.60"
      ]
     },
     "execution_count": 28,
     "metadata": {},
     "output_type": "execute_result"
    }
   ],
   "source": [
    "labtat.head()"
   ]
  },
  {
   "cell_type": "code",
   "execution_count": 29,
   "id": "2b7ce832",
   "metadata": {},
   "outputs": [
    {
     "data": {
      "text/plain": [
       "Laboratory_1    0\n",
       "Laboratory_2    0\n",
       "Laboratory_3    0\n",
       "Laboratory_4    0\n",
       "dtype: int64"
      ]
     },
     "execution_count": 29,
     "metadata": {},
     "output_type": "execute_result"
    }
   ],
   "source": [
    "labtat.isnull ().sum () "
   ]
  },
  {
   "cell_type": "code",
   "execution_count": 30,
   "id": "6ca0a7fb",
   "metadata": {},
   "outputs": [],
   "source": [
    "labtat.columns = [\"l1\", \"l2\", \"l3\", \"l4\"]"
   ]
  },
  {
   "cell_type": "code",
   "execution_count": 31,
   "id": "b7695536",
   "metadata": {},
   "outputs": [
    {
     "data": {
      "text/html": [
       "<div>\n",
       "<style scoped>\n",
       "    .dataframe tbody tr th:only-of-type {\n",
       "        vertical-align: middle;\n",
       "    }\n",
       "\n",
       "    .dataframe tbody tr th {\n",
       "        vertical-align: top;\n",
       "    }\n",
       "\n",
       "    .dataframe thead th {\n",
       "        text-align: right;\n",
       "    }\n",
       "</style>\n",
       "<table border=\"1\" class=\"dataframe\">\n",
       "  <thead>\n",
       "    <tr style=\"text-align: right;\">\n",
       "      <th></th>\n",
       "      <th>l1</th>\n",
       "      <th>l2</th>\n",
       "      <th>l3</th>\n",
       "      <th>l4</th>\n",
       "    </tr>\n",
       "  </thead>\n",
       "  <tbody>\n",
       "    <tr>\n",
       "      <th>0</th>\n",
       "      <td>185.35</td>\n",
       "      <td>165.53</td>\n",
       "      <td>176.70</td>\n",
       "      <td>166.13</td>\n",
       "    </tr>\n",
       "    <tr>\n",
       "      <th>1</th>\n",
       "      <td>170.49</td>\n",
       "      <td>185.91</td>\n",
       "      <td>198.45</td>\n",
       "      <td>160.79</td>\n",
       "    </tr>\n",
       "    <tr>\n",
       "      <th>2</th>\n",
       "      <td>192.77</td>\n",
       "      <td>194.92</td>\n",
       "      <td>201.23</td>\n",
       "      <td>185.18</td>\n",
       "    </tr>\n",
       "    <tr>\n",
       "      <th>3</th>\n",
       "      <td>177.33</td>\n",
       "      <td>183.00</td>\n",
       "      <td>199.61</td>\n",
       "      <td>176.42</td>\n",
       "    </tr>\n",
       "    <tr>\n",
       "      <th>4</th>\n",
       "      <td>193.41</td>\n",
       "      <td>169.57</td>\n",
       "      <td>204.63</td>\n",
       "      <td>152.60</td>\n",
       "    </tr>\n",
       "  </tbody>\n",
       "</table>\n",
       "</div>"
      ],
      "text/plain": [
       "       l1      l2      l3      l4\n",
       "0  185.35  165.53  176.70  166.13\n",
       "1  170.49  185.91  198.45  160.79\n",
       "2  192.77  194.92  201.23  185.18\n",
       "3  177.33  183.00  199.61  176.42\n",
       "4  193.41  169.57  204.63  152.60"
      ]
     },
     "execution_count": 31,
     "metadata": {},
     "output_type": "execute_result"
    }
   ],
   "source": [
    "labtat.head()"
   ]
  },
  {
   "cell_type": "markdown",
   "id": "1547741f",
   "metadata": {},
   "source": [
    "## Assumptions:"
   ]
  },
  {
   "cell_type": "markdown",
   "id": "657361a0",
   "metadata": {},
   "source": [
    "##### H0 : There is no differences in the average TAT of 4 laboratories \n",
    "\n",
    "##### Ha : There is differences in the average TAT of 4 laboratories\n",
    "\n",
    "##### Alpha = 0.05"
   ]
  },
  {
   "cell_type": "markdown",
   "id": "c74ad9ef",
   "metadata": {},
   "source": [
    "### Step 1: \n",
    "\n",
    "We need to determine whether the average TAT of 4 laboratories are similar or not"
   ]
  },
  {
   "cell_type": "markdown",
   "id": "38c708f3",
   "metadata": {},
   "source": [
    "### Step 2: \n",
    "\n",
    "We need to determine which Test is to be done."
   ]
  },
  {
   "cell_type": "markdown",
   "id": "15589876",
   "metadata": {},
   "source": [
    "- Here y is continuous and x is discrete and there 4 independent variables, \n",
    "\n",
    "- We now have to check if y1, y2, y3, y4 are normal, for which we perform shapiro test."
   ]
  },
  {
   "cell_type": "markdown",
   "id": "b9eb5ad5",
   "metadata": {},
   "source": [
    "### Step 3: \n",
    "\n",
    "Find Normality of the data."
   ]
  },
  {
   "cell_type": "markdown",
   "id": "c40f4051",
   "metadata": {},
   "source": [
    "##### H0: Data are normal \n",
    "##### Ha: Data are not normal"
   ]
  },
  {
   "cell_type": "markdown",
   "id": "bae12ba5",
   "metadata": {},
   "source": [
    "##### if p-value is > 0.05 => Accept null hypothesis \n",
    "##### if p-value is < 0.05 =>Reject null hypothesis"
   ]
  },
  {
   "cell_type": "code",
   "execution_count": 47,
   "id": "ee2e90de",
   "metadata": {},
   "outputs": [
    {
     "data": {
      "text/plain": [
       "ShapiroResult(statistic=0.9886691570281982, pvalue=0.42317795753479004)"
      ]
     },
     "execution_count": 47,
     "metadata": {},
     "output_type": "execute_result"
    }
   ],
   "source": [
    "stats.shapiro(labtat.l1)"
   ]
  },
  {
   "cell_type": "markdown",
   "id": "85d777ff",
   "metadata": {},
   "source": [
    "- p-value = 0.4232 > 0.05 so p high null fly => It follows normal distribution"
   ]
  },
  {
   "cell_type": "code",
   "execution_count": 33,
   "id": "1285c916",
   "metadata": {},
   "outputs": [
    {
     "data": {
      "text/plain": [
       "ShapiroResult(statistic=0.9936322569847107, pvalue=0.8637524843215942)"
      ]
     },
     "execution_count": 33,
     "metadata": {},
     "output_type": "execute_result"
    }
   ],
   "source": [
    "stats.shapiro(labtat.l2)"
   ]
  },
  {
   "cell_type": "markdown",
   "id": "8090b5be",
   "metadata": {},
   "source": [
    "- p-value = 0.8637 > 0.05 so p high null fly => It follows normal distribution"
   ]
  },
  {
   "cell_type": "code",
   "execution_count": 34,
   "id": "cfa855da",
   "metadata": {},
   "outputs": [
    {
     "data": {
      "text/plain": [
       "ShapiroResult(statistic=0.9796067476272583, pvalue=0.06547004729509354)"
      ]
     },
     "execution_count": 34,
     "metadata": {},
     "output_type": "execute_result"
    }
   ],
   "source": [
    "stats.shapiro(labtat.l3)"
   ]
  },
  {
   "cell_type": "markdown",
   "id": "e0f4ae06",
   "metadata": {},
   "source": [
    "- p-value = 0.06547 > 0.05 so p high null fly => It follows normal distribution"
   ]
  },
  {
   "cell_type": "code",
   "execution_count": 35,
   "id": "8651ce7e",
   "metadata": {
    "scrolled": true
   },
   "outputs": [
    {
     "data": {
      "text/plain": [
       "ShapiroResult(statistic=0.9913753271102905, pvalue=0.6618951559066772)"
      ]
     },
     "execution_count": 35,
     "metadata": {},
     "output_type": "execute_result"
    }
   ],
   "source": [
    "stats.shapiro(labtat.l4)"
   ]
  },
  {
   "cell_type": "markdown",
   "id": "09caebaa",
   "metadata": {},
   "source": [
    "- p-value = 0.6619 > 0.05 so p high null fly => It follows normal distribution"
   ]
  },
  {
   "cell_type": "markdown",
   "id": "dde0d76b",
   "metadata": {},
   "source": [
    "From shapiro.test() we conclude that all the data are normal as p value is greater than 0.05."
   ]
  },
  {
   "cell_type": "markdown",
   "id": "0633755a",
   "metadata": {},
   "source": [
    "### Step 4: \n",
    "\n",
    "Now we have to check if variances are equal"
   ]
  },
  {
   "cell_type": "markdown",
   "id": "16fcccaf",
   "metadata": {},
   "source": [
    "#### Statistical tests for comparing variances:"
   ]
  },
  {
   "cell_type": "markdown",
   "id": "01adbdab",
   "metadata": {},
   "source": [
    "There are many solutions to test for the equality (homogeneity) of variance across groups, including:\n",
    "\n",
    "###### F-test: \n",
    "- Compare the variances of two samples. The data must be normally distributed.\n",
    "\n",
    "\n",
    "###### Bartlett’s test: \n",
    "- Compare the variances of k samples, where k can be more than two samples. The data must be normally distributed. The Levene test is an alternative to the Bartlett test that is less sensitive to departures from normality. \n",
    "\n",
    "\n",
    "###### Levene’s test: \n",
    "- Compare the variances of k samples, where k can be more than two samples. It’s an alternative to the Bartlett’s test that is less sensitive to departures from normality. \n",
    "\n",
    "\n",
    "###### Fligner-Killeen test: \n",
    "- a non-parametric test which is very robust against departures from normality."
   ]
  },
  {
   "cell_type": "markdown",
   "id": "734dd489",
   "metadata": {},
   "source": [
    "I will perform The Levenet’s Test: \n",
    "- H0: variances are equal\n",
    "\n",
    "\n",
    "- Ha: variances are unequal \n",
    "\n",
    "\n",
    "- if p-value is > 0.05 => Accept null hypothesis \n",
    "\n",
    "\n",
    "- if p-value is < 0.05 =>Reject null hypothesis"
   ]
  },
  {
   "cell_type": "code",
   "execution_count": 36,
   "id": "551e87a7",
   "metadata": {},
   "outputs": [
    {
     "data": {
      "text/html": [
       "<div>\n",
       "<style scoped>\n",
       "    .dataframe tbody tr th:only-of-type {\n",
       "        vertical-align: middle;\n",
       "    }\n",
       "\n",
       "    .dataframe tbody tr th {\n",
       "        vertical-align: top;\n",
       "    }\n",
       "\n",
       "    .dataframe thead th {\n",
       "        text-align: right;\n",
       "    }\n",
       "</style>\n",
       "<table border=\"1\" class=\"dataframe\">\n",
       "  <thead>\n",
       "    <tr style=\"text-align: right;\">\n",
       "      <th></th>\n",
       "      <th>l1</th>\n",
       "      <th>l2</th>\n",
       "      <th>l3</th>\n",
       "      <th>l4</th>\n",
       "    </tr>\n",
       "  </thead>\n",
       "  <tbody>\n",
       "    <tr>\n",
       "      <th>0</th>\n",
       "      <td>185.35</td>\n",
       "      <td>165.53</td>\n",
       "      <td>176.70</td>\n",
       "      <td>166.13</td>\n",
       "    </tr>\n",
       "    <tr>\n",
       "      <th>1</th>\n",
       "      <td>170.49</td>\n",
       "      <td>185.91</td>\n",
       "      <td>198.45</td>\n",
       "      <td>160.79</td>\n",
       "    </tr>\n",
       "    <tr>\n",
       "      <th>2</th>\n",
       "      <td>192.77</td>\n",
       "      <td>194.92</td>\n",
       "      <td>201.23</td>\n",
       "      <td>185.18</td>\n",
       "    </tr>\n",
       "    <tr>\n",
       "      <th>3</th>\n",
       "      <td>177.33</td>\n",
       "      <td>183.00</td>\n",
       "      <td>199.61</td>\n",
       "      <td>176.42</td>\n",
       "    </tr>\n",
       "    <tr>\n",
       "      <th>4</th>\n",
       "      <td>193.41</td>\n",
       "      <td>169.57</td>\n",
       "      <td>204.63</td>\n",
       "      <td>152.60</td>\n",
       "    </tr>\n",
       "  </tbody>\n",
       "</table>\n",
       "</div>"
      ],
      "text/plain": [
       "       l1      l2      l3      l4\n",
       "0  185.35  165.53  176.70  166.13\n",
       "1  170.49  185.91  198.45  160.79\n",
       "2  192.77  194.92  201.23  185.18\n",
       "3  177.33  183.00  199.61  176.42\n",
       "4  193.41  169.57  204.63  152.60"
      ]
     },
     "execution_count": 36,
     "metadata": {},
     "output_type": "execute_result"
    }
   ],
   "source": [
    "labtat.head()"
   ]
  },
  {
   "cell_type": "code",
   "execution_count": 37,
   "id": "397cb655",
   "metadata": {},
   "outputs": [
    {
     "data": {
      "text/plain": [
       "LeveneResult(statistic=1.025294593220823, pvalue=0.38107781677304564)"
      ]
     },
     "execution_count": 37,
     "metadata": {},
     "output_type": "execute_result"
    }
   ],
   "source": [
    "scipy.stats.levene(labtat.l1, labtat.l2, labtat.l3, labtat.l4)"
   ]
  },
  {
   "cell_type": "markdown",
   "id": "416f7bc3",
   "metadata": {},
   "source": [
    "- From the output, it can be seen that the p-value of 0.5899 is greater than the significance level of 0.05. This means that there is no evidence to suggest that the variance in data is statistically significantly different for the three treatment groups."
   ]
  },
  {
   "cell_type": "markdown",
   "id": "d3d94877",
   "metadata": {},
   "source": [
    "Therefore, we perform one way ANOVA TEST"
   ]
  },
  {
   "cell_type": "code",
   "execution_count": 43,
   "id": "360d1c90",
   "metadata": {},
   "outputs": [],
   "source": [
    "F, p = stats.f_oneway(labtat.l1, labtat.l2, labtat.l3, labtat.l4)"
   ]
  },
  {
   "cell_type": "code",
   "execution_count": 44,
   "id": "2567edeb",
   "metadata": {},
   "outputs": [
    {
     "data": {
      "text/plain": [
       "121.39264646442368"
      ]
     },
     "execution_count": 44,
     "metadata": {},
     "output_type": "execute_result"
    }
   ],
   "source": [
    "F"
   ]
  },
  {
   "cell_type": "code",
   "execution_count": 45,
   "id": "4831b602",
   "metadata": {},
   "outputs": [
    {
     "data": {
      "text/plain": [
       "2.143740909435053e-58"
      ]
     },
     "execution_count": 45,
     "metadata": {},
     "output_type": "execute_result"
    }
   ],
   "source": [
    "p"
   ]
  },
  {
   "cell_type": "markdown",
   "id": "cf40745f",
   "metadata": {},
   "source": [
    "- As the p-value is less than the significance level 0.05, we can conclude that there are significant differences between the groups highlighted with “*\" in the model summary."
   ]
  },
  {
   "cell_type": "markdown",
   "id": "a17a016f",
   "metadata": {},
   "source": [
    "#### Multiple pairwise-comparison between the means of groups:"
   ]
  },
  {
   "cell_type": "markdown",
   "id": "fd4d6083",
   "metadata": {},
   "source": [
    "In one-way ANOVA test, a significant p-value indicates that some of the group means are different, but we don’t know which pairs of groups are different. \n",
    "\n",
    "\n",
    "It’s possible to perform multiple pairwise-comparison, to determine if the mean difference between specific pairs of group are statistically significant."
   ]
  },
  {
   "cell_type": "markdown",
   "id": "06f7906c",
   "metadata": {},
   "source": [
    "##### Tukey multiple pairwise-comparisons"
   ]
  },
  {
   "cell_type": "markdown",
   "id": "31d182cd",
   "metadata": {},
   "source": [
    "As the ANOVA test is significant, we can compute Tukey HSD (Tukey Honest Significant Differences, R function: TukeyHSD()) for performing multiple pairwise-comparison between the means of groups. \n",
    "\n",
    "\n",
    "The function TukeyHD() takes the fitted ANOVA as an argument."
   ]
  },
  {
   "cell_type": "code",
   "execution_count": 48,
   "id": "e2ffff1d",
   "metadata": {},
   "outputs": [
    {
     "data": {
      "text/plain": [
       "F_onewayResult(statistic=121.39264646442368, pvalue=2.143740909435053e-58)"
      ]
     },
     "execution_count": 48,
     "metadata": {},
     "output_type": "execute_result"
    }
   ],
   "source": [
    "#perform one-way ANOVA\n",
    "f_oneway(labtat.l1, labtat.l2, labtat.l3, labtat.l4)"
   ]
  },
  {
   "cell_type": "code",
   "execution_count": 50,
   "id": "d33f9a61",
   "metadata": {},
   "outputs": [
    {
     "name": "stdout",
     "output_type": "stream",
     "text": [
      "P value:\n",
      "1.3879045556017055e-07\n"
     ]
    }
   ],
   "source": [
    "# Create four random groups of data with a mean difference of 1\n",
    "\n",
    "mu, sigma = 10, 3 # mean and standard deviation\n",
    "group1 = np.random.normal(mu, sigma, 50)\n",
    "\n",
    "mu, sigma = 11, 3 # mean and standard deviation\n",
    "group2 = np.random.normal(mu, sigma, 50)\n",
    "\n",
    "mu, sigma = 12, 3 # mean and standard deviation\n",
    "group3 = np.random.normal(mu, sigma, 50)\n",
    "\n",
    "mu, sigma = 13, 3 # mean and standard deviation\n",
    "group4 = np.random.normal(mu, sigma, 50)\n",
    "\n",
    "# Show the results for Anova\n",
    "\n",
    "F_statistic, pVal = stats.f_oneway(group1, group2, group3, group4)\n",
    "\n",
    "print ('P value:')\n",
    "print (pVal)"
   ]
  },
  {
   "cell_type": "markdown",
   "id": "43a80b00",
   "metadata": {},
   "source": [
    "For the multicomparison tests we will put the data into a dataframe. And then reshape it to a stacked dataframe"
   ]
  },
  {
   "cell_type": "code",
   "execution_count": 51,
   "id": "67727c95",
   "metadata": {},
   "outputs": [],
   "source": [
    "# Put into dataframe\n",
    "df = labtat\n",
    "df = pd.DataFrame()\n",
    "df['l1'] = group1\n",
    "df['l2'] = group2\n",
    "df['l3'] = group3\n",
    "df['l4'] = group4"
   ]
  },
  {
   "cell_type": "code",
   "execution_count": 52,
   "id": "94ed99b2",
   "metadata": {},
   "outputs": [],
   "source": [
    "# Stack the data (and rename columns):\n",
    "\n",
    "stacked_data = df.stack().reset_index()\n",
    "stacked_data = stacked_data.rename(columns={'level_0': 'id',\n",
    "                                            'level_1': 'lab',\n",
    "                                            0:'result'})"
   ]
  },
  {
   "cell_type": "code",
   "execution_count": 53,
   "id": "59026d3a",
   "metadata": {},
   "outputs": [
    {
     "name": "stdout",
     "output_type": "stream",
     "text": [
      "   id lab     result\n",
      "0   0  l1  17.164282\n",
      "1   0  l2   9.623453\n",
      "2   0  l3   8.734313\n",
      "3   0  l4  13.342110\n",
      "4   1  l1   7.975878\n",
      "5   1  l2  14.546414\n",
      "6   1  l3  13.217575\n",
      "7   1  l4  17.265002\n"
     ]
    }
   ],
   "source": [
    "# Show the first 8 rows:\n",
    "\n",
    "print (stacked_data.head(8))"
   ]
  },
  {
   "cell_type": "code",
   "execution_count": 55,
   "id": "bf7084d7",
   "metadata": {},
   "outputs": [
    {
     "name": "stdout",
     "output_type": "stream",
     "text": [
      "Multiple Comparison of Means - Tukey HSD, FWER=0.05\n",
      "===================================================\n",
      "group1 group2 meandiff p-adj   lower  upper  reject\n",
      "---------------------------------------------------\n",
      "    l1     l2   1.0606   0.28 -0.4723 2.5934  False\n",
      "    l1     l3   1.6683  0.027  0.1354 3.2011   True\n",
      "    l1     l4   3.5439  0.001   2.011 5.0767   True\n",
      "    l2     l3   0.6077 0.7092 -0.9252 2.1406  False\n",
      "    l2     l4   2.4833  0.001  0.9504 4.0162   True\n",
      "    l3     l4   1.8756 0.0095  0.3427 3.4085   True\n",
      "---------------------------------------------------\n"
     ]
    }
   ],
   "source": [
    "from statsmodels.stats.multicomp import (pairwise_tukeyhsd,\n",
    "                                         MultiComparison)\n",
    "\n",
    "# Set up the data for comparison (creates a specialised object)\n",
    "MultiComp = MultiComparison(stacked_data['result'],\n",
    "                            stacked_data['lab'])\n",
    "\n",
    "# Show all pair-wise comparisons:\n",
    "\n",
    "# Print the comparisons\n",
    "\n",
    "print(MultiComp.tukeyhsd().summary())"
   ]
  },
  {
   "cell_type": "markdown",
   "id": "3c277a91",
   "metadata": {},
   "source": [
    "## Conclusion:"
   ]
  },
  {
   "cell_type": "markdown",
   "id": "ace46ded",
   "metadata": {},
   "source": [
    "- Ha : There is differences in the average TAT of 4 laboratories except for Lab 1 and Lab 2"
   ]
  },
  {
   "cell_type": "markdown",
   "id": "f4f58294",
   "metadata": {},
   "source": [
    "# -------------------------------------------------------------------------------------"
   ]
  },
  {
   "cell_type": "markdown",
   "id": "debc0ac6",
   "metadata": {},
   "source": [
    "## 3. Sales of products in four different regions is tabulated for males and females. Find if male-female buyer rations are similar across regions.\n",
    "## H0 : All Proportions are equal\n",
    "## Ha : Not All proportions are equal"
   ]
  },
  {
   "cell_type": "markdown",
   "id": "305975b8",
   "metadata": {},
   "source": [
    "## ANSWER:"
   ]
  },
  {
   "cell_type": "code",
   "execution_count": 57,
   "id": "8d0594d2",
   "metadata": {},
   "outputs": [],
   "source": [
    "BuyerRatio = pd.read_csv(\"G:\\\\360digit\\\\assignments meterial\\\\Hypothesis testing\\\\BuyerRatio.csv\")"
   ]
  },
  {
   "cell_type": "code",
   "execution_count": 63,
   "id": "95fe8562",
   "metadata": {},
   "outputs": [
    {
     "data": {
      "text/html": [
       "<div>\n",
       "<style scoped>\n",
       "    .dataframe tbody tr th:only-of-type {\n",
       "        vertical-align: middle;\n",
       "    }\n",
       "\n",
       "    .dataframe tbody tr th {\n",
       "        vertical-align: top;\n",
       "    }\n",
       "\n",
       "    .dataframe thead th {\n",
       "        text-align: right;\n",
       "    }\n",
       "</style>\n",
       "<table border=\"1\" class=\"dataframe\">\n",
       "  <thead>\n",
       "    <tr style=\"text-align: right;\">\n",
       "      <th></th>\n",
       "      <th>Observed Values</th>\n",
       "      <th>East</th>\n",
       "      <th>West</th>\n",
       "      <th>North</th>\n",
       "      <th>South</th>\n",
       "    </tr>\n",
       "  </thead>\n",
       "  <tbody>\n",
       "    <tr>\n",
       "      <th>0</th>\n",
       "      <td>Males</td>\n",
       "      <td>50</td>\n",
       "      <td>142</td>\n",
       "      <td>131</td>\n",
       "      <td>70</td>\n",
       "    </tr>\n",
       "    <tr>\n",
       "      <th>1</th>\n",
       "      <td>Females</td>\n",
       "      <td>435</td>\n",
       "      <td>1523</td>\n",
       "      <td>1356</td>\n",
       "      <td>750</td>\n",
       "    </tr>\n",
       "  </tbody>\n",
       "</table>\n",
       "</div>"
      ],
      "text/plain": [
       "  Observed Values  East  West  North  South\n",
       "0           Males    50   142    131     70\n",
       "1         Females   435  1523   1356    750"
      ]
     },
     "execution_count": 63,
     "metadata": {},
     "output_type": "execute_result"
    }
   ],
   "source": [
    "BuyerRatio"
   ]
  },
  {
   "cell_type": "code",
   "execution_count": 64,
   "id": "ded34345",
   "metadata": {},
   "outputs": [],
   "source": [
    "BuyerRatio.columns = [\"gender\", \"E\", \"W\", \"N\", \"S\"]"
   ]
  },
  {
   "cell_type": "code",
   "execution_count": 65,
   "id": "8a06d431",
   "metadata": {},
   "outputs": [
    {
     "data": {
      "text/html": [
       "<div>\n",
       "<style scoped>\n",
       "    .dataframe tbody tr th:only-of-type {\n",
       "        vertical-align: middle;\n",
       "    }\n",
       "\n",
       "    .dataframe tbody tr th {\n",
       "        vertical-align: top;\n",
       "    }\n",
       "\n",
       "    .dataframe thead th {\n",
       "        text-align: right;\n",
       "    }\n",
       "</style>\n",
       "<table border=\"1\" class=\"dataframe\">\n",
       "  <thead>\n",
       "    <tr style=\"text-align: right;\">\n",
       "      <th></th>\n",
       "      <th>gender</th>\n",
       "      <th>E</th>\n",
       "      <th>W</th>\n",
       "      <th>N</th>\n",
       "      <th>S</th>\n",
       "    </tr>\n",
       "  </thead>\n",
       "  <tbody>\n",
       "    <tr>\n",
       "      <th>0</th>\n",
       "      <td>Males</td>\n",
       "      <td>50</td>\n",
       "      <td>142</td>\n",
       "      <td>131</td>\n",
       "      <td>70</td>\n",
       "    </tr>\n",
       "    <tr>\n",
       "      <th>1</th>\n",
       "      <td>Females</td>\n",
       "      <td>435</td>\n",
       "      <td>1523</td>\n",
       "      <td>1356</td>\n",
       "      <td>750</td>\n",
       "    </tr>\n",
       "  </tbody>\n",
       "</table>\n",
       "</div>"
      ],
      "text/plain": [
       "    gender    E     W     N    S\n",
       "0    Males   50   142   131   70\n",
       "1  Females  435  1523  1356  750"
      ]
     },
     "execution_count": 65,
     "metadata": {},
     "output_type": "execute_result"
    }
   ],
   "source": [
    "BuyerRatio.head()"
   ]
  },
  {
   "cell_type": "markdown",
   "id": "1da50239",
   "metadata": {},
   "source": [
    "- Inputs are 4 discrete variables(east,west,north,south). \n",
    "\n",
    "\n",
    "- Output is also discrete. We are trying to find out if proportions of male and female are similar or not across the regions \n",
    "\n",
    "\n",
    "- We proceed with chi-square test"
   ]
  },
  {
   "cell_type": "markdown",
   "id": "20eb5efa",
   "metadata": {},
   "source": [
    "#### Create hypothesis: \n",
    "###### Ho= Proportions of Male and Female are same \n",
    "###### Ha= Proportions of Male and Female are not same \n",
    "###### Alpha=0.05"
   ]
  },
  {
   "cell_type": "code",
   "execution_count": 39,
   "id": "aca18ff4",
   "metadata": {},
   "outputs": [
    {
     "data": {
      "text/plain": [
       "\n",
       "\tPearson's Chi-squared test\n",
       "\n",
       "data:  BR\n",
       "X-squared = 1.5959, df = 3, p-value = 0.6603\n"
      ]
     },
     "metadata": {},
     "output_type": "display_data"
    }
   ],
   "source": [
    "Chi_square"
   ]
  },
  {
   "cell_type": "markdown",
   "id": "4fefd424",
   "metadata": {},
   "source": [
    "- if p-value is > 0.05 => Accept null hypothesis"
   ]
  },
  {
   "cell_type": "markdown",
   "id": "04793a17",
   "metadata": {},
   "source": [
    "## Conclusion:"
   ]
  },
  {
   "cell_type": "markdown",
   "id": "f8976523",
   "metadata": {},
   "source": [
    "- Ho= Proportions of Male and Female are same"
   ]
  },
  {
   "cell_type": "markdown",
   "id": "77038fe1",
   "metadata": {},
   "source": [
    "# -------------------------------------------------------------------------------------"
   ]
  },
  {
   "cell_type": "markdown",
   "id": "ab7b85d8",
   "metadata": {},
   "source": [
    "## 4. Telecall uses 4 centers around the globe to process customer order forms. They audit a certain % of the customer order forms. Any error in order form renders it defective and must be reworked before processing. The manager wants to check whether the defective % varies by center. Please analyze the data at 5% significance level and help the manager draw appropriate inferences"
   ]
  },
  {
   "cell_type": "markdown",
   "id": "19a83313",
   "metadata": {},
   "source": [
    "## ANSWER:"
   ]
  },
  {
   "cell_type": "markdown",
   "id": "4a27d513",
   "metadata": {},
   "source": [
    "- Ho= There is no Variations in percentage of defect across different centres \n",
    "- Ha: There is Variations in percentage of defect across different centres\n",
    "- Both x and y are discrete and there are more than 2 groups so we proceed with Chi squared Test \n",
    "+ Alpha=0.05"
   ]
  },
  {
   "cell_type": "code",
   "execution_count": 69,
   "id": "8ff0779b",
   "metadata": {},
   "outputs": [],
   "source": [
    "CustO = pd.read_csv(r\"G:\\360digit\\assignments meterial\\Hypothesis testing\\CustomerOrderform.csv\")"
   ]
  },
  {
   "cell_type": "code",
   "execution_count": 70,
   "id": "e80ca8a2",
   "metadata": {},
   "outputs": [
    {
     "data": {
      "text/html": [
       "<div>\n",
       "<style scoped>\n",
       "    .dataframe tbody tr th:only-of-type {\n",
       "        vertical-align: middle;\n",
       "    }\n",
       "\n",
       "    .dataframe tbody tr th {\n",
       "        vertical-align: top;\n",
       "    }\n",
       "\n",
       "    .dataframe thead th {\n",
       "        text-align: right;\n",
       "    }\n",
       "</style>\n",
       "<table border=\"1\" class=\"dataframe\">\n",
       "  <thead>\n",
       "    <tr style=\"text-align: right;\">\n",
       "      <th></th>\n",
       "      <th>Phillippines</th>\n",
       "      <th>Indonesia</th>\n",
       "      <th>Malta</th>\n",
       "      <th>India</th>\n",
       "    </tr>\n",
       "  </thead>\n",
       "  <tbody>\n",
       "    <tr>\n",
       "      <th>0</th>\n",
       "      <td>Error Free</td>\n",
       "      <td>Error Free</td>\n",
       "      <td>Defective</td>\n",
       "      <td>Error Free</td>\n",
       "    </tr>\n",
       "    <tr>\n",
       "      <th>1</th>\n",
       "      <td>Error Free</td>\n",
       "      <td>Error Free</td>\n",
       "      <td>Error Free</td>\n",
       "      <td>Defective</td>\n",
       "    </tr>\n",
       "    <tr>\n",
       "      <th>2</th>\n",
       "      <td>Error Free</td>\n",
       "      <td>Defective</td>\n",
       "      <td>Defective</td>\n",
       "      <td>Error Free</td>\n",
       "    </tr>\n",
       "    <tr>\n",
       "      <th>3</th>\n",
       "      <td>Error Free</td>\n",
       "      <td>Error Free</td>\n",
       "      <td>Error Free</td>\n",
       "      <td>Error Free</td>\n",
       "    </tr>\n",
       "    <tr>\n",
       "      <th>4</th>\n",
       "      <td>Error Free</td>\n",
       "      <td>Error Free</td>\n",
       "      <td>Defective</td>\n",
       "      <td>Error Free</td>\n",
       "    </tr>\n",
       "  </tbody>\n",
       "</table>\n",
       "</div>"
      ],
      "text/plain": [
       "  Phillippines   Indonesia       Malta       India\n",
       "0   Error Free  Error Free   Defective  Error Free\n",
       "1   Error Free  Error Free  Error Free   Defective\n",
       "2   Error Free   Defective   Defective  Error Free\n",
       "3   Error Free  Error Free  Error Free  Error Free\n",
       "4   Error Free  Error Free   Defective  Error Free"
      ]
     },
     "execution_count": 70,
     "metadata": {},
     "output_type": "execute_result"
    }
   ],
   "source": [
    "CustO.head()"
   ]
  },
  {
   "cell_type": "code",
   "execution_count": 76,
   "id": "e856758a",
   "metadata": {},
   "outputs": [
    {
     "data": {
      "text/plain": [
       "count            300\n",
       "unique             2\n",
       "top       Error Free\n",
       "freq             271\n",
       "Name: Phillippines, dtype: object"
      ]
     },
     "execution_count": 76,
     "metadata": {},
     "output_type": "execute_result"
    }
   ],
   "source": [
    "(CustO.Phillippines).describe()"
   ]
  },
  {
   "cell_type": "code",
   "execution_count": 77,
   "id": "e631471d",
   "metadata": {},
   "outputs": [
    {
     "data": {
      "text/plain": [
       "count            300\n",
       "unique             2\n",
       "top       Error Free\n",
       "freq             267\n",
       "Name: Indonesia, dtype: object"
      ]
     },
     "execution_count": 77,
     "metadata": {},
     "output_type": "execute_result"
    }
   ],
   "source": [
    "CustO.Indonesia.describe()"
   ]
  },
  {
   "cell_type": "code",
   "execution_count": 78,
   "id": "ab6971f8",
   "metadata": {},
   "outputs": [
    {
     "data": {
      "text/plain": [
       "count            300\n",
       "unique             2\n",
       "top       Error Free\n",
       "freq             269\n",
       "Name: Malta, dtype: object"
      ]
     },
     "execution_count": 78,
     "metadata": {},
     "output_type": "execute_result"
    }
   ],
   "source": [
    "CustO.Malta.describe()"
   ]
  },
  {
   "cell_type": "code",
   "execution_count": 79,
   "id": "0b221c67",
   "metadata": {},
   "outputs": [
    {
     "data": {
      "text/plain": [
       "count            300\n",
       "unique             2\n",
       "top       Error Free\n",
       "freq             280\n",
       "Name: India, dtype: object"
      ]
     },
     "execution_count": 79,
     "metadata": {},
     "output_type": "execute_result"
    }
   ],
   "source": [
    "CustO.India.describe()"
   ]
  },
  {
   "cell_type": "code",
   "execution_count": 10,
   "id": "c41d15df",
   "metadata": {},
   "outputs": [
    {
     "data": {
      "text/plain": [
       "            directions\n",
       "status       Phillipines Indonesia Malta India\n",
       "  Defective           29        33    31    20\n",
       "  Error Free         271       267   269   280"
      ]
     },
     "metadata": {},
     "output_type": "display_data"
    }
   ],
   "source": [
    "CO"
   ]
  },
  {
   "cell_type": "code",
   "execution_count": 11,
   "id": "1610ce6a",
   "metadata": {},
   "outputs": [
    {
     "data": {
      "text/plain": [
       "\n",
       "\tPearson's Chi-squared test\n",
       "\n",
       "data:  CO\n",
       "X-squared = 3.859, df = 3, p-value = 0.2771\n"
      ]
     },
     "metadata": {},
     "output_type": "display_data"
    }
   ],
   "source": [
    "chisq_test(CO)"
   ]
  },
  {
   "cell_type": "markdown",
   "id": "955b9f23",
   "metadata": {},
   "source": [
    "- if p-value is > 0.05 => Accept null hypothesis"
   ]
  },
  {
   "cell_type": "markdown",
   "id": "1811dfd1",
   "metadata": {},
   "source": [
    "## Conclusion:"
   ]
  },
  {
   "cell_type": "markdown",
   "id": "8a0e01f1",
   "metadata": {},
   "source": [
    "- Ho= There is no Variations in percentage of defect across different centres"
   ]
  },
  {
   "cell_type": "markdown",
   "id": "f9c7ab88",
   "metadata": {},
   "source": [
    "# -----------------------------------------------------------------------------------------"
   ]
  },
  {
   "cell_type": "markdown",
   "id": "855ec446",
   "metadata": {},
   "source": [
    "## 5. Fantaloons Sales managers commented that % of males versus females walking into the store differ based on day of the week. Analyze the data and determine whether there is evidence at 5 % significance level to support this hypothesis."
   ]
  },
  {
   "cell_type": "markdown",
   "id": "b237f1a1",
   "metadata": {},
   "source": [
    "## ANSWER:"
   ]
  },
  {
   "cell_type": "markdown",
   "id": "32e6ea79",
   "metadata": {},
   "source": [
    "######  Ho:  \n",
    "* that % of males versus females walking in to the store DOES NOT differ based on day of the week\n",
    "\n",
    "\n",
    "###### Ha: \n",
    "* that % of males versus females walking in to the store differ based on day of the week\n",
    "\n",
    "\n",
    "###### Both x and y are discrete and there are 2 groups so we proceed with 2 ProportionTest \n",
    "\n",
    "\n",
    "###### Alpha: 0.05"
   ]
  },
  {
   "cell_type": "code",
   "execution_count": 80,
   "id": "a4d707b5",
   "metadata": {},
   "outputs": [],
   "source": [
    "Faltoons = pd.read_csv(r\"G:\\360digit\\assignments meterial\\Hypothesis testing\\Fantaloons.csv\")"
   ]
  },
  {
   "cell_type": "code",
   "execution_count": 81,
   "id": "a7647b2c",
   "metadata": {},
   "outputs": [
    {
     "data": {
      "text/html": [
       "<div>\n",
       "<style scoped>\n",
       "    .dataframe tbody tr th:only-of-type {\n",
       "        vertical-align: middle;\n",
       "    }\n",
       "\n",
       "    .dataframe tbody tr th {\n",
       "        vertical-align: top;\n",
       "    }\n",
       "\n",
       "    .dataframe thead th {\n",
       "        text-align: right;\n",
       "    }\n",
       "</style>\n",
       "<table border=\"1\" class=\"dataframe\">\n",
       "  <thead>\n",
       "    <tr style=\"text-align: right;\">\n",
       "      <th></th>\n",
       "      <th>Weekdays</th>\n",
       "      <th>Weekend</th>\n",
       "    </tr>\n",
       "  </thead>\n",
       "  <tbody>\n",
       "    <tr>\n",
       "      <th>0</th>\n",
       "      <td>Male</td>\n",
       "      <td>Female</td>\n",
       "    </tr>\n",
       "    <tr>\n",
       "      <th>1</th>\n",
       "      <td>Female</td>\n",
       "      <td>Male</td>\n",
       "    </tr>\n",
       "    <tr>\n",
       "      <th>2</th>\n",
       "      <td>Female</td>\n",
       "      <td>Male</td>\n",
       "    </tr>\n",
       "    <tr>\n",
       "      <th>3</th>\n",
       "      <td>Male</td>\n",
       "      <td>Female</td>\n",
       "    </tr>\n",
       "    <tr>\n",
       "      <th>4</th>\n",
       "      <td>Female</td>\n",
       "      <td>Female</td>\n",
       "    </tr>\n",
       "  </tbody>\n",
       "</table>\n",
       "</div>"
      ],
      "text/plain": [
       "  Weekdays Weekend\n",
       "0     Male  Female\n",
       "1   Female    Male\n",
       "2   Female    Male\n",
       "3     Male  Female\n",
       "4   Female  Female"
      ]
     },
     "execution_count": 81,
     "metadata": {},
     "output_type": "execute_result"
    }
   ],
   "source": [
    "Faltoons.head()"
   ]
  },
  {
   "cell_type": "code",
   "execution_count": 101,
   "id": "1f086705",
   "metadata": {},
   "outputs": [
    {
     "data": {
      "text/plain": [
       "'    Weekdays Weekend\\n0       Male  Female\\n1     Female    Male\\n2     Female    Male\\n3       Male  Female\\n4     Female  Female\\n..       ...     ...\\n420      NaN     NaN\\n421      NaN     NaN\\n422      NaN     NaN\\n423      NaN     NaN\\n424      NaN     NaN\\n\\n[425 rows x 2 columns]'"
      ]
     },
     "execution_count": 101,
     "metadata": {},
     "output_type": "execute_result"
    }
   ],
   "source": [
    "str(Faltoons)"
   ]
  },
  {
   "cell_type": "code",
   "execution_count": 96,
   "id": "09c11d68",
   "metadata": {},
   "outputs": [
    {
     "data": {
      "text/plain": [
       "count        400\n",
       "unique         2\n",
       "top       Female\n",
       "freq         287\n",
       "Name: Weekdays, dtype: object"
      ]
     },
     "execution_count": 96,
     "metadata": {},
     "output_type": "execute_result"
    }
   ],
   "source": [
    "Faltoons.Weekdays.describe()"
   ]
  },
  {
   "cell_type": "code",
   "execution_count": 97,
   "id": "c96d800d",
   "metadata": {
    "scrolled": true
   },
   "outputs": [
    {
     "data": {
      "text/plain": [
       "count        400\n",
       "unique         2\n",
       "top       Female\n",
       "freq         233\n",
       "Name: Weekend, dtype: object"
      ]
     },
     "execution_count": 97,
     "metadata": {},
     "output_type": "execute_result"
    }
   ],
   "source": [
    "Faltoons.Weekend.describe()"
   ]
  },
  {
   "cell_type": "code",
   "execution_count": 89,
   "id": "cc4970f0",
   "metadata": {},
   "outputs": [
    {
     "data": {
      "text/plain": [
       "Female    287\n",
       "Male      113\n",
       "Name: Weekdays, dtype: int64"
      ]
     },
     "execution_count": 89,
     "metadata": {},
     "output_type": "execute_result"
    }
   ],
   "source": [
    "from statsmodels.stats.proportion import proportions_ztest\n",
    "\n",
    "tab1 = Faltoons.Weekdays.value_counts()\n",
    "tab1"
   ]
  },
  {
   "cell_type": "code",
   "execution_count": 88,
   "id": "b2535931",
   "metadata": {},
   "outputs": [
    {
     "data": {
      "text/plain": [
       "Female    233\n",
       "Male      167\n",
       "Name: Weekend, dtype: int64"
      ]
     },
     "execution_count": 88,
     "metadata": {},
     "output_type": "execute_result"
    }
   ],
   "source": [
    "tab2 = Faltoons.Weekend.value_counts()\n",
    "tab2"
   ]
  },
  {
   "cell_type": "code",
   "execution_count": 103,
   "id": "ae443d57",
   "metadata": {},
   "outputs": [
    {
     "data": {
      "text/plain": [
       "Ttest_indResult(statistic=0.0, pvalue=1.0)"
      ]
     },
     "execution_count": 103,
     "metadata": {},
     "output_type": "execute_result"
    }
   ],
   "source": [
    "p = scipy.stats.ttest_ind(tab1, tab2)"
   ]
  },
  {
   "cell_type": "code",
   "execution_count": 20,
   "id": "51138611",
   "metadata": {},
   "outputs": [
    {
     "data": {
      "text/plain": [
       "\n",
       "\t2-sample test for equality of proportions without continuity\n",
       "\tcorrection\n",
       "\n",
       "data:  c(287, 233) out of c(400, 400)\n",
       "X-squared = 16.022, df = 1, p-value = 6.261e-05\n",
       "alternative hypothesis: two.sided\n",
       "95 percent confidence interval:\n",
       " 0.06956189 0.20043811\n",
       "sample estimates:\n",
       "prop 1 prop 2 \n",
       "0.7175 0.5825 \n"
      ]
     },
     "metadata": {},
     "output_type": "display_data"
    }
   ],
   "source": [
    "p"
   ]
  },
  {
   "cell_type": "markdown",
   "id": "4c7c46f8",
   "metadata": {},
   "source": [
    "- if p-value is < 0.05 => Reject null hypothesis\n",
    "\n",
    "- And we can see in the above output that p value is less than 0.05"
   ]
  },
  {
   "cell_type": "markdown",
   "id": "4919b543",
   "metadata": {},
   "source": [
    "## Conclusion:"
   ]
  },
  {
   "cell_type": "markdown",
   "id": "41f06bcd",
   "metadata": {},
   "source": [
    "- Ha: that % of males versus females walking in to the store differ based on day of the week"
   ]
  }
 ],
 "metadata": {
  "kernelspec": {
   "display_name": "Python 3",
   "language": "python",
   "name": "python3"
  },
  "language_info": {
   "codemirror_mode": {
    "name": "ipython",
    "version": 3
   },
   "file_extension": ".py",
   "mimetype": "text/x-python",
   "name": "python",
   "nbconvert_exporter": "python",
   "pygments_lexer": "ipython3",
   "version": "3.8.8"
  }
 },
 "nbformat": 4,
 "nbformat_minor": 5
}
