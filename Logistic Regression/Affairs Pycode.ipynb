{
 "cells": [
  {
   "cell_type": "markdown",
   "id": "a5e071d1",
   "metadata": {},
   "source": [
   
    "# *Logistic Regression ✨"
   ]
  },
  {
   "cell_type": "markdown",
   "id": "2a7d9eff",
   "metadata": {},
   "source": [
    "# ---------------------------------------------------------------------------"
   ]
  },
  {
   "cell_type": "markdown",
   "id": "30aeb645",
   "metadata": {},
   "source": [
    "## Problem Statement:"
   ]
  },
  {
   "cell_type": "markdown",
   "id": "b2eca843",
   "metadata": {},
   "source": [
    "## A psychological study has been conducted by a team of students at a University on married couples to determine the cause and effect on their married life and why they tend to have an extra marital affair, they have surveyed and collected a sample of data on which they would like to do further analysis to improve the relationship bond between couple, is it even possible to do so? Using your skills of Machine Learning apply Logistic Regression Model on the data and correctly classify whether a given person will have an affair or not given the set of attributes. "
   ]
  },
  {
   "cell_type": "markdown",
   "id": "2b539e5a",
   "metadata": {},
   "source": [
    "## -----------------------------------------------------------------------------------"
   ]
  },
  {
   "cell_type": "markdown",
   "id": "27478c5f",
   "metadata": {},
   "source": [
    "### Problem Objective:\n",
    "##### To prepare a prediction model to classify whether a given person will have an affair or not given the set of attributes."
   ]
  },
  {
   "cell_type": "markdown",
   "id": "f0acedba",
   "metadata": {},
   "source": [
    "## -------------------------------------------------------------------------------------------"
   ]
  },
  {
   "cell_type": "markdown",
   "id": "f5f8057c",
   "metadata": {},
   "source": [
    "## import libraries:"
   ]
  },
  {
   "cell_type": "code",
   "execution_count": 24,
   "id": "ea110f7e",
   "metadata": {},
   "outputs": [],
   "source": [
    "import numpy as np\n",
    "import pandas as pd\n",
    "import statsmodels.api as sm\n",
    "import matplotlib.pyplot as plt\n",
    "import seaborn as sns\n",
    "from patsy import dmatrices\n",
    "from sklearn.linear_model import LogisticRegression\n",
    "from sklearn.model_selection import train_test_split\n",
    "from sklearn import metrics\n",
    "from sklearn.model_selection import cross_val_score"
   ]
  },
  {
   "cell_type": "markdown",
   "id": "18ef8619",
   "metadata": {},
   "source": [
    "## import dataset:"
   ]
  },
  {
   "cell_type": "code",
   "execution_count": 8,
   "id": "0243b780",
   "metadata": {},
   "outputs": [],
   "source": [
    "data = pd.read_csv(r\"G:\\360digit\\assignments meterial\\logistic regression\\Affairs.csv\")"
   ]
  },
  {
   "cell_type": "code",
   "execution_count": 9,
   "id": "a28b6c30",
   "metadata": {},
   "outputs": [
    {
     "data": {
      "text/html": [
       "<div>\n",
       "<style scoped>\n",
       "    .dataframe tbody tr th:only-of-type {\n",
       "        vertical-align: middle;\n",
       "    }\n",
       "\n",
       "    .dataframe tbody tr th {\n",
       "        vertical-align: top;\n",
       "    }\n",
       "\n",
       "    .dataframe thead th {\n",
       "        text-align: right;\n",
       "    }\n",
       "</style>\n",
       "<table border=\"1\" class=\"dataframe\">\n",
       "  <thead>\n",
       "    <tr style=\"text-align: right;\">\n",
       "      <th></th>\n",
       "      <th>Unnamed: 0</th>\n",
       "      <th>naffairs</th>\n",
       "      <th>kids</th>\n",
       "      <th>vryunhap</th>\n",
       "      <th>unhap</th>\n",
       "      <th>avgmarr</th>\n",
       "      <th>hapavg</th>\n",
       "      <th>vryhap</th>\n",
       "      <th>antirel</th>\n",
       "      <th>notrel</th>\n",
       "      <th>slghtrel</th>\n",
       "      <th>smerel</th>\n",
       "      <th>vryrel</th>\n",
       "      <th>yrsmarr1</th>\n",
       "      <th>yrsmarr2</th>\n",
       "      <th>yrsmarr3</th>\n",
       "      <th>yrsmarr4</th>\n",
       "      <th>yrsmarr5</th>\n",
       "      <th>yrsmarr6</th>\n",
       "    </tr>\n",
       "  </thead>\n",
       "  <tbody>\n",
       "    <tr>\n",
       "      <th>0</th>\n",
       "      <td>1</td>\n",
       "      <td>0</td>\n",
       "      <td>0</td>\n",
       "      <td>0</td>\n",
       "      <td>0</td>\n",
       "      <td>0</td>\n",
       "      <td>1</td>\n",
       "      <td>0</td>\n",
       "      <td>0</td>\n",
       "      <td>0</td>\n",
       "      <td>1</td>\n",
       "      <td>0</td>\n",
       "      <td>0</td>\n",
       "      <td>0</td>\n",
       "      <td>0</td>\n",
       "      <td>0</td>\n",
       "      <td>0</td>\n",
       "      <td>1</td>\n",
       "      <td>0</td>\n",
       "    </tr>\n",
       "    <tr>\n",
       "      <th>1</th>\n",
       "      <td>2</td>\n",
       "      <td>0</td>\n",
       "      <td>0</td>\n",
       "      <td>0</td>\n",
       "      <td>0</td>\n",
       "      <td>0</td>\n",
       "      <td>1</td>\n",
       "      <td>0</td>\n",
       "      <td>0</td>\n",
       "      <td>0</td>\n",
       "      <td>0</td>\n",
       "      <td>1</td>\n",
       "      <td>0</td>\n",
       "      <td>0</td>\n",
       "      <td>0</td>\n",
       "      <td>1</td>\n",
       "      <td>0</td>\n",
       "      <td>0</td>\n",
       "      <td>0</td>\n",
       "    </tr>\n",
       "    <tr>\n",
       "      <th>2</th>\n",
       "      <td>3</td>\n",
       "      <td>3</td>\n",
       "      <td>0</td>\n",
       "      <td>0</td>\n",
       "      <td>0</td>\n",
       "      <td>0</td>\n",
       "      <td>1</td>\n",
       "      <td>0</td>\n",
       "      <td>0</td>\n",
       "      <td>0</td>\n",
       "      <td>1</td>\n",
       "      <td>0</td>\n",
       "      <td>0</td>\n",
       "      <td>0</td>\n",
       "      <td>1</td>\n",
       "      <td>0</td>\n",
       "      <td>0</td>\n",
       "      <td>0</td>\n",
       "      <td>0</td>\n",
       "    </tr>\n",
       "    <tr>\n",
       "      <th>3</th>\n",
       "      <td>4</td>\n",
       "      <td>0</td>\n",
       "      <td>1</td>\n",
       "      <td>0</td>\n",
       "      <td>0</td>\n",
       "      <td>0</td>\n",
       "      <td>1</td>\n",
       "      <td>0</td>\n",
       "      <td>1</td>\n",
       "      <td>0</td>\n",
       "      <td>0</td>\n",
       "      <td>0</td>\n",
       "      <td>0</td>\n",
       "      <td>0</td>\n",
       "      <td>0</td>\n",
       "      <td>0</td>\n",
       "      <td>0</td>\n",
       "      <td>0</td>\n",
       "      <td>1</td>\n",
       "    </tr>\n",
       "    <tr>\n",
       "      <th>4</th>\n",
       "      <td>5</td>\n",
       "      <td>3</td>\n",
       "      <td>1</td>\n",
       "      <td>0</td>\n",
       "      <td>0</td>\n",
       "      <td>0</td>\n",
       "      <td>0</td>\n",
       "      <td>1</td>\n",
       "      <td>0</td>\n",
       "      <td>0</td>\n",
       "      <td>1</td>\n",
       "      <td>0</td>\n",
       "      <td>0</td>\n",
       "      <td>0</td>\n",
       "      <td>0</td>\n",
       "      <td>1</td>\n",
       "      <td>0</td>\n",
       "      <td>0</td>\n",
       "      <td>0</td>\n",
       "    </tr>\n",
       "  </tbody>\n",
       "</table>\n",
       "</div>"
      ],
      "text/plain": [
       "   Unnamed: 0  naffairs  kids  vryunhap  unhap  avgmarr  hapavg  vryhap  \\\n",
       "0           1         0     0         0      0        0       1       0   \n",
       "1           2         0     0         0      0        0       1       0   \n",
       "2           3         3     0         0      0        0       1       0   \n",
       "3           4         0     1         0      0        0       1       0   \n",
       "4           5         3     1         0      0        0       0       1   \n",
       "\n",
       "   antirel  notrel  slghtrel  smerel  vryrel  yrsmarr1  yrsmarr2  yrsmarr3  \\\n",
       "0        0       0         1       0       0         0         0         0   \n",
       "1        0       0         0       1       0         0         0         1   \n",
       "2        0       0         1       0       0         0         1         0   \n",
       "3        1       0         0       0       0         0         0         0   \n",
       "4        0       0         1       0       0         0         0         1   \n",
       "\n",
       "   yrsmarr4  yrsmarr5  yrsmarr6  \n",
       "0         0         1         0  \n",
       "1         0         0         0  \n",
       "2         0         0         0  \n",
       "3         0         0         1  \n",
       "4         0         0         0  "
      ]
     },
     "execution_count": 9,
     "metadata": {},
     "output_type": "execute_result"
    }
   ],
   "source": [
    "data.head()"
   ]
  },
  {
   "cell_type": "code",
   "execution_count": 10,
   "id": "a7a98f15",
   "metadata": {},
   "outputs": [],
   "source": [
    "df = data.drop('Unnamed: 0', axis = 1)"
   ]
  },
  {
   "cell_type": "code",
   "execution_count": 13,
   "id": "a9fcfe07",
   "metadata": {},
   "outputs": [
    {
     "data": {
      "text/plain": [
       "Index(['naffairs', 'kids', 'vryunhap', 'unhap', 'avgmarr', 'hapavg', 'vryhap',\n",
       "       'antirel', 'notrel', 'slghtrel', 'smerel', 'vryrel', 'yrsmarr1',\n",
       "       'yrsmarr2', 'yrsmarr3', 'yrsmarr4', 'yrsmarr5', 'yrsmarr6'],\n",
       "      dtype='object')"
      ]
     },
     "execution_count": 13,
     "metadata": {},
     "output_type": "execute_result"
    }
   ],
   "source": [
    "df.columns"
   ]
  },
  {
   "cell_type": "code",
   "execution_count": 14,
   "id": "56db9ef1",
   "metadata": {},
   "outputs": [
    {
     "data": {
      "text/html": [
       "<div>\n",
       "<style scoped>\n",
       "    .dataframe tbody tr th:only-of-type {\n",
       "        vertical-align: middle;\n",
       "    }\n",
       "\n",
       "    .dataframe tbody tr th {\n",
       "        vertical-align: top;\n",
       "    }\n",
       "\n",
       "    .dataframe thead th {\n",
       "        text-align: right;\n",
       "    }\n",
       "</style>\n",
       "<table border=\"1\" class=\"dataframe\">\n",
       "  <thead>\n",
       "    <tr style=\"text-align: right;\">\n",
       "      <th></th>\n",
       "      <th>naffairs</th>\n",
       "      <th>kids</th>\n",
       "      <th>vryunhap</th>\n",
       "      <th>unhap</th>\n",
       "      <th>avgmarr</th>\n",
       "      <th>hapavg</th>\n",
       "      <th>vryhap</th>\n",
       "      <th>antirel</th>\n",
       "      <th>notrel</th>\n",
       "      <th>slghtrel</th>\n",
       "      <th>smerel</th>\n",
       "      <th>vryrel</th>\n",
       "      <th>yrsmarr1</th>\n",
       "      <th>yrsmarr2</th>\n",
       "      <th>yrsmarr3</th>\n",
       "      <th>yrsmarr4</th>\n",
       "      <th>yrsmarr5</th>\n",
       "      <th>yrsmarr6</th>\n",
       "    </tr>\n",
       "  </thead>\n",
       "  <tbody>\n",
       "    <tr>\n",
       "      <th>count</th>\n",
       "      <td>601.000000</td>\n",
       "      <td>601.000000</td>\n",
       "      <td>601.000000</td>\n",
       "      <td>601.000000</td>\n",
       "      <td>601.000000</td>\n",
       "      <td>601.000000</td>\n",
       "      <td>601.000000</td>\n",
       "      <td>601.000000</td>\n",
       "      <td>601.000000</td>\n",
       "      <td>601.000000</td>\n",
       "      <td>601.000000</td>\n",
       "      <td>601.000000</td>\n",
       "      <td>601.000000</td>\n",
       "      <td>601.000000</td>\n",
       "      <td>601.000000</td>\n",
       "      <td>601.000000</td>\n",
       "      <td>601.000000</td>\n",
       "      <td>601.000000</td>\n",
       "    </tr>\n",
       "    <tr>\n",
       "      <th>mean</th>\n",
       "      <td>1.455907</td>\n",
       "      <td>0.715474</td>\n",
       "      <td>0.026622</td>\n",
       "      <td>0.109817</td>\n",
       "      <td>0.154742</td>\n",
       "      <td>0.322795</td>\n",
       "      <td>0.386023</td>\n",
       "      <td>0.079867</td>\n",
       "      <td>0.272879</td>\n",
       "      <td>0.214642</td>\n",
       "      <td>0.316140</td>\n",
       "      <td>0.116473</td>\n",
       "      <td>0.086522</td>\n",
       "      <td>0.146423</td>\n",
       "      <td>0.174709</td>\n",
       "      <td>0.136439</td>\n",
       "      <td>0.116473</td>\n",
       "      <td>0.339434</td>\n",
       "    </tr>\n",
       "    <tr>\n",
       "      <th>std</th>\n",
       "      <td>3.298758</td>\n",
       "      <td>0.451564</td>\n",
       "      <td>0.161111</td>\n",
       "      <td>0.312922</td>\n",
       "      <td>0.361960</td>\n",
       "      <td>0.467935</td>\n",
       "      <td>0.487242</td>\n",
       "      <td>0.271313</td>\n",
       "      <td>0.445810</td>\n",
       "      <td>0.410916</td>\n",
       "      <td>0.465355</td>\n",
       "      <td>0.321058</td>\n",
       "      <td>0.281368</td>\n",
       "      <td>0.353824</td>\n",
       "      <td>0.380034</td>\n",
       "      <td>0.343540</td>\n",
       "      <td>0.321058</td>\n",
       "      <td>0.473912</td>\n",
       "    </tr>\n",
       "    <tr>\n",
       "      <th>min</th>\n",
       "      <td>0.000000</td>\n",
       "      <td>0.000000</td>\n",
       "      <td>0.000000</td>\n",
       "      <td>0.000000</td>\n",
       "      <td>0.000000</td>\n",
       "      <td>0.000000</td>\n",
       "      <td>0.000000</td>\n",
       "      <td>0.000000</td>\n",
       "      <td>0.000000</td>\n",
       "      <td>0.000000</td>\n",
       "      <td>0.000000</td>\n",
       "      <td>0.000000</td>\n",
       "      <td>0.000000</td>\n",
       "      <td>0.000000</td>\n",
       "      <td>0.000000</td>\n",
       "      <td>0.000000</td>\n",
       "      <td>0.000000</td>\n",
       "      <td>0.000000</td>\n",
       "    </tr>\n",
       "    <tr>\n",
       "      <th>25%</th>\n",
       "      <td>0.000000</td>\n",
       "      <td>0.000000</td>\n",
       "      <td>0.000000</td>\n",
       "      <td>0.000000</td>\n",
       "      <td>0.000000</td>\n",
       "      <td>0.000000</td>\n",
       "      <td>0.000000</td>\n",
       "      <td>0.000000</td>\n",
       "      <td>0.000000</td>\n",
       "      <td>0.000000</td>\n",
       "      <td>0.000000</td>\n",
       "      <td>0.000000</td>\n",
       "      <td>0.000000</td>\n",
       "      <td>0.000000</td>\n",
       "      <td>0.000000</td>\n",
       "      <td>0.000000</td>\n",
       "      <td>0.000000</td>\n",
       "      <td>0.000000</td>\n",
       "    </tr>\n",
       "    <tr>\n",
       "      <th>50%</th>\n",
       "      <td>0.000000</td>\n",
       "      <td>1.000000</td>\n",
       "      <td>0.000000</td>\n",
       "      <td>0.000000</td>\n",
       "      <td>0.000000</td>\n",
       "      <td>0.000000</td>\n",
       "      <td>0.000000</td>\n",
       "      <td>0.000000</td>\n",
       "      <td>0.000000</td>\n",
       "      <td>0.000000</td>\n",
       "      <td>0.000000</td>\n",
       "      <td>0.000000</td>\n",
       "      <td>0.000000</td>\n",
       "      <td>0.000000</td>\n",
       "      <td>0.000000</td>\n",
       "      <td>0.000000</td>\n",
       "      <td>0.000000</td>\n",
       "      <td>0.000000</td>\n",
       "    </tr>\n",
       "    <tr>\n",
       "      <th>75%</th>\n",
       "      <td>0.000000</td>\n",
       "      <td>1.000000</td>\n",
       "      <td>0.000000</td>\n",
       "      <td>0.000000</td>\n",
       "      <td>0.000000</td>\n",
       "      <td>1.000000</td>\n",
       "      <td>1.000000</td>\n",
       "      <td>0.000000</td>\n",
       "      <td>1.000000</td>\n",
       "      <td>0.000000</td>\n",
       "      <td>1.000000</td>\n",
       "      <td>0.000000</td>\n",
       "      <td>0.000000</td>\n",
       "      <td>0.000000</td>\n",
       "      <td>0.000000</td>\n",
       "      <td>0.000000</td>\n",
       "      <td>0.000000</td>\n",
       "      <td>1.000000</td>\n",
       "    </tr>\n",
       "    <tr>\n",
       "      <th>max</th>\n",
       "      <td>12.000000</td>\n",
       "      <td>1.000000</td>\n",
       "      <td>1.000000</td>\n",
       "      <td>1.000000</td>\n",
       "      <td>1.000000</td>\n",
       "      <td>1.000000</td>\n",
       "      <td>1.000000</td>\n",
       "      <td>1.000000</td>\n",
       "      <td>1.000000</td>\n",
       "      <td>1.000000</td>\n",
       "      <td>1.000000</td>\n",
       "      <td>1.000000</td>\n",
       "      <td>1.000000</td>\n",
       "      <td>1.000000</td>\n",
       "      <td>1.000000</td>\n",
       "      <td>1.000000</td>\n",
       "      <td>1.000000</td>\n",
       "      <td>1.000000</td>\n",
       "    </tr>\n",
       "  </tbody>\n",
       "</table>\n",
       "</div>"
      ],
      "text/plain": [
       "         naffairs        kids    vryunhap       unhap     avgmarr      hapavg  \\\n",
       "count  601.000000  601.000000  601.000000  601.000000  601.000000  601.000000   \n",
       "mean     1.455907    0.715474    0.026622    0.109817    0.154742    0.322795   \n",
       "std      3.298758    0.451564    0.161111    0.312922    0.361960    0.467935   \n",
       "min      0.000000    0.000000    0.000000    0.000000    0.000000    0.000000   \n",
       "25%      0.000000    0.000000    0.000000    0.000000    0.000000    0.000000   \n",
       "50%      0.000000    1.000000    0.000000    0.000000    0.000000    0.000000   \n",
       "75%      0.000000    1.000000    0.000000    0.000000    0.000000    1.000000   \n",
       "max     12.000000    1.000000    1.000000    1.000000    1.000000    1.000000   \n",
       "\n",
       "           vryhap     antirel      notrel    slghtrel      smerel      vryrel  \\\n",
       "count  601.000000  601.000000  601.000000  601.000000  601.000000  601.000000   \n",
       "mean     0.386023    0.079867    0.272879    0.214642    0.316140    0.116473   \n",
       "std      0.487242    0.271313    0.445810    0.410916    0.465355    0.321058   \n",
       "min      0.000000    0.000000    0.000000    0.000000    0.000000    0.000000   \n",
       "25%      0.000000    0.000000    0.000000    0.000000    0.000000    0.000000   \n",
       "50%      0.000000    0.000000    0.000000    0.000000    0.000000    0.000000   \n",
       "75%      1.000000    0.000000    1.000000    0.000000    1.000000    0.000000   \n",
       "max      1.000000    1.000000    1.000000    1.000000    1.000000    1.000000   \n",
       "\n",
       "         yrsmarr1    yrsmarr2    yrsmarr3    yrsmarr4    yrsmarr5    yrsmarr6  \n",
       "count  601.000000  601.000000  601.000000  601.000000  601.000000  601.000000  \n",
       "mean     0.086522    0.146423    0.174709    0.136439    0.116473    0.339434  \n",
       "std      0.281368    0.353824    0.380034    0.343540    0.321058    0.473912  \n",
       "min      0.000000    0.000000    0.000000    0.000000    0.000000    0.000000  \n",
       "25%      0.000000    0.000000    0.000000    0.000000    0.000000    0.000000  \n",
       "50%      0.000000    0.000000    0.000000    0.000000    0.000000    0.000000  \n",
       "75%      0.000000    0.000000    0.000000    0.000000    0.000000    1.000000  \n",
       "max      1.000000    1.000000    1.000000    1.000000    1.000000    1.000000  "
      ]
     },
     "execution_count": 14,
     "metadata": {},
     "output_type": "execute_result"
    }
   ],
   "source": [
    "df.describe()"
   ]
  },
  {
   "cell_type": "code",
   "execution_count": 16,
   "id": "6a4bd04e",
   "metadata": {},
   "outputs": [
    {
     "data": {
      "text/plain": [
       "naffairs    0\n",
       "kids        0\n",
       "vryunhap    0\n",
       "unhap       0\n",
       "avgmarr     0\n",
       "hapavg      0\n",
       "vryhap      0\n",
       "antirel     0\n",
       "notrel      0\n",
       "slghtrel    0\n",
       "smerel      0\n",
       "vryrel      0\n",
       "yrsmarr1    0\n",
       "yrsmarr2    0\n",
       "yrsmarr3    0\n",
       "yrsmarr4    0\n",
       "yrsmarr5    0\n",
       "yrsmarr6    0\n",
       "dtype: int64"
      ]
     },
     "execution_count": 16,
     "metadata": {},
     "output_type": "execute_result"
    }
   ],
   "source": [
    "df.isna().sum()"
   ]
  },
  {
   "cell_type": "markdown",
   "id": "22c46303",
   "metadata": {},
   "source": [
    "this dataset is free of missingness"
   ]
  },
  {
   "cell_type": "code",
   "execution_count": 17,
   "id": "878072c3",
   "metadata": {},
   "outputs": [],
   "source": [
    "df['naffairs'] = (df['naffairs'] >= 1 ).astype(int)"
   ]
  },
  {
   "cell_type": "code",
   "execution_count": 20,
   "id": "9be307a2",
   "metadata": {},
   "outputs": [
    {
     "data": {
      "text/plain": [
       "0    0\n",
       "1    0\n",
       "2    1\n",
       "3    0\n",
       "4    1\n",
       "Name: naffairs, dtype: int32"
      ]
     },
     "execution_count": 20,
     "metadata": {},
     "output_type": "execute_result"
    }
   ],
   "source": [
    "df.naffairs.head()"
   ]
  },
  {
   "cell_type": "markdown",
   "id": "d8b2ba28",
   "metadata": {},
   "source": [
    "### EDA:"
   ]
  },
  {
   "cell_type": "code",
   "execution_count": 25,
   "id": "36fcd757",
   "metadata": {},
   "outputs": [
    {
     "data": {
      "text/plain": [
       "<AxesSubplot:>"
      ]
     },
     "execution_count": 25,
     "metadata": {},
     "output_type": "execute_result"
    },
    {
     "data": {
      "image/png": "[encoded data removed]",
      "text/plain": [
       "<Figure size 2880x2160 with 2 Axes>"
      ]
     },
     "metadata": {
      "needs_background": "light"
     },
     "output_type": "display_data"
    }
   ],
   "source": [
    "# Making a heatmap to find correlation\n",
    "plt.figure(figsize=(40,30))\n",
    "sns.heatmap(df.corr(),annot=True)"
   ]
  },
  {
   "cell_type": "code",
   "execution_count": 26,
   "id": "87c3743a",
   "metadata": {},
   "outputs": [
    {
     "data": {
      "text/html": [
       "<div>\n",
       "<style scoped>\n",
       "    .dataframe tbody tr th:only-of-type {\n",
       "        vertical-align: middle;\n",
       "    }\n",
       "\n",
       "    .dataframe tbody tr th {\n",
       "        vertical-align: top;\n",
       "    }\n",
       "\n",
       "    .dataframe thead th {\n",
       "        text-align: right;\n",
       "    }\n",
       "</style>\n",
       "<table border=\"1\" class=\"dataframe\">\n",
       "  <thead>\n",
       "    <tr style=\"text-align: right;\">\n",
       "      <th></th>\n",
       "      <th>naffairs</th>\n",
       "      <th>kids</th>\n",
       "      <th>vryunhap</th>\n",
       "      <th>unhap</th>\n",
       "      <th>avgmarr</th>\n",
       "      <th>hapavg</th>\n",
       "      <th>vryhap</th>\n",
       "      <th>antirel</th>\n",
       "      <th>notrel</th>\n",
       "      <th>slghtrel</th>\n",
       "      <th>smerel</th>\n",
       "      <th>vryrel</th>\n",
       "      <th>yrsmarr1</th>\n",
       "      <th>yrsmarr2</th>\n",
       "      <th>yrsmarr3</th>\n",
       "      <th>yrsmarr4</th>\n",
       "      <th>yrsmarr5</th>\n",
       "      <th>yrsmarr6</th>\n",
       "    </tr>\n",
       "  </thead>\n",
       "  <tbody>\n",
       "    <tr>\n",
       "      <th>0</th>\n",
       "      <td>0</td>\n",
       "      <td>0</td>\n",
       "      <td>0</td>\n",
       "      <td>0</td>\n",
       "      <td>0</td>\n",
       "      <td>1</td>\n",
       "      <td>0</td>\n",
       "      <td>0</td>\n",
       "      <td>0</td>\n",
       "      <td>1</td>\n",
       "      <td>0</td>\n",
       "      <td>0</td>\n",
       "      <td>0</td>\n",
       "      <td>0</td>\n",
       "      <td>0</td>\n",
       "      <td>0</td>\n",
       "      <td>1</td>\n",
       "      <td>0</td>\n",
       "    </tr>\n",
       "    <tr>\n",
       "      <th>1</th>\n",
       "      <td>0</td>\n",
       "      <td>0</td>\n",
       "      <td>0</td>\n",
       "      <td>0</td>\n",
       "      <td>0</td>\n",
       "      <td>1</td>\n",
       "      <td>0</td>\n",
       "      <td>0</td>\n",
       "      <td>0</td>\n",
       "      <td>0</td>\n",
       "      <td>1</td>\n",
       "      <td>0</td>\n",
       "      <td>0</td>\n",
       "      <td>0</td>\n",
       "      <td>1</td>\n",
       "      <td>0</td>\n",
       "      <td>0</td>\n",
       "      <td>0</td>\n",
       "    </tr>\n",
       "    <tr>\n",
       "      <th>2</th>\n",
       "      <td>1</td>\n",
       "      <td>0</td>\n",
       "      <td>0</td>\n",
       "      <td>0</td>\n",
       "      <td>0</td>\n",
       "      <td>1</td>\n",
       "      <td>0</td>\n",
       "      <td>0</td>\n",
       "      <td>0</td>\n",
       "      <td>1</td>\n",
       "      <td>0</td>\n",
       "      <td>0</td>\n",
       "      <td>0</td>\n",
       "      <td>1</td>\n",
       "      <td>0</td>\n",
       "      <td>0</td>\n",
       "      <td>0</td>\n",
       "      <td>0</td>\n",
       "    </tr>\n",
       "    <tr>\n",
       "      <th>3</th>\n",
       "      <td>0</td>\n",
       "      <td>1</td>\n",
       "      <td>0</td>\n",
       "      <td>0</td>\n",
       "      <td>0</td>\n",
       "      <td>1</td>\n",
       "      <td>0</td>\n",
       "      <td>1</td>\n",
       "      <td>0</td>\n",
       "      <td>0</td>\n",
       "      <td>0</td>\n",
       "      <td>0</td>\n",
       "      <td>0</td>\n",
       "      <td>0</td>\n",
       "      <td>0</td>\n",
       "      <td>0</td>\n",
       "      <td>0</td>\n",
       "      <td>1</td>\n",
       "    </tr>\n",
       "    <tr>\n",
       "      <th>4</th>\n",
       "      <td>1</td>\n",
       "      <td>1</td>\n",
       "      <td>0</td>\n",
       "      <td>0</td>\n",
       "      <td>0</td>\n",
       "      <td>0</td>\n",
       "      <td>1</td>\n",
       "      <td>0</td>\n",
       "      <td>0</td>\n",
       "      <td>1</td>\n",
       "      <td>0</td>\n",
       "      <td>0</td>\n",
       "      <td>0</td>\n",
       "      <td>0</td>\n",
       "      <td>1</td>\n",
       "      <td>0</td>\n",
       "      <td>0</td>\n",
       "      <td>0</td>\n",
       "    </tr>\n",
       "  </tbody>\n",
       "</table>\n",
       "</div>"
      ],
      "text/plain": [
       "   naffairs  kids  vryunhap  unhap  avgmarr  hapavg  vryhap  antirel  notrel  \\\n",
       "0         0     0         0      0        0       1       0        0       0   \n",
       "1         0     0         0      0        0       1       0        0       0   \n",
       "2         1     0         0      0        0       1       0        0       0   \n",
       "3         0     1         0      0        0       1       0        1       0   \n",
       "4         1     1         0      0        0       0       1        0       0   \n",
       "\n",
       "   slghtrel  smerel  vryrel  yrsmarr1  yrsmarr2  yrsmarr3  yrsmarr4  yrsmarr5  \\\n",
       "0         1       0       0         0         0         0         0         1   \n",
       "1         0       1       0         0         0         1         0         0   \n",
       "2         1       0       0         0         1         0         0         0   \n",
       "3         0       0       0         0         0         0         0         0   \n",
       "4         1       0       0         0         0         1         0         0   \n",
       "\n",
       "   yrsmarr6  \n",
       "0         0  \n",
       "1         0  \n",
       "2         0  \n",
       "3         1  \n",
       "4         0  "
      ]
     },
     "execution_count": 26,
     "metadata": {},
     "output_type": "execute_result"
    }
   ],
   "source": [
    "df.head()"
   ]
  },
  {
   "cell_type": "markdown",
   "id": "a2b8db53",
   "metadata": {},
   "source": [
    "#### How children affects the husband-wife relationship."
   ]
  },
  {
   "cell_type": "code",
   "execution_count": 27,
   "id": "03201a25",
   "metadata": {},
   "outputs": [
    {
     "name": "stderr",
     "output_type": "stream",
     "text": [
      "C:\\Users\\Hp\\anaconda3\\envs\\digit\\lib\\site-packages\\seaborn\\_decorators.py:36: FutureWarning: Pass the following variable as a keyword arg: x. From version 0.12, the only valid positional argument will be `data`, and passing other arguments without an explicit keyword will result in an error or misinterpretation.\n",
      "  warnings.warn(\n"
     ]
    },
    {
     "data": {
      "image/png": "[encoded data removed]",
      "text/plain": [
       "<Figure size 576x432 with 1 Axes>"
      ]
     },
     "metadata": {
      "needs_background": "light"
     },
     "output_type": "display_data"
    }
   ],
   "source": [
    "plt.figure(figsize=(8,6))\n",
    "sns.set_style(\"darkgrid\")\n",
    "sns.countplot(\"kids\",data=df,hue=\"naffairs\")\n",
    "plt.title(\"How kids affects marriage\")\n",
    "plt.show()"
   ]
  },
  {
   "cell_type": "markdown",
   "id": "44a119cd",
   "metadata": {},
   "source": [
    "most of the people with kids tend to have more affairs than others."
   ]
  },
  {
   "cell_type": "markdown",
   "id": "aa4428a3",
   "metadata": {},
   "source": [
    "#### How unhappiness affects the husband-wife relationship."
   ]
  },
  {
   "cell_type": "code",
   "execution_count": 28,
   "id": "9dd71712",
   "metadata": {},
   "outputs": [
    {
     "name": "stderr",
     "output_type": "stream",
     "text": [
      "C:\\Users\\Hp\\anaconda3\\envs\\digit\\lib\\site-packages\\seaborn\\_decorators.py:36: FutureWarning: Pass the following variable as a keyword arg: x. From version 0.12, the only valid positional argument will be `data`, and passing other arguments without an explicit keyword will result in an error or misinterpretation.\n",
      "  warnings.warn(\n"
     ]
    },
    {
     "data": {
      "image/png": "[encoded data removed]",
      "text/plain": [
       "<Figure size 576x432 with 1 Axes>"
      ]
     },
     "metadata": {},
     "output_type": "display_data"
    }
   ],
   "source": [
    "plt.figure(figsize=(8,6))\n",
    "sns.set_style(\"darkgrid\")\n",
    "sns.countplot(\"unhap\",data=df,hue=\"naffairs\")\n",
    "plt.title(\"How unhappiness affects marriage\")\n",
    "plt.show()"
   ]
  },
  {
   "cell_type": "code",
   "execution_count": 36,
   "id": "c37a04d2",
   "metadata": {},
   "outputs": [
    {
     "data": {
      "text/plain": [
       "<AxesSubplot:>"
      ]
     },
     "execution_count": 36,
     "metadata": {},
     "output_type": "execute_result"
    },
    {
     "data": {
      "image/png": "[encoded data removed]",
      "text/plain": [
       "<Figure size 432x288 with 1 Axes>"
      ]
     },
     "metadata": {},
     "output_type": "display_data"
    }
   ],
   "source": [
    "sns.boxplot(data =df)"
   ]
  },
  {
   "cell_type": "markdown",
   "id": "0aae7866",
   "metadata": {},
   "source": [
    "Most of the people who are unhappy, are having an affair."
   ]
  },
  {
   "cell_type": "markdown",
   "id": "e06dfbb6",
   "metadata": {},
   "source": [
    "## Model building:"
   ]
  },
  {
   "cell_type": "code",
   "execution_count": 38,
   "id": "96838ae8",
   "metadata": {},
   "outputs": [
    {
     "data": {
      "text/plain": [
       "Index(['naffairs', 'kids', 'vryunhap', 'unhap', 'avgmarr', 'hapavg', 'vryhap',\n",
       "       'antirel', 'notrel', 'slghtrel', 'smerel', 'vryrel', 'yrsmarr1',\n",
       "       'yrsmarr2', 'yrsmarr3', 'yrsmarr4', 'yrsmarr5', 'yrsmarr6'],\n",
       "      dtype='object')"
      ]
     },
     "execution_count": 38,
     "metadata": {},
     "output_type": "execute_result"
    }
   ],
   "source": [
    "df.columns"
   ]
  },
  {
   "cell_type": "code",
   "execution_count": 39,
   "id": "2585f9d6",
   "metadata": {},
   "outputs": [
    {
     "name": "stdout",
     "output_type": "stream",
     "text": [
      "Optimization terminated successfully.\n",
      "         Current function value: 0.501009\n",
      "         Iterations 18\n"
     ]
    }
   ],
   "source": [
    "import statsmodels.formula.api as sm\n",
    "logit_model = sm.logit('naffairs ~ kids + vryunhap + unhap + avgmarr + hapavg + vryhap + antirel + notrel + slghtrel + smerel + vryrel + yrsmarr1 + yrsmarr2 + yrsmarr3 + yrsmarr4 + yrsmarr5 + yrsmarr6' , data = df).fit()"
   ]
  },
  {
   "cell_type": "code",
   "execution_count": 40,
   "id": "f5f65b55",
   "metadata": {},
   "outputs": [
    {
     "data": {
      "text/html": [
       "<table class=\"simpletable\">\n",
       "<tr>\n",
       "        <td>Model:</td>              <td>Logit</td>      <td>Pseudo R-squared:</td>    <td>0.108</td>  \n",
       "</tr>\n",
       "<tr>\n",
       "  <td>Dependent Variable:</td>     <td>naffairs</td>           <td>AIC:</td>         <td>632.2126</td> \n",
       "</tr>\n",
       "<tr>\n",
       "         <td>Date:</td>        <td>2021-04-20 00:01</td>       <td>BIC:</td>         <td>698.1915</td> \n",
       "</tr>\n",
       "<tr>\n",
       "   <td>No. Observations:</td>         <td>601</td>        <td>Log-Likelihood:</td>    <td>-301.11</td> \n",
       "</tr>\n",
       "<tr>\n",
       "       <td>Df Model:</td>             <td>14</td>            <td>LL-Null:</td>        <td>-337.69</td> \n",
       "</tr>\n",
       "<tr>\n",
       "     <td>Df Residuals:</td>           <td>586</td>         <td>LLR p-value:</td>    <td>5.1293e-10</td>\n",
       "</tr>\n",
       "<tr>\n",
       "      <td>Converged:</td>           <td>1.0000</td>           <td>Scale:</td>         <td>1.0000</td>  \n",
       "</tr>\n",
       "<tr>\n",
       "    <td>No. Iterations:</td>        <td>18.0000</td>             <td></td>               <td></td>     \n",
       "</tr>\n",
       "</table>\n",
       "<table class=\"simpletable\">\n",
       "<tr>\n",
       "      <td></td>       <th>Coef.</th>    <th>Std.Err.</th>      <th>z</th>     <th>P>|z|</th>     <th>[0.025</th>        <th>0.975]</th>    \n",
       "</tr>\n",
       "<tr>\n",
       "  <th>Intercept</th> <td>-0.6174</td> <td>8983955.2785</td> <td>-0.0000</td> <td>1.0000</td> <td>-17608229.4020</td> <td>17608228.1671</td>\n",
       "</tr>\n",
       "<tr>\n",
       "  <th>kids</th>      <td>0.1727</td>     <td>0.3110</td>    <td>0.5555</td>  <td>0.5785</td>     <td>-0.4367</td>       <td>0.7822</td>    \n",
       "</tr>\n",
       "<tr>\n",
       "  <th>vryunhap</th>  <td>0.5130</td>       <td>nan</td>       <td>nan</td>     <td>nan</td>        <td>nan</td>           <td>nan</td>     \n",
       "</tr>\n",
       "<tr>\n",
       "  <th>unhap</th>     <td>0.6187</td>       <td>nan</td>       <td>nan</td>     <td>nan</td>        <td>nan</td>           <td>nan</td>     \n",
       "</tr>\n",
       "<tr>\n",
       "  <th>avgmarr</th>   <td>-0.2178</td>      <td>nan</td>       <td>nan</td>     <td>nan</td>        <td>nan</td>           <td>nan</td>     \n",
       "</tr>\n",
       "<tr>\n",
       "  <th>hapavg</th>    <td>-0.5264</td>      <td>nan</td>       <td>nan</td>     <td>nan</td>        <td>nan</td>           <td>nan</td>     \n",
       "</tr>\n",
       "<tr>\n",
       "  <th>vryhap</th>    <td>-1.0049</td>      <td>nan</td>       <td>nan</td>     <td>nan</td>        <td>nan</td>           <td>nan</td>     \n",
       "</tr>\n",
       "<tr>\n",
       "  <th>antirel</th>   <td>0.7815</td>       <td>nan</td>       <td>nan</td>     <td>nan</td>        <td>nan</td>           <td>nan</td>     \n",
       "</tr>\n",
       "<tr>\n",
       "  <th>notrel</th>    <td>-0.2052</td>      <td>nan</td>       <td>nan</td>     <td>nan</td>        <td>nan</td>           <td>nan</td>     \n",
       "</tr>\n",
       "<tr>\n",
       "  <th>slghtrel</th>  <td>0.1848</td>       <td>nan</td>       <td>nan</td>     <td>nan</td>        <td>nan</td>           <td>nan</td>     \n",
       "</tr>\n",
       "<tr>\n",
       "  <th>smerel</th>    <td>-0.7377</td>      <td>nan</td>       <td>nan</td>     <td>nan</td>        <td>nan</td>           <td>nan</td>     \n",
       "</tr>\n",
       "<tr>\n",
       "  <th>vryrel</th>    <td>-0.6408</td>      <td>nan</td>       <td>nan</td>     <td>nan</td>        <td>nan</td>           <td>nan</td>     \n",
       "</tr>\n",
       "<tr>\n",
       "  <th>yrsmarr1</th>  <td>-0.8579</td>      <td>nan</td>       <td>nan</td>     <td>nan</td>        <td>nan</td>           <td>nan</td>     \n",
       "</tr>\n",
       "<tr>\n",
       "  <th>yrsmarr2</th>  <td>-0.5608</td>      <td>nan</td>       <td>nan</td>     <td>nan</td>        <td>nan</td>           <td>nan</td>     \n",
       "</tr>\n",
       "<tr>\n",
       "  <th>yrsmarr3</th>  <td>0.0635</td>       <td>nan</td>       <td>nan</td>     <td>nan</td>        <td>nan</td>           <td>nan</td>     \n",
       "</tr>\n",
       "<tr>\n",
       "  <th>yrsmarr4</th>  <td>0.0891</td>       <td>nan</td>       <td>nan</td>     <td>nan</td>        <td>nan</td>           <td>nan</td>     \n",
       "</tr>\n",
       "<tr>\n",
       "  <th>yrsmarr5</th>  <td>0.4088</td>       <td>nan</td>       <td>nan</td>     <td>nan</td>        <td>nan</td>           <td>nan</td>     \n",
       "</tr>\n",
       "<tr>\n",
       "  <th>yrsmarr6</th>  <td>0.2399</td>       <td>nan</td>       <td>nan</td>     <td>nan</td>        <td>nan</td>           <td>nan</td>     \n",
       "</tr>\n",
       "</table>"
      ],
      "text/plain": [
       "<class 'statsmodels.iolib.summary2.Summary'>\n",
       "\"\"\"\n",
       "                              Results: Logit\n",
       "==========================================================================\n",
       "Model:                 Logit               Pseudo R-squared:    0.108     \n",
       "Dependent Variable:    naffairs            AIC:                 632.2126  \n",
       "Date:                  2021-04-20 00:01    BIC:                 698.1915  \n",
       "No. Observations:      601                 Log-Likelihood:      -301.11   \n",
       "Df Model:              14                  LL-Null:             -337.69   \n",
       "Df Residuals:          586                 LLR p-value:         5.1293e-10\n",
       "Converged:             1.0000              Scale:               1.0000    \n",
       "No. Iterations:        18.0000                                            \n",
       "--------------------------------------------------------------------------\n",
       "           Coef.    Std.Err.      z    P>|z|      [0.025         0.975]   \n",
       "--------------------------------------------------------------------------\n",
       "Intercept -0.6174 8983955.2785 -0.0000 1.0000 -17608229.4020 17608228.1671\n",
       "kids       0.1727       0.3110  0.5555 0.5785        -0.4367        0.7822\n",
       "vryunhap   0.5130          nan     nan    nan            nan           nan\n",
       "unhap      0.6187          nan     nan    nan            nan           nan\n",
       "avgmarr   -0.2178          nan     nan    nan            nan           nan\n",
       "hapavg    -0.5264          nan     nan    nan            nan           nan\n",
       "vryhap    -1.0049          nan     nan    nan            nan           nan\n",
       "antirel    0.7815          nan     nan    nan            nan           nan\n",
       "notrel    -0.2052          nan     nan    nan            nan           nan\n",
       "slghtrel   0.1848          nan     nan    nan            nan           nan\n",
       "smerel    -0.7377          nan     nan    nan            nan           nan\n",
       "vryrel    -0.6408          nan     nan    nan            nan           nan\n",
       "yrsmarr1  -0.8579          nan     nan    nan            nan           nan\n",
       "yrsmarr2  -0.5608          nan     nan    nan            nan           nan\n",
       "yrsmarr3   0.0635          nan     nan    nan            nan           nan\n",
       "yrsmarr4   0.0891          nan     nan    nan            nan           nan\n",
       "yrsmarr5   0.4088          nan     nan    nan            nan           nan\n",
       "yrsmarr6   0.2399          nan     nan    nan            nan           nan\n",
       "==========================================================================\n",
       "\n",
       "\"\"\""
      ]
     },
     "execution_count": 40,
     "metadata": {},
     "output_type": "execute_result"
    }
   ],
   "source": [
    "logit_model.summary2() # for AIC"
   ]
  },
  {
   "cell_type": "code",
   "execution_count": 41,
   "id": "f7e8df5d",
   "metadata": {},
   "outputs": [
    {
     "data": {
      "text/html": [
       "<table class=\"simpletable\">\n",
       "<caption>Logit Regression Results</caption>\n",
       "<tr>\n",
       "  <th>Dep. Variable:</th>       <td>naffairs</td>     <th>  No. Observations:  </th>  <td>   601</td>  \n",
       "</tr>\n",
       "<tr>\n",
       "  <th>Model:</th>                 <td>Logit</td>      <th>  Df Residuals:      </th>  <td>   586</td>  \n",
       "</tr>\n",
       "<tr>\n",
       "  <th>Method:</th>                 <td>MLE</td>       <th>  Df Model:          </th>  <td>    14</td>  \n",
       "</tr>\n",
       "<tr>\n",
       "  <th>Date:</th>            <td>Tue, 20 Apr 2021</td> <th>  Pseudo R-squ.:     </th>  <td>0.1083</td>  \n",
       "</tr>\n",
       "<tr>\n",
       "  <th>Time:</th>                <td>00:01:22</td>     <th>  Log-Likelihood:    </th> <td> -301.11</td> \n",
       "</tr>\n",
       "<tr>\n",
       "  <th>converged:</th>             <td>True</td>       <th>  LL-Null:           </th> <td> -337.69</td> \n",
       "</tr>\n",
       "<tr>\n",
       "  <th>Covariance Type:</th>     <td>nonrobust</td>    <th>  LLR p-value:       </th> <td>5.129e-10</td>\n",
       "</tr>\n",
       "</table>\n",
       "<table class=\"simpletable\">\n",
       "<tr>\n",
       "      <td></td>         <th>coef</th>     <th>std err</th>      <th>z</th>      <th>P>|z|</th>  <th>[0.025</th>    <th>0.975]</th>  \n",
       "</tr>\n",
       "<tr>\n",
       "  <th>Intercept</th> <td>   -0.6174</td> <td> 8.98e+06</td> <td>-6.87e-08</td> <td> 1.000</td> <td>-1.76e+07</td> <td> 1.76e+07</td>\n",
       "</tr>\n",
       "<tr>\n",
       "  <th>kids</th>      <td>    0.1727</td> <td>    0.311</td> <td>    0.556</td> <td> 0.579</td> <td>   -0.437</td> <td>    0.782</td>\n",
       "</tr>\n",
       "<tr>\n",
       "  <th>vryunhap</th>  <td>    0.5130</td> <td>      nan</td> <td>      nan</td> <td>   nan</td> <td>      nan</td> <td>      nan</td>\n",
       "</tr>\n",
       "<tr>\n",
       "  <th>unhap</th>     <td>    0.6187</td> <td>      nan</td> <td>      nan</td> <td>   nan</td> <td>      nan</td> <td>      nan</td>\n",
       "</tr>\n",
       "<tr>\n",
       "  <th>avgmarr</th>   <td>   -0.2178</td> <td>      nan</td> <td>      nan</td> <td>   nan</td> <td>      nan</td> <td>      nan</td>\n",
       "</tr>\n",
       "<tr>\n",
       "  <th>hapavg</th>    <td>   -0.5264</td> <td>      nan</td> <td>      nan</td> <td>   nan</td> <td>      nan</td> <td>      nan</td>\n",
       "</tr>\n",
       "<tr>\n",
       "  <th>vryhap</th>    <td>   -1.0049</td> <td>      nan</td> <td>      nan</td> <td>   nan</td> <td>      nan</td> <td>      nan</td>\n",
       "</tr>\n",
       "<tr>\n",
       "  <th>antirel</th>   <td>    0.7815</td> <td>      nan</td> <td>      nan</td> <td>   nan</td> <td>      nan</td> <td>      nan</td>\n",
       "</tr>\n",
       "<tr>\n",
       "  <th>notrel</th>    <td>   -0.2052</td> <td>      nan</td> <td>      nan</td> <td>   nan</td> <td>      nan</td> <td>      nan</td>\n",
       "</tr>\n",
       "<tr>\n",
       "  <th>slghtrel</th>  <td>    0.1848</td> <td>      nan</td> <td>      nan</td> <td>   nan</td> <td>      nan</td> <td>      nan</td>\n",
       "</tr>\n",
       "<tr>\n",
       "  <th>smerel</th>    <td>   -0.7377</td> <td>      nan</td> <td>      nan</td> <td>   nan</td> <td>      nan</td> <td>      nan</td>\n",
       "</tr>\n",
       "<tr>\n",
       "  <th>vryrel</th>    <td>   -0.6408</td> <td>      nan</td> <td>      nan</td> <td>   nan</td> <td>      nan</td> <td>      nan</td>\n",
       "</tr>\n",
       "<tr>\n",
       "  <th>yrsmarr1</th>  <td>   -0.8579</td> <td>      nan</td> <td>      nan</td> <td>   nan</td> <td>      nan</td> <td>      nan</td>\n",
       "</tr>\n",
       "<tr>\n",
       "  <th>yrsmarr2</th>  <td>   -0.5608</td> <td>      nan</td> <td>      nan</td> <td>   nan</td> <td>      nan</td> <td>      nan</td>\n",
       "</tr>\n",
       "<tr>\n",
       "  <th>yrsmarr3</th>  <td>    0.0635</td> <td>      nan</td> <td>      nan</td> <td>   nan</td> <td>      nan</td> <td>      nan</td>\n",
       "</tr>\n",
       "<tr>\n",
       "  <th>yrsmarr4</th>  <td>    0.0891</td> <td>      nan</td> <td>      nan</td> <td>   nan</td> <td>      nan</td> <td>      nan</td>\n",
       "</tr>\n",
       "<tr>\n",
       "  <th>yrsmarr5</th>  <td>    0.4088</td> <td>      nan</td> <td>      nan</td> <td>   nan</td> <td>      nan</td> <td>      nan</td>\n",
       "</tr>\n",
       "<tr>\n",
       "  <th>yrsmarr6</th>  <td>    0.2399</td> <td>      nan</td> <td>      nan</td> <td>   nan</td> <td>      nan</td> <td>      nan</td>\n",
       "</tr>\n",
       "</table>"
      ],
      "text/plain": [
       "<class 'statsmodels.iolib.summary.Summary'>\n",
       "\"\"\"\n",
       "                           Logit Regression Results                           \n",
       "==============================================================================\n",
       "Dep. Variable:               naffairs   No. Observations:                  601\n",
       "Model:                          Logit   Df Residuals:                      586\n",
       "Method:                           MLE   Df Model:                           14\n",
       "Date:                Tue, 20 Apr 2021   Pseudo R-squ.:                  0.1083\n",
       "Time:                        00:01:22   Log-Likelihood:                -301.11\n",
       "converged:                       True   LL-Null:                       -337.69\n",
       "Covariance Type:            nonrobust   LLR p-value:                 5.129e-10\n",
       "==============================================================================\n",
       "                 coef    std err          z      P>|z|      [0.025      0.975]\n",
       "------------------------------------------------------------------------------\n",
       "Intercept     -0.6174   8.98e+06  -6.87e-08      1.000   -1.76e+07    1.76e+07\n",
       "kids           0.1727      0.311      0.556      0.579      -0.437       0.782\n",
       "vryunhap       0.5130        nan        nan        nan         nan         nan\n",
       "unhap          0.6187        nan        nan        nan         nan         nan\n",
       "avgmarr       -0.2178        nan        nan        nan         nan         nan\n",
       "hapavg        -0.5264        nan        nan        nan         nan         nan\n",
       "vryhap        -1.0049        nan        nan        nan         nan         nan\n",
       "antirel        0.7815        nan        nan        nan         nan         nan\n",
       "notrel        -0.2052        nan        nan        nan         nan         nan\n",
       "slghtrel       0.1848        nan        nan        nan         nan         nan\n",
       "smerel        -0.7377        nan        nan        nan         nan         nan\n",
       "vryrel        -0.6408        nan        nan        nan         nan         nan\n",
       "yrsmarr1      -0.8579        nan        nan        nan         nan         nan\n",
       "yrsmarr2      -0.5608        nan        nan        nan         nan         nan\n",
       "yrsmarr3       0.0635        nan        nan        nan         nan         nan\n",
       "yrsmarr4       0.0891        nan        nan        nan         nan         nan\n",
       "yrsmarr5       0.4088        nan        nan        nan         nan         nan\n",
       "yrsmarr6       0.2399        nan        nan        nan         nan         nan\n",
       "==============================================================================\n",
       "\"\"\""
      ]
     },
     "execution_count": 41,
     "metadata": {},
     "output_type": "execute_result"
    }
   ],
   "source": [
    "logit_model.summary()"
   ]
  },
  {
   "cell_type": "code",
   "execution_count": 43,
   "id": "8d2575fe",
   "metadata": {},
   "outputs": [],
   "source": [
    "pred = logit_model.predict(df.iloc[ :, 1: ])"
   ]
  },
  {
   "cell_type": "code",
   "execution_count": 47,
   "id": "0cb8c410",
   "metadata": {},
   "outputs": [
    {
     "data": {
      "text/plain": [
       "0.252157157013533"
      ]
     },
     "execution_count": 47,
     "metadata": {},
     "output_type": "execute_result"
    }
   ],
   "source": [
    "from sklearn import metrics\n",
    "fpr, tpr, thresholds = metrics.roc_curve(df.naffairs, pred)\n",
    "optimal_idx = np.argmax(tpr - fpr)\n",
    "optimal_threshold = thresholds[optimal_idx]\n",
    "optimal_threshold"
   ]
  },
  {
   "cell_type": "code",
   "execution_count": 48,
   "id": "b6375e40",
   "metadata": {},
   "outputs": [],
   "source": [
    "import pylab as pl"
   ]
  },
  {
   "cell_type": "code",
   "execution_count": 49,
   "id": "84503856",
   "metadata": {},
   "outputs": [
    {
     "data": {
      "text/html": [
       "<div>\n",
       "<style scoped>\n",
       "    .dataframe tbody tr th:only-of-type {\n",
       "        vertical-align: middle;\n",
       "    }\n",
       "\n",
       "    .dataframe tbody tr th {\n",
       "        vertical-align: top;\n",
       "    }\n",
       "\n",
       "    .dataframe thead th {\n",
       "        text-align: right;\n",
       "    }\n",
       "</style>\n",
       "<table border=\"1\" class=\"dataframe\">\n",
       "  <thead>\n",
       "    <tr style=\"text-align: right;\">\n",
       "      <th></th>\n",
       "      <th>fpr</th>\n",
       "      <th>tpr</th>\n",
       "      <th>1-fpr</th>\n",
       "      <th>tf</th>\n",
       "      <th>thresholds</th>\n",
       "    </tr>\n",
       "  </thead>\n",
       "  <tbody>\n",
       "    <tr>\n",
       "      <th>61</th>\n",
       "      <td>0.312639</td>\n",
       "      <td>0.673333</td>\n",
       "      <td>0.687361</td>\n",
       "      <td>-0.014028</td>\n",
       "      <td>0.24517</td>\n",
       "    </tr>\n",
       "  </tbody>\n",
       "</table>\n",
       "</div>"
      ],
      "text/plain": [
       "         fpr       tpr     1-fpr        tf  thresholds\n",
       "61  0.312639  0.673333  0.687361 -0.014028     0.24517"
      ]
     },
     "execution_count": 49,
     "metadata": {},
     "output_type": "execute_result"
    }
   ],
   "source": [
    "i = np.arange(len(tpr))\n",
    "roc = pd.DataFrame({'fpr' : pd.Series(fpr, index=i),'tpr' : pd.Series(tpr, index = i), '1-fpr' : pd.Series(1-fpr, index = i), 'tf' : pd.Series(tpr - (1-fpr), index = i), 'thresholds' : pd.Series(thresholds, index = i)})\n",
    "roc.iloc[(roc.tf-0).abs().argsort()[:1]]"
   ]
  },
  {
   "cell_type": "code",
   "execution_count": 50,
   "id": "0513def5",
   "metadata": {},
   "outputs": [
    {
     "data": {
      "text/plain": [
       "[Text(-20.0, 0, ''),\n",
       " Text(0.0, 0, ''),\n",
       " Text(20.0, 0, ''),\n",
       " Text(40.0, 0, ''),\n",
       " Text(60.0, 0, ''),\n",
       " Text(80.0, 0, ''),\n",
       " Text(100.0, 0, ''),\n",
       " Text(120.0, 0, ''),\n",
       " Text(140.0, 0, ''),\n",
       " Text(160.0, 0, '')]"
      ]
     },
     "execution_count": 50,
     "metadata": {},
     "output_type": "execute_result"
    },
    {
     "data": {
      "image/png": "[encoded data removed]",
      "text/plain": [
       "<Figure size 432x288 with 1 Axes>"
      ]
     },
     "metadata": {},
     "output_type": "display_data"
    }
   ],
   "source": [
    "# Plot tpr vs 1-fpr\n",
    "fig, ax = pl.subplots()\n",
    "pl.plot(roc['tpr'], color = 'red')\n",
    "pl.plot(roc['1-fpr'], color = 'blue')\n",
    "pl.xlabel('1-False Positive Rate')\n",
    "pl.ylabel('True Positive Rate')\n",
    "pl.title('Receiver operating characteristic')\n",
    "ax.set_xticklabels([])\n"
   ]
  },
  {
   "cell_type": "code",
   "execution_count": 53,
   "id": "1a926673",
   "metadata": {},
   "outputs": [
    {
     "name": "stdout",
     "output_type": "stream",
     "text": [
      "Area under the ROC curve : 0.720880\n"
     ]
    }
   ],
   "source": [
    "roc_auc = metrics.auc(fpr, tpr)\n",
    "print(\"Area under the ROC curve : %f\" % roc_auc)"
   ]
  },
  {
   "cell_type": "code",
   "execution_count": 56,
   "id": "7aa8698f",
   "metadata": {},
   "outputs": [
    {
     "data": {
      "text/plain": [
       "(601, 18)"
      ]
     },
     "execution_count": 56,
     "metadata": {},
     "output_type": "execute_result"
    }
   ],
   "source": [
    "df.shape"
   ]
  },
  {
   "cell_type": "code",
   "execution_count": 57,
   "id": "c53bfd9b",
   "metadata": {},
   "outputs": [],
   "source": [
    "# filling all the cells with zeroes\n",
    "df[\"pred\"] = np.zeros(601)"
   ]
  },
  {
   "cell_type": "code",
   "execution_count": 59,
   "id": "6d56c306",
   "metadata": {},
   "outputs": [],
   "source": [
    "# taking threshold value and above the prob value will be treated as correct value \n",
    "df.loc[pred > optimal_threshold, \"pred\"] = 1"
   ]
  },
  {
   "cell_type": "code",
   "execution_count": 61,
   "id": "65a85159",
   "metadata": {},
   "outputs": [
    {
     "data": {
      "text/plain": [
       "'              precision    recall  f1-score   support\\n\\n         0.0       0.71      0.86      0.77       370\\n         1.0       0.65      0.42      0.51       231\\n\\n    accuracy                           0.69       601\\n   macro avg       0.68      0.64      0.64       601\\nweighted avg       0.69      0.69      0.67       601\\n'"
      ]
     },
     "execution_count": 61,
     "metadata": {},
     "output_type": "execute_result"
    }
   ],
   "source": [
    "# classification report\n",
    "classification = metrics.classification_report(df[\"pred\"], df[\"naffairs\"])\n",
    "classification"
   ]
  },
  {
   "cell_type": "markdown",
   "id": "71bffb5a",
   "metadata": {},
   "source": [
    "### Splitting the data into train and test data: "
   ]
  },
  {
   "cell_type": "code",
   "execution_count": 62,
   "id": "7d043010",
   "metadata": {},
   "outputs": [],
   "source": [
    "from sklearn.model_selection import train_test_split\n",
    "train_data, test_data = train_test_split(df, test_size = 0.3) # 30% test data"
   ]
  },
  {
   "cell_type": "code",
   "execution_count": 63,
   "id": "4f2be872",
   "metadata": {},
   "outputs": [
    {
     "name": "stdout",
     "output_type": "stream",
     "text": [
      "Optimization terminated successfully.\n",
      "         Current function value: 0.484917\n",
      "         Iterations 7\n"
     ]
    }
   ],
   "source": [
    "# Model building \n",
    "# import statsmodels.formula.api as sm\n",
    "model = sm.logit('naffairs ~ kids + vryunhap + unhap + avgmarr + hapavg + vryhap + antirel + notrel + slghtrel + smerel + vryrel + yrsmarr1 + yrsmarr2 + yrsmarr3 + yrsmarr4 + yrsmarr5 + yrsmarr6', data = train_data).fit()"
   ]
  },
  {
   "cell_type": "code",
   "execution_count": 64,
   "id": "09aa3514",
   "metadata": {},
   "outputs": [
    {
     "data": {
      "text/html": [
       "<table class=\"simpletable\">\n",
       "<tr>\n",
       "        <td>Model:</td>              <td>Logit</td>      <td>Pseudo R-squared:</td>    <td>0.121</td>  \n",
       "</tr>\n",
       "<tr>\n",
       "  <td>Dependent Variable:</td>     <td>naffairs</td>           <td>AIC:</td>         <td>437.3301</td> \n",
       "</tr>\n",
       "<tr>\n",
       "         <td>Date:</td>        <td>2021-04-20 00:14</td>       <td>BIC:</td>         <td>497.9340</td> \n",
       "</tr>\n",
       "<tr>\n",
       "   <td>No. Observations:</td>         <td>420</td>        <td>Log-Likelihood:</td>    <td>-203.67</td> \n",
       "</tr>\n",
       "<tr>\n",
       "       <td>Df Model:</td>             <td>14</td>            <td>LL-Null:</td>        <td>-231.68</td> \n",
       "</tr>\n",
       "<tr>\n",
       "     <td>Df Residuals:</td>           <td>405</td>         <td>LLR p-value:</td>    <td>5.7385e-07</td>\n",
       "</tr>\n",
       "<tr>\n",
       "      <td>Converged:</td>           <td>1.0000</td>           <td>Scale:</td>         <td>1.0000</td>  \n",
       "</tr>\n",
       "<tr>\n",
       "    <td>No. Iterations:</td>        <td>7.0000</td>              <td></td>               <td></td>     \n",
       "</tr>\n",
       "</table>\n",
       "<table class=\"simpletable\">\n",
       "<tr>\n",
       "      <td></td>       <th>Coef.</th>    <th>Std.Err.</th>       <th>z</th>     <th>P>|z|</th>     <th>[0.025</th>        <th>0.975]</th>    \n",
       "</tr>\n",
       "<tr>\n",
       "  <th>Intercept</th> <td>-0.7513</td>      <td>nan</td>        <td>nan</td>     <td>nan</td>        <td>nan</td>           <td>nan</td>     \n",
       "</tr>\n",
       "<tr>\n",
       "  <th>kids</th>      <td>0.2283</td>     <td>0.3969</td>     <td>0.5753</td>  <td>0.5651</td>     <td>-0.5496</td>       <td>1.0062</td>    \n",
       "</tr>\n",
       "<tr>\n",
       "  <th>vryunhap</th>  <td>0.3451</td>  <td>5342420.3214</td>  <td>0.0000</td>  <td>1.0000</td> <td>-10470951.0751</td> <td>10470951.7654</td>\n",
       "</tr>\n",
       "<tr>\n",
       "  <th>unhap</th>     <td>0.6386</td>  <td>5342420.3214</td>  <td>0.0000</td>  <td>1.0000</td> <td>-10470950.7816</td> <td>10470952.0588</td>\n",
       "</tr>\n",
       "<tr>\n",
       "  <th>avgmarr</th>   <td>-0.2625</td> <td>5342420.3214</td>  <td>-0.0000</td> <td>1.0000</td> <td>-10470951.6827</td> <td>10470951.1577</td>\n",
       "</tr>\n",
       "<tr>\n",
       "  <th>hapavg</th>    <td>-0.4486</td> <td>5342420.3214</td>  <td>-0.0000</td> <td>1.0000</td> <td>-10470951.8688</td> <td>10470950.9716</td>\n",
       "</tr>\n",
       "<tr>\n",
       "  <th>vryhap</th>    <td>-1.0239</td> <td>5342420.3214</td>  <td>-0.0000</td> <td>1.0000</td> <td>-10470952.4441</td> <td>10470950.3963</td>\n",
       "</tr>\n",
       "<tr>\n",
       "  <th>antirel</th>   <td>0.6065</td>  <td>20321246.3758</td> <td>0.0000</td>  <td>1.0000</td> <td>-39828910.4110</td> <td>39828911.6241</td>\n",
       "</tr>\n",
       "<tr>\n",
       "  <th>notrel</th>    <td>-0.2597</td> <td>20321246.3758</td> <td>-0.0000</td> <td>1.0000</td> <td>-39828911.2772</td> <td>39828910.7578</td>\n",
       "</tr>\n",
       "<tr>\n",
       "  <th>slghtrel</th>  <td>0.1811</td>  <td>20321246.3758</td> <td>0.0000</td>  <td>1.0000</td> <td>-39828910.8365</td> <td>39828911.1986</td>\n",
       "</tr>\n",
       "<tr>\n",
       "  <th>smerel</th>    <td>-0.8085</td> <td>20321246.3758</td> <td>-0.0000</td> <td>1.0000</td> <td>-39828911.8260</td> <td>39828910.2091</td>\n",
       "</tr>\n",
       "<tr>\n",
       "  <th>vryrel</th>    <td>-0.4708</td> <td>20321246.3758</td> <td>-0.0000</td> <td>1.0000</td> <td>-39828911.4883</td> <td>39828910.5467</td>\n",
       "</tr>\n",
       "<tr>\n",
       "  <th>yrsmarr1</th>  <td>-0.8618</td> <td>26196618.1092</td> <td>-0.0000</td> <td>1.0000</td> <td>-51344428.8726</td> <td>51344427.1491</td>\n",
       "</tr>\n",
       "<tr>\n",
       "  <th>yrsmarr2</th>  <td>-0.9300</td> <td>26196618.1092</td> <td>-0.0000</td> <td>1.0000</td> <td>-51344428.9408</td> <td>51344427.0809</td>\n",
       "</tr>\n",
       "<tr>\n",
       "  <th>yrsmarr3</th>  <td>0.2730</td>  <td>26196618.1092</td> <td>0.0000</td>  <td>1.0000</td> <td>-51344427.7379</td> <td>51344428.2839</td>\n",
       "</tr>\n",
       "<tr>\n",
       "  <th>yrsmarr4</th>  <td>-0.1642</td> <td>26196618.1092</td> <td>-0.0000</td> <td>1.0000</td> <td>-51344428.1751</td> <td>51344427.8466</td>\n",
       "</tr>\n",
       "<tr>\n",
       "  <th>yrsmarr5</th>  <td>0.5050</td>  <td>26196618.1092</td> <td>0.0000</td>  <td>1.0000</td> <td>-51344427.5059</td> <td>51344428.5158</td>\n",
       "</tr>\n",
       "<tr>\n",
       "  <th>yrsmarr6</th>  <td>0.4266</td>  <td>26196618.1092</td> <td>0.0000</td>  <td>1.0000</td> <td>-51344427.5842</td> <td>51344428.4375</td>\n",
       "</tr>\n",
       "</table>"
      ],
      "text/plain": [
       "<class 'statsmodels.iolib.summary2.Summary'>\n",
       "\"\"\"\n",
       "                              Results: Logit\n",
       "===========================================================================\n",
       "Model:                  Logit               Pseudo R-squared:    0.121     \n",
       "Dependent Variable:     naffairs            AIC:                 437.3301  \n",
       "Date:                   2021-04-20 00:14    BIC:                 497.9340  \n",
       "No. Observations:       420                 Log-Likelihood:      -203.67   \n",
       "Df Model:               14                  LL-Null:             -231.68   \n",
       "Df Residuals:           405                 LLR p-value:         5.7385e-07\n",
       "Converged:              1.0000              Scale:               1.0000    \n",
       "No. Iterations:         7.0000                                             \n",
       "---------------------------------------------------------------------------\n",
       "           Coef.     Std.Err.      z    P>|z|      [0.025         0.975]   \n",
       "---------------------------------------------------------------------------\n",
       "Intercept -0.7513           nan     nan    nan            nan           nan\n",
       "kids       0.2283        0.3969  0.5753 0.5651        -0.5496        1.0062\n",
       "vryunhap   0.3451  5342420.3214  0.0000 1.0000 -10470951.0751 10470951.7654\n",
       "unhap      0.6386  5342420.3214  0.0000 1.0000 -10470950.7816 10470952.0588\n",
       "avgmarr   -0.2625  5342420.3214 -0.0000 1.0000 -10470951.6827 10470951.1577\n",
       "hapavg    -0.4486  5342420.3214 -0.0000 1.0000 -10470951.8688 10470950.9716\n",
       "vryhap    -1.0239  5342420.3214 -0.0000 1.0000 -10470952.4441 10470950.3963\n",
       "antirel    0.6065 20321246.3758  0.0000 1.0000 -39828910.4110 39828911.6241\n",
       "notrel    -0.2597 20321246.3758 -0.0000 1.0000 -39828911.2772 39828910.7578\n",
       "slghtrel   0.1811 20321246.3758  0.0000 1.0000 -39828910.8365 39828911.1986\n",
       "smerel    -0.8085 20321246.3758 -0.0000 1.0000 -39828911.8260 39828910.2091\n",
       "vryrel    -0.4708 20321246.3758 -0.0000 1.0000 -39828911.4883 39828910.5467\n",
       "yrsmarr1  -0.8618 26196618.1092 -0.0000 1.0000 -51344428.8726 51344427.1491\n",
       "yrsmarr2  -0.9300 26196618.1092 -0.0000 1.0000 -51344428.9408 51344427.0809\n",
       "yrsmarr3   0.2730 26196618.1092  0.0000 1.0000 -51344427.7379 51344428.2839\n",
       "yrsmarr4  -0.1642 26196618.1092 -0.0000 1.0000 -51344428.1751 51344427.8466\n",
       "yrsmarr5   0.5050 26196618.1092  0.0000 1.0000 -51344427.5059 51344428.5158\n",
       "yrsmarr6   0.4266 26196618.1092  0.0000 1.0000 -51344427.5842 51344428.4375\n",
       "===========================================================================\n",
       "\n",
       "\"\"\""
      ]
     },
     "execution_count": 64,
     "metadata": {},
     "output_type": "execute_result"
    }
   ],
   "source": [
    "#summary\n",
    "model.summary2() # for AIC"
   ]
  },
  {
   "cell_type": "code",
   "execution_count": 65,
   "id": "2787aa40",
   "metadata": {},
   "outputs": [
    {
     "data": {
      "text/html": [
       "<table class=\"simpletable\">\n",
       "<caption>Logit Regression Results</caption>\n",
       "<tr>\n",
       "  <th>Dep. Variable:</th>       <td>naffairs</td>     <th>  No. Observations:  </th>  <td>   420</td>  \n",
       "</tr>\n",
       "<tr>\n",
       "  <th>Model:</th>                 <td>Logit</td>      <th>  Df Residuals:      </th>  <td>   405</td>  \n",
       "</tr>\n",
       "<tr>\n",
       "  <th>Method:</th>                 <td>MLE</td>       <th>  Df Model:          </th>  <td>    14</td>  \n",
       "</tr>\n",
       "<tr>\n",
       "  <th>Date:</th>            <td>Tue, 20 Apr 2021</td> <th>  Pseudo R-squ.:     </th>  <td>0.1209</td>  \n",
       "</tr>\n",
       "<tr>\n",
       "  <th>Time:</th>                <td>00:14:41</td>     <th>  Log-Likelihood:    </th> <td> -203.67</td> \n",
       "</tr>\n",
       "<tr>\n",
       "  <th>converged:</th>             <td>True</td>       <th>  LL-Null:           </th> <td> -231.68</td> \n",
       "</tr>\n",
       "<tr>\n",
       "  <th>Covariance Type:</th>     <td>nonrobust</td>    <th>  LLR p-value:       </th> <td>5.738e-07</td>\n",
       "</tr>\n",
       "</table>\n",
       "<table class=\"simpletable\">\n",
       "<tr>\n",
       "      <td></td>         <th>coef</th>     <th>std err</th>      <th>z</th>      <th>P>|z|</th>  <th>[0.025</th>    <th>0.975]</th>  \n",
       "</tr>\n",
       "<tr>\n",
       "  <th>Intercept</th> <td>   -0.7513</td> <td>      nan</td> <td>      nan</td> <td>   nan</td> <td>      nan</td> <td>      nan</td>\n",
       "</tr>\n",
       "<tr>\n",
       "  <th>kids</th>      <td>    0.2283</td> <td>    0.397</td> <td>    0.575</td> <td> 0.565</td> <td>   -0.550</td> <td>    1.006</td>\n",
       "</tr>\n",
       "<tr>\n",
       "  <th>vryunhap</th>  <td>    0.3451</td> <td> 5.34e+06</td> <td> 6.46e-08</td> <td> 1.000</td> <td>-1.05e+07</td> <td> 1.05e+07</td>\n",
       "</tr>\n",
       "<tr>\n",
       "  <th>unhap</th>     <td>    0.6386</td> <td> 5.34e+06</td> <td>  1.2e-07</td> <td> 1.000</td> <td>-1.05e+07</td> <td> 1.05e+07</td>\n",
       "</tr>\n",
       "<tr>\n",
       "  <th>avgmarr</th>   <td>   -0.2625</td> <td> 5.34e+06</td> <td>-4.91e-08</td> <td> 1.000</td> <td>-1.05e+07</td> <td> 1.05e+07</td>\n",
       "</tr>\n",
       "<tr>\n",
       "  <th>hapavg</th>    <td>   -0.4486</td> <td> 5.34e+06</td> <td> -8.4e-08</td> <td> 1.000</td> <td>-1.05e+07</td> <td> 1.05e+07</td>\n",
       "</tr>\n",
       "<tr>\n",
       "  <th>vryhap</th>    <td>   -1.0239</td> <td> 5.34e+06</td> <td>-1.92e-07</td> <td> 1.000</td> <td>-1.05e+07</td> <td> 1.05e+07</td>\n",
       "</tr>\n",
       "<tr>\n",
       "  <th>antirel</th>   <td>    0.6065</td> <td> 2.03e+07</td> <td> 2.98e-08</td> <td> 1.000</td> <td>-3.98e+07</td> <td> 3.98e+07</td>\n",
       "</tr>\n",
       "<tr>\n",
       "  <th>notrel</th>    <td>   -0.2597</td> <td> 2.03e+07</td> <td>-1.28e-08</td> <td> 1.000</td> <td>-3.98e+07</td> <td> 3.98e+07</td>\n",
       "</tr>\n",
       "<tr>\n",
       "  <th>slghtrel</th>  <td>    0.1811</td> <td> 2.03e+07</td> <td> 8.91e-09</td> <td> 1.000</td> <td>-3.98e+07</td> <td> 3.98e+07</td>\n",
       "</tr>\n",
       "<tr>\n",
       "  <th>smerel</th>    <td>   -0.8085</td> <td> 2.03e+07</td> <td>-3.98e-08</td> <td> 1.000</td> <td>-3.98e+07</td> <td> 3.98e+07</td>\n",
       "</tr>\n",
       "<tr>\n",
       "  <th>vryrel</th>    <td>   -0.4708</td> <td> 2.03e+07</td> <td>-2.32e-08</td> <td> 1.000</td> <td>-3.98e+07</td> <td> 3.98e+07</td>\n",
       "</tr>\n",
       "<tr>\n",
       "  <th>yrsmarr1</th>  <td>   -0.8618</td> <td> 2.62e+07</td> <td>-3.29e-08</td> <td> 1.000</td> <td>-5.13e+07</td> <td> 5.13e+07</td>\n",
       "</tr>\n",
       "<tr>\n",
       "  <th>yrsmarr2</th>  <td>   -0.9300</td> <td> 2.62e+07</td> <td>-3.55e-08</td> <td> 1.000</td> <td>-5.13e+07</td> <td> 5.13e+07</td>\n",
       "</tr>\n",
       "<tr>\n",
       "  <th>yrsmarr3</th>  <td>    0.2730</td> <td> 2.62e+07</td> <td> 1.04e-08</td> <td> 1.000</td> <td>-5.13e+07</td> <td> 5.13e+07</td>\n",
       "</tr>\n",
       "<tr>\n",
       "  <th>yrsmarr4</th>  <td>   -0.1642</td> <td> 2.62e+07</td> <td>-6.27e-09</td> <td> 1.000</td> <td>-5.13e+07</td> <td> 5.13e+07</td>\n",
       "</tr>\n",
       "<tr>\n",
       "  <th>yrsmarr5</th>  <td>    0.5050</td> <td> 2.62e+07</td> <td> 1.93e-08</td> <td> 1.000</td> <td>-5.13e+07</td> <td> 5.13e+07</td>\n",
       "</tr>\n",
       "<tr>\n",
       "  <th>yrsmarr6</th>  <td>    0.4266</td> <td> 2.62e+07</td> <td> 1.63e-08</td> <td> 1.000</td> <td>-5.13e+07</td> <td> 5.13e+07</td>\n",
       "</tr>\n",
       "</table>"
      ],
      "text/plain": [
       "<class 'statsmodels.iolib.summary.Summary'>\n",
       "\"\"\"\n",
       "                           Logit Regression Results                           \n",
       "==============================================================================\n",
       "Dep. Variable:               naffairs   No. Observations:                  420\n",
       "Model:                          Logit   Df Residuals:                      405\n",
       "Method:                           MLE   Df Model:                           14\n",
       "Date:                Tue, 20 Apr 2021   Pseudo R-squ.:                  0.1209\n",
       "Time:                        00:14:41   Log-Likelihood:                -203.67\n",
       "converged:                       True   LL-Null:                       -231.68\n",
       "Covariance Type:            nonrobust   LLR p-value:                 5.738e-07\n",
       "==============================================================================\n",
       "                 coef    std err          z      P>|z|      [0.025      0.975]\n",
       "------------------------------------------------------------------------------\n",
       "Intercept     -0.7513        nan        nan        nan         nan         nan\n",
       "kids           0.2283      0.397      0.575      0.565      -0.550       1.006\n",
       "vryunhap       0.3451   5.34e+06   6.46e-08      1.000   -1.05e+07    1.05e+07\n",
       "unhap          0.6386   5.34e+06    1.2e-07      1.000   -1.05e+07    1.05e+07\n",
       "avgmarr       -0.2625   5.34e+06  -4.91e-08      1.000   -1.05e+07    1.05e+07\n",
       "hapavg        -0.4486   5.34e+06   -8.4e-08      1.000   -1.05e+07    1.05e+07\n",
       "vryhap        -1.0239   5.34e+06  -1.92e-07      1.000   -1.05e+07    1.05e+07\n",
       "antirel        0.6065   2.03e+07   2.98e-08      1.000   -3.98e+07    3.98e+07\n",
       "notrel        -0.2597   2.03e+07  -1.28e-08      1.000   -3.98e+07    3.98e+07\n",
       "slghtrel       0.1811   2.03e+07   8.91e-09      1.000   -3.98e+07    3.98e+07\n",
       "smerel        -0.8085   2.03e+07  -3.98e-08      1.000   -3.98e+07    3.98e+07\n",
       "vryrel        -0.4708   2.03e+07  -2.32e-08      1.000   -3.98e+07    3.98e+07\n",
       "yrsmarr1      -0.8618   2.62e+07  -3.29e-08      1.000   -5.13e+07    5.13e+07\n",
       "yrsmarr2      -0.9300   2.62e+07  -3.55e-08      1.000   -5.13e+07    5.13e+07\n",
       "yrsmarr3       0.2730   2.62e+07   1.04e-08      1.000   -5.13e+07    5.13e+07\n",
       "yrsmarr4      -0.1642   2.62e+07  -6.27e-09      1.000   -5.13e+07    5.13e+07\n",
       "yrsmarr5       0.5050   2.62e+07   1.93e-08      1.000   -5.13e+07    5.13e+07\n",
       "yrsmarr6       0.4266   2.62e+07   1.63e-08      1.000   -5.13e+07    5.13e+07\n",
       "==============================================================================\n",
       "\"\"\""
      ]
     },
     "execution_count": 65,
     "metadata": {},
     "output_type": "execute_result"
    }
   ],
   "source": [
    "model.summary()"
   ]
  },
  {
   "cell_type": "code",
   "execution_count": 66,
   "id": "f19eb8c0",
   "metadata": {},
   "outputs": [],
   "source": [
    "# Prediction on Test data set\n",
    "test_pred = logit_model.predict(test_data)"
   ]
  },
  {
   "cell_type": "code",
   "execution_count": 68,
   "id": "8566926f",
   "metadata": {},
   "outputs": [
    {
     "data": {
      "text/plain": [
       "(181, 19)"
      ]
     },
     "execution_count": 68,
     "metadata": {},
     "output_type": "execute_result"
    }
   ],
   "source": [
    "test_data.shape"
   ]
  },
  {
   "cell_type": "code",
   "execution_count": 69,
   "id": "2648a2ba",
   "metadata": {},
   "outputs": [
    {
     "name": "stderr",
     "output_type": "stream",
     "text": [
      "<ipython-input-69-8b271c1cb430>:3: SettingWithCopyWarning: \n",
      "A value is trying to be set on a copy of a slice from a DataFrame.\n",
      "Try using .loc[row_indexer,col_indexer] = value instead\n",
      "\n",
      "See the caveats in the documentation: https://pandas.pydata.org/pandas-docs/stable/user_guide/indexing.html#returning-a-view-versus-a-copy\n",
      "  test_data[\"test_pred\"] = np.zeros(181)\n"
     ]
    }
   ],
   "source": [
    "# Creating new column for storing predicted class ofnaffairs\n",
    "# filling all the cells with zeroes\n",
    "test_data[\"test_pred\"] = np.zeros(181)"
   ]
  },
  {
   "cell_type": "code",
   "execution_count": 70,
   "id": "aa37d124",
   "metadata": {},
   "outputs": [
    {
     "name": "stderr",
     "output_type": "stream",
     "text": [
      "C:\\Users\\Hp\\anaconda3\\envs\\digit\\lib\\site-packages\\pandas\\core\\indexing.py:1720: SettingWithCopyWarning: \n",
      "A value is trying to be set on a copy of a slice from a DataFrame.\n",
      "Try using .loc[row_indexer,col_indexer] = value instead\n",
      "\n",
      "See the caveats in the documentation: https://pandas.pydata.org/pandas-docs/stable/user_guide/indexing.html#returning-a-view-versus-a-copy\n",
      "  self._setitem_single_column(loc, value, pi)\n"
     ]
    }
   ],
   "source": [
    "# taking threshold value as 'optimal_threshold' and above the thresold prob value will be treated as 1 \n",
    "test_data.loc[test_pred > optimal_threshold, \"test_pred\"] = 1"
   ]
  },
  {
   "cell_type": "code",
   "execution_count": 71,
   "id": "956ac9aa",
   "metadata": {},
   "outputs": [
    {
     "data": {
      "text/html": [
       "<div>\n",
       "<style scoped>\n",
       "    .dataframe tbody tr th:only-of-type {\n",
       "        vertical-align: middle;\n",
       "    }\n",
       "\n",
       "    .dataframe tbody tr th {\n",
       "        vertical-align: top;\n",
       "    }\n",
       "\n",
       "    .dataframe thead th {\n",
       "        text-align: right;\n",
       "    }\n",
       "</style>\n",
       "<table border=\"1\" class=\"dataframe\">\n",
       "  <thead>\n",
       "    <tr style=\"text-align: right;\">\n",
       "      <th>naffairs</th>\n",
       "      <th>0</th>\n",
       "      <th>1</th>\n",
       "    </tr>\n",
       "    <tr>\n",
       "      <th>test_pred</th>\n",
       "      <th></th>\n",
       "      <th></th>\n",
       "    </tr>\n",
       "  </thead>\n",
       "  <tbody>\n",
       "    <tr>\n",
       "      <th>0.0</th>\n",
       "      <td>96</td>\n",
       "      <td>18</td>\n",
       "    </tr>\n",
       "    <tr>\n",
       "      <th>1.0</th>\n",
       "      <td>36</td>\n",
       "      <td>31</td>\n",
       "    </tr>\n",
       "  </tbody>\n",
       "</table>\n",
       "</div>"
      ],
      "text/plain": [
       "naffairs    0   1\n",
       "test_pred        \n",
       "0.0        96  18\n",
       "1.0        36  31"
      ]
     },
     "execution_count": 71,
     "metadata": {},
     "output_type": "execute_result"
    }
   ],
   "source": [
    "# confusion matrix \n",
    "confusion_matrix = pd.crosstab(test_data.test_pred, test_data['naffairs'])\n",
    "confusion_matrix"
   ]
  },
  {
   "cell_type": "code",
   "execution_count": 88,
   "id": "f10157b2",
   "metadata": {},
   "outputs": [
    {
     "data": {
      "text/plain": [
       "0.7016574585635359"
      ]
     },
     "execution_count": 88,
     "metadata": {},
     "output_type": "execute_result"
    }
   ],
   "source": [
    "metrics.accuracy_score(test_data.test_pred, test_data['naffairs'])"
   ]
  },
  {
   "cell_type": "code",
   "execution_count": 74,
   "id": "f82c3cea",
   "metadata": {},
   "outputs": [
    {
     "data": {
      "text/plain": [
       "'              precision    recall  f1-score   support\\n\\n         0.0       0.73      0.84      0.78       114\\n         1.0       0.63      0.46      0.53        67\\n\\n    accuracy                           0.70       181\\n   macro avg       0.68      0.65      0.66       181\\nweighted avg       0.69      0.70      0.69       181\\n'"
      ]
     },
     "execution_count": 74,
     "metadata": {},
     "output_type": "execute_result"
    }
   ],
   "source": [
    "# classification report\n",
    "classification_test = metrics.classification_report(test_data[\"test_pred\"], test_data[\"naffairs\"])\n",
    "classification_test"
   ]
  },
  {
   "cell_type": "code",
   "execution_count": 75,
   "id": "a42d4724",
   "metadata": {},
   "outputs": [],
   "source": [
    "#ROC CURVE AND AUC\n",
    "fpr, tpr, threshold = metrics.roc_curve(test_data[\"naffairs\"], test_pred)"
   ]
  },
  {
   "cell_type": "code",
   "execution_count": 76,
   "id": "d2179c7b",
   "metadata": {},
   "outputs": [
    {
     "data": {
      "text/plain": [
       "Text(0, 0.5, 'True positive rate')"
      ]
     },
     "execution_count": 76,
     "metadata": {},
     "output_type": "execute_result"
    },
    {
     "data": {
      "image/png": "[encoded data removed]",
      "text/plain": [
       "<Figure size 432x288 with 1 Axes>"
      ]
     },
     "metadata": {},
     "output_type": "display_data"
    }
   ],
   "source": [
    "#PLOT OF ROC\n",
    "plt.plot(fpr, tpr);plt.xlabel(\"False positive rate\");plt.ylabel(\"True positive rate\")"
   ]
  },
  {
   "cell_type": "code",
   "execution_count": 77,
   "id": "f0271b06",
   "metadata": {},
   "outputs": [
    {
     "data": {
      "text/plain": [
       "0.7182282003710575"
      ]
     },
     "execution_count": 77,
     "metadata": {},
     "output_type": "execute_result"
    }
   ],
   "source": [
    "roc_auc_test = metrics.auc(fpr, tpr)\n",
    "roc_auc_test"
   ]
  },
  {
   "cell_type": "code",
   "execution_count": 78,
   "id": "849c8b2e",
   "metadata": {},
   "outputs": [],
   "source": [
    "# prediction on train data\n",
    "train_pred = model.predict(train_data.iloc[ :, 1: ])"
   ]
  },
  {
   "cell_type": "code",
   "execution_count": 79,
   "id": "567efb1a",
   "metadata": {},
   "outputs": [
    {
     "data": {
      "text/plain": [
       "(420, 19)"
      ]
     },
     "execution_count": 79,
     "metadata": {},
     "output_type": "execute_result"
    }
   ],
   "source": [
    "train_data.shape"
   ]
  },
  {
   "cell_type": "code",
   "execution_count": 80,
   "id": "1941d19e",
   "metadata": {},
   "outputs": [
    {
     "name": "stderr",
     "output_type": "stream",
     "text": [
      "<ipython-input-80-9d82a0281960>:3: SettingWithCopyWarning: \n",
      "A value is trying to be set on a copy of a slice from a DataFrame.\n",
      "Try using .loc[row_indexer,col_indexer] = value instead\n",
      "\n",
      "See the caveats in the documentation: https://pandas.pydata.org/pandas-docs/stable/user_guide/indexing.html#returning-a-view-versus-a-copy\n",
      "  train_data[\"train_pred\"] = np.zeros(420)\n"
     ]
    }
   ],
   "source": [
    "# Creating new column \n",
    "# filling all the cells with zeroes\n",
    "train_data[\"train_pred\"] = np.zeros(420)"
   ]
  },
  {
   "cell_type": "code",
   "execution_count": 81,
   "id": "0036ae8a",
   "metadata": {},
   "outputs": [
    {
     "name": "stderr",
     "output_type": "stream",
     "text": [
      "C:\\Users\\Hp\\anaconda3\\envs\\digit\\lib\\site-packages\\pandas\\core\\indexing.py:1720: SettingWithCopyWarning: \n",
      "A value is trying to be set on a copy of a slice from a DataFrame.\n",
      "Try using .loc[row_indexer,col_indexer] = value instead\n",
      "\n",
      "See the caveats in the documentation: https://pandas.pydata.org/pandas-docs/stable/user_guide/indexing.html#returning-a-view-versus-a-copy\n",
      "  self._setitem_single_column(loc, value, pi)\n"
     ]
    }
   ],
   "source": [
    "# taking threshold value and above the prob value will be treated as correct value \n",
    "train_data.loc[train_pred > optimal_threshold, \"train_pred\"] = 1"
   ]
  },
  {
   "cell_type": "code",
   "execution_count": 83,
   "id": "7fb1e9b4",
   "metadata": {},
   "outputs": [
    {
     "data": {
      "text/html": [
       "<div>\n",
       "<style scoped>\n",
       "    .dataframe tbody tr th:only-of-type {\n",
       "        vertical-align: middle;\n",
       "    }\n",
       "\n",
       "    .dataframe tbody tr th {\n",
       "        vertical-align: top;\n",
       "    }\n",
       "\n",
       "    .dataframe thead th {\n",
       "        text-align: right;\n",
       "    }\n",
       "</style>\n",
       "<table border=\"1\" class=\"dataframe\">\n",
       "  <thead>\n",
       "    <tr style=\"text-align: right;\">\n",
       "      <th>naffairs</th>\n",
       "      <th>0</th>\n",
       "      <th>1</th>\n",
       "    </tr>\n",
       "    <tr>\n",
       "      <th>train_pred</th>\n",
       "      <th></th>\n",
       "      <th></th>\n",
       "    </tr>\n",
       "  </thead>\n",
       "  <tbody>\n",
       "    <tr>\n",
       "      <th>0.0</th>\n",
       "      <td>216</td>\n",
       "      <td>32</td>\n",
       "    </tr>\n",
       "    <tr>\n",
       "      <th>1.0</th>\n",
       "      <td>103</td>\n",
       "      <td>69</td>\n",
       "    </tr>\n",
       "  </tbody>\n",
       "</table>\n",
       "</div>"
      ],
      "text/plain": [
       "naffairs      0   1\n",
       "train_pred         \n",
       "0.0         216  32\n",
       "1.0         103  69"
      ]
     },
     "execution_count": 83,
     "metadata": {},
     "output_type": "execute_result"
    }
   ],
   "source": [
    "# confusion matrix\n",
    "confusion_matrx = pd.crosstab(train_data.train_pred, train_data['naffairs'])\n",
    "confusion_matrx"
   ]
  },
  {
   "cell_type": "code",
   "execution_count": 84,
   "id": "4c123ddf",
   "metadata": {},
   "outputs": [
    {
     "data": {
      "text/plain": [
       "0.6785714285714286"
      ]
     },
     "execution_count": 84,
     "metadata": {},
     "output_type": "execute_result"
    }
   ],
   "source": [
    "metrics.accuracy_score(train_data.train_pred, train_data['naffairs'])"
   ]
  },
  {
   "cell_type": "markdown",
   "id": "62c60020",
   "metadata": {},
   "source": [
    "first model has better accuracy than the later model"
   ]
  }
 ],
 "metadata": {
  "kernelspec": {
   "display_name": "Python 3",
   "language": "python",
   "name": "python3"
  },
  "language_info": {
   "codemirror_mode": {
    "name": "ipython",
    "version": 3
   },
   "file_extension": ".py",
   "mimetype": "text/x-python",
   "name": "python",
   "nbconvert_exporter": "python",
   "pygments_lexer": "ipython3",
   "version": "3.8.8"
  }
 },
 "nbformat": 4,
 "nbformat_minor": 5
}
