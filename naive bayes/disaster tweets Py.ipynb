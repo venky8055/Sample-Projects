{
 "cells": [
  {
   "cell_type": "markdown",
   "metadata": {},
   "source": [
    "# * Kurapati Venkatesh\n",
    "\n",
    "# * 09012021\n",
    "\n",
    "# * Topic: Naive Bayes ✨"
   ]
  },
  {
   "cell_type": "markdown",
   "metadata": {},
   "source": [
    "# ---------------------------------------------------------------------------"
   ]
  },
  {
   "cell_type": "markdown",
   "metadata": {},
   "source": [
    "## Problem Statement:"
   ]
  },
  {
   "cell_type": "markdown",
   "metadata": {},
   "source": [
    "## In this case study you have been given with tweeter data collected from an anonymous twitter handle, with the help of Naïve Bayes algorithm predict a given tweet is Fake or Real about real disaster occurring. "
   ]
  },
  {
   "cell_type": "markdown",
   "metadata": {},
   "source": [
    "## -----------------------------------------------------------------------------------"
   ]
  },
  {
   "cell_type": "markdown",
   "metadata": {},
   "source": [
    "### Problem Objective:\n",
    "\n",
    "##### To prepare a classification model using Naive Bayes and To predict the a given tweet is Fake or Real about real disaster occuring."
   ]
  },
  {
   "cell_type": "markdown",
   "metadata": {},
   "source": [
    "### Dataset info:"
   ]
  },
  {
   "attachments": {
    "image.png": {
     "image/png": "[encoded data removed]"
    }
   },
   "cell_type": "markdown",
   "metadata": {},
   "source": [
    "![image.png](attachment:image.png)"
   ]
  },
  {
   "cell_type": "markdown",
   "metadata": {},
   "source": [
    "## Import libraries:"
   ]
  },
  {
   "cell_type": "code",
   "execution_count": 2,
   "metadata": {},
   "outputs": [],
   "source": [
    "import numpy as np # linear algebra\n",
    "import pandas as pd # data processing\n",
    "import matplotlib.pyplot as plt # for data visualization purposes\n",
    "import seaborn as sns # for statistical data visualization\n",
    "%matplotlib inline\n",
    "from sklearn.preprocessing import LabelEncoder\n",
    "from collections import defaultdict\n",
    "from collections import Counter\n",
    "from sklearn.model_selection import StratifiedShuffleSplit\n",
    "\n",
    "from sklearn.feature_extraction.text import TfidfVectorizer\n",
    "from sklearn.feature_extraction.text import CountVectorizer\n",
    "from sklearn import model_selection, naive_bayes\n",
    "from sklearn.metrics import accuracy_score\n",
    "from scipy import stats\n",
    "from sklearn.metrics import make_scorer, roc_auc_score\n",
    "np.random.seed(500)"
   ]
  },
  {
   "cell_type": "code",
   "execution_count": 3,
   "metadata": {},
   "outputs": [],
   "source": [
    "import warnings\n",
    "\n",
    "warnings.filterwarnings('ignore')"
   ]
  },
  {
   "cell_type": "markdown",
   "metadata": {},
   "source": [
    "## Import dataset:"
   ]
  },
  {
   "cell_type": "code",
   "execution_count": 4,
   "metadata": {},
   "outputs": [
    {
     "data": {
      "text/html": [
       "<div>\n",
       "<style scoped>\n",
       "    .dataframe tbody tr th:only-of-type {\n",
       "        vertical-align: middle;\n",
       "    }\n",
       "\n",
       "    .dataframe tbody tr th {\n",
       "        vertical-align: top;\n",
       "    }\n",
       "\n",
       "    .dataframe thead th {\n",
       "        text-align: right;\n",
       "    }\n",
       "</style>\n",
       "<table border=\"1\" class=\"dataframe\">\n",
       "  <thead>\n",
       "    <tr style=\"text-align: right;\">\n",
       "      <th></th>\n",
       "      <th>id</th>\n",
       "      <th>keyword</th>\n",
       "      <th>location</th>\n",
       "      <th>text</th>\n",
       "      <th>target</th>\n",
       "    </tr>\n",
       "  </thead>\n",
       "  <tbody>\n",
       "    <tr>\n",
       "      <th>0</th>\n",
       "      <td>1</td>\n",
       "      <td>NaN</td>\n",
       "      <td>NaN</td>\n",
       "      <td>Our Deeds are the Reason of this #earthquake M...</td>\n",
       "      <td>1</td>\n",
       "    </tr>\n",
       "    <tr>\n",
       "      <th>1</th>\n",
       "      <td>4</td>\n",
       "      <td>NaN</td>\n",
       "      <td>NaN</td>\n",
       "      <td>Forest fire near La Ronge Sask. Canada</td>\n",
       "      <td>1</td>\n",
       "    </tr>\n",
       "    <tr>\n",
       "      <th>2</th>\n",
       "      <td>5</td>\n",
       "      <td>NaN</td>\n",
       "      <td>NaN</td>\n",
       "      <td>All residents asked to 'shelter in place' are ...</td>\n",
       "      <td>1</td>\n",
       "    </tr>\n",
       "    <tr>\n",
       "      <th>3</th>\n",
       "      <td>6</td>\n",
       "      <td>NaN</td>\n",
       "      <td>NaN</td>\n",
       "      <td>13,000 people receive #wildfires evacuation or...</td>\n",
       "      <td>1</td>\n",
       "    </tr>\n",
       "    <tr>\n",
       "      <th>4</th>\n",
       "      <td>7</td>\n",
       "      <td>NaN</td>\n",
       "      <td>NaN</td>\n",
       "      <td>Just got sent this photo from Ruby #Alaska as ...</td>\n",
       "      <td>1</td>\n",
       "    </tr>\n",
       "  </tbody>\n",
       "</table>\n",
       "</div>"
      ],
      "text/plain": [
       "   id keyword location                                               text  \\\n",
       "0   1     NaN      NaN  Our Deeds are the Reason of this #earthquake M...   \n",
       "1   4     NaN      NaN             Forest fire near La Ronge Sask. Canada   \n",
       "2   5     NaN      NaN  All residents asked to 'shelter in place' are ...   \n",
       "3   6     NaN      NaN  13,000 people receive #wildfires evacuation or...   \n",
       "4   7     NaN      NaN  Just got sent this photo from Ruby #Alaska as ...   \n",
       "\n",
       "   target  \n",
       "0       1  \n",
       "1       1  \n",
       "2       1  \n",
       "3       1  \n",
       "4       1  "
      ]
     },
     "execution_count": 4,
     "metadata": {},
     "output_type": "execute_result"
    }
   ],
   "source": [
    "disaster_original = pd.read_csv(r\"G:\\360digit\\assignments meterial\\Naivebayes\\Disaster_tweets_NB.csv\")\n",
    "disaster_original.head(5)"
   ]
  },
  {
   "cell_type": "code",
   "execution_count": 5,
   "metadata": {},
   "outputs": [
    {
     "data": {
      "text/plain": [
       "array([1, 0], dtype=int64)"
      ]
     },
     "execution_count": 5,
     "metadata": {},
     "output_type": "execute_result"
    }
   ],
   "source": [
    "disaster_original['target'].unique()"
   ]
  },
  {
   "cell_type": "code",
   "execution_count": 6,
   "metadata": {},
   "outputs": [
    {
     "data": {
      "text/plain": [
       "(7613, 5)"
      ]
     },
     "execution_count": 6,
     "metadata": {},
     "output_type": "execute_result"
    }
   ],
   "source": [
    "disaster_original.shape"
   ]
  },
  {
   "cell_type": "markdown",
   "metadata": {},
   "source": [
    "#### Drop Columns:"
   ]
  },
  {
   "cell_type": "markdown",
   "metadata": {},
   "source": [
    "The id, keyword and location columns are all entirley null, and intuitively shouldn't add any value to the model's ability to classify the body of the tweet as disaster 1 or no disaster 0.\n",
    "\n",
    "We drop the columns and recheck the first five entries."
   ]
  },
  {
   "cell_type": "code",
   "execution_count": 7,
   "metadata": {},
   "outputs": [
    {
     "data": {
      "text/html": [
       "<div>\n",
       "<style scoped>\n",
       "    .dataframe tbody tr th:only-of-type {\n",
       "        vertical-align: middle;\n",
       "    }\n",
       "\n",
       "    .dataframe tbody tr th {\n",
       "        vertical-align: top;\n",
       "    }\n",
       "\n",
       "    .dataframe thead th {\n",
       "        text-align: right;\n",
       "    }\n",
       "</style>\n",
       "<table border=\"1\" class=\"dataframe\">\n",
       "  <thead>\n",
       "    <tr style=\"text-align: right;\">\n",
       "      <th></th>\n",
       "      <th>text</th>\n",
       "      <th>target</th>\n",
       "    </tr>\n",
       "  </thead>\n",
       "  <tbody>\n",
       "    <tr>\n",
       "      <th>0</th>\n",
       "      <td>Our Deeds are the Reason of this #earthquake M...</td>\n",
       "      <td>1</td>\n",
       "    </tr>\n",
       "    <tr>\n",
       "      <th>1</th>\n",
       "      <td>Forest fire near La Ronge Sask. Canada</td>\n",
       "      <td>1</td>\n",
       "    </tr>\n",
       "    <tr>\n",
       "      <th>2</th>\n",
       "      <td>All residents asked to 'shelter in place' are ...</td>\n",
       "      <td>1</td>\n",
       "    </tr>\n",
       "    <tr>\n",
       "      <th>3</th>\n",
       "      <td>13,000 people receive #wildfires evacuation or...</td>\n",
       "      <td>1</td>\n",
       "    </tr>\n",
       "    <tr>\n",
       "      <th>4</th>\n",
       "      <td>Just got sent this photo from Ruby #Alaska as ...</td>\n",
       "      <td>1</td>\n",
       "    </tr>\n",
       "  </tbody>\n",
       "</table>\n",
       "</div>"
      ],
      "text/plain": [
       "                                                text  target\n",
       "0  Our Deeds are the Reason of this #earthquake M...       1\n",
       "1             Forest fire near La Ronge Sask. Canada       1\n",
       "2  All residents asked to 'shelter in place' are ...       1\n",
       "3  13,000 people receive #wildfires evacuation or...       1\n",
       "4  Just got sent this photo from Ruby #Alaska as ...       1"
      ]
     },
     "execution_count": 7,
     "metadata": {},
     "output_type": "execute_result"
    }
   ],
   "source": [
    "df = disaster_original.drop(['id', 'keyword', 'location'],axis=1)\n",
    "df.head()"
   ]
  },
  {
   "cell_type": "markdown",
   "metadata": {},
   "source": [
    "### EDA:"
   ]
  },
  {
   "cell_type": "markdown",
   "metadata": {},
   "source": [
    "With any classification task we need to check the distribution of our dependent variable. We want to ensure that our target is evenly distributed amongst the training and validation sets. Its important that we make a copy of the data to work on, this keeps the original dataset completely untouched."
   ]
  },
  {
   "cell_type": "code",
   "execution_count": 8,
   "metadata": {},
   "outputs": [
    {
     "data": {
      "image/png": "[encoded data removed]",
      "text/plain": [
       "<Figure size 720x360 with 1 Axes>"
      ]
     },
     "metadata": {
      "needs_background": "light"
     },
     "output_type": "display_data"
    }
   ],
   "source": [
    "disaster_tweets = disaster_original.copy()\n",
    "\n",
    "plt.figure(figsize=(10, 5))\n",
    "plt.hist(disaster_tweets['target'])\n",
    "plt.title('Histogram of Target Variable')\n",
    "plt.xlabel('No / Yes')\n",
    "plt.ylabel('Frequency of target value')\n",
    "plt.show()"
   ]
  },
  {
   "cell_type": "markdown",
   "metadata": {},
   "source": [
    "#### Startified Sampling:"
   ]
  },
  {
   "cell_type": "markdown",
   "metadata": {},
   "source": [
    "The slight imbalance of target values above (in favour of no disaster) indicate that we should conduct Stratified Sampling. Using pre-built SKLearn methods this technique maintains the same distribution of independent variables throughout each of our stratified samples (training and validation).\n",
    "\n",
    "\n",
    "Here we opted for an initial 80/20 split due to the relatively low number of tweets, however this parameter can have a direct affect on model accruacy and should be considered in the same respect as every other hyperparameter"
   ]
  },
  {
   "cell_type": "code",
   "execution_count": 9,
   "metadata": {},
   "outputs": [],
   "source": [
    "split = StratifiedShuffleSplit(n_splits=1, test_size=0.2, random_state=42)\n",
    "\n",
    "for train_index, test_index in split.split(disaster_tweets, disaster_tweets['target']):\n",
    "    \n",
    "    strat_training_set = disaster_tweets.loc[train_index]\n",
    "    strat_testing_set = disaster_tweets.loc[test_index]"
   ]
  },
  {
   "cell_type": "markdown",
   "metadata": {},
   "source": [
    "With our samples ready we can now visualise the distribution of the dependent variable across each of these samples and compare them with the original dataset."
   ]
  },
  {
   "cell_type": "code",
   "execution_count": 10,
   "metadata": {},
   "outputs": [
    {
     "data": {
      "image/png": "[encoded data removed]",
      "text/plain": [
       "<Figure size 720x360 with 1 Axes>"
      ]
     },
     "metadata": {
      "needs_background": "light"
     },
     "output_type": "display_data"
    }
   ],
   "source": [
    "plt.figure(figsize=(10, 5))\n",
    "plt.hist(strat_testing_set['target'])\n",
    "plt.xlabel('No / Yes')\n",
    "plt.ylabel('Frequency of target value')\n",
    "plt.title('Histogram of Target value - Stratified Test Set')\n",
    "plt.show()"
   ]
  },
  {
   "cell_type": "code",
   "execution_count": 11,
   "metadata": {},
   "outputs": [
    {
     "data": {
      "image/png": "[encoded data removed]",
      "text/plain": [
       "<Figure size 720x360 with 1 Axes>"
      ]
     },
     "metadata": {
      "needs_background": "light"
     },
     "output_type": "display_data"
    }
   ],
   "source": [
    "plt.figure(figsize=(10, 5))\n",
    "plt.hist(strat_training_set['target'])\n",
    "plt.xlabel('No / Yes')\n",
    "plt.ylabel('Frequency of target value')\n",
    "plt.title('Histogram of Target value - Stratified Train Set')\n",
    "plt.show()"
   ]
  },
  {
   "cell_type": "markdown",
   "metadata": {},
   "source": [
    "#### Text preprocessing:"
   ]
  },
  {
   "cell_type": "markdown",
   "metadata": {},
   "source": [
    "To begin to understand any text data it's important to represent the data in an appropriate format. This means taking ech tweet and embedding the text in vector space using the TF-IDF (Term Frequency- Invert Document Frequency) distance metric. TF-IDF creates a sparse matrix of documents * words, with a words TF-IDF value assigned to each field.\n",
    "\n",
    "In order to embed tweets we first need to clean the text, which involves a number of steps;\n",
    "\n",
    "- Make all text lowercase.\n",
    "- Tokensie the text (turn each tweet into a list of string tokens).\n",
    "- Remove stopwords (removing redundant words like 'and', 'the' or 'a').\n",
    "- Stemming the text (taking each word down to its root).\n",
    "\n",
    "\n",
    "In order to ensure easy and efficient reporducability, these formatting techniques are performed by our custom function.\n",
    "\n"
   ]
  },
  {
   "cell_type": "markdown",
   "metadata": {},
   "source": [
    "Splitting the Stratified Samples:"
   ]
  },
  {
   "cell_type": "markdown",
   "metadata": {},
   "source": [
    "Our final task in this part of the data processing simply invovles seperting our independent and dependent variables."
   ]
  },
  {
   "cell_type": "code",
   "execution_count": 18,
   "metadata": {},
   "outputs": [],
   "source": [
    "X_train = strat_training_set.drop(columns=['target'])\n",
    "Y_train = strat_training_set['target']\n",
    "\n",
    "X_test = strat_testing_set.drop(columns=['target'])\n",
    "Y_test = strat_testing_set['target']"
   ]
  },
  {
   "cell_type": "markdown",
   "metadata": {},
   "source": [
    "#### Word Vectorisation:"
   ]
  },
  {
   "cell_type": "markdown",
   "metadata": {},
   "source": [
    "As an initial method of numerically representing each tweet we opted for TF-IDF, which measure the count of words in a particular document but balances this with the appearence of that word over the whole corpus (every tweet included in the data).\n",
    "\n",
    "An alternative (and possibly better vector technique) would be to uslise a word2vec model to embed our tweets and assign vector values. This is something we plan to explore in the future, however the ease with which we can implement TF-IDF using built in SKLearn classes and functions make it a good starting point to begin fitting our model.\n",
    "\n",
    "To achieve this vectorisation we first preprocess all of our tweets (seen and unseen data) and instantiate a TDidfVectorizer object which will perform the necessary calculations to assign TF-IDF values to each of our documents. We then use this trained model to assign features to our stratified samples."
   ]
  },
  {
   "cell_type": "code",
   "execution_count": 20,
   "metadata": {},
   "outputs": [],
   "source": [
    "tf_idf_vect = TfidfVectorizer(max_features=300, sublinear_tf=True)\n",
    "tf_idf_vect.fit(disaster_tweets['text'])\n",
    "\n",
    "X_train_tfidf = tf_idf_vect.transform(X_train['text'])\n",
    "X_test_tfidf = tf_idf_vect.transform(X_test['text'])"
   ]
  },
  {
   "cell_type": "code",
   "execution_count": 39,
   "metadata": {},
   "outputs": [
    {
     "data": {
      "text/plain": [
       "<6090x300 sparse matrix of type '<class 'numpy.float64'>'\n",
       "\twith 42209 stored elements in Compressed Sparse Row format>"
      ]
     },
     "execution_count": 39,
     "metadata": {},
     "output_type": "execute_result"
    }
   ],
   "source": [
    "X_train_tfidf"
   ]
  },
  {
   "cell_type": "code",
   "execution_count": 34,
   "metadata": {},
   "outputs": [
    {
     "data": {
      "text/plain": [
       "<1523x300 sparse matrix of type '<class 'numpy.float64'>'\n",
       "\twith 10434 stored elements in Compressed Sparse Row format>"
      ]
     },
     "execution_count": 34,
     "metadata": {},
     "output_type": "execute_result"
    }
   ],
   "source": [
    "X_test_tfidf"
   ]
  },
  {
   "cell_type": "markdown",
   "metadata": {},
   "source": [
    "This results in a sparse matrix of numerical values to represent each of the tweets. Using this sparse matrix we can visualise our tweets in vector space and assign a hue based on the target variable."
   ]
  },
  {
   "cell_type": "code",
   "execution_count": 26,
   "metadata": {},
   "outputs": [],
   "source": [
    "from sklearn.decomposition import TruncatedSVD\n",
    "tSVD = TruncatedSVD(n_components=3)\n",
    "data_3d = tSVD.fit_transform(X_train_tfidf)\n",
    "\n",
    "svd_df = pd.DataFrame()\n",
    "svd_df['svd_one'] = data_3d[:, 0]\n",
    "svd_df['svd_two'] = data_3d[:, 1]\n",
    "svd_df['svd_three'] = data_3d[:, 2]"
   ]
  },
  {
   "cell_type": "code",
   "execution_count": 32,
   "metadata": {
    "scrolled": false
   },
   "outputs": [
    {
     "data": {
      "text/plain": [
       "(       svd_one   svd_two  svd_three\n",
       " 0     0.373265  0.158637  -0.060815\n",
       " 1     0.378688  0.025709   0.065466\n",
       " 2     0.173394 -0.168664  -0.169544\n",
       " 3     0.028284 -0.067702  -0.030288\n",
       " 4     0.238145  0.003018  -0.015467\n",
       " ...        ...       ...        ...\n",
       " 6085  0.124629 -0.113185  -0.048978\n",
       " 6086  0.434697  0.200167  -0.030405\n",
       " 6087  0.069993 -0.095966  -0.071969\n",
       " 6088  0.261049 -0.091606  -0.085238\n",
       " 6089  0.086555 -0.198136  -0.107199\n",
       " \n",
       " [6090 rows x 3 columns],\n",
       "          id         keyword                       location  \\\n",
       " 6234   8902       snowstorm                     South, USA   \n",
       " 326     472      armageddon                      Worldwide   \n",
       " 997    1448  body%20bagging                        Cloud 9   \n",
       " 7269  10407       whirlwind  Sheff/Bangor/Salamanca/Madrid   \n",
       " 2189   3137          debris                       Nigeria    \n",
       " ...     ...             ...                            ...   \n",
       " 3386   4848      evacuation                    Yellowknife   \n",
       " 3280   4706       epicentre                         Africa   \n",
       " 305     447      armageddon      California, United States   \n",
       " 1648   2379       collapsed                            USA   \n",
       " 7569  10819         wrecked                 Livingston, MT   \n",
       " \n",
       "                                                    text  target  \n",
       " 6234  Sassy city girl country hunk stranded in Smoky...       1  \n",
       " 326   God's Kingdom (Heavenly Gov't) will rule over ...       0  \n",
       " 997   Mopheme and Bigstar Johnson are a problem in t...       0  \n",
       " 7269          @VixMeldrew sounds like a whirlwind life!       0  \n",
       " 2189  Malaysia confirms plane debris washed up on Re...       1  \n",
       " ...                                                 ...     ...  \n",
       " 3386  ÛÏA voluntary evacuation is being recommended...       1  \n",
       " 3280  RT @calestous: Tanzania elephant population de...       1  \n",
       " 305   #PBBan (Temporary:300) Russaky89 @'aRmageddon ...       0  \n",
       " 1648  Petition | Heartless owner that whipped horse ...       0  \n",
       " 7569  @marynmck That's beyond adorable. I hope it wo...       0  \n",
       " \n",
       " [6090 rows x 5 columns])"
      ]
     },
     "execution_count": 32,
     "metadata": {},
     "output_type": "execute_result"
    }
   ],
   "source": [
    "(svd_df, strat_training_set)"
   ]
  },
  {
   "cell_type": "markdown",
   "metadata": {},
   "source": [
    "### Naive Bayes:"
   ]
  },
  {
   "cell_type": "markdown",
   "metadata": {},
   "source": [
    "Naive Bayes performs well with a small amount of data and uses prior knowledge to calculate a posterior probability, represented by a probability distribution which reflects the likelihood that a specific instance belongs to a particular class."
   ]
  },
  {
   "cell_type": "markdown",
   "metadata": {},
   "source": [
    "With our data prepared we can instantiate a Naive Bayes classifier by invoking an SKLearn class, initially maintaining default parameters to establish a baseline performance. We will use this baseline performance as a means of deciding whether to further explore the parameter space of Naive Bayes, or consider a different model for our problem."
   ]
  },
  {
   "cell_type": "code",
   "execution_count": 22,
   "metadata": {},
   "outputs": [
    {
     "data": {
      "text/plain": [
       "MultinomialNB()"
      ]
     },
     "execution_count": 22,
     "metadata": {},
     "output_type": "execute_result"
    }
   ],
   "source": [
    "nb = naive_bayes.MultinomialNB()\n",
    "nb.fit(X_train_tfidf, Y_train)"
   ]
  },
  {
   "cell_type": "code",
   "execution_count": 23,
   "metadata": {},
   "outputs": [],
   "source": [
    "nb_validation_predictions = nb.predict(X_test_tfidf)\n",
    "nb_training_predictions = nb.predict(X_train_tfidf)"
   ]
  },
  {
   "cell_type": "code",
   "execution_count": 24,
   "metadata": {},
   "outputs": [
    {
     "name": "stdout",
     "output_type": "stream",
     "text": [
      "Naive Bayes Basline Validation Accuracy: 75.7715036112935\n",
      "Naive Bayes Basline Training Accuracy: 76.91297208538587\n"
     ]
    }
   ],
   "source": [
    "print(f\"Naive Bayes Basline Validation Accuracy: {accuracy_score(nb_validation_predictions, Y_test) * 100}\")\n",
    "print(f\"Naive Bayes Basline Training Accuracy: {accuracy_score(nb_training_predictions, Y_train) * 100}\")"
   ]
  },
  {
   "cell_type": "markdown",
   "metadata": {},
   "source": [
    "Results:"
   ]
  },
  {
   "cell_type": "markdown",
   "metadata": {},
   "source": [
    "Our baseline Naive Bayes model performed relatively well (although there is plenty of room for improvement) achieving 75.77% accuracy on the unseen validation data. What's intersting is that our training accuracy has a very similiar value to our validation accuracy, indicating that the model is indeed a good fit."
   ]
  }
 ],
 "metadata": {
  "kernelspec": {
   "display_name": "Python 3",
   "language": "python",
   "name": "python3"
  },
  "language_info": {
   "codemirror_mode": {
    "name": "ipython",
    "version": 3
   },
   "file_extension": ".py",
   "mimetype": "text/x-python",
   "name": "python",
   "nbconvert_exporter": "python",
   "pygments_lexer": "ipython3",
   "version": "3.8.3"
  }
 },
 "nbformat": 4,
 "nbformat_minor": 4
}
