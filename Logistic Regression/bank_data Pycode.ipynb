{
 "cells": [
  {
   "cell_type": "markdown",
   "id": "a5e071d1",
   "metadata": {},
   "source": [
    
    "# * Logistic Regression ✨"
   ]
  },
  {
   "cell_type": "markdown",
   "id": "2a7d9eff",
   "metadata": {},
   "source": [
    "# ---------------------------------------------------------------------------"
   ]
  },
  {
   "cell_type": "markdown",
   "id": "30aeb645",
   "metadata": {},
   "source": [
    "## Problem Statement:"
   ]
  },
  {
   "cell_type": "markdown",
   "id": "b2eca843",
   "metadata": {},
   "source": [
    "## In Financial Institutions getting their customers to do a fixed deposit in the banks is a vital and at most important for the bank as they bank uses it and pays an interest amount to those deposited customers. To ask every customer for a term deposit is not viable as well as time consuming process, can you come up with a Logistic Regression model to predict customers who will do a term deposit or not.  "
   ]
  },
  {
   "cell_type": "markdown",
   "id": "2b539e5a",
   "metadata": {},
   "source": [
    "## -----------------------------------------------------------------------------------"
   ]
  },
  {
   "cell_type": "markdown",
   "id": "27478c5f",
   "metadata": {},
   "source": [
    "### Problem Objective:\n",
    "##### To prepare a prediction model to perform Logistic Regression on the given data and to predict customers who will do a term deposit or not."
   ]
  },
  {
   "cell_type": "markdown",
   "id": "f0acedba",
   "metadata": {},
   "source": [
    "## -------------------------------------------------------------------------------------------"
   ]
  },
  {
   "cell_type": "markdown",
   "id": "f4d38946",
   "metadata": {},
   "source": [
    "## Step 1: Importing libraries and Data"
   ]
  },
  {
   "cell_type": "code",
   "execution_count": 1,
   "id": "3e273ce6",
   "metadata": {},
   "outputs": [],
   "source": [
    "# Supressing warnings\n",
    "import warnings\n",
    "warnings.filterwarnings('ignore')"
   ]
  },
  {
   "cell_type": "code",
   "execution_count": 2,
   "id": "b8c831a0",
   "metadata": {},
   "outputs": [],
   "source": [
    "# importing all the libraries used in the case study\n",
    "import numpy as np\n",
    "import pandas as pd\n",
    "import matplotlib.pyplot as plt\n",
    "import seaborn as sns\n",
    "import statsmodels.api as sm\n",
    "from sklearn import metrics\n",
    "from sklearn.model_selection import train_test_split\n",
    "from sklearn.preprocessing import StandardScaler\n",
    "from sklearn.linear_model import LogisticRegression\n",
    "from sklearn.feature_selection import RFE\n",
    "from statsmodels.stats.outliers_influence import variance_inflation_factor\n",
    "from sklearn.metrics import precision_score, recall_score, precision_recall_curve"
   ]
  },
  {
   "cell_type": "code",
   "execution_count": 4,
   "id": "29cce40a",
   "metadata": {},
   "outputs": [
    {
     "data": {
      "text/html": [
       "<div>\n",
       "<style scoped>\n",
       "    .dataframe tbody tr th:only-of-type {\n",
       "        vertical-align: middle;\n",
       "    }\n",
       "\n",
       "    .dataframe tbody tr th {\n",
       "        vertical-align: top;\n",
       "    }\n",
       "\n",
       "    .dataframe thead th {\n",
       "        text-align: right;\n",
       "    }\n",
       "</style>\n",
       "<table border=\"1\" class=\"dataframe\">\n",
       "  <thead>\n",
       "    <tr style=\"text-align: right;\">\n",
       "      <th></th>\n",
       "      <th>age</th>\n",
       "      <th>default</th>\n",
       "      <th>balance</th>\n",
       "      <th>housing</th>\n",
       "      <th>loan</th>\n",
       "      <th>duration</th>\n",
       "      <th>campaign</th>\n",
       "      <th>pdays</th>\n",
       "      <th>previous</th>\n",
       "      <th>poutfailure</th>\n",
       "      <th>...</th>\n",
       "      <th>johousemaid</th>\n",
       "      <th>jomanagement</th>\n",
       "      <th>joretired</th>\n",
       "      <th>joself.employed</th>\n",
       "      <th>joservices</th>\n",
       "      <th>jostudent</th>\n",
       "      <th>jotechnician</th>\n",
       "      <th>jounemployed</th>\n",
       "      <th>jounknown</th>\n",
       "      <th>y</th>\n",
       "    </tr>\n",
       "  </thead>\n",
       "  <tbody>\n",
       "    <tr>\n",
       "      <th>0</th>\n",
       "      <td>58</td>\n",
       "      <td>0</td>\n",
       "      <td>2143</td>\n",
       "      <td>1</td>\n",
       "      <td>0</td>\n",
       "      <td>261</td>\n",
       "      <td>1</td>\n",
       "      <td>-1</td>\n",
       "      <td>0</td>\n",
       "      <td>0</td>\n",
       "      <td>...</td>\n",
       "      <td>0</td>\n",
       "      <td>1</td>\n",
       "      <td>0</td>\n",
       "      <td>0</td>\n",
       "      <td>0</td>\n",
       "      <td>0</td>\n",
       "      <td>0</td>\n",
       "      <td>0</td>\n",
       "      <td>0</td>\n",
       "      <td>0</td>\n",
       "    </tr>\n",
       "    <tr>\n",
       "      <th>1</th>\n",
       "      <td>44</td>\n",
       "      <td>0</td>\n",
       "      <td>29</td>\n",
       "      <td>1</td>\n",
       "      <td>0</td>\n",
       "      <td>151</td>\n",
       "      <td>1</td>\n",
       "      <td>-1</td>\n",
       "      <td>0</td>\n",
       "      <td>0</td>\n",
       "      <td>...</td>\n",
       "      <td>0</td>\n",
       "      <td>0</td>\n",
       "      <td>0</td>\n",
       "      <td>0</td>\n",
       "      <td>0</td>\n",
       "      <td>0</td>\n",
       "      <td>1</td>\n",
       "      <td>0</td>\n",
       "      <td>0</td>\n",
       "      <td>0</td>\n",
       "    </tr>\n",
       "    <tr>\n",
       "      <th>2</th>\n",
       "      <td>33</td>\n",
       "      <td>0</td>\n",
       "      <td>2</td>\n",
       "      <td>1</td>\n",
       "      <td>1</td>\n",
       "      <td>76</td>\n",
       "      <td>1</td>\n",
       "      <td>-1</td>\n",
       "      <td>0</td>\n",
       "      <td>0</td>\n",
       "      <td>...</td>\n",
       "      <td>0</td>\n",
       "      <td>0</td>\n",
       "      <td>0</td>\n",
       "      <td>0</td>\n",
       "      <td>0</td>\n",
       "      <td>0</td>\n",
       "      <td>0</td>\n",
       "      <td>0</td>\n",
       "      <td>0</td>\n",
       "      <td>0</td>\n",
       "    </tr>\n",
       "    <tr>\n",
       "      <th>3</th>\n",
       "      <td>47</td>\n",
       "      <td>0</td>\n",
       "      <td>1506</td>\n",
       "      <td>1</td>\n",
       "      <td>0</td>\n",
       "      <td>92</td>\n",
       "      <td>1</td>\n",
       "      <td>-1</td>\n",
       "      <td>0</td>\n",
       "      <td>0</td>\n",
       "      <td>...</td>\n",
       "      <td>0</td>\n",
       "      <td>0</td>\n",
       "      <td>0</td>\n",
       "      <td>0</td>\n",
       "      <td>0</td>\n",
       "      <td>0</td>\n",
       "      <td>0</td>\n",
       "      <td>0</td>\n",
       "      <td>0</td>\n",
       "      <td>0</td>\n",
       "    </tr>\n",
       "    <tr>\n",
       "      <th>4</th>\n",
       "      <td>33</td>\n",
       "      <td>0</td>\n",
       "      <td>1</td>\n",
       "      <td>0</td>\n",
       "      <td>0</td>\n",
       "      <td>198</td>\n",
       "      <td>1</td>\n",
       "      <td>-1</td>\n",
       "      <td>0</td>\n",
       "      <td>0</td>\n",
       "      <td>...</td>\n",
       "      <td>0</td>\n",
       "      <td>0</td>\n",
       "      <td>0</td>\n",
       "      <td>0</td>\n",
       "      <td>0</td>\n",
       "      <td>0</td>\n",
       "      <td>0</td>\n",
       "      <td>0</td>\n",
       "      <td>1</td>\n",
       "      <td>0</td>\n",
       "    </tr>\n",
       "  </tbody>\n",
       "</table>\n",
       "<p>5 rows × 32 columns</p>\n",
       "</div>"
      ],
      "text/plain": [
       "   age  default  balance  housing  loan  duration  campaign  pdays  previous  \\\n",
       "0   58        0     2143        1     0       261         1     -1         0   \n",
       "1   44        0       29        1     0       151         1     -1         0   \n",
       "2   33        0        2        1     1        76         1     -1         0   \n",
       "3   47        0     1506        1     0        92         1     -1         0   \n",
       "4   33        0        1        0     0       198         1     -1         0   \n",
       "\n",
       "   poutfailure  ...  johousemaid  jomanagement  joretired  joself.employed  \\\n",
       "0            0  ...            0             1          0                0   \n",
       "1            0  ...            0             0          0                0   \n",
       "2            0  ...            0             0          0                0   \n",
       "3            0  ...            0             0          0                0   \n",
       "4            0  ...            0             0          0                0   \n",
       "\n",
       "   joservices  jostudent  jotechnician  jounemployed  jounknown  y  \n",
       "0           0          0             0             0          0  0  \n",
       "1           0          0             1             0          0  0  \n",
       "2           0          0             0             0          0  0  \n",
       "3           0          0             0             0          0  0  \n",
       "4           0          0             0             0          1  0  \n",
       "\n",
       "[5 rows x 32 columns]"
      ]
     },
     "execution_count": 4,
     "metadata": {},
     "output_type": "execute_result"
    }
   ],
   "source": [
    "bank = pd.read_csv(r\"G:\\360digit\\assignments meterial\\logistic regression\\bank_data.csv\")\n",
    "bank.head()"
   ]
  },
  {
   "cell_type": "markdown",
   "id": "43ae24c8",
   "metadata": {},
   "source": [
    "## Step 2: Inspecting Data"
   ]
  },
  {
   "cell_type": "code",
   "execution_count": 5,
   "id": "49661656",
   "metadata": {},
   "outputs": [
    {
     "data": {
      "text/plain": [
       "age                0\n",
       "default            0\n",
       "balance            0\n",
       "housing            0\n",
       "loan               0\n",
       "duration           0\n",
       "campaign           0\n",
       "pdays              0\n",
       "previous           0\n",
       "poutfailure        0\n",
       "poutother          0\n",
       "poutsuccess        0\n",
       "poutunknown        0\n",
       "con_cellular       0\n",
       "con_telephone      0\n",
       "con_unknown        0\n",
       "divorced           0\n",
       "married            0\n",
       "single             0\n",
       "joadmin.           0\n",
       "joblue.collar      0\n",
       "joentrepreneur     0\n",
       "johousemaid        0\n",
       "jomanagement       0\n",
       "joretired          0\n",
       "joself.employed    0\n",
       "joservices         0\n",
       "jostudent          0\n",
       "jotechnician       0\n",
       "jounemployed       0\n",
       "jounknown          0\n",
       "y                  0\n",
       "dtype: int64"
      ]
     },
     "execution_count": 5,
     "metadata": {},
     "output_type": "execute_result"
    }
   ],
   "source": [
    "bank.isnull().sum()"
   ]
  },
  {
   "cell_type": "code",
   "execution_count": 7,
   "id": "f97fba57",
   "metadata": {},
   "outputs": [
    {
     "name": "stdout",
     "output_type": "stream",
     "text": [
      "<class 'pandas.core.frame.DataFrame'>\n",
      "RangeIndex: 45211 entries, 0 to 45210\n",
      "Data columns (total 32 columns):\n",
      " #   Column           Non-Null Count  Dtype\n",
      "---  ------           --------------  -----\n",
      " 0   age              45211 non-null  int64\n",
      " 1   default          45211 non-null  int64\n",
      " 2   balance          45211 non-null  int64\n",
      " 3   housing          45211 non-null  int64\n",
      " 4   loan             45211 non-null  int64\n",
      " 5   duration         45211 non-null  int64\n",
      " 6   campaign         45211 non-null  int64\n",
      " 7   pdays            45211 non-null  int64\n",
      " 8   previous         45211 non-null  int64\n",
      " 9   poutfailure      45211 non-null  int64\n",
      " 10  poutother        45211 non-null  int64\n",
      " 11  poutsuccess      45211 non-null  int64\n",
      " 12  poutunknown      45211 non-null  int64\n",
      " 13  con_cellular     45211 non-null  int64\n",
      " 14  con_telephone    45211 non-null  int64\n",
      " 15  con_unknown      45211 non-null  int64\n",
      " 16  divorced         45211 non-null  int64\n",
      " 17  married          45211 non-null  int64\n",
      " 18  single           45211 non-null  int64\n",
      " 19  joadmin.         45211 non-null  int64\n",
      " 20  joblue.collar    45211 non-null  int64\n",
      " 21  joentrepreneur   45211 non-null  int64\n",
      " 22  johousemaid      45211 non-null  int64\n",
      " 23  jomanagement     45211 non-null  int64\n",
      " 24  joretired        45211 non-null  int64\n",
      " 25  joself.employed  45211 non-null  int64\n",
      " 26  joservices       45211 non-null  int64\n",
      " 27  jostudent        45211 non-null  int64\n",
      " 28  jotechnician     45211 non-null  int64\n",
      " 29  jounemployed     45211 non-null  int64\n",
      " 30  jounknown        45211 non-null  int64\n",
      " 31  y                45211 non-null  int64\n",
      "dtypes: int64(32)\n",
      "memory usage: 11.0 MB\n"
     ]
    }
   ],
   "source": [
    "# checking datatypes and null values in each columns\n",
    "bank.info()"
   ]
  },
  {
   "cell_type": "code",
   "execution_count": 8,
   "id": "3eeeaf3b",
   "metadata": {},
   "outputs": [
    {
     "data": {
      "text/plain": [
       "(45211, 32)"
      ]
     },
     "execution_count": 8,
     "metadata": {},
     "output_type": "execute_result"
    }
   ],
   "source": [
    "# shape of data\n",
    "bank.shape"
   ]
  },
  {
   "cell_type": "code",
   "execution_count": 9,
   "id": "435c61ac",
   "metadata": {},
   "outputs": [
    {
     "data": {
      "text/html": [
       "<div>\n",
       "<style scoped>\n",
       "    .dataframe tbody tr th:only-of-type {\n",
       "        vertical-align: middle;\n",
       "    }\n",
       "\n",
       "    .dataframe tbody tr th {\n",
       "        vertical-align: top;\n",
       "    }\n",
       "\n",
       "    .dataframe thead th {\n",
       "        text-align: right;\n",
       "    }\n",
       "</style>\n",
       "<table border=\"1\" class=\"dataframe\">\n",
       "  <thead>\n",
       "    <tr style=\"text-align: right;\">\n",
       "      <th></th>\n",
       "      <th>age</th>\n",
       "      <th>default</th>\n",
       "      <th>balance</th>\n",
       "      <th>housing</th>\n",
       "      <th>loan</th>\n",
       "      <th>duration</th>\n",
       "      <th>campaign</th>\n",
       "      <th>pdays</th>\n",
       "      <th>previous</th>\n",
       "      <th>poutfailure</th>\n",
       "      <th>...</th>\n",
       "      <th>johousemaid</th>\n",
       "      <th>jomanagement</th>\n",
       "      <th>joretired</th>\n",
       "      <th>joself.employed</th>\n",
       "      <th>joservices</th>\n",
       "      <th>jostudent</th>\n",
       "      <th>jotechnician</th>\n",
       "      <th>jounemployed</th>\n",
       "      <th>jounknown</th>\n",
       "      <th>y</th>\n",
       "    </tr>\n",
       "  </thead>\n",
       "  <tbody>\n",
       "    <tr>\n",
       "      <th>count</th>\n",
       "      <td>45211.000000</td>\n",
       "      <td>45211.000000</td>\n",
       "      <td>45211.000000</td>\n",
       "      <td>45211.000000</td>\n",
       "      <td>45211.000000</td>\n",
       "      <td>45211.000000</td>\n",
       "      <td>45211.000000</td>\n",
       "      <td>45211.000000</td>\n",
       "      <td>45211.000000</td>\n",
       "      <td>45211.000000</td>\n",
       "      <td>...</td>\n",
       "      <td>45211.000000</td>\n",
       "      <td>45211.000000</td>\n",
       "      <td>45211.000000</td>\n",
       "      <td>45211.000000</td>\n",
       "      <td>45211.00000</td>\n",
       "      <td>45211.000000</td>\n",
       "      <td>45211.000000</td>\n",
       "      <td>45211.000000</td>\n",
       "      <td>45211.000000</td>\n",
       "      <td>45211.000000</td>\n",
       "    </tr>\n",
       "    <tr>\n",
       "      <th>mean</th>\n",
       "      <td>40.936210</td>\n",
       "      <td>0.018027</td>\n",
       "      <td>1362.272058</td>\n",
       "      <td>0.555838</td>\n",
       "      <td>0.160226</td>\n",
       "      <td>258.163080</td>\n",
       "      <td>2.763841</td>\n",
       "      <td>40.197828</td>\n",
       "      <td>0.580323</td>\n",
       "      <td>0.108403</td>\n",
       "      <td>...</td>\n",
       "      <td>0.027427</td>\n",
       "      <td>0.209197</td>\n",
       "      <td>0.050076</td>\n",
       "      <td>0.034925</td>\n",
       "      <td>0.09188</td>\n",
       "      <td>0.020747</td>\n",
       "      <td>0.168034</td>\n",
       "      <td>0.028820</td>\n",
       "      <td>0.006370</td>\n",
       "      <td>0.116985</td>\n",
       "    </tr>\n",
       "    <tr>\n",
       "      <th>std</th>\n",
       "      <td>10.618762</td>\n",
       "      <td>0.133049</td>\n",
       "      <td>3044.765829</td>\n",
       "      <td>0.496878</td>\n",
       "      <td>0.366820</td>\n",
       "      <td>257.527812</td>\n",
       "      <td>3.098021</td>\n",
       "      <td>100.128746</td>\n",
       "      <td>2.303441</td>\n",
       "      <td>0.310892</td>\n",
       "      <td>...</td>\n",
       "      <td>0.163326</td>\n",
       "      <td>0.406740</td>\n",
       "      <td>0.218105</td>\n",
       "      <td>0.183592</td>\n",
       "      <td>0.28886</td>\n",
       "      <td>0.142538</td>\n",
       "      <td>0.373901</td>\n",
       "      <td>0.167303</td>\n",
       "      <td>0.079559</td>\n",
       "      <td>0.321406</td>\n",
       "    </tr>\n",
       "    <tr>\n",
       "      <th>min</th>\n",
       "      <td>18.000000</td>\n",
       "      <td>0.000000</td>\n",
       "      <td>-8019.000000</td>\n",
       "      <td>0.000000</td>\n",
       "      <td>0.000000</td>\n",
       "      <td>0.000000</td>\n",
       "      <td>1.000000</td>\n",
       "      <td>-1.000000</td>\n",
       "      <td>0.000000</td>\n",
       "      <td>0.000000</td>\n",
       "      <td>...</td>\n",
       "      <td>0.000000</td>\n",
       "      <td>0.000000</td>\n",
       "      <td>0.000000</td>\n",
       "      <td>0.000000</td>\n",
       "      <td>0.00000</td>\n",
       "      <td>0.000000</td>\n",
       "      <td>0.000000</td>\n",
       "      <td>0.000000</td>\n",
       "      <td>0.000000</td>\n",
       "      <td>0.000000</td>\n",
       "    </tr>\n",
       "    <tr>\n",
       "      <th>25%</th>\n",
       "      <td>33.000000</td>\n",
       "      <td>0.000000</td>\n",
       "      <td>72.000000</td>\n",
       "      <td>0.000000</td>\n",
       "      <td>0.000000</td>\n",
       "      <td>103.000000</td>\n",
       "      <td>1.000000</td>\n",
       "      <td>-1.000000</td>\n",
       "      <td>0.000000</td>\n",
       "      <td>0.000000</td>\n",
       "      <td>...</td>\n",
       "      <td>0.000000</td>\n",
       "      <td>0.000000</td>\n",
       "      <td>0.000000</td>\n",
       "      <td>0.000000</td>\n",
       "      <td>0.00000</td>\n",
       "      <td>0.000000</td>\n",
       "      <td>0.000000</td>\n",
       "      <td>0.000000</td>\n",
       "      <td>0.000000</td>\n",
       "      <td>0.000000</td>\n",
       "    </tr>\n",
       "    <tr>\n",
       "      <th>50%</th>\n",
       "      <td>39.000000</td>\n",
       "      <td>0.000000</td>\n",
       "      <td>448.000000</td>\n",
       "      <td>1.000000</td>\n",
       "      <td>0.000000</td>\n",
       "      <td>180.000000</td>\n",
       "      <td>2.000000</td>\n",
       "      <td>-1.000000</td>\n",
       "      <td>0.000000</td>\n",
       "      <td>0.000000</td>\n",
       "      <td>...</td>\n",
       "      <td>0.000000</td>\n",
       "      <td>0.000000</td>\n",
       "      <td>0.000000</td>\n",
       "      <td>0.000000</td>\n",
       "      <td>0.00000</td>\n",
       "      <td>0.000000</td>\n",
       "      <td>0.000000</td>\n",
       "      <td>0.000000</td>\n",
       "      <td>0.000000</td>\n",
       "      <td>0.000000</td>\n",
       "    </tr>\n",
       "    <tr>\n",
       "      <th>75%</th>\n",
       "      <td>48.000000</td>\n",
       "      <td>0.000000</td>\n",
       "      <td>1428.000000</td>\n",
       "      <td>1.000000</td>\n",
       "      <td>0.000000</td>\n",
       "      <td>319.000000</td>\n",
       "      <td>3.000000</td>\n",
       "      <td>-1.000000</td>\n",
       "      <td>0.000000</td>\n",
       "      <td>0.000000</td>\n",
       "      <td>...</td>\n",
       "      <td>0.000000</td>\n",
       "      <td>0.000000</td>\n",
       "      <td>0.000000</td>\n",
       "      <td>0.000000</td>\n",
       "      <td>0.00000</td>\n",
       "      <td>0.000000</td>\n",
       "      <td>0.000000</td>\n",
       "      <td>0.000000</td>\n",
       "      <td>0.000000</td>\n",
       "      <td>0.000000</td>\n",
       "    </tr>\n",
       "    <tr>\n",
       "      <th>max</th>\n",
       "      <td>95.000000</td>\n",
       "      <td>1.000000</td>\n",
       "      <td>102127.000000</td>\n",
       "      <td>1.000000</td>\n",
       "      <td>1.000000</td>\n",
       "      <td>4918.000000</td>\n",
       "      <td>63.000000</td>\n",
       "      <td>871.000000</td>\n",
       "      <td>275.000000</td>\n",
       "      <td>1.000000</td>\n",
       "      <td>...</td>\n",
       "      <td>1.000000</td>\n",
       "      <td>1.000000</td>\n",
       "      <td>1.000000</td>\n",
       "      <td>1.000000</td>\n",
       "      <td>1.00000</td>\n",
       "      <td>1.000000</td>\n",
       "      <td>1.000000</td>\n",
       "      <td>1.000000</td>\n",
       "      <td>1.000000</td>\n",
       "      <td>1.000000</td>\n",
       "    </tr>\n",
       "  </tbody>\n",
       "</table>\n",
       "<p>8 rows × 32 columns</p>\n",
       "</div>"
      ],
      "text/plain": [
       "                age       default        balance       housing          loan  \\\n",
       "count  45211.000000  45211.000000   45211.000000  45211.000000  45211.000000   \n",
       "mean      40.936210      0.018027    1362.272058      0.555838      0.160226   \n",
       "std       10.618762      0.133049    3044.765829      0.496878      0.366820   \n",
       "min       18.000000      0.000000   -8019.000000      0.000000      0.000000   \n",
       "25%       33.000000      0.000000      72.000000      0.000000      0.000000   \n",
       "50%       39.000000      0.000000     448.000000      1.000000      0.000000   \n",
       "75%       48.000000      0.000000    1428.000000      1.000000      0.000000   \n",
       "max       95.000000      1.000000  102127.000000      1.000000      1.000000   \n",
       "\n",
       "           duration      campaign         pdays      previous   poutfailure  \\\n",
       "count  45211.000000  45211.000000  45211.000000  45211.000000  45211.000000   \n",
       "mean     258.163080      2.763841     40.197828      0.580323      0.108403   \n",
       "std      257.527812      3.098021    100.128746      2.303441      0.310892   \n",
       "min        0.000000      1.000000     -1.000000      0.000000      0.000000   \n",
       "25%      103.000000      1.000000     -1.000000      0.000000      0.000000   \n",
       "50%      180.000000      2.000000     -1.000000      0.000000      0.000000   \n",
       "75%      319.000000      3.000000     -1.000000      0.000000      0.000000   \n",
       "max     4918.000000     63.000000    871.000000    275.000000      1.000000   \n",
       "\n",
       "       ...   johousemaid  jomanagement     joretired  joself.employed  \\\n",
       "count  ...  45211.000000  45211.000000  45211.000000     45211.000000   \n",
       "mean   ...      0.027427      0.209197      0.050076         0.034925   \n",
       "std    ...      0.163326      0.406740      0.218105         0.183592   \n",
       "min    ...      0.000000      0.000000      0.000000         0.000000   \n",
       "25%    ...      0.000000      0.000000      0.000000         0.000000   \n",
       "50%    ...      0.000000      0.000000      0.000000         0.000000   \n",
       "75%    ...      0.000000      0.000000      0.000000         0.000000   \n",
       "max    ...      1.000000      1.000000      1.000000         1.000000   \n",
       "\n",
       "        joservices     jostudent  jotechnician  jounemployed     jounknown  \\\n",
       "count  45211.00000  45211.000000  45211.000000  45211.000000  45211.000000   \n",
       "mean       0.09188      0.020747      0.168034      0.028820      0.006370   \n",
       "std        0.28886      0.142538      0.373901      0.167303      0.079559   \n",
       "min        0.00000      0.000000      0.000000      0.000000      0.000000   \n",
       "25%        0.00000      0.000000      0.000000      0.000000      0.000000   \n",
       "50%        0.00000      0.000000      0.000000      0.000000      0.000000   \n",
       "75%        0.00000      0.000000      0.000000      0.000000      0.000000   \n",
       "max        1.00000      1.000000      1.000000      1.000000      1.000000   \n",
       "\n",
       "                  y  \n",
       "count  45211.000000  \n",
       "mean       0.116985  \n",
       "std        0.321406  \n",
       "min        0.000000  \n",
       "25%        0.000000  \n",
       "50%        0.000000  \n",
       "75%        0.000000  \n",
       "max        1.000000  \n",
       "\n",
       "[8 rows x 32 columns]"
      ]
     },
     "execution_count": 9,
     "metadata": {},
     "output_type": "execute_result"
    }
   ],
   "source": [
    "# statistical aspects of the dataframe\n",
    "bank.describe(include='all')"
   ]
  },
  {
   "cell_type": "markdown",
   "id": "3fb9bc6a",
   "metadata": {},
   "source": [
    "## Step 3: Preparing data and Visualization"
   ]
  },
  {
   "cell_type": "markdown",
   "id": "daf5a4d6",
   "metadata": {},
   "source": [
    "#### Checking outliers:"
   ]
  },
  {
   "cell_type": "markdown",
   "id": "8ae49f71",
   "metadata": {},
   "source": [
    "Collecting the columns with continuous values in the dataframe and checking outliers for it"
   ]
  },
  {
   "cell_type": "code",
   "execution_count": 10,
   "id": "b0374f28",
   "metadata": {},
   "outputs": [
    {
     "data": {
      "text/html": [
       "<div>\n",
       "<style scoped>\n",
       "    .dataframe tbody tr th:only-of-type {\n",
       "        vertical-align: middle;\n",
       "    }\n",
       "\n",
       "    .dataframe tbody tr th {\n",
       "        vertical-align: top;\n",
       "    }\n",
       "\n",
       "    .dataframe thead th {\n",
       "        text-align: right;\n",
       "    }\n",
       "</style>\n",
       "<table border=\"1\" class=\"dataframe\">\n",
       "  <thead>\n",
       "    <tr style=\"text-align: right;\">\n",
       "      <th></th>\n",
       "      <th>age</th>\n",
       "      <th>balance</th>\n",
       "      <th>duration</th>\n",
       "    </tr>\n",
       "  </thead>\n",
       "  <tbody>\n",
       "    <tr>\n",
       "      <th>0</th>\n",
       "      <td>58</td>\n",
       "      <td>2143</td>\n",
       "      <td>261</td>\n",
       "    </tr>\n",
       "    <tr>\n",
       "      <th>1</th>\n",
       "      <td>44</td>\n",
       "      <td>29</td>\n",
       "      <td>151</td>\n",
       "    </tr>\n",
       "    <tr>\n",
       "      <th>2</th>\n",
       "      <td>33</td>\n",
       "      <td>2</td>\n",
       "      <td>76</td>\n",
       "    </tr>\n",
       "    <tr>\n",
       "      <th>3</th>\n",
       "      <td>47</td>\n",
       "      <td>1506</td>\n",
       "      <td>92</td>\n",
       "    </tr>\n",
       "    <tr>\n",
       "      <th>4</th>\n",
       "      <td>33</td>\n",
       "      <td>1</td>\n",
       "      <td>198</td>\n",
       "    </tr>\n",
       "  </tbody>\n",
       "</table>\n",
       "</div>"
      ],
      "text/plain": [
       "   age  balance  duration\n",
       "0   58     2143       261\n",
       "1   44       29       151\n",
       "2   33        2        76\n",
       "3   47     1506        92\n",
       "4   33        1       198"
      ]
     },
     "execution_count": 10,
     "metadata": {},
     "output_type": "execute_result"
    }
   ],
   "source": [
    "# collecting all the continuous valued columns in a dataframe\n",
    "check_out = bank[['age','balance','duration']]\n",
    "check_out.head()"
   ]
  },
  {
   "cell_type": "code",
   "execution_count": 11,
   "id": "a0aee812",
   "metadata": {},
   "outputs": [
    {
     "data": {
      "text/html": [
       "<div>\n",
       "<style scoped>\n",
       "    .dataframe tbody tr th:only-of-type {\n",
       "        vertical-align: middle;\n",
       "    }\n",
       "\n",
       "    .dataframe tbody tr th {\n",
       "        vertical-align: top;\n",
       "    }\n",
       "\n",
       "    .dataframe thead th {\n",
       "        text-align: right;\n",
       "    }\n",
       "</style>\n",
       "<table border=\"1\" class=\"dataframe\">\n",
       "  <thead>\n",
       "    <tr style=\"text-align: right;\">\n",
       "      <th></th>\n",
       "      <th>age</th>\n",
       "      <th>balance</th>\n",
       "      <th>duration</th>\n",
       "    </tr>\n",
       "  </thead>\n",
       "  <tbody>\n",
       "    <tr>\n",
       "      <th>count</th>\n",
       "      <td>45211.000000</td>\n",
       "      <td>45211.000000</td>\n",
       "      <td>45211.000000</td>\n",
       "    </tr>\n",
       "    <tr>\n",
       "      <th>mean</th>\n",
       "      <td>40.936210</td>\n",
       "      <td>1362.272058</td>\n",
       "      <td>258.163080</td>\n",
       "    </tr>\n",
       "    <tr>\n",
       "      <th>std</th>\n",
       "      <td>10.618762</td>\n",
       "      <td>3044.765829</td>\n",
       "      <td>257.527812</td>\n",
       "    </tr>\n",
       "    <tr>\n",
       "      <th>min</th>\n",
       "      <td>18.000000</td>\n",
       "      <td>-8019.000000</td>\n",
       "      <td>0.000000</td>\n",
       "    </tr>\n",
       "    <tr>\n",
       "      <th>25%</th>\n",
       "      <td>33.000000</td>\n",
       "      <td>72.000000</td>\n",
       "      <td>103.000000</td>\n",
       "    </tr>\n",
       "    <tr>\n",
       "      <th>50%</th>\n",
       "      <td>39.000000</td>\n",
       "      <td>448.000000</td>\n",
       "      <td>180.000000</td>\n",
       "    </tr>\n",
       "    <tr>\n",
       "      <th>75%</th>\n",
       "      <td>48.000000</td>\n",
       "      <td>1428.000000</td>\n",
       "      <td>319.000000</td>\n",
       "    </tr>\n",
       "    <tr>\n",
       "      <th>90%</th>\n",
       "      <td>56.000000</td>\n",
       "      <td>3574.000000</td>\n",
       "      <td>548.000000</td>\n",
       "    </tr>\n",
       "    <tr>\n",
       "      <th>95%</th>\n",
       "      <td>59.000000</td>\n",
       "      <td>5768.000000</td>\n",
       "      <td>751.000000</td>\n",
       "    </tr>\n",
       "    <tr>\n",
       "      <th>99%</th>\n",
       "      <td>71.000000</td>\n",
       "      <td>13164.900000</td>\n",
       "      <td>1269.000000</td>\n",
       "    </tr>\n",
       "    <tr>\n",
       "      <th>max</th>\n",
       "      <td>95.000000</td>\n",
       "      <td>102127.000000</td>\n",
       "      <td>4918.000000</td>\n",
       "    </tr>\n",
       "  </tbody>\n",
       "</table>\n",
       "</div>"
      ],
      "text/plain": [
       "                age        balance      duration\n",
       "count  45211.000000   45211.000000  45211.000000\n",
       "mean      40.936210    1362.272058    258.163080\n",
       "std       10.618762    3044.765829    257.527812\n",
       "min       18.000000   -8019.000000      0.000000\n",
       "25%       33.000000      72.000000    103.000000\n",
       "50%       39.000000     448.000000    180.000000\n",
       "75%       48.000000    1428.000000    319.000000\n",
       "90%       56.000000    3574.000000    548.000000\n",
       "95%       59.000000    5768.000000    751.000000\n",
       "99%       71.000000   13164.900000   1269.000000\n",
       "max       95.000000  102127.000000   4918.000000"
      ]
     },
     "execution_count": 11,
     "metadata": {},
     "output_type": "execute_result"
    }
   ],
   "source": [
    "# Checking outliers at 25%, 50%, 75%, 90%, 95% and 99%\n",
    "check_out.describe(percentiles=[0.25,0.5,0.75,0.90,0.95,0.99])"
   ]
  },
  {
   "cell_type": "code",
   "execution_count": 12,
   "id": "d11a2fff",
   "metadata": {},
   "outputs": [
    {
     "data": {
      "text/plain": [
       "<AxesSubplot:ylabel='duration'>"
      ]
     },
     "execution_count": 12,
     "metadata": {},
     "output_type": "execute_result"
    },
    {
     "data": {
      "image/png": "[encoded data removed]",
      "text/plain": [
       "<Figure size 1080x720 with 3 Axes>"
      ]
     },
     "metadata": {
      "needs_background": "light"
     },
     "output_type": "display_data"
    }
   ],
   "source": [
    "# creating boxplots for all the continuous columns of the dataframe\n",
    "plt.figure(figsize=(15,10))\n",
    "plt.subplot(2,4,1)\n",
    "sns.boxplot(y='age',data=bank)\n",
    "plt.subplot(2,4,2)\n",
    "sns.boxplot(y='balance',data=bank)\n",
    "plt.subplot(2,4,4)\n",
    "sns.boxplot(y='duration',data=bank)"
   ]
  },
  {
   "cell_type": "markdown",
   "id": "42b06836",
   "metadata": {},
   "source": [
    "There are lot of outliers present in the dataframe but we can't drop them because of the very large quantity and are important for model making"
   ]
  },
  {
   "cell_type": "code",
   "execution_count": 13,
   "id": "7331b8d9",
   "metadata": {},
   "outputs": [
    {
     "data": {
      "text/plain": [
       "<AxesSubplot:>"
      ]
     },
     "execution_count": 13,
     "metadata": {},
     "output_type": "execute_result"
    },
    {
     "data": {
      "image/png": "[encoded data removed]",
      "text/plain": [
       "<Figure size 2880x2160 with 2 Axes>"
      ]
     },
     "metadata": {
      "needs_background": "light"
     },
     "output_type": "display_data"
    }
   ],
   "source": [
    "# Making a heatmap to find correlation\n",
    "plt.figure(figsize=(40,30))\n",
    "sns.heatmap(bank.corr(),annot=True)"
   ]
  },
  {
   "cell_type": "markdown",
   "id": "2791e753",
   "metadata": {},
   "source": [
    "We are not gonna drop any column because none of the column is very highly correlated with the target column"
   ]
  },
  {
   "cell_type": "code",
   "execution_count": 14,
   "id": "2215fbb2",
   "metadata": {},
   "outputs": [
    {
     "data": {
      "text/html": [
       "<div>\n",
       "<style scoped>\n",
       "    .dataframe tbody tr th:only-of-type {\n",
       "        vertical-align: middle;\n",
       "    }\n",
       "\n",
       "    .dataframe tbody tr th {\n",
       "        vertical-align: top;\n",
       "    }\n",
       "\n",
       "    .dataframe thead th {\n",
       "        text-align: right;\n",
       "    }\n",
       "</style>\n",
       "<table border=\"1\" class=\"dataframe\">\n",
       "  <thead>\n",
       "    <tr style=\"text-align: right;\">\n",
       "      <th></th>\n",
       "      <th>age</th>\n",
       "      <th>default</th>\n",
       "      <th>balance</th>\n",
       "      <th>housing</th>\n",
       "      <th>loan</th>\n",
       "      <th>duration</th>\n",
       "      <th>campaign</th>\n",
       "      <th>pdays</th>\n",
       "      <th>previous</th>\n",
       "      <th>poutfailure</th>\n",
       "      <th>...</th>\n",
       "      <th>johousemaid</th>\n",
       "      <th>jomanagement</th>\n",
       "      <th>joretired</th>\n",
       "      <th>joself.employed</th>\n",
       "      <th>joservices</th>\n",
       "      <th>jostudent</th>\n",
       "      <th>jotechnician</th>\n",
       "      <th>jounemployed</th>\n",
       "      <th>jounknown</th>\n",
       "      <th>y</th>\n",
       "    </tr>\n",
       "  </thead>\n",
       "  <tbody>\n",
       "    <tr>\n",
       "      <th>0</th>\n",
       "      <td>58</td>\n",
       "      <td>0</td>\n",
       "      <td>2143</td>\n",
       "      <td>1</td>\n",
       "      <td>0</td>\n",
       "      <td>261</td>\n",
       "      <td>1</td>\n",
       "      <td>-1</td>\n",
       "      <td>0</td>\n",
       "      <td>0</td>\n",
       "      <td>...</td>\n",
       "      <td>0</td>\n",
       "      <td>1</td>\n",
       "      <td>0</td>\n",
       "      <td>0</td>\n",
       "      <td>0</td>\n",
       "      <td>0</td>\n",
       "      <td>0</td>\n",
       "      <td>0</td>\n",
       "      <td>0</td>\n",
       "      <td>0</td>\n",
       "    </tr>\n",
       "    <tr>\n",
       "      <th>1</th>\n",
       "      <td>44</td>\n",
       "      <td>0</td>\n",
       "      <td>29</td>\n",
       "      <td>1</td>\n",
       "      <td>0</td>\n",
       "      <td>151</td>\n",
       "      <td>1</td>\n",
       "      <td>-1</td>\n",
       "      <td>0</td>\n",
       "      <td>0</td>\n",
       "      <td>...</td>\n",
       "      <td>0</td>\n",
       "      <td>0</td>\n",
       "      <td>0</td>\n",
       "      <td>0</td>\n",
       "      <td>0</td>\n",
       "      <td>0</td>\n",
       "      <td>1</td>\n",
       "      <td>0</td>\n",
       "      <td>0</td>\n",
       "      <td>0</td>\n",
       "    </tr>\n",
       "    <tr>\n",
       "      <th>2</th>\n",
       "      <td>33</td>\n",
       "      <td>0</td>\n",
       "      <td>2</td>\n",
       "      <td>1</td>\n",
       "      <td>1</td>\n",
       "      <td>76</td>\n",
       "      <td>1</td>\n",
       "      <td>-1</td>\n",
       "      <td>0</td>\n",
       "      <td>0</td>\n",
       "      <td>...</td>\n",
       "      <td>0</td>\n",
       "      <td>0</td>\n",
       "      <td>0</td>\n",
       "      <td>0</td>\n",
       "      <td>0</td>\n",
       "      <td>0</td>\n",
       "      <td>0</td>\n",
       "      <td>0</td>\n",
       "      <td>0</td>\n",
       "      <td>0</td>\n",
       "    </tr>\n",
       "    <tr>\n",
       "      <th>3</th>\n",
       "      <td>47</td>\n",
       "      <td>0</td>\n",
       "      <td>1506</td>\n",
       "      <td>1</td>\n",
       "      <td>0</td>\n",
       "      <td>92</td>\n",
       "      <td>1</td>\n",
       "      <td>-1</td>\n",
       "      <td>0</td>\n",
       "      <td>0</td>\n",
       "      <td>...</td>\n",
       "      <td>0</td>\n",
       "      <td>0</td>\n",
       "      <td>0</td>\n",
       "      <td>0</td>\n",
       "      <td>0</td>\n",
       "      <td>0</td>\n",
       "      <td>0</td>\n",
       "      <td>0</td>\n",
       "      <td>0</td>\n",
       "      <td>0</td>\n",
       "    </tr>\n",
       "    <tr>\n",
       "      <th>4</th>\n",
       "      <td>33</td>\n",
       "      <td>0</td>\n",
       "      <td>1</td>\n",
       "      <td>0</td>\n",
       "      <td>0</td>\n",
       "      <td>198</td>\n",
       "      <td>1</td>\n",
       "      <td>-1</td>\n",
       "      <td>0</td>\n",
       "      <td>0</td>\n",
       "      <td>...</td>\n",
       "      <td>0</td>\n",
       "      <td>0</td>\n",
       "      <td>0</td>\n",
       "      <td>0</td>\n",
       "      <td>0</td>\n",
       "      <td>0</td>\n",
       "      <td>0</td>\n",
       "      <td>0</td>\n",
       "      <td>1</td>\n",
       "      <td>0</td>\n",
       "    </tr>\n",
       "  </tbody>\n",
       "</table>\n",
       "<p>5 rows × 32 columns</p>\n",
       "</div>"
      ],
      "text/plain": [
       "   age  default  balance  housing  loan  duration  campaign  pdays  previous  \\\n",
       "0   58        0     2143        1     0       261         1     -1         0   \n",
       "1   44        0       29        1     0       151         1     -1         0   \n",
       "2   33        0        2        1     1        76         1     -1         0   \n",
       "3   47        0     1506        1     0        92         1     -1         0   \n",
       "4   33        0        1        0     0       198         1     -1         0   \n",
       "\n",
       "   poutfailure  ...  johousemaid  jomanagement  joretired  joself.employed  \\\n",
       "0            0  ...            0             1          0                0   \n",
       "1            0  ...            0             0          0                0   \n",
       "2            0  ...            0             0          0                0   \n",
       "3            0  ...            0             0          0                0   \n",
       "4            0  ...            0             0          0                0   \n",
       "\n",
       "   joservices  jostudent  jotechnician  jounemployed  jounknown  y  \n",
       "0           0          0             0             0          0  0  \n",
       "1           0          0             1             0          0  0  \n",
       "2           0          0             0             0          0  0  \n",
       "3           0          0             0             0          0  0  \n",
       "4           0          0             0             0          1  0  \n",
       "\n",
       "[5 rows x 32 columns]"
      ]
     },
     "execution_count": 14,
     "metadata": {},
     "output_type": "execute_result"
    }
   ],
   "source": [
    "bank.head()"
   ]
  },
  {
   "cell_type": "code",
   "execution_count": 15,
   "id": "33462e8e",
   "metadata": {},
   "outputs": [
    {
     "data": {
      "text/plain": [
       "11.7"
      ]
     },
     "execution_count": 15,
     "metadata": {},
     "output_type": "execute_result"
    }
   ],
   "source": [
    "# subscription rate\n",
    "round((sum(bank['y'])/len(bank.index))*100,2)"
   ]
  },
  {
   "cell_type": "markdown",
   "id": "ee3d77f1",
   "metadata": {},
   "source": [
    "- This shows that approximately 12% people are subscribed to the bank term deposit"
   ]
  },
  {
   "cell_type": "markdown",
   "id": "171a62a6",
   "metadata": {},
   "source": [
    "##### Splitting the target variable and the predictor features in two different dataframes from Train Test Split:"
   ]
  },
  {
   "cell_type": "code",
   "execution_count": 16,
   "id": "8c866531",
   "metadata": {},
   "outputs": [],
   "source": [
    "# X will have all the features\n",
    "X = bank.drop(['y'],1)\n",
    "# Y will have the target variable\n",
    "Y = bank['y']"
   ]
  },
  {
   "cell_type": "code",
   "execution_count": 17,
   "id": "e69fe181",
   "metadata": {},
   "outputs": [
    {
     "data": {
      "text/html": [
       "<div>\n",
       "<style scoped>\n",
       "    .dataframe tbody tr th:only-of-type {\n",
       "        vertical-align: middle;\n",
       "    }\n",
       "\n",
       "    .dataframe tbody tr th {\n",
       "        vertical-align: top;\n",
       "    }\n",
       "\n",
       "    .dataframe thead th {\n",
       "        text-align: right;\n",
       "    }\n",
       "</style>\n",
       "<table border=\"1\" class=\"dataframe\">\n",
       "  <thead>\n",
       "    <tr style=\"text-align: right;\">\n",
       "      <th></th>\n",
       "      <th>age</th>\n",
       "      <th>default</th>\n",
       "      <th>balance</th>\n",
       "      <th>housing</th>\n",
       "      <th>loan</th>\n",
       "      <th>duration</th>\n",
       "      <th>campaign</th>\n",
       "      <th>pdays</th>\n",
       "      <th>previous</th>\n",
       "      <th>poutfailure</th>\n",
       "      <th>...</th>\n",
       "      <th>joentrepreneur</th>\n",
       "      <th>johousemaid</th>\n",
       "      <th>jomanagement</th>\n",
       "      <th>joretired</th>\n",
       "      <th>joself.employed</th>\n",
       "      <th>joservices</th>\n",
       "      <th>jostudent</th>\n",
       "      <th>jotechnician</th>\n",
       "      <th>jounemployed</th>\n",
       "      <th>jounknown</th>\n",
       "    </tr>\n",
       "  </thead>\n",
       "  <tbody>\n",
       "    <tr>\n",
       "      <th>0</th>\n",
       "      <td>58</td>\n",
       "      <td>0</td>\n",
       "      <td>2143</td>\n",
       "      <td>1</td>\n",
       "      <td>0</td>\n",
       "      <td>261</td>\n",
       "      <td>1</td>\n",
       "      <td>-1</td>\n",
       "      <td>0</td>\n",
       "      <td>0</td>\n",
       "      <td>...</td>\n",
       "      <td>0</td>\n",
       "      <td>0</td>\n",
       "      <td>1</td>\n",
       "      <td>0</td>\n",
       "      <td>0</td>\n",
       "      <td>0</td>\n",
       "      <td>0</td>\n",
       "      <td>0</td>\n",
       "      <td>0</td>\n",
       "      <td>0</td>\n",
       "    </tr>\n",
       "    <tr>\n",
       "      <th>1</th>\n",
       "      <td>44</td>\n",
       "      <td>0</td>\n",
       "      <td>29</td>\n",
       "      <td>1</td>\n",
       "      <td>0</td>\n",
       "      <td>151</td>\n",
       "      <td>1</td>\n",
       "      <td>-1</td>\n",
       "      <td>0</td>\n",
       "      <td>0</td>\n",
       "      <td>...</td>\n",
       "      <td>0</td>\n",
       "      <td>0</td>\n",
       "      <td>0</td>\n",
       "      <td>0</td>\n",
       "      <td>0</td>\n",
       "      <td>0</td>\n",
       "      <td>0</td>\n",
       "      <td>1</td>\n",
       "      <td>0</td>\n",
       "      <td>0</td>\n",
       "    </tr>\n",
       "    <tr>\n",
       "      <th>2</th>\n",
       "      <td>33</td>\n",
       "      <td>0</td>\n",
       "      <td>2</td>\n",
       "      <td>1</td>\n",
       "      <td>1</td>\n",
       "      <td>76</td>\n",
       "      <td>1</td>\n",
       "      <td>-1</td>\n",
       "      <td>0</td>\n",
       "      <td>0</td>\n",
       "      <td>...</td>\n",
       "      <td>1</td>\n",
       "      <td>0</td>\n",
       "      <td>0</td>\n",
       "      <td>0</td>\n",
       "      <td>0</td>\n",
       "      <td>0</td>\n",
       "      <td>0</td>\n",
       "      <td>0</td>\n",
       "      <td>0</td>\n",
       "      <td>0</td>\n",
       "    </tr>\n",
       "    <tr>\n",
       "      <th>3</th>\n",
       "      <td>47</td>\n",
       "      <td>0</td>\n",
       "      <td>1506</td>\n",
       "      <td>1</td>\n",
       "      <td>0</td>\n",
       "      <td>92</td>\n",
       "      <td>1</td>\n",
       "      <td>-1</td>\n",
       "      <td>0</td>\n",
       "      <td>0</td>\n",
       "      <td>...</td>\n",
       "      <td>0</td>\n",
       "      <td>0</td>\n",
       "      <td>0</td>\n",
       "      <td>0</td>\n",
       "      <td>0</td>\n",
       "      <td>0</td>\n",
       "      <td>0</td>\n",
       "      <td>0</td>\n",
       "      <td>0</td>\n",
       "      <td>0</td>\n",
       "    </tr>\n",
       "    <tr>\n",
       "      <th>4</th>\n",
       "      <td>33</td>\n",
       "      <td>0</td>\n",
       "      <td>1</td>\n",
       "      <td>0</td>\n",
       "      <td>0</td>\n",
       "      <td>198</td>\n",
       "      <td>1</td>\n",
       "      <td>-1</td>\n",
       "      <td>0</td>\n",
       "      <td>0</td>\n",
       "      <td>...</td>\n",
       "      <td>0</td>\n",
       "      <td>0</td>\n",
       "      <td>0</td>\n",
       "      <td>0</td>\n",
       "      <td>0</td>\n",
       "      <td>0</td>\n",
       "      <td>0</td>\n",
       "      <td>0</td>\n",
       "      <td>0</td>\n",
       "      <td>1</td>\n",
       "    </tr>\n",
       "  </tbody>\n",
       "</table>\n",
       "<p>5 rows × 31 columns</p>\n",
       "</div>"
      ],
      "text/plain": [
       "   age  default  balance  housing  loan  duration  campaign  pdays  previous  \\\n",
       "0   58        0     2143        1     0       261         1     -1         0   \n",
       "1   44        0       29        1     0       151         1     -1         0   \n",
       "2   33        0        2        1     1        76         1     -1         0   \n",
       "3   47        0     1506        1     0        92         1     -1         0   \n",
       "4   33        0        1        0     0       198         1     -1         0   \n",
       "\n",
       "   poutfailure  ...  joentrepreneur  johousemaid  jomanagement  joretired  \\\n",
       "0            0  ...               0            0             1          0   \n",
       "1            0  ...               0            0             0          0   \n",
       "2            0  ...               1            0             0          0   \n",
       "3            0  ...               0            0             0          0   \n",
       "4            0  ...               0            0             0          0   \n",
       "\n",
       "   joself.employed  joservices  jostudent  jotechnician  jounemployed  \\\n",
       "0                0           0          0             0             0   \n",
       "1                0           0          0             1             0   \n",
       "2                0           0          0             0             0   \n",
       "3                0           0          0             0             0   \n",
       "4                0           0          0             0             0   \n",
       "\n",
       "   jounknown  \n",
       "0          0  \n",
       "1          0  \n",
       "2          0  \n",
       "3          0  \n",
       "4          1  \n",
       "\n",
       "[5 rows x 31 columns]"
      ]
     },
     "execution_count": 17,
     "metadata": {},
     "output_type": "execute_result"
    }
   ],
   "source": [
    "X.head()"
   ]
  },
  {
   "cell_type": "code",
   "execution_count": 18,
   "id": "ecac8b26",
   "metadata": {},
   "outputs": [
    {
     "data": {
      "text/plain": [
       "0    0\n",
       "1    0\n",
       "2    0\n",
       "3    0\n",
       "4    0\n",
       "Name: y, dtype: int64"
      ]
     },
     "execution_count": 18,
     "metadata": {},
     "output_type": "execute_result"
    }
   ],
   "source": [
    "Y.head()"
   ]
  },
  {
   "cell_type": "markdown",
   "id": "953a90c7",
   "metadata": {},
   "source": [
    "## Step 3: Train Test Split"
   ]
  },
  {
   "cell_type": "code",
   "execution_count": 19,
   "id": "98a8e45b",
   "metadata": {},
   "outputs": [],
   "source": [
    "x_train, x_test, y_train, y_test = train_test_split(X, Y, train_size=0.7, test_size=0.3, random_state=100)"
   ]
  },
  {
   "cell_type": "markdown",
   "id": "42617cad",
   "metadata": {},
   "source": [
    "###### Splitting the data in train and test dataframe in the ratio of 7:3"
   ]
  },
  {
   "cell_type": "markdown",
   "id": "9b036fb9",
   "metadata": {},
   "source": [
    "## Step 4: Feature Scaling"
   ]
  },
  {
   "cell_type": "code",
   "execution_count": 20,
   "id": "c8f2780f",
   "metadata": {},
   "outputs": [],
   "source": [
    "scaler = StandardScaler()\n",
    "\n",
    "x_train[['age', 'balance','duration']] = scaler.fit_transform(x_train[['age','balance','duration']])"
   ]
  },
  {
   "cell_type": "code",
   "execution_count": 21,
   "id": "ce822c6a",
   "metadata": {},
   "outputs": [
    {
     "data": {
      "text/html": [
       "<div>\n",
       "<style scoped>\n",
       "    .dataframe tbody tr th:only-of-type {\n",
       "        vertical-align: middle;\n",
       "    }\n",
       "\n",
       "    .dataframe tbody tr th {\n",
       "        vertical-align: top;\n",
       "    }\n",
       "\n",
       "    .dataframe thead th {\n",
       "        text-align: right;\n",
       "    }\n",
       "</style>\n",
       "<table border=\"1\" class=\"dataframe\">\n",
       "  <thead>\n",
       "    <tr style=\"text-align: right;\">\n",
       "      <th></th>\n",
       "      <th>age</th>\n",
       "      <th>default</th>\n",
       "      <th>balance</th>\n",
       "      <th>housing</th>\n",
       "      <th>loan</th>\n",
       "      <th>duration</th>\n",
       "      <th>campaign</th>\n",
       "      <th>pdays</th>\n",
       "      <th>previous</th>\n",
       "      <th>poutfailure</th>\n",
       "      <th>...</th>\n",
       "      <th>joentrepreneur</th>\n",
       "      <th>johousemaid</th>\n",
       "      <th>jomanagement</th>\n",
       "      <th>joretired</th>\n",
       "      <th>joself.employed</th>\n",
       "      <th>joservices</th>\n",
       "      <th>jostudent</th>\n",
       "      <th>jotechnician</th>\n",
       "      <th>jounemployed</th>\n",
       "      <th>jounknown</th>\n",
       "    </tr>\n",
       "  </thead>\n",
       "  <tbody>\n",
       "    <tr>\n",
       "      <th>18391</th>\n",
       "      <td>-0.087715</td>\n",
       "      <td>0</td>\n",
       "      <td>1.103100</td>\n",
       "      <td>0</td>\n",
       "      <td>0</td>\n",
       "      <td>-0.093607</td>\n",
       "      <td>2</td>\n",
       "      <td>-1</td>\n",
       "      <td>0</td>\n",
       "      <td>0</td>\n",
       "      <td>...</td>\n",
       "      <td>0</td>\n",
       "      <td>0</td>\n",
       "      <td>0</td>\n",
       "      <td>0</td>\n",
       "      <td>0</td>\n",
       "      <td>0</td>\n",
       "      <td>0</td>\n",
       "      <td>0</td>\n",
       "      <td>0</td>\n",
       "      <td>0</td>\n",
       "    </tr>\n",
       "    <tr>\n",
       "      <th>13056</th>\n",
       "      <td>-1.404878</td>\n",
       "      <td>0</td>\n",
       "      <td>-0.555004</td>\n",
       "      <td>0</td>\n",
       "      <td>1</td>\n",
       "      <td>-0.360990</td>\n",
       "      <td>1</td>\n",
       "      <td>-1</td>\n",
       "      <td>0</td>\n",
       "      <td>0</td>\n",
       "      <td>...</td>\n",
       "      <td>0</td>\n",
       "      <td>0</td>\n",
       "      <td>0</td>\n",
       "      <td>0</td>\n",
       "      <td>0</td>\n",
       "      <td>0</td>\n",
       "      <td>0</td>\n",
       "      <td>0</td>\n",
       "      <td>0</td>\n",
       "      <td>0</td>\n",
       "    </tr>\n",
       "    <tr>\n",
       "      <th>13415</th>\n",
       "      <td>1.041282</td>\n",
       "      <td>0</td>\n",
       "      <td>0.655212</td>\n",
       "      <td>1</td>\n",
       "      <td>0</td>\n",
       "      <td>-0.248612</td>\n",
       "      <td>1</td>\n",
       "      <td>-1</td>\n",
       "      <td>0</td>\n",
       "      <td>0</td>\n",
       "      <td>...</td>\n",
       "      <td>0</td>\n",
       "      <td>0</td>\n",
       "      <td>0</td>\n",
       "      <td>0</td>\n",
       "      <td>0</td>\n",
       "      <td>0</td>\n",
       "      <td>0</td>\n",
       "      <td>1</td>\n",
       "      <td>0</td>\n",
       "      <td>0</td>\n",
       "    </tr>\n",
       "    <tr>\n",
       "      <th>21022</th>\n",
       "      <td>-0.181798</td>\n",
       "      <td>0</td>\n",
       "      <td>-0.223447</td>\n",
       "      <td>0</td>\n",
       "      <td>0</td>\n",
       "      <td>0.150526</td>\n",
       "      <td>2</td>\n",
       "      <td>-1</td>\n",
       "      <td>0</td>\n",
       "      <td>0</td>\n",
       "      <td>...</td>\n",
       "      <td>0</td>\n",
       "      <td>0</td>\n",
       "      <td>1</td>\n",
       "      <td>0</td>\n",
       "      <td>0</td>\n",
       "      <td>0</td>\n",
       "      <td>0</td>\n",
       "      <td>0</td>\n",
       "      <td>0</td>\n",
       "      <td>0</td>\n",
       "    </tr>\n",
       "    <tr>\n",
       "      <th>24510</th>\n",
       "      <td>0.853116</td>\n",
       "      <td>0</td>\n",
       "      <td>-0.172097</td>\n",
       "      <td>0</td>\n",
       "      <td>0</td>\n",
       "      <td>-0.725251</td>\n",
       "      <td>1</td>\n",
       "      <td>138</td>\n",
       "      <td>2</td>\n",
       "      <td>1</td>\n",
       "      <td>...</td>\n",
       "      <td>0</td>\n",
       "      <td>0</td>\n",
       "      <td>1</td>\n",
       "      <td>0</td>\n",
       "      <td>0</td>\n",
       "      <td>0</td>\n",
       "      <td>0</td>\n",
       "      <td>0</td>\n",
       "      <td>0</td>\n",
       "      <td>0</td>\n",
       "    </tr>\n",
       "  </tbody>\n",
       "</table>\n",
       "<p>5 rows × 31 columns</p>\n",
       "</div>"
      ],
      "text/plain": [
       "            age  default   balance  housing  loan  duration  campaign  pdays  \\\n",
       "18391 -0.087715        0  1.103100        0     0 -0.093607         2     -1   \n",
       "13056 -1.404878        0 -0.555004        0     1 -0.360990         1     -1   \n",
       "13415  1.041282        0  0.655212        1     0 -0.248612         1     -1   \n",
       "21022 -0.181798        0 -0.223447        0     0  0.150526         2     -1   \n",
       "24510  0.853116        0 -0.172097        0     0 -0.725251         1    138   \n",
       "\n",
       "       previous  poutfailure  ...  joentrepreneur  johousemaid  jomanagement  \\\n",
       "18391         0            0  ...               0            0             0   \n",
       "13056         0            0  ...               0            0             0   \n",
       "13415         0            0  ...               0            0             0   \n",
       "21022         0            0  ...               0            0             1   \n",
       "24510         2            1  ...               0            0             1   \n",
       "\n",
       "       joretired  joself.employed  joservices  jostudent  jotechnician  \\\n",
       "18391          0                0           0          0             0   \n",
       "13056          0                0           0          0             0   \n",
       "13415          0                0           0          0             1   \n",
       "21022          0                0           0          0             0   \n",
       "24510          0                0           0          0             0   \n",
       "\n",
       "       jounemployed  jounknown  \n",
       "18391             0          0  \n",
       "13056             0          0  \n",
       "13415             0          0  \n",
       "21022             0          0  \n",
       "24510             0          0  \n",
       "\n",
       "[5 rows x 31 columns]"
      ]
     },
     "execution_count": 21,
     "metadata": {},
     "output_type": "execute_result"
    }
   ],
   "source": [
    "x_train.head()"
   ]
  },
  {
   "cell_type": "markdown",
   "id": "d14b8e09",
   "metadata": {},
   "source": [
    "## Step 5: Model Building"
   ]
  },
  {
   "cell_type": "markdown",
   "id": "6f966729",
   "metadata": {},
   "source": [
    "###### Buiding first logistic regression model"
   ]
  },
  {
   "cell_type": "code",
   "execution_count": 22,
   "id": "6ffbeecb",
   "metadata": {},
   "outputs": [
    {
     "data": {
      "text/html": [
       "<table class=\"simpletable\">\n",
       "<caption>Generalized Linear Model Regression Results</caption>\n",
       "<tr>\n",
       "  <th>Dep. Variable:</th>           <td>y</td>        <th>  No. Observations:  </th>  <td> 31647</td> \n",
       "</tr>\n",
       "<tr>\n",
       "  <th>Model:</th>                  <td>GLM</td>       <th>  Df Residuals:      </th>  <td> 31619</td> \n",
       "</tr>\n",
       "<tr>\n",
       "  <th>Model Family:</th>        <td>Binomial</td>     <th>  Df Model:          </th>  <td>    27</td> \n",
       "</tr>\n",
       "<tr>\n",
       "  <th>Link Function:</th>         <td>logit</td>      <th>  Scale:             </th> <td>  1.0000</td>\n",
       "</tr>\n",
       "<tr>\n",
       "  <th>Method:</th>                <td>IRLS</td>       <th>  Log-Likelihood:    </th> <td> -7875.8</td>\n",
       "</tr>\n",
       "<tr>\n",
       "  <th>Date:</th>            <td>Mon, 19 Apr 2021</td> <th>  Deviance:          </th> <td>  15752.</td>\n",
       "</tr>\n",
       "<tr>\n",
       "  <th>Time:</th>                <td>21:44:13</td>     <th>  Pearson chi2:      </th> <td>1.29e+05</td>\n",
       "</tr>\n",
       "<tr>\n",
       "  <th>No. Iterations:</th>          <td>7</td>        <th>                     </th>     <td> </td>   \n",
       "</tr>\n",
       "<tr>\n",
       "  <th>Covariance Type:</th>     <td>nonrobust</td>    <th>                     </th>     <td> </td>   \n",
       "</tr>\n",
       "</table>\n",
       "<table class=\"simpletable\">\n",
       "<tr>\n",
       "         <td></td>            <th>coef</th>     <th>std err</th>      <th>z</th>      <th>P>|z|</th>  <th>[0.025</th>    <th>0.975]</th>  \n",
       "</tr>\n",
       "<tr>\n",
       "  <th>const</th>           <td>   -0.5919</td> <td>    0.042</td> <td>  -14.169</td> <td> 0.000</td> <td>   -0.674</td> <td>   -0.510</td>\n",
       "</tr>\n",
       "<tr>\n",
       "  <th>age</th>             <td>    0.0276</td> <td>    0.027</td> <td>    1.020</td> <td> 0.308</td> <td>   -0.025</td> <td>    0.081</td>\n",
       "</tr>\n",
       "<tr>\n",
       "  <th>default</th>         <td>   -0.3286</td> <td>    0.207</td> <td>   -1.590</td> <td> 0.112</td> <td>   -0.734</td> <td>    0.076</td>\n",
       "</tr>\n",
       "<tr>\n",
       "  <th>balance</th>         <td>    0.0599</td> <td>    0.017</td> <td>    3.517</td> <td> 0.000</td> <td>    0.027</td> <td>    0.093</td>\n",
       "</tr>\n",
       "<tr>\n",
       "  <th>housing</th>         <td>   -0.7827</td> <td>    0.047</td> <td>  -16.484</td> <td> 0.000</td> <td>   -0.876</td> <td>   -0.690</td>\n",
       "</tr>\n",
       "<tr>\n",
       "  <th>loan</th>            <td>   -0.5828</td> <td>    0.070</td> <td>   -8.285</td> <td> 0.000</td> <td>   -0.721</td> <td>   -0.445</td>\n",
       "</tr>\n",
       "<tr>\n",
       "  <th>duration</th>        <td>    1.0484</td> <td>    0.019</td> <td>   54.134</td> <td> 0.000</td> <td>    1.010</td> <td>    1.086</td>\n",
       "</tr>\n",
       "<tr>\n",
       "  <th>campaign</th>        <td>   -0.0968</td> <td>    0.011</td> <td>   -8.458</td> <td> 0.000</td> <td>   -0.119</td> <td>   -0.074</td>\n",
       "</tr>\n",
       "<tr>\n",
       "  <th>pdays</th>           <td>   -0.0003</td> <td>    0.000</td> <td>   -0.832</td> <td> 0.405</td> <td>   -0.001</td> <td>    0.000</td>\n",
       "</tr>\n",
       "<tr>\n",
       "  <th>previous</th>        <td>    0.0067</td> <td>    0.006</td> <td>    1.057</td> <td> 0.290</td> <td>   -0.006</td> <td>    0.019</td>\n",
       "</tr>\n",
       "<tr>\n",
       "  <th>poutfailure</th>     <td>   -0.6832</td> <td>    0.063</td> <td>  -10.883</td> <td> 0.000</td> <td>   -0.806</td> <td>   -0.560</td>\n",
       "</tr>\n",
       "<tr>\n",
       "  <th>poutother</th>       <td>   -0.4727</td> <td>    0.079</td> <td>   -6.002</td> <td> 0.000</td> <td>   -0.627</td> <td>   -0.318</td>\n",
       "</tr>\n",
       "<tr>\n",
       "  <th>poutsuccess</th>     <td>    1.6312</td> <td>    0.062</td> <td>   26.325</td> <td> 0.000</td> <td>    1.510</td> <td>    1.753</td>\n",
       "</tr>\n",
       "<tr>\n",
       "  <th>poutunknown</th>     <td>   -1.0672</td> <td>    0.062</td> <td>  -17.112</td> <td> 0.000</td> <td>   -1.189</td> <td>   -0.945</td>\n",
       "</tr>\n",
       "<tr>\n",
       "  <th>con_cellular</th>    <td>    0.2507</td> <td>    0.035</td> <td>    7.066</td> <td> 0.000</td> <td>    0.181</td> <td>    0.320</td>\n",
       "</tr>\n",
       "<tr>\n",
       "  <th>con_telephone</th>   <td>    0.1179</td> <td>    0.064</td> <td>    1.845</td> <td> 0.065</td> <td>   -0.007</td> <td>    0.243</td>\n",
       "</tr>\n",
       "<tr>\n",
       "  <th>con_unknown</th>     <td>   -0.9606</td> <td>    0.055</td> <td>  -17.386</td> <td> 0.000</td> <td>   -1.069</td> <td>   -0.852</td>\n",
       "</tr>\n",
       "<tr>\n",
       "  <th>divorced</th>        <td>   -0.2382</td> <td>    0.051</td> <td>   -4.666</td> <td> 0.000</td> <td>   -0.338</td> <td>   -0.138</td>\n",
       "</tr>\n",
       "<tr>\n",
       "  <th>married</th>         <td>   -0.3600</td> <td>    0.033</td> <td>  -10.955</td> <td> 0.000</td> <td>   -0.424</td> <td>   -0.296</td>\n",
       "</tr>\n",
       "<tr>\n",
       "  <th>single</th>          <td>    0.0063</td> <td>    0.039</td> <td>    0.161</td> <td> 0.872</td> <td>   -0.070</td> <td>    0.083</td>\n",
       "</tr>\n",
       "<tr>\n",
       "  <th>joadmin.</th>        <td>    0.0712</td> <td>    0.065</td> <td>    1.091</td> <td> 0.275</td> <td>   -0.057</td> <td>    0.199</td>\n",
       "</tr>\n",
       "<tr>\n",
       "  <th>joblue.collar</th>   <td>   -0.2973</td> <td>    0.061</td> <td>   -4.898</td> <td> 0.000</td> <td>   -0.416</td> <td>   -0.178</td>\n",
       "</tr>\n",
       "<tr>\n",
       "  <th>joentrepreneur</th>  <td>   -0.3616</td> <td>    0.127</td> <td>   -2.853</td> <td> 0.004</td> <td>   -0.610</td> <td>   -0.113</td>\n",
       "</tr>\n",
       "<tr>\n",
       "  <th>johousemaid</th>     <td>   -0.4569</td> <td>    0.135</td> <td>   -3.383</td> <td> 0.001</td> <td>   -0.722</td> <td>   -0.192</td>\n",
       "</tr>\n",
       "<tr>\n",
       "  <th>jomanagement</th>    <td>    0.0265</td> <td>    0.051</td> <td>    0.519</td> <td> 0.604</td> <td>   -0.074</td> <td>    0.127</td>\n",
       "</tr>\n",
       "<tr>\n",
       "  <th>joretired</th>       <td>    0.3776</td> <td>    0.089</td> <td>    4.219</td> <td> 0.000</td> <td>    0.202</td> <td>    0.553</td>\n",
       "</tr>\n",
       "<tr>\n",
       "  <th>joself.employed</th> <td>   -0.2482</td> <td>    0.110</td> <td>   -2.264</td> <td> 0.024</td> <td>   -0.463</td> <td>   -0.033</td>\n",
       "</tr>\n",
       "<tr>\n",
       "  <th>joservices</th>      <td>   -0.2100</td> <td>    0.079</td> <td>   -2.664</td> <td> 0.008</td> <td>   -0.364</td> <td>   -0.055</td>\n",
       "</tr>\n",
       "<tr>\n",
       "  <th>jostudent</th>       <td>    0.6946</td> <td>    0.109</td> <td>    6.380</td> <td> 0.000</td> <td>    0.481</td> <td>    0.908</td>\n",
       "</tr>\n",
       "<tr>\n",
       "  <th>jotechnician</th>    <td>   -0.1679</td> <td>    0.058</td> <td>   -2.894</td> <td> 0.004</td> <td>   -0.282</td> <td>   -0.054</td>\n",
       "</tr>\n",
       "<tr>\n",
       "  <th>jounemployed</th>    <td>   -0.0513</td> <td>    0.109</td> <td>   -0.473</td> <td> 0.637</td> <td>   -0.264</td> <td>    0.161</td>\n",
       "</tr>\n",
       "<tr>\n",
       "  <th>jounknown</th>       <td>    0.0315</td> <td>    0.222</td> <td>    0.142</td> <td> 0.887</td> <td>   -0.404</td> <td>    0.467</td>\n",
       "</tr>\n",
       "</table>"
      ],
      "text/plain": [
       "<class 'statsmodels.iolib.summary.Summary'>\n",
       "\"\"\"\n",
       "                 Generalized Linear Model Regression Results                  \n",
       "==============================================================================\n",
       "Dep. Variable:                      y   No. Observations:                31647\n",
       "Model:                            GLM   Df Residuals:                    31619\n",
       "Model Family:                Binomial   Df Model:                           27\n",
       "Link Function:                  logit   Scale:                          1.0000\n",
       "Method:                          IRLS   Log-Likelihood:                -7875.8\n",
       "Date:                Mon, 19 Apr 2021   Deviance:                       15752.\n",
       "Time:                        21:44:13   Pearson chi2:                 1.29e+05\n",
       "No. Iterations:                     7                                         \n",
       "Covariance Type:            nonrobust                                         \n",
       "===================================================================================\n",
       "                      coef    std err          z      P>|z|      [0.025      0.975]\n",
       "-----------------------------------------------------------------------------------\n",
       "const              -0.5919      0.042    -14.169      0.000      -0.674      -0.510\n",
       "age                 0.0276      0.027      1.020      0.308      -0.025       0.081\n",
       "default            -0.3286      0.207     -1.590      0.112      -0.734       0.076\n",
       "balance             0.0599      0.017      3.517      0.000       0.027       0.093\n",
       "housing            -0.7827      0.047    -16.484      0.000      -0.876      -0.690\n",
       "loan               -0.5828      0.070     -8.285      0.000      -0.721      -0.445\n",
       "duration            1.0484      0.019     54.134      0.000       1.010       1.086\n",
       "campaign           -0.0968      0.011     -8.458      0.000      -0.119      -0.074\n",
       "pdays              -0.0003      0.000     -0.832      0.405      -0.001       0.000\n",
       "previous            0.0067      0.006      1.057      0.290      -0.006       0.019\n",
       "poutfailure        -0.6832      0.063    -10.883      0.000      -0.806      -0.560\n",
       "poutother          -0.4727      0.079     -6.002      0.000      -0.627      -0.318\n",
       "poutsuccess         1.6312      0.062     26.325      0.000       1.510       1.753\n",
       "poutunknown        -1.0672      0.062    -17.112      0.000      -1.189      -0.945\n",
       "con_cellular        0.2507      0.035      7.066      0.000       0.181       0.320\n",
       "con_telephone       0.1179      0.064      1.845      0.065      -0.007       0.243\n",
       "con_unknown        -0.9606      0.055    -17.386      0.000      -1.069      -0.852\n",
       "divorced           -0.2382      0.051     -4.666      0.000      -0.338      -0.138\n",
       "married            -0.3600      0.033    -10.955      0.000      -0.424      -0.296\n",
       "single              0.0063      0.039      0.161      0.872      -0.070       0.083\n",
       "joadmin.            0.0712      0.065      1.091      0.275      -0.057       0.199\n",
       "joblue.collar      -0.2973      0.061     -4.898      0.000      -0.416      -0.178\n",
       "joentrepreneur     -0.3616      0.127     -2.853      0.004      -0.610      -0.113\n",
       "johousemaid        -0.4569      0.135     -3.383      0.001      -0.722      -0.192\n",
       "jomanagement        0.0265      0.051      0.519      0.604      -0.074       0.127\n",
       "joretired           0.3776      0.089      4.219      0.000       0.202       0.553\n",
       "joself.employed    -0.2482      0.110     -2.264      0.024      -0.463      -0.033\n",
       "joservices         -0.2100      0.079     -2.664      0.008      -0.364      -0.055\n",
       "jostudent           0.6946      0.109      6.380      0.000       0.481       0.908\n",
       "jotechnician       -0.1679      0.058     -2.894      0.004      -0.282      -0.054\n",
       "jounemployed       -0.0513      0.109     -0.473      0.637      -0.264       0.161\n",
       "jounknown           0.0315      0.222      0.142      0.887      -0.404       0.467\n",
       "===================================================================================\n",
       "\"\"\""
      ]
     },
     "execution_count": 22,
     "metadata": {},
     "output_type": "execute_result"
    }
   ],
   "source": [
    "# logistic regression model\n",
    "logm = sm.GLM(y_train,(sm.add_constant(x_train)),family = sm.families.Binomial())\n",
    "logm.fit().summary()"
   ]
  },
  {
   "cell_type": "markdown",
   "id": "634e7b45",
   "metadata": {},
   "source": [
    "## Step 6: Feature Selection using RFE"
   ]
  },
  {
   "cell_type": "code",
   "execution_count": 23,
   "id": "f670dd78",
   "metadata": {},
   "outputs": [],
   "source": [
    "logreg = LogisticRegression()"
   ]
  },
  {
   "cell_type": "code",
   "execution_count": 28,
   "id": "9c750a6e",
   "metadata": {},
   "outputs": [],
   "source": [
    "# Running RFE with 11 variables as output\n",
    "rfe = RFE(logreg,20)\n",
    "rfe = rfe.fit(x_train,y_train)"
   ]
  },
  {
   "cell_type": "code",
   "execution_count": 29,
   "id": "cdde3c8e",
   "metadata": {},
   "outputs": [
    {
     "data": {
      "text/plain": [
       "[('age', False, 9),\n",
       " ('default', True, 1),\n",
       " ('balance', False, 8),\n",
       " ('housing', True, 1),\n",
       " ('loan', True, 1),\n",
       " ('duration', True, 1),\n",
       " ('campaign', False, 3),\n",
       " ('pdays', False, 12),\n",
       " ('previous', False, 11),\n",
       " ('poutfailure', True, 1),\n",
       " ('poutother', True, 1),\n",
       " ('poutsuccess', True, 1),\n",
       " ('poutunknown', True, 1),\n",
       " ('con_cellular', True, 1),\n",
       " ('con_telephone', True, 1),\n",
       " ('con_unknown', True, 1),\n",
       " ('divorced', False, 7),\n",
       " ('married', False, 2),\n",
       " ('single', True, 1),\n",
       " ('joadmin.', False, 4),\n",
       " ('joblue.collar', True, 1),\n",
       " ('joentrepreneur', True, 1),\n",
       " ('johousemaid', True, 1),\n",
       " ('jomanagement', False, 6),\n",
       " ('joretired', True, 1),\n",
       " ('joself.employed', True, 1),\n",
       " ('joservices', True, 1),\n",
       " ('jostudent', True, 1),\n",
       " ('jotechnician', True, 1),\n",
       " ('jounemployed', False, 10),\n",
       " ('jounknown', False, 5)]"
      ]
     },
     "execution_count": 29,
     "metadata": {},
     "output_type": "execute_result"
    }
   ],
   "source": [
    "list(zip(x_train.columns,rfe.support_,rfe.ranking_))"
   ]
  },
  {
   "cell_type": "code",
   "execution_count": 30,
   "id": "083f72b0",
   "metadata": {},
   "outputs": [
    {
     "data": {
      "text/plain": [
       "Index(['default', 'housing', 'loan', 'duration', 'poutfailure', 'poutother',\n",
       "       'poutsuccess', 'poutunknown', 'con_cellular', 'con_telephone',\n",
       "       'con_unknown', 'single', 'joblue.collar', 'joentrepreneur',\n",
       "       'johousemaid', 'joretired', 'joself.employed', 'joservices',\n",
       "       'jostudent', 'jotechnician'],\n",
       "      dtype='object')"
      ]
     },
     "execution_count": 30,
     "metadata": {},
     "output_type": "execute_result"
    }
   ],
   "source": [
    "col1 = x_train.columns[rfe.support_]\n",
    "col1"
   ]
  },
  {
   "cell_type": "code",
   "execution_count": 31,
   "id": "67c742be",
   "metadata": {},
   "outputs": [
    {
     "data": {
      "text/plain": [
       "Index(['age', 'balance', 'campaign', 'pdays', 'previous', 'divorced',\n",
       "       'married', 'joadmin.', 'jomanagement', 'jounemployed', 'jounknown'],\n",
       "      dtype='object')"
      ]
     },
     "execution_count": 31,
     "metadata": {},
     "output_type": "execute_result"
    }
   ],
   "source": [
    "x_train.columns[~rfe.support_]"
   ]
  },
  {
   "cell_type": "markdown",
   "id": "0a6446c7",
   "metadata": {},
   "source": [
    "###### Assessing the model with StatsModels:"
   ]
  },
  {
   "cell_type": "code",
   "execution_count": 32,
   "id": "2398502c",
   "metadata": {},
   "outputs": [
    {
     "data": {
      "text/html": [
       "<table class=\"simpletable\">\n",
       "<caption>Generalized Linear Model Regression Results</caption>\n",
       "<tr>\n",
       "  <th>Dep. Variable:</th>           <td>y</td>        <th>  No. Observations:  </th>  <td> 31647</td> \n",
       "</tr>\n",
       "<tr>\n",
       "  <th>Model:</th>                  <td>GLM</td>       <th>  Df Residuals:      </th>  <td> 31628</td> \n",
       "</tr>\n",
       "<tr>\n",
       "  <th>Model Family:</th>        <td>Binomial</td>     <th>  Df Model:          </th>  <td>    18</td> \n",
       "</tr>\n",
       "<tr>\n",
       "  <th>Link Function:</th>         <td>logit</td>      <th>  Scale:             </th> <td>  1.0000</td>\n",
       "</tr>\n",
       "<tr>\n",
       "  <th>Method:</th>                <td>IRLS</td>       <th>  Log-Likelihood:    </th> <td> -7929.0</td>\n",
       "</tr>\n",
       "<tr>\n",
       "  <th>Date:</th>            <td>Mon, 19 Apr 2021</td> <th>  Deviance:          </th> <td>  15858.</td>\n",
       "</tr>\n",
       "<tr>\n",
       "  <th>Time:</th>                <td>21:46:39</td>     <th>  Pearson chi2:      </th> <td>1.24e+05</td>\n",
       "</tr>\n",
       "<tr>\n",
       "  <th>No. Iterations:</th>         <td>100</td>       <th>                     </th>     <td> </td>   \n",
       "</tr>\n",
       "<tr>\n",
       "  <th>Covariance Type:</th>     <td>nonrobust</td>    <th>                     </th>     <td> </td>   \n",
       "</tr>\n",
       "</table>\n",
       "<table class=\"simpletable\">\n",
       "<tr>\n",
       "         <td></td>            <th>coef</th>     <th>std err</th>      <th>z</th>      <th>P>|z|</th>  <th>[0.025</th>    <th>0.975]</th>  \n",
       "</tr>\n",
       "<tr>\n",
       "  <th>const</th>           <td>   -0.9269</td> <td>    0.038</td> <td>  -24.678</td> <td> 0.000</td> <td>   -1.000</td> <td>   -0.853</td>\n",
       "</tr>\n",
       "<tr>\n",
       "  <th>default</th>         <td>   -0.3779</td> <td>    0.205</td> <td>   -1.842</td> <td> 0.065</td> <td>   -0.780</td> <td>    0.024</td>\n",
       "</tr>\n",
       "<tr>\n",
       "  <th>housing</th>         <td>   -0.7822</td> <td>    0.046</td> <td>  -16.885</td> <td> 0.000</td> <td>   -0.873</td> <td>   -0.691</td>\n",
       "</tr>\n",
       "<tr>\n",
       "  <th>loan</th>            <td>   -0.5958</td> <td>    0.070</td> <td>   -8.505</td> <td> 0.000</td> <td>   -0.733</td> <td>   -0.459</td>\n",
       "</tr>\n",
       "<tr>\n",
       "  <th>duration</th>        <td>    1.0491</td> <td>    0.019</td> <td>   54.492</td> <td> 0.000</td> <td>    1.011</td> <td>    1.087</td>\n",
       "</tr>\n",
       "<tr>\n",
       "  <th>poutfailure</th>     <td>   -0.7641</td> <td>    0.053</td> <td>  -14.502</td> <td> 0.000</td> <td>   -0.867</td> <td>   -0.661</td>\n",
       "</tr>\n",
       "<tr>\n",
       "  <th>poutother</th>       <td>   -0.5718</td> <td>    0.072</td> <td>   -7.896</td> <td> 0.000</td> <td>   -0.714</td> <td>   -0.430</td>\n",
       "</tr>\n",
       "<tr>\n",
       "  <th>poutsuccess</th>     <td>    1.5791</td> <td>    0.061</td> <td>   26.088</td> <td> 0.000</td> <td>    1.460</td> <td>    1.698</td>\n",
       "</tr>\n",
       "<tr>\n",
       "  <th>poutunknown</th>     <td>   -1.1701</td> <td>    0.034</td> <td>  -34.001</td> <td> 0.000</td> <td>   -1.238</td> <td>   -1.103</td>\n",
       "</tr>\n",
       "<tr>\n",
       "  <th>con_cellular</th>    <td>    0.1427</td> <td>    0.033</td> <td>    4.389</td> <td> 0.000</td> <td>    0.079</td> <td>    0.206</td>\n",
       "</tr>\n",
       "<tr>\n",
       "  <th>con_telephone</th>   <td>   -0.0161</td> <td>    0.062</td> <td>   -0.258</td> <td> 0.796</td> <td>   -0.138</td> <td>    0.106</td>\n",
       "</tr>\n",
       "<tr>\n",
       "  <th>con_unknown</th>     <td>   -1.0535</td> <td>    0.056</td> <td>  -18.890</td> <td> 0.000</td> <td>   -1.163</td> <td>   -0.944</td>\n",
       "</tr>\n",
       "<tr>\n",
       "  <th>single</th>          <td>    0.3400</td> <td>    0.047</td> <td>    7.232</td> <td> 0.000</td> <td>    0.248</td> <td>    0.432</td>\n",
       "</tr>\n",
       "<tr>\n",
       "  <th>joblue.collar</th>   <td>   -0.3522</td> <td>    0.064</td> <td>   -5.472</td> <td> 0.000</td> <td>   -0.478</td> <td>   -0.226</td>\n",
       "</tr>\n",
       "<tr>\n",
       "  <th>joentrepreneur</th>  <td>   -0.3973</td> <td>    0.138</td> <td>   -2.873</td> <td> 0.004</td> <td>   -0.668</td> <td>   -0.126</td>\n",
       "</tr>\n",
       "<tr>\n",
       "  <th>johousemaid</th>     <td>   -0.4710</td> <td>    0.146</td> <td>   -3.218</td> <td> 0.001</td> <td>   -0.758</td> <td>   -0.184</td>\n",
       "</tr>\n",
       "<tr>\n",
       "  <th>joretired</th>       <td>    0.4496</td> <td>    0.084</td> <td>    5.368</td> <td> 0.000</td> <td>    0.285</td> <td>    0.614</td>\n",
       "</tr>\n",
       "<tr>\n",
       "  <th>joself.employed</th> <td>   -0.2827</td> <td>    0.119</td> <td>   -2.383</td> <td> 0.017</td> <td>   -0.515</td> <td>   -0.050</td>\n",
       "</tr>\n",
       "<tr>\n",
       "  <th>joservices</th>      <td>   -0.2611</td> <td>    0.085</td> <td>   -3.087</td> <td> 0.002</td> <td>   -0.427</td> <td>   -0.095</td>\n",
       "</tr>\n",
       "<tr>\n",
       "  <th>jostudent</th>       <td>    0.6472</td> <td>    0.114</td> <td>    5.690</td> <td> 0.000</td> <td>    0.424</td> <td>    0.870</td>\n",
       "</tr>\n",
       "<tr>\n",
       "  <th>jotechnician</th>    <td>   -0.2196</td> <td>    0.062</td> <td>   -3.558</td> <td> 0.000</td> <td>   -0.341</td> <td>   -0.099</td>\n",
       "</tr>\n",
       "</table>"
      ],
      "text/plain": [
       "<class 'statsmodels.iolib.summary.Summary'>\n",
       "\"\"\"\n",
       "                 Generalized Linear Model Regression Results                  \n",
       "==============================================================================\n",
       "Dep. Variable:                      y   No. Observations:                31647\n",
       "Model:                            GLM   Df Residuals:                    31628\n",
       "Model Family:                Binomial   Df Model:                           18\n",
       "Link Function:                  logit   Scale:                          1.0000\n",
       "Method:                          IRLS   Log-Likelihood:                -7929.0\n",
       "Date:                Mon, 19 Apr 2021   Deviance:                       15858.\n",
       "Time:                        21:46:39   Pearson chi2:                 1.24e+05\n",
       "No. Iterations:                   100                                         \n",
       "Covariance Type:            nonrobust                                         \n",
       "===================================================================================\n",
       "                      coef    std err          z      P>|z|      [0.025      0.975]\n",
       "-----------------------------------------------------------------------------------\n",
       "const              -0.9269      0.038    -24.678      0.000      -1.000      -0.853\n",
       "default            -0.3779      0.205     -1.842      0.065      -0.780       0.024\n",
       "housing            -0.7822      0.046    -16.885      0.000      -0.873      -0.691\n",
       "loan               -0.5958      0.070     -8.505      0.000      -0.733      -0.459\n",
       "duration            1.0491      0.019     54.492      0.000       1.011       1.087\n",
       "poutfailure        -0.7641      0.053    -14.502      0.000      -0.867      -0.661\n",
       "poutother          -0.5718      0.072     -7.896      0.000      -0.714      -0.430\n",
       "poutsuccess         1.5791      0.061     26.088      0.000       1.460       1.698\n",
       "poutunknown        -1.1701      0.034    -34.001      0.000      -1.238      -1.103\n",
       "con_cellular        0.1427      0.033      4.389      0.000       0.079       0.206\n",
       "con_telephone      -0.0161      0.062     -0.258      0.796      -0.138       0.106\n",
       "con_unknown        -1.0535      0.056    -18.890      0.000      -1.163      -0.944\n",
       "single              0.3400      0.047      7.232      0.000       0.248       0.432\n",
       "joblue.collar      -0.3522      0.064     -5.472      0.000      -0.478      -0.226\n",
       "joentrepreneur     -0.3973      0.138     -2.873      0.004      -0.668      -0.126\n",
       "johousemaid        -0.4710      0.146     -3.218      0.001      -0.758      -0.184\n",
       "joretired           0.4496      0.084      5.368      0.000       0.285       0.614\n",
       "joself.employed    -0.2827      0.119     -2.383      0.017      -0.515      -0.050\n",
       "joservices         -0.2611      0.085     -3.087      0.002      -0.427      -0.095\n",
       "jostudent           0.6472      0.114      5.690      0.000       0.424       0.870\n",
       "jotechnician       -0.2196      0.062     -3.558      0.000      -0.341      -0.099\n",
       "===================================================================================\n",
       "\"\"\""
      ]
     },
     "execution_count": 32,
     "metadata": {},
     "output_type": "execute_result"
    }
   ],
   "source": [
    "x_train_sm = sm.add_constant(x_train[col1])\n",
    "logm1 = sm.GLM(y_train,x_train_sm, family=sm.families.Binomial())\n",
    "res = logm1.fit()\n",
    "res.summary()"
   ]
  },
  {
   "cell_type": "code",
   "execution_count": 33,
   "id": "ece14fc4",
   "metadata": {},
   "outputs": [
    {
     "data": {
      "text/plain": [
       "18391    0.082818\n",
       "13056    0.069860\n",
       "13415    0.038534\n",
       "21022    0.189022\n",
       "24510    0.090374\n",
       "14062    0.025903\n",
       "16250    0.040492\n",
       "16330    0.028575\n",
       "35883    0.069437\n",
       "12306    0.014891\n",
       "dtype: float64"
      ]
     },
     "execution_count": 33,
     "metadata": {},
     "output_type": "execute_result"
    }
   ],
   "source": [
    "# predicted values of the train dataset giving the probability\n",
    "y_train_pred = res.predict(x_train_sm)\n",
    "y_train_pred[:10]"
   ]
  },
  {
   "cell_type": "code",
   "execution_count": 34,
   "id": "3184e3a0",
   "metadata": {},
   "outputs": [
    {
     "data": {
      "text/plain": [
       "array([0.08281755, 0.06986028, 0.03853376, 0.18902201, 0.0903741 ,\n",
       "       0.02590256, 0.04049227, 0.02857485, 0.06943715, 0.01489092])"
      ]
     },
     "execution_count": 34,
     "metadata": {},
     "output_type": "execute_result"
    }
   ],
   "source": [
    "y_train_pred = y_train_pred.values.reshape(-1)\n",
    "y_train_pred[:10]"
   ]
  },
  {
   "cell_type": "markdown",
   "id": "58550723",
   "metadata": {},
   "source": [
    "###### Creating the dataframe with the actual subscription flag and the predicted probabilities"
   ]
  },
  {
   "cell_type": "code",
   "execution_count": 35,
   "id": "d9d3b8df",
   "metadata": {},
   "outputs": [
    {
     "data": {
      "text/html": [
       "<div>\n",
       "<style scoped>\n",
       "    .dataframe tbody tr th:only-of-type {\n",
       "        vertical-align: middle;\n",
       "    }\n",
       "\n",
       "    .dataframe tbody tr th {\n",
       "        vertical-align: top;\n",
       "    }\n",
       "\n",
       "    .dataframe thead th {\n",
       "        text-align: right;\n",
       "    }\n",
       "</style>\n",
       "<table border=\"1\" class=\"dataframe\">\n",
       "  <thead>\n",
       "    <tr style=\"text-align: right;\">\n",
       "      <th></th>\n",
       "      <th>Sub</th>\n",
       "      <th>Sub_prob</th>\n",
       "      <th>Cust_id</th>\n",
       "    </tr>\n",
       "  </thead>\n",
       "  <tbody>\n",
       "    <tr>\n",
       "      <th>0</th>\n",
       "      <td>0</td>\n",
       "      <td>0.082818</td>\n",
       "      <td>18391</td>\n",
       "    </tr>\n",
       "    <tr>\n",
       "      <th>1</th>\n",
       "      <td>0</td>\n",
       "      <td>0.069860</td>\n",
       "      <td>13056</td>\n",
       "    </tr>\n",
       "    <tr>\n",
       "      <th>2</th>\n",
       "      <td>0</td>\n",
       "      <td>0.038534</td>\n",
       "      <td>13415</td>\n",
       "    </tr>\n",
       "    <tr>\n",
       "      <th>3</th>\n",
       "      <td>0</td>\n",
       "      <td>0.189022</td>\n",
       "      <td>21022</td>\n",
       "    </tr>\n",
       "    <tr>\n",
       "      <th>4</th>\n",
       "      <td>0</td>\n",
       "      <td>0.090374</td>\n",
       "      <td>24510</td>\n",
       "    </tr>\n",
       "    <tr>\n",
       "      <th>5</th>\n",
       "      <td>0</td>\n",
       "      <td>0.025903</td>\n",
       "      <td>14062</td>\n",
       "    </tr>\n",
       "    <tr>\n",
       "      <th>6</th>\n",
       "      <td>0</td>\n",
       "      <td>0.040492</td>\n",
       "      <td>16250</td>\n",
       "    </tr>\n",
       "    <tr>\n",
       "      <th>7</th>\n",
       "      <td>0</td>\n",
       "      <td>0.028575</td>\n",
       "      <td>16330</td>\n",
       "    </tr>\n",
       "    <tr>\n",
       "      <th>8</th>\n",
       "      <td>0</td>\n",
       "      <td>0.069437</td>\n",
       "      <td>35883</td>\n",
       "    </tr>\n",
       "    <tr>\n",
       "      <th>9</th>\n",
       "      <td>0</td>\n",
       "      <td>0.014891</td>\n",
       "      <td>12306</td>\n",
       "    </tr>\n",
       "  </tbody>\n",
       "</table>\n",
       "</div>"
      ],
      "text/plain": [
       "   Sub  Sub_prob  Cust_id\n",
       "0    0  0.082818    18391\n",
       "1    0  0.069860    13056\n",
       "2    0  0.038534    13415\n",
       "3    0  0.189022    21022\n",
       "4    0  0.090374    24510\n",
       "5    0  0.025903    14062\n",
       "6    0  0.040492    16250\n",
       "7    0  0.028575    16330\n",
       "8    0  0.069437    35883\n",
       "9    0  0.014891    12306"
      ]
     },
     "execution_count": 35,
     "metadata": {},
     "output_type": "execute_result"
    }
   ],
   "source": [
    "y_train_pred_final = pd.DataFrame({'Sub':y_train.values,'Sub_prob':y_train_pred})\n",
    "y_train_pred_final['Cust_id'] = y_train.index\n",
    "y_train_pred_final.head(10)"
   ]
  },
  {
   "cell_type": "markdown",
   "id": "a7b93e5f",
   "metadata": {},
   "source": [
    "##### Creating new column 'predict' with 1 if Sub_prob > 0.5 else 0"
   ]
  },
  {
   "cell_type": "code",
   "execution_count": 36,
   "id": "4bcdbbd4",
   "metadata": {},
   "outputs": [
    {
     "data": {
      "text/html": [
       "<div>\n",
       "<style scoped>\n",
       "    .dataframe tbody tr th:only-of-type {\n",
       "        vertical-align: middle;\n",
       "    }\n",
       "\n",
       "    .dataframe tbody tr th {\n",
       "        vertical-align: top;\n",
       "    }\n",
       "\n",
       "    .dataframe thead th {\n",
       "        text-align: right;\n",
       "    }\n",
       "</style>\n",
       "<table border=\"1\" class=\"dataframe\">\n",
       "  <thead>\n",
       "    <tr style=\"text-align: right;\">\n",
       "      <th></th>\n",
       "      <th>Sub</th>\n",
       "      <th>Sub_prob</th>\n",
       "      <th>Cust_id</th>\n",
       "      <th>predict</th>\n",
       "    </tr>\n",
       "  </thead>\n",
       "  <tbody>\n",
       "    <tr>\n",
       "      <th>0</th>\n",
       "      <td>0</td>\n",
       "      <td>0.082818</td>\n",
       "      <td>18391</td>\n",
       "      <td>0</td>\n",
       "    </tr>\n",
       "    <tr>\n",
       "      <th>1</th>\n",
       "      <td>0</td>\n",
       "      <td>0.069860</td>\n",
       "      <td>13056</td>\n",
       "      <td>0</td>\n",
       "    </tr>\n",
       "    <tr>\n",
       "      <th>2</th>\n",
       "      <td>0</td>\n",
       "      <td>0.038534</td>\n",
       "      <td>13415</td>\n",
       "      <td>0</td>\n",
       "    </tr>\n",
       "    <tr>\n",
       "      <th>3</th>\n",
       "      <td>0</td>\n",
       "      <td>0.189022</td>\n",
       "      <td>21022</td>\n",
       "      <td>0</td>\n",
       "    </tr>\n",
       "    <tr>\n",
       "      <th>4</th>\n",
       "      <td>0</td>\n",
       "      <td>0.090374</td>\n",
       "      <td>24510</td>\n",
       "      <td>0</td>\n",
       "    </tr>\n",
       "    <tr>\n",
       "      <th>5</th>\n",
       "      <td>0</td>\n",
       "      <td>0.025903</td>\n",
       "      <td>14062</td>\n",
       "      <td>0</td>\n",
       "    </tr>\n",
       "    <tr>\n",
       "      <th>6</th>\n",
       "      <td>0</td>\n",
       "      <td>0.040492</td>\n",
       "      <td>16250</td>\n",
       "      <td>0</td>\n",
       "    </tr>\n",
       "    <tr>\n",
       "      <th>7</th>\n",
       "      <td>0</td>\n",
       "      <td>0.028575</td>\n",
       "      <td>16330</td>\n",
       "      <td>0</td>\n",
       "    </tr>\n",
       "    <tr>\n",
       "      <th>8</th>\n",
       "      <td>0</td>\n",
       "      <td>0.069437</td>\n",
       "      <td>35883</td>\n",
       "      <td>0</td>\n",
       "    </tr>\n",
       "    <tr>\n",
       "      <th>9</th>\n",
       "      <td>0</td>\n",
       "      <td>0.014891</td>\n",
       "      <td>12306</td>\n",
       "      <td>0</td>\n",
       "    </tr>\n",
       "  </tbody>\n",
       "</table>\n",
       "</div>"
      ],
      "text/plain": [
       "   Sub  Sub_prob  Cust_id  predict\n",
       "0    0  0.082818    18391        0\n",
       "1    0  0.069860    13056        0\n",
       "2    0  0.038534    13415        0\n",
       "3    0  0.189022    21022        0\n",
       "4    0  0.090374    24510        0\n",
       "5    0  0.025903    14062        0\n",
       "6    0  0.040492    16250        0\n",
       "7    0  0.028575    16330        0\n",
       "8    0  0.069437    35883        0\n",
       "9    0  0.014891    12306        0"
      ]
     },
     "execution_count": 36,
     "metadata": {},
     "output_type": "execute_result"
    }
   ],
   "source": [
    "y_train_pred_final['predict'] = y_train_pred_final['Sub_prob'].map(lambda x: 1 if x>0.5 else 0)\n",
    "y_train_pred_final.head(10)"
   ]
  },
  {
   "cell_type": "code",
   "execution_count": 37,
   "id": "b2d79aa5",
   "metadata": {},
   "outputs": [
    {
     "data": {
      "text/plain": [
       "array([[27304,   633],\n",
       "       [ 2486,  1224]], dtype=int64)"
      ]
     },
     "execution_count": 37,
     "metadata": {},
     "output_type": "execute_result"
    }
   ],
   "source": [
    "# creating confusion matrix for the following prediction\n",
    "confusion = metrics.confusion_matrix(y_train_pred_final.Sub, y_train_pred_final.predict)\n",
    "confusion"
   ]
  },
  {
   "cell_type": "code",
   "execution_count": 38,
   "id": "17082813",
   "metadata": {},
   "outputs": [
    {
     "name": "stdout",
     "output_type": "stream",
     "text": [
      "0.9014440547287262\n"
     ]
    }
   ],
   "source": [
    "print(metrics.accuracy_score(y_train_pred_final.Sub, y_train_pred_final.predict))"
   ]
  },
  {
   "cell_type": "markdown",
   "id": "96f19ee6",
   "metadata": {},
   "source": [
    "The accuracy of the model is approximately 90% which is a really good model for prediction but we need to check the VIFs as well"
   ]
  },
  {
   "cell_type": "markdown",
   "id": "4b29527b",
   "metadata": {},
   "source": [
    "#### Checking VIFs for the selected 20 variables:"
   ]
  },
  {
   "cell_type": "code",
   "execution_count": 39,
   "id": "dea335ba",
   "metadata": {},
   "outputs": [
    {
     "data": {
      "text/html": [
       "<div>\n",
       "<style scoped>\n",
       "    .dataframe tbody tr th:only-of-type {\n",
       "        vertical-align: middle;\n",
       "    }\n",
       "\n",
       "    .dataframe tbody tr th {\n",
       "        vertical-align: top;\n",
       "    }\n",
       "\n",
       "    .dataframe thead th {\n",
       "        text-align: right;\n",
       "    }\n",
       "</style>\n",
       "<table border=\"1\" class=\"dataframe\">\n",
       "  <thead>\n",
       "    <tr style=\"text-align: right;\">\n",
       "      <th></th>\n",
       "      <th>Features</th>\n",
       "      <th>VIF</th>\n",
       "    </tr>\n",
       "  </thead>\n",
       "  <tbody>\n",
       "    <tr>\n",
       "      <th>10</th>\n",
       "      <td>con_unknown</td>\n",
       "      <td>inf</td>\n",
       "    </tr>\n",
       "    <tr>\n",
       "      <th>8</th>\n",
       "      <td>con_cellular</td>\n",
       "      <td>inf</td>\n",
       "    </tr>\n",
       "    <tr>\n",
       "      <th>9</th>\n",
       "      <td>con_telephone</td>\n",
       "      <td>inf</td>\n",
       "    </tr>\n",
       "    <tr>\n",
       "      <th>4</th>\n",
       "      <td>poutfailure</td>\n",
       "      <td>inf</td>\n",
       "    </tr>\n",
       "    <tr>\n",
       "      <th>5</th>\n",
       "      <td>poutother</td>\n",
       "      <td>inf</td>\n",
       "    </tr>\n",
       "    <tr>\n",
       "      <th>6</th>\n",
       "      <td>poutsuccess</td>\n",
       "      <td>inf</td>\n",
       "    </tr>\n",
       "    <tr>\n",
       "      <th>7</th>\n",
       "      <td>poutunknown</td>\n",
       "      <td>inf</td>\n",
       "    </tr>\n",
       "    <tr>\n",
       "      <th>12</th>\n",
       "      <td>joblue.collar</td>\n",
       "      <td>1.32</td>\n",
       "    </tr>\n",
       "    <tr>\n",
       "      <th>19</th>\n",
       "      <td>jotechnician</td>\n",
       "      <td>1.23</td>\n",
       "    </tr>\n",
       "    <tr>\n",
       "      <th>1</th>\n",
       "      <td>housing</td>\n",
       "      <td>1.15</td>\n",
       "    </tr>\n",
       "    <tr>\n",
       "      <th>17</th>\n",
       "      <td>joservices</td>\n",
       "      <td>1.15</td>\n",
       "    </tr>\n",
       "    <tr>\n",
       "      <th>15</th>\n",
       "      <td>joretired</td>\n",
       "      <td>1.14</td>\n",
       "    </tr>\n",
       "    <tr>\n",
       "      <th>11</th>\n",
       "      <td>single</td>\n",
       "      <td>1.08</td>\n",
       "    </tr>\n",
       "    <tr>\n",
       "      <th>18</th>\n",
       "      <td>jostudent</td>\n",
       "      <td>1.08</td>\n",
       "    </tr>\n",
       "    <tr>\n",
       "      <th>13</th>\n",
       "      <td>joentrepreneur</td>\n",
       "      <td>1.06</td>\n",
       "    </tr>\n",
       "    <tr>\n",
       "      <th>14</th>\n",
       "      <td>johousemaid</td>\n",
       "      <td>1.06</td>\n",
       "    </tr>\n",
       "    <tr>\n",
       "      <th>16</th>\n",
       "      <td>joself.employed</td>\n",
       "      <td>1.06</td>\n",
       "    </tr>\n",
       "    <tr>\n",
       "      <th>2</th>\n",
       "      <td>loan</td>\n",
       "      <td>1.02</td>\n",
       "    </tr>\n",
       "    <tr>\n",
       "      <th>0</th>\n",
       "      <td>default</td>\n",
       "      <td>1.01</td>\n",
       "    </tr>\n",
       "    <tr>\n",
       "      <th>3</th>\n",
       "      <td>duration</td>\n",
       "      <td>1.00</td>\n",
       "    </tr>\n",
       "  </tbody>\n",
       "</table>\n",
       "</div>"
      ],
      "text/plain": [
       "           Features   VIF\n",
       "10      con_unknown   inf\n",
       "8      con_cellular   inf\n",
       "9     con_telephone   inf\n",
       "4       poutfailure   inf\n",
       "5         poutother   inf\n",
       "6       poutsuccess   inf\n",
       "7       poutunknown   inf\n",
       "12    joblue.collar  1.32\n",
       "19     jotechnician  1.23\n",
       "1           housing  1.15\n",
       "17       joservices  1.15\n",
       "15        joretired  1.14\n",
       "11           single  1.08\n",
       "18        jostudent  1.08\n",
       "13   joentrepreneur  1.06\n",
       "14      johousemaid  1.06\n",
       "16  joself.employed  1.06\n",
       "2              loan  1.02\n",
       "0           default  1.01\n",
       "3          duration  1.00"
      ]
     },
     "execution_count": 39,
     "metadata": {},
     "output_type": "execute_result"
    }
   ],
   "source": [
    "# Create a dataframe that will contain the names of all the feature variables and their respective VIFs\n",
    "vif = pd.DataFrame()\n",
    "vif['Features'] = x_train[col1].columns\n",
    "vif['VIF'] = [variance_inflation_factor(x_train[col1].values,i) for i in range(x_train[col1].shape[1])]\n",
    "vif['VIF'] = round(vif['VIF'],2)\n",
    "vif = vif.sort_values(by='VIF',ascending=False)\n",
    "vif"
   ]
  },
  {
   "cell_type": "markdown",
   "id": "9fb85f1a",
   "metadata": {},
   "source": [
    "###### - There are no feature in the above VIF table whose value is greater than 5. So, there is no need to drop any of these features for proceeding to the prediction."
   ]
  },
  {
   "cell_type": "markdown",
   "id": "6a54df40",
   "metadata": {},
   "source": [
    "###### But we need to check the p-values as well from the StatsModel to proceed further."
   ]
  },
  {
   "cell_type": "code",
   "execution_count": 40,
   "id": "c1ae2014",
   "metadata": {},
   "outputs": [
    {
     "data": {
      "text/html": [
       "<table class=\"simpletable\">\n",
       "<caption>Generalized Linear Model Regression Results</caption>\n",
       "<tr>\n",
       "  <th>Dep. Variable:</th>           <td>y</td>        <th>  No. Observations:  </th>  <td> 31647</td> \n",
       "</tr>\n",
       "<tr>\n",
       "  <th>Model:</th>                  <td>GLM</td>       <th>  Df Residuals:      </th>  <td> 31628</td> \n",
       "</tr>\n",
       "<tr>\n",
       "  <th>Model Family:</th>        <td>Binomial</td>     <th>  Df Model:          </th>  <td>    18</td> \n",
       "</tr>\n",
       "<tr>\n",
       "  <th>Link Function:</th>         <td>logit</td>      <th>  Scale:             </th> <td>  1.0000</td>\n",
       "</tr>\n",
       "<tr>\n",
       "  <th>Method:</th>                <td>IRLS</td>       <th>  Log-Likelihood:    </th> <td> -7929.0</td>\n",
       "</tr>\n",
       "<tr>\n",
       "  <th>Date:</th>            <td>Mon, 19 Apr 2021</td> <th>  Deviance:          </th> <td>  15858.</td>\n",
       "</tr>\n",
       "<tr>\n",
       "  <th>Time:</th>                <td>21:49:58</td>     <th>  Pearson chi2:      </th> <td>1.24e+05</td>\n",
       "</tr>\n",
       "<tr>\n",
       "  <th>No. Iterations:</th>         <td>100</td>       <th>                     </th>     <td> </td>   \n",
       "</tr>\n",
       "<tr>\n",
       "  <th>Covariance Type:</th>     <td>nonrobust</td>    <th>                     </th>     <td> </td>   \n",
       "</tr>\n",
       "</table>\n",
       "<table class=\"simpletable\">\n",
       "<tr>\n",
       "         <td></td>            <th>coef</th>     <th>std err</th>      <th>z</th>      <th>P>|z|</th>  <th>[0.025</th>    <th>0.975]</th>  \n",
       "</tr>\n",
       "<tr>\n",
       "  <th>const</th>           <td>   -0.9269</td> <td>    0.038</td> <td>  -24.678</td> <td> 0.000</td> <td>   -1.000</td> <td>   -0.853</td>\n",
       "</tr>\n",
       "<tr>\n",
       "  <th>default</th>         <td>   -0.3779</td> <td>    0.205</td> <td>   -1.842</td> <td> 0.065</td> <td>   -0.780</td> <td>    0.024</td>\n",
       "</tr>\n",
       "<tr>\n",
       "  <th>housing</th>         <td>   -0.7822</td> <td>    0.046</td> <td>  -16.885</td> <td> 0.000</td> <td>   -0.873</td> <td>   -0.691</td>\n",
       "</tr>\n",
       "<tr>\n",
       "  <th>loan</th>            <td>   -0.5958</td> <td>    0.070</td> <td>   -8.505</td> <td> 0.000</td> <td>   -0.733</td> <td>   -0.459</td>\n",
       "</tr>\n",
       "<tr>\n",
       "  <th>duration</th>        <td>    1.0491</td> <td>    0.019</td> <td>   54.492</td> <td> 0.000</td> <td>    1.011</td> <td>    1.087</td>\n",
       "</tr>\n",
       "<tr>\n",
       "  <th>poutfailure</th>     <td>   -0.7641</td> <td>    0.053</td> <td>  -14.502</td> <td> 0.000</td> <td>   -0.867</td> <td>   -0.661</td>\n",
       "</tr>\n",
       "<tr>\n",
       "  <th>poutother</th>       <td>   -0.5718</td> <td>    0.072</td> <td>   -7.896</td> <td> 0.000</td> <td>   -0.714</td> <td>   -0.430</td>\n",
       "</tr>\n",
       "<tr>\n",
       "  <th>poutsuccess</th>     <td>    1.5791</td> <td>    0.061</td> <td>   26.088</td> <td> 0.000</td> <td>    1.460</td> <td>    1.698</td>\n",
       "</tr>\n",
       "<tr>\n",
       "  <th>poutunknown</th>     <td>   -1.1701</td> <td>    0.034</td> <td>  -34.001</td> <td> 0.000</td> <td>   -1.238</td> <td>   -1.103</td>\n",
       "</tr>\n",
       "<tr>\n",
       "  <th>con_cellular</th>    <td>    0.1427</td> <td>    0.033</td> <td>    4.389</td> <td> 0.000</td> <td>    0.079</td> <td>    0.206</td>\n",
       "</tr>\n",
       "<tr>\n",
       "  <th>con_telephone</th>   <td>   -0.0161</td> <td>    0.062</td> <td>   -0.258</td> <td> 0.796</td> <td>   -0.138</td> <td>    0.106</td>\n",
       "</tr>\n",
       "<tr>\n",
       "  <th>con_unknown</th>     <td>   -1.0535</td> <td>    0.056</td> <td>  -18.890</td> <td> 0.000</td> <td>   -1.163</td> <td>   -0.944</td>\n",
       "</tr>\n",
       "<tr>\n",
       "  <th>single</th>          <td>    0.3400</td> <td>    0.047</td> <td>    7.232</td> <td> 0.000</td> <td>    0.248</td> <td>    0.432</td>\n",
       "</tr>\n",
       "<tr>\n",
       "  <th>joblue.collar</th>   <td>   -0.3522</td> <td>    0.064</td> <td>   -5.472</td> <td> 0.000</td> <td>   -0.478</td> <td>   -0.226</td>\n",
       "</tr>\n",
       "<tr>\n",
       "  <th>joentrepreneur</th>  <td>   -0.3973</td> <td>    0.138</td> <td>   -2.873</td> <td> 0.004</td> <td>   -0.668</td> <td>   -0.126</td>\n",
       "</tr>\n",
       "<tr>\n",
       "  <th>johousemaid</th>     <td>   -0.4710</td> <td>    0.146</td> <td>   -3.218</td> <td> 0.001</td> <td>   -0.758</td> <td>   -0.184</td>\n",
       "</tr>\n",
       "<tr>\n",
       "  <th>joretired</th>       <td>    0.4496</td> <td>    0.084</td> <td>    5.368</td> <td> 0.000</td> <td>    0.285</td> <td>    0.614</td>\n",
       "</tr>\n",
       "<tr>\n",
       "  <th>joself.employed</th> <td>   -0.2827</td> <td>    0.119</td> <td>   -2.383</td> <td> 0.017</td> <td>   -0.515</td> <td>   -0.050</td>\n",
       "</tr>\n",
       "<tr>\n",
       "  <th>joservices</th>      <td>   -0.2611</td> <td>    0.085</td> <td>   -3.087</td> <td> 0.002</td> <td>   -0.427</td> <td>   -0.095</td>\n",
       "</tr>\n",
       "<tr>\n",
       "  <th>jostudent</th>       <td>    0.6472</td> <td>    0.114</td> <td>    5.690</td> <td> 0.000</td> <td>    0.424</td> <td>    0.870</td>\n",
       "</tr>\n",
       "<tr>\n",
       "  <th>jotechnician</th>    <td>   -0.2196</td> <td>    0.062</td> <td>   -3.558</td> <td> 0.000</td> <td>   -0.341</td> <td>   -0.099</td>\n",
       "</tr>\n",
       "</table>"
      ],
      "text/plain": [
       "<class 'statsmodels.iolib.summary.Summary'>\n",
       "\"\"\"\n",
       "                 Generalized Linear Model Regression Results                  \n",
       "==============================================================================\n",
       "Dep. Variable:                      y   No. Observations:                31647\n",
       "Model:                            GLM   Df Residuals:                    31628\n",
       "Model Family:                Binomial   Df Model:                           18\n",
       "Link Function:                  logit   Scale:                          1.0000\n",
       "Method:                          IRLS   Log-Likelihood:                -7929.0\n",
       "Date:                Mon, 19 Apr 2021   Deviance:                       15858.\n",
       "Time:                        21:49:58   Pearson chi2:                 1.24e+05\n",
       "No. Iterations:                   100                                         \n",
       "Covariance Type:            nonrobust                                         \n",
       "===================================================================================\n",
       "                      coef    std err          z      P>|z|      [0.025      0.975]\n",
       "-----------------------------------------------------------------------------------\n",
       "const              -0.9269      0.038    -24.678      0.000      -1.000      -0.853\n",
       "default            -0.3779      0.205     -1.842      0.065      -0.780       0.024\n",
       "housing            -0.7822      0.046    -16.885      0.000      -0.873      -0.691\n",
       "loan               -0.5958      0.070     -8.505      0.000      -0.733      -0.459\n",
       "duration            1.0491      0.019     54.492      0.000       1.011       1.087\n",
       "poutfailure        -0.7641      0.053    -14.502      0.000      -0.867      -0.661\n",
       "poutother          -0.5718      0.072     -7.896      0.000      -0.714      -0.430\n",
       "poutsuccess         1.5791      0.061     26.088      0.000       1.460       1.698\n",
       "poutunknown        -1.1701      0.034    -34.001      0.000      -1.238      -1.103\n",
       "con_cellular        0.1427      0.033      4.389      0.000       0.079       0.206\n",
       "con_telephone      -0.0161      0.062     -0.258      0.796      -0.138       0.106\n",
       "con_unknown        -1.0535      0.056    -18.890      0.000      -1.163      -0.944\n",
       "single              0.3400      0.047      7.232      0.000       0.248       0.432\n",
       "joblue.collar      -0.3522      0.064     -5.472      0.000      -0.478      -0.226\n",
       "joentrepreneur     -0.3973      0.138     -2.873      0.004      -0.668      -0.126\n",
       "johousemaid        -0.4710      0.146     -3.218      0.001      -0.758      -0.184\n",
       "joretired           0.4496      0.084      5.368      0.000       0.285       0.614\n",
       "joself.employed    -0.2827      0.119     -2.383      0.017      -0.515      -0.050\n",
       "joservices         -0.2611      0.085     -3.087      0.002      -0.427      -0.095\n",
       "jostudent           0.6472      0.114      5.690      0.000       0.424       0.870\n",
       "jotechnician       -0.2196      0.062     -3.558      0.000      -0.341      -0.099\n",
       "===================================================================================\n",
       "\"\"\""
      ]
     },
     "execution_count": 40,
     "metadata": {},
     "output_type": "execute_result"
    }
   ],
   "source": [
    "# Again creating StatsModel for checking p-values\n",
    "x_train_sm = sm.add_constant(x_train[col1])\n",
    "logm2 = sm.GLM(y_train,x_train_sm, family=sm.families.Binomial())\n",
    "res = logm2.fit()\n",
    "res.summary()"
   ]
  },
  {
   "cell_type": "markdown",
   "id": "ba3fedf4",
   "metadata": {},
   "source": [
    "- We can see that some of the variables here have high p-values i.e. greater than 0.05. So we need to drop those features before moving ahead"
   ]
  },
  {
   "cell_type": "code",
   "execution_count": 41,
   "id": "ad14b950",
   "metadata": {},
   "outputs": [
    {
     "data": {
      "text/plain": [
       "Index(['default', 'housing', 'loan', 'duration', 'poutfailure', 'poutother',\n",
       "       'poutsuccess', 'poutunknown', 'con_cellular', 'con_telephone',\n",
       "       'con_unknown', 'single', 'joblue.collar', 'johousemaid', 'joretired',\n",
       "       'joself.employed', 'joservices', 'jostudent', 'jotechnician'],\n",
       "      dtype='object')"
      ]
     },
     "execution_count": 41,
     "metadata": {},
     "output_type": "execute_result"
    }
   ],
   "source": [
    "# dropping column job_entrepreneur\n",
    "col1 = col1.drop('joentrepreneur',1)\n",
    "col1"
   ]
  },
  {
   "cell_type": "code",
   "execution_count": 42,
   "id": "8cde11d8",
   "metadata": {},
   "outputs": [
    {
     "data": {
      "text/html": [
       "<table class=\"simpletable\">\n",
       "<caption>Generalized Linear Model Regression Results</caption>\n",
       "<tr>\n",
       "  <th>Dep. Variable:</th>           <td>y</td>        <th>  No. Observations:  </th>  <td> 31647</td> \n",
       "</tr>\n",
       "<tr>\n",
       "  <th>Model:</th>                  <td>GLM</td>       <th>  Df Residuals:      </th>  <td> 31629</td> \n",
       "</tr>\n",
       "<tr>\n",
       "  <th>Model Family:</th>        <td>Binomial</td>     <th>  Df Model:          </th>  <td>    17</td> \n",
       "</tr>\n",
       "<tr>\n",
       "  <th>Link Function:</th>         <td>logit</td>      <th>  Scale:             </th> <td>  1.0000</td>\n",
       "</tr>\n",
       "<tr>\n",
       "  <th>Method:</th>                <td>IRLS</td>       <th>  Log-Likelihood:    </th> <td> -7933.4</td>\n",
       "</tr>\n",
       "<tr>\n",
       "  <th>Date:</th>            <td>Mon, 19 Apr 2021</td> <th>  Deviance:          </th> <td>  15867.</td>\n",
       "</tr>\n",
       "<tr>\n",
       "  <th>Time:</th>                <td>21:51:33</td>     <th>  Pearson chi2:      </th> <td>1.22e+05</td>\n",
       "</tr>\n",
       "<tr>\n",
       "  <th>No. Iterations:</th>         <td>62</td>        <th>                     </th>     <td> </td>   \n",
       "</tr>\n",
       "<tr>\n",
       "  <th>Covariance Type:</th>     <td>nonrobust</td>    <th>                     </th>     <td> </td>   \n",
       "</tr>\n",
       "</table>\n",
       "<table class=\"simpletable\">\n",
       "<tr>\n",
       "         <td></td>            <th>coef</th>     <th>std err</th>      <th>z</th>      <th>P>|z|</th>  <th>[0.025</th>    <th>0.975]</th>  \n",
       "</tr>\n",
       "<tr>\n",
       "  <th>const</th>           <td>   -0.9439</td> <td>    0.037</td> <td>  -25.394</td> <td> 0.000</td> <td>   -1.017</td> <td>   -0.871</td>\n",
       "</tr>\n",
       "<tr>\n",
       "  <th>default</th>         <td>   -0.3923</td> <td>    0.206</td> <td>   -1.909</td> <td> 0.056</td> <td>   -0.795</td> <td>    0.011</td>\n",
       "</tr>\n",
       "<tr>\n",
       "  <th>housing</th>         <td>   -0.7836</td> <td>    0.046</td> <td>  -16.922</td> <td> 0.000</td> <td>   -0.874</td> <td>   -0.693</td>\n",
       "</tr>\n",
       "<tr>\n",
       "  <th>loan</th>            <td>   -0.6053</td> <td>    0.070</td> <td>   -8.649</td> <td> 0.000</td> <td>   -0.742</td> <td>   -0.468</td>\n",
       "</tr>\n",
       "<tr>\n",
       "  <th>duration</th>        <td>    1.0480</td> <td>    0.019</td> <td>   54.478</td> <td> 0.000</td> <td>    1.010</td> <td>    1.086</td>\n",
       "</tr>\n",
       "<tr>\n",
       "  <th>poutfailure</th>     <td>   -0.7714</td> <td>    0.053</td> <td>  -14.657</td> <td> 0.000</td> <td>   -0.875</td> <td>   -0.668</td>\n",
       "</tr>\n",
       "<tr>\n",
       "  <th>poutother</th>       <td>   -0.5755</td> <td>    0.072</td> <td>   -7.949</td> <td> 0.000</td> <td>   -0.717</td> <td>   -0.434</td>\n",
       "</tr>\n",
       "<tr>\n",
       "  <th>poutsuccess</th>     <td>    1.5797</td> <td>    0.061</td> <td>   26.098</td> <td> 0.000</td> <td>    1.461</td> <td>    1.698</td>\n",
       "</tr>\n",
       "<tr>\n",
       "  <th>poutunknown</th>     <td>   -1.1767</td> <td>    0.034</td> <td>  -34.251</td> <td> 0.000</td> <td>   -1.244</td> <td>   -1.109</td>\n",
       "</tr>\n",
       "<tr>\n",
       "  <th>con_cellular</th>    <td>    0.1394</td> <td>    0.033</td> <td>    4.290</td> <td> 0.000</td> <td>    0.076</td> <td>    0.203</td>\n",
       "</tr>\n",
       "<tr>\n",
       "  <th>con_telephone</th>   <td>   -0.0237</td> <td>    0.062</td> <td>   -0.381</td> <td> 0.704</td> <td>   -0.146</td> <td>    0.098</td>\n",
       "</tr>\n",
       "<tr>\n",
       "  <th>con_unknown</th>     <td>   -1.0596</td> <td>    0.056</td> <td>  -19.011</td> <td> 0.000</td> <td>   -1.169</td> <td>   -0.950</td>\n",
       "</tr>\n",
       "<tr>\n",
       "  <th>single</th>          <td>    0.3479</td> <td>    0.047</td> <td>    7.412</td> <td> 0.000</td> <td>    0.256</td> <td>    0.440</td>\n",
       "</tr>\n",
       "<tr>\n",
       "  <th>joblue.collar</th>   <td>   -0.3241</td> <td>    0.064</td> <td>   -5.085</td> <td> 0.000</td> <td>   -0.449</td> <td>   -0.199</td>\n",
       "</tr>\n",
       "<tr>\n",
       "  <th>johousemaid</th>     <td>   -0.4433</td> <td>    0.146</td> <td>   -3.035</td> <td> 0.002</td> <td>   -0.730</td> <td>   -0.157</td>\n",
       "</tr>\n",
       "<tr>\n",
       "  <th>joretired</th>       <td>    0.4779</td> <td>    0.083</td> <td>    5.738</td> <td> 0.000</td> <td>    0.315</td> <td>    0.641</td>\n",
       "</tr>\n",
       "<tr>\n",
       "  <th>joself.employed</th> <td>   -0.2570</td> <td>    0.118</td> <td>   -2.171</td> <td> 0.030</td> <td>   -0.489</td> <td>   -0.025</td>\n",
       "</tr>\n",
       "<tr>\n",
       "  <th>joservices</th>      <td>   -0.2339</td> <td>    0.084</td> <td>   -2.780</td> <td> 0.005</td> <td>   -0.399</td> <td>   -0.069</td>\n",
       "</tr>\n",
       "<tr>\n",
       "  <th>jostudent</th>       <td>    0.6669</td> <td>    0.114</td> <td>    5.869</td> <td> 0.000</td> <td>    0.444</td> <td>    0.890</td>\n",
       "</tr>\n",
       "<tr>\n",
       "  <th>jotechnician</th>    <td>   -0.1941</td> <td>    0.061</td> <td>   -3.171</td> <td> 0.002</td> <td>   -0.314</td> <td>   -0.074</td>\n",
       "</tr>\n",
       "</table>"
      ],
      "text/plain": [
       "<class 'statsmodels.iolib.summary.Summary'>\n",
       "\"\"\"\n",
       "                 Generalized Linear Model Regression Results                  \n",
       "==============================================================================\n",
       "Dep. Variable:                      y   No. Observations:                31647\n",
       "Model:                            GLM   Df Residuals:                    31629\n",
       "Model Family:                Binomial   Df Model:                           17\n",
       "Link Function:                  logit   Scale:                          1.0000\n",
       "Method:                          IRLS   Log-Likelihood:                -7933.4\n",
       "Date:                Mon, 19 Apr 2021   Deviance:                       15867.\n",
       "Time:                        21:51:33   Pearson chi2:                 1.22e+05\n",
       "No. Iterations:                    62                                         \n",
       "Covariance Type:            nonrobust                                         \n",
       "===================================================================================\n",
       "                      coef    std err          z      P>|z|      [0.025      0.975]\n",
       "-----------------------------------------------------------------------------------\n",
       "const              -0.9439      0.037    -25.394      0.000      -1.017      -0.871\n",
       "default            -0.3923      0.206     -1.909      0.056      -0.795       0.011\n",
       "housing            -0.7836      0.046    -16.922      0.000      -0.874      -0.693\n",
       "loan               -0.6053      0.070     -8.649      0.000      -0.742      -0.468\n",
       "duration            1.0480      0.019     54.478      0.000       1.010       1.086\n",
       "poutfailure        -0.7714      0.053    -14.657      0.000      -0.875      -0.668\n",
       "poutother          -0.5755      0.072     -7.949      0.000      -0.717      -0.434\n",
       "poutsuccess         1.5797      0.061     26.098      0.000       1.461       1.698\n",
       "poutunknown        -1.1767      0.034    -34.251      0.000      -1.244      -1.109\n",
       "con_cellular        0.1394      0.033      4.290      0.000       0.076       0.203\n",
       "con_telephone      -0.0237      0.062     -0.381      0.704      -0.146       0.098\n",
       "con_unknown        -1.0596      0.056    -19.011      0.000      -1.169      -0.950\n",
       "single              0.3479      0.047      7.412      0.000       0.256       0.440\n",
       "joblue.collar      -0.3241      0.064     -5.085      0.000      -0.449      -0.199\n",
       "johousemaid        -0.4433      0.146     -3.035      0.002      -0.730      -0.157\n",
       "joretired           0.4779      0.083      5.738      0.000       0.315       0.641\n",
       "joself.employed    -0.2570      0.118     -2.171      0.030      -0.489      -0.025\n",
       "joservices         -0.2339      0.084     -2.780      0.005      -0.399      -0.069\n",
       "jostudent           0.6669      0.114      5.869      0.000       0.444       0.890\n",
       "jotechnician       -0.1941      0.061     -3.171      0.002      -0.314      -0.074\n",
       "===================================================================================\n",
       "\"\"\""
      ]
     },
     "execution_count": 42,
     "metadata": {},
     "output_type": "execute_result"
    }
   ],
   "source": [
    "# Again creating StatsModel for checking p-values\n",
    "x_train_sm = sm.add_constant(x_train[col1])\n",
    "logm2 = sm.GLM(y_train,x_train_sm, family=sm.families.Binomial())\n",
    "res = logm2.fit()\n",
    "res.summary()"
   ]
  },
  {
   "cell_type": "code",
   "execution_count": 43,
   "id": "b4958748",
   "metadata": {},
   "outputs": [
    {
     "data": {
      "text/plain": [
       "Index(['housing', 'loan', 'duration', 'poutfailure', 'poutother',\n",
       "       'poutsuccess', 'poutunknown', 'con_cellular', 'con_telephone',\n",
       "       'con_unknown', 'single', 'joblue.collar', 'johousemaid', 'joretired',\n",
       "       'joself.employed', 'joservices', 'jostudent', 'jotechnician'],\n",
       "      dtype='object')"
      ]
     },
     "execution_count": 43,
     "metadata": {},
     "output_type": "execute_result"
    }
   ],
   "source": [
    "# dropping column default\n",
    "col1 = col1.drop('default',1)\n",
    "col1"
   ]
  },
  {
   "cell_type": "code",
   "execution_count": 44,
   "id": "625e5b3a",
   "metadata": {},
   "outputs": [
    {
     "data": {
      "text/html": [
       "<table class=\"simpletable\">\n",
       "<caption>Generalized Linear Model Regression Results</caption>\n",
       "<tr>\n",
       "  <th>Dep. Variable:</th>           <td>y</td>        <th>  No. Observations:  </th>  <td> 31647</td> \n",
       "</tr>\n",
       "<tr>\n",
       "  <th>Model:</th>                  <td>GLM</td>       <th>  Df Residuals:      </th>  <td> 31630</td> \n",
       "</tr>\n",
       "<tr>\n",
       "  <th>Model Family:</th>        <td>Binomial</td>     <th>  Df Model:          </th>  <td>    16</td> \n",
       "</tr>\n",
       "<tr>\n",
       "  <th>Link Function:</th>         <td>logit</td>      <th>  Scale:             </th> <td>  1.0000</td>\n",
       "</tr>\n",
       "<tr>\n",
       "  <th>Method:</th>                <td>IRLS</td>       <th>  Log-Likelihood:    </th> <td> -7935.4</td>\n",
       "</tr>\n",
       "<tr>\n",
       "  <th>Date:</th>            <td>Mon, 19 Apr 2021</td> <th>  Deviance:          </th> <td>  15871.</td>\n",
       "</tr>\n",
       "<tr>\n",
       "  <th>Time:</th>                <td>21:52:00</td>     <th>  Pearson chi2:      </th> <td>1.21e+05</td>\n",
       "</tr>\n",
       "<tr>\n",
       "  <th>No. Iterations:</th>         <td>100</td>       <th>                     </th>     <td> </td>   \n",
       "</tr>\n",
       "<tr>\n",
       "  <th>Covariance Type:</th>     <td>nonrobust</td>    <th>                     </th>     <td> </td>   \n",
       "</tr>\n",
       "</table>\n",
       "<table class=\"simpletable\">\n",
       "<tr>\n",
       "         <td></td>            <th>coef</th>     <th>std err</th>      <th>z</th>      <th>P>|z|</th>  <th>[0.025</th>    <th>0.975]</th>  \n",
       "</tr>\n",
       "<tr>\n",
       "  <th>const</th>           <td>   -0.9451</td> <td>    0.037</td> <td>  -25.468</td> <td> 0.000</td> <td>   -1.018</td> <td>   -0.872</td>\n",
       "</tr>\n",
       "<tr>\n",
       "  <th>housing</th>         <td>   -0.7822</td> <td>    0.046</td> <td>  -16.924</td> <td> 0.000</td> <td>   -0.873</td> <td>   -0.692</td>\n",
       "</tr>\n",
       "<tr>\n",
       "  <th>loan</th>            <td>   -0.6170</td> <td>    0.070</td> <td>   -8.864</td> <td> 0.000</td> <td>   -0.753</td> <td>   -0.481</td>\n",
       "</tr>\n",
       "<tr>\n",
       "  <th>duration</th>        <td>    1.0481</td> <td>    0.019</td> <td>   54.502</td> <td> 0.000</td> <td>    1.010</td> <td>    1.086</td>\n",
       "</tr>\n",
       "<tr>\n",
       "  <th>poutfailure</th>     <td>   -0.7710</td> <td>    0.053</td> <td>  -14.674</td> <td> 0.000</td> <td>   -0.874</td> <td>   -0.668</td>\n",
       "</tr>\n",
       "<tr>\n",
       "  <th>poutother</th>       <td>   -0.5757</td> <td>    0.072</td> <td>   -7.955</td> <td> 0.000</td> <td>   -0.718</td> <td>   -0.434</td>\n",
       "</tr>\n",
       "<tr>\n",
       "  <th>poutsuccess</th>     <td>    1.5814</td> <td>    0.061</td> <td>   26.123</td> <td> 0.000</td> <td>    1.463</td> <td>    1.700</td>\n",
       "</tr>\n",
       "<tr>\n",
       "  <th>poutunknown</th>     <td>   -1.1798</td> <td>    0.034</td> <td>  -34.399</td> <td> 0.000</td> <td>   -1.247</td> <td>   -1.113</td>\n",
       "</tr>\n",
       "<tr>\n",
       "  <th>con_cellular</th>    <td>    0.1383</td> <td>    0.032</td> <td>    4.263</td> <td> 0.000</td> <td>    0.075</td> <td>    0.202</td>\n",
       "</tr>\n",
       "<tr>\n",
       "  <th>con_telephone</th>   <td>   -0.0219</td> <td>    0.062</td> <td>   -0.351</td> <td> 0.725</td> <td>   -0.144</td> <td>    0.100</td>\n",
       "</tr>\n",
       "<tr>\n",
       "  <th>con_unknown</th>     <td>   -1.0615</td> <td>    0.056</td> <td>  -19.099</td> <td> 0.000</td> <td>   -1.170</td> <td>   -0.953</td>\n",
       "</tr>\n",
       "<tr>\n",
       "  <th>single</th>          <td>    0.3473</td> <td>    0.047</td> <td>    7.412</td> <td> 0.000</td> <td>    0.255</td> <td>    0.439</td>\n",
       "</tr>\n",
       "<tr>\n",
       "  <th>joblue.collar</th>   <td>   -0.3246</td> <td>    0.064</td> <td>   -5.104</td> <td> 0.000</td> <td>   -0.449</td> <td>   -0.200</td>\n",
       "</tr>\n",
       "<tr>\n",
       "  <th>johousemaid</th>     <td>   -0.4425</td> <td>    0.146</td> <td>   -3.031</td> <td> 0.002</td> <td>   -0.729</td> <td>   -0.156</td>\n",
       "</tr>\n",
       "<tr>\n",
       "  <th>joretired</th>       <td>    0.4794</td> <td>    0.083</td> <td>    5.762</td> <td> 0.000</td> <td>    0.316</td> <td>    0.642</td>\n",
       "</tr>\n",
       "<tr>\n",
       "  <th>joself.employed</th> <td>   -0.2574</td> <td>    0.118</td> <td>   -2.178</td> <td> 0.029</td> <td>   -0.489</td> <td>   -0.026</td>\n",
       "</tr>\n",
       "<tr>\n",
       "  <th>joservices</th>      <td>   -0.2338</td> <td>    0.084</td> <td>   -2.784</td> <td> 0.005</td> <td>   -0.398</td> <td>   -0.069</td>\n",
       "</tr>\n",
       "<tr>\n",
       "  <th>jostudent</th>       <td>    0.6706</td> <td>    0.113</td> <td>    5.910</td> <td> 0.000</td> <td>    0.448</td> <td>    0.893</td>\n",
       "</tr>\n",
       "<tr>\n",
       "  <th>jotechnician</th>    <td>   -0.1934</td> <td>    0.061</td> <td>   -3.165</td> <td> 0.002</td> <td>   -0.313</td> <td>   -0.074</td>\n",
       "</tr>\n",
       "</table>"
      ],
      "text/plain": [
       "<class 'statsmodels.iolib.summary.Summary'>\n",
       "\"\"\"\n",
       "                 Generalized Linear Model Regression Results                  \n",
       "==============================================================================\n",
       "Dep. Variable:                      y   No. Observations:                31647\n",
       "Model:                            GLM   Df Residuals:                    31630\n",
       "Model Family:                Binomial   Df Model:                           16\n",
       "Link Function:                  logit   Scale:                          1.0000\n",
       "Method:                          IRLS   Log-Likelihood:                -7935.4\n",
       "Date:                Mon, 19 Apr 2021   Deviance:                       15871.\n",
       "Time:                        21:52:00   Pearson chi2:                 1.21e+05\n",
       "No. Iterations:                   100                                         \n",
       "Covariance Type:            nonrobust                                         \n",
       "===================================================================================\n",
       "                      coef    std err          z      P>|z|      [0.025      0.975]\n",
       "-----------------------------------------------------------------------------------\n",
       "const              -0.9451      0.037    -25.468      0.000      -1.018      -0.872\n",
       "housing            -0.7822      0.046    -16.924      0.000      -0.873      -0.692\n",
       "loan               -0.6170      0.070     -8.864      0.000      -0.753      -0.481\n",
       "duration            1.0481      0.019     54.502      0.000       1.010       1.086\n",
       "poutfailure        -0.7710      0.053    -14.674      0.000      -0.874      -0.668\n",
       "poutother          -0.5757      0.072     -7.955      0.000      -0.718      -0.434\n",
       "poutsuccess         1.5814      0.061     26.123      0.000       1.463       1.700\n",
       "poutunknown        -1.1798      0.034    -34.399      0.000      -1.247      -1.113\n",
       "con_cellular        0.1383      0.032      4.263      0.000       0.075       0.202\n",
       "con_telephone      -0.0219      0.062     -0.351      0.725      -0.144       0.100\n",
       "con_unknown        -1.0615      0.056    -19.099      0.000      -1.170      -0.953\n",
       "single              0.3473      0.047      7.412      0.000       0.255       0.439\n",
       "joblue.collar      -0.3246      0.064     -5.104      0.000      -0.449      -0.200\n",
       "johousemaid        -0.4425      0.146     -3.031      0.002      -0.729      -0.156\n",
       "joretired           0.4794      0.083      5.762      0.000       0.316       0.642\n",
       "joself.employed    -0.2574      0.118     -2.178      0.029      -0.489      -0.026\n",
       "joservices         -0.2338      0.084     -2.784      0.005      -0.398      -0.069\n",
       "jostudent           0.6706      0.113      5.910      0.000       0.448       0.893\n",
       "jotechnician       -0.1934      0.061     -3.165      0.002      -0.313      -0.074\n",
       "===================================================================================\n",
       "\"\"\""
      ]
     },
     "execution_count": 44,
     "metadata": {},
     "output_type": "execute_result"
    }
   ],
   "source": [
    "# Again creating StatsModel for checking p-values\n",
    "x_train_sm = sm.add_constant(x_train[col1])\n",
    "logm2 = sm.GLM(y_train,x_train_sm, family=sm.families.Binomial())\n",
    "res = logm2.fit()\n",
    "res.summary()"
   ]
  },
  {
   "cell_type": "code",
   "execution_count": 45,
   "id": "3710c236",
   "metadata": {},
   "outputs": [
    {
     "data": {
      "text/plain": [
       "Index(['housing', 'loan', 'duration', 'poutfailure', 'poutother',\n",
       "       'poutsuccess', 'poutunknown', 'con_cellular', 'con_telephone',\n",
       "       'con_unknown', 'single', 'joblue.collar', 'johousemaid',\n",
       "       'joself.employed', 'joservices', 'jostudent', 'jotechnician'],\n",
       "      dtype='object')"
      ]
     },
     "execution_count": 45,
     "metadata": {},
     "output_type": "execute_result"
    }
   ],
   "source": [
    "# dropping column job retiered\n",
    "col1 = col1.drop('joretired',1)\n",
    "col1"
   ]
  },
  {
   "cell_type": "code",
   "execution_count": 46,
   "id": "d3c12f78",
   "metadata": {},
   "outputs": [
    {
     "data": {
      "text/html": [
       "<table class=\"simpletable\">\n",
       "<caption>Generalized Linear Model Regression Results</caption>\n",
       "<tr>\n",
       "  <th>Dep. Variable:</th>           <td>y</td>        <th>  No. Observations:  </th>  <td> 31647</td> \n",
       "</tr>\n",
       "<tr>\n",
       "  <th>Model:</th>                  <td>GLM</td>       <th>  Df Residuals:      </th>  <td> 31631</td> \n",
       "</tr>\n",
       "<tr>\n",
       "  <th>Model Family:</th>        <td>Binomial</td>     <th>  Df Model:          </th>  <td>    15</td> \n",
       "</tr>\n",
       "<tr>\n",
       "  <th>Link Function:</th>         <td>logit</td>      <th>  Scale:             </th> <td>  1.0000</td>\n",
       "</tr>\n",
       "<tr>\n",
       "  <th>Method:</th>                <td>IRLS</td>       <th>  Log-Likelihood:    </th> <td> -7951.3</td>\n",
       "</tr>\n",
       "<tr>\n",
       "  <th>Date:</th>            <td>Mon, 19 Apr 2021</td> <th>  Deviance:          </th> <td>  15903.</td>\n",
       "</tr>\n",
       "<tr>\n",
       "  <th>Time:</th>                <td>21:53:14</td>     <th>  Pearson chi2:      </th> <td>1.29e+05</td>\n",
       "</tr>\n",
       "<tr>\n",
       "  <th>No. Iterations:</th>         <td>100</td>       <th>                     </th>     <td> </td>   \n",
       "</tr>\n",
       "<tr>\n",
       "  <th>Covariance Type:</th>     <td>nonrobust</td>    <th>                     </th>     <td> </td>   \n",
       "</tr>\n",
       "</table>\n",
       "<table class=\"simpletable\">\n",
       "<tr>\n",
       "         <td></td>            <th>coef</th>     <th>std err</th>      <th>z</th>      <th>P>|z|</th>  <th>[0.025</th>    <th>0.975]</th>  \n",
       "</tr>\n",
       "<tr>\n",
       "  <th>const</th>           <td>   -0.8701</td> <td>    0.034</td> <td>  -25.249</td> <td> 0.000</td> <td>   -0.938</td> <td>   -0.803</td>\n",
       "</tr>\n",
       "<tr>\n",
       "  <th>housing</th>         <td>   -0.8163</td> <td>    0.046</td> <td>  -17.819</td> <td> 0.000</td> <td>   -0.906</td> <td>   -0.726</td>\n",
       "</tr>\n",
       "<tr>\n",
       "  <th>loan</th>            <td>   -0.6223</td> <td>    0.070</td> <td>   -8.918</td> <td> 0.000</td> <td>   -0.759</td> <td>   -0.486</td>\n",
       "</tr>\n",
       "<tr>\n",
       "  <th>duration</th>        <td>    1.0502</td> <td>    0.019</td> <td>   54.613</td> <td> 0.000</td> <td>    1.013</td> <td>    1.088</td>\n",
       "</tr>\n",
       "<tr>\n",
       "  <th>poutfailure</th>     <td>   -0.7499</td> <td>    0.052</td> <td>  -14.313</td> <td> 0.000</td> <td>   -0.853</td> <td>   -0.647</td>\n",
       "</tr>\n",
       "<tr>\n",
       "  <th>poutother</th>       <td>   -0.5530</td> <td>    0.072</td> <td>   -7.667</td> <td> 0.000</td> <td>   -0.694</td> <td>   -0.412</td>\n",
       "</tr>\n",
       "<tr>\n",
       "  <th>poutsuccess</th>     <td>    1.6011</td> <td>    0.060</td> <td>   26.547</td> <td> 0.000</td> <td>    1.483</td> <td>    1.719</td>\n",
       "</tr>\n",
       "<tr>\n",
       "  <th>poutunknown</th>     <td>   -1.1682</td> <td>    0.034</td> <td>  -34.179</td> <td> 0.000</td> <td>   -1.235</td> <td>   -1.101</td>\n",
       "</tr>\n",
       "<tr>\n",
       "  <th>con_cellular</th>    <td>    0.1387</td> <td>    0.032</td> <td>    4.283</td> <td> 0.000</td> <td>    0.075</td> <td>    0.202</td>\n",
       "</tr>\n",
       "<tr>\n",
       "  <th>con_telephone</th>   <td>    0.0443</td> <td>    0.061</td> <td>    0.729</td> <td> 0.466</td> <td>   -0.075</td> <td>    0.163</td>\n",
       "</tr>\n",
       "<tr>\n",
       "  <th>con_unknown</th>     <td>   -1.0531</td> <td>    0.056</td> <td>  -18.941</td> <td> 0.000</td> <td>   -1.162</td> <td>   -0.944</td>\n",
       "</tr>\n",
       "<tr>\n",
       "  <th>single</th>          <td>    0.3035</td> <td>    0.046</td> <td>    6.571</td> <td> 0.000</td> <td>    0.213</td> <td>    0.394</td>\n",
       "</tr>\n",
       "<tr>\n",
       "  <th>joblue.collar</th>   <td>   -0.3885</td> <td>    0.063</td> <td>   -6.215</td> <td> 0.000</td> <td>   -0.511</td> <td>   -0.266</td>\n",
       "</tr>\n",
       "<tr>\n",
       "  <th>johousemaid</th>     <td>   -0.5268</td> <td>    0.145</td> <td>   -3.625</td> <td> 0.000</td> <td>   -0.812</td> <td>   -0.242</td>\n",
       "</tr>\n",
       "<tr>\n",
       "  <th>joself.employed</th> <td>   -0.3250</td> <td>    0.118</td> <td>   -2.763</td> <td> 0.006</td> <td>   -0.556</td> <td>   -0.094</td>\n",
       "</tr>\n",
       "<tr>\n",
       "  <th>joservices</th>      <td>   -0.2955</td> <td>    0.083</td> <td>   -3.547</td> <td> 0.000</td> <td>   -0.459</td> <td>   -0.132</td>\n",
       "</tr>\n",
       "<tr>\n",
       "  <th>jostudent</th>       <td>    0.6202</td> <td>    0.113</td> <td>    5.476</td> <td> 0.000</td> <td>    0.398</td> <td>    0.842</td>\n",
       "</tr>\n",
       "<tr>\n",
       "  <th>jotechnician</th>    <td>   -0.2553</td> <td>    0.060</td> <td>   -4.254</td> <td> 0.000</td> <td>   -0.373</td> <td>   -0.138</td>\n",
       "</tr>\n",
       "</table>"
      ],
      "text/plain": [
       "<class 'statsmodels.iolib.summary.Summary'>\n",
       "\"\"\"\n",
       "                 Generalized Linear Model Regression Results                  \n",
       "==============================================================================\n",
       "Dep. Variable:                      y   No. Observations:                31647\n",
       "Model:                            GLM   Df Residuals:                    31631\n",
       "Model Family:                Binomial   Df Model:                           15\n",
       "Link Function:                  logit   Scale:                          1.0000\n",
       "Method:                          IRLS   Log-Likelihood:                -7951.3\n",
       "Date:                Mon, 19 Apr 2021   Deviance:                       15903.\n",
       "Time:                        21:53:14   Pearson chi2:                 1.29e+05\n",
       "No. Iterations:                   100                                         \n",
       "Covariance Type:            nonrobust                                         \n",
       "===================================================================================\n",
       "                      coef    std err          z      P>|z|      [0.025      0.975]\n",
       "-----------------------------------------------------------------------------------\n",
       "const              -0.8701      0.034    -25.249      0.000      -0.938      -0.803\n",
       "housing            -0.8163      0.046    -17.819      0.000      -0.906      -0.726\n",
       "loan               -0.6223      0.070     -8.918      0.000      -0.759      -0.486\n",
       "duration            1.0502      0.019     54.613      0.000       1.013       1.088\n",
       "poutfailure        -0.7499      0.052    -14.313      0.000      -0.853      -0.647\n",
       "poutother          -0.5530      0.072     -7.667      0.000      -0.694      -0.412\n",
       "poutsuccess         1.6011      0.060     26.547      0.000       1.483       1.719\n",
       "poutunknown        -1.1682      0.034    -34.179      0.000      -1.235      -1.101\n",
       "con_cellular        0.1387      0.032      4.283      0.000       0.075       0.202\n",
       "con_telephone       0.0443      0.061      0.729      0.466      -0.075       0.163\n",
       "con_unknown        -1.0531      0.056    -18.941      0.000      -1.162      -0.944\n",
       "single              0.3035      0.046      6.571      0.000       0.213       0.394\n",
       "joblue.collar      -0.3885      0.063     -6.215      0.000      -0.511      -0.266\n",
       "johousemaid        -0.5268      0.145     -3.625      0.000      -0.812      -0.242\n",
       "joself.employed    -0.3250      0.118     -2.763      0.006      -0.556      -0.094\n",
       "joservices         -0.2955      0.083     -3.547      0.000      -0.459      -0.132\n",
       "jostudent           0.6202      0.113      5.476      0.000       0.398       0.842\n",
       "jotechnician       -0.2553      0.060     -4.254      0.000      -0.373      -0.138\n",
       "===================================================================================\n",
       "\"\"\""
      ]
     },
     "execution_count": 46,
     "metadata": {},
     "output_type": "execute_result"
    }
   ],
   "source": [
    "# Again creating StatsModel for checking p-values\n",
    "x_train_sm = sm.add_constant(x_train[col1])\n",
    "logm2 = sm.GLM(y_train,x_train_sm, family=sm.families.Binomial())\n",
    "res = logm2.fit()\n",
    "res.summary()"
   ]
  },
  {
   "cell_type": "markdown",
   "id": "e480e46f",
   "metadata": {},
   "source": [
    "###### Now all the features left have a significant p-value which is good for the model"
   ]
  },
  {
   "cell_type": "code",
   "execution_count": 47,
   "id": "344af9a3",
   "metadata": {},
   "outputs": [
    {
     "data": {
      "text/plain": [
       "18391    0.084217\n",
       "13056    0.069297\n",
       "13415    0.037968\n",
       "21022    0.191855\n",
       "24510    0.095957\n",
       "14062    0.024838\n",
       "16250    0.062142\n",
       "16330    0.042256\n",
       "35883    0.069247\n",
       "12306    0.014729\n",
       "dtype: float64"
      ]
     },
     "execution_count": 47,
     "metadata": {},
     "output_type": "execute_result"
    }
   ],
   "source": [
    "# predicting the probability once again after dropping the features from data\n",
    "y_train_pred = res.predict(x_train_sm)\n",
    "y_train_pred[:10]"
   ]
  },
  {
   "cell_type": "code",
   "execution_count": 48,
   "id": "c1f42f5d",
   "metadata": {},
   "outputs": [
    {
     "data": {
      "text/plain": [
       "array([0.0842175 , 0.0692965 , 0.03796834, 0.19185465, 0.09595656,\n",
       "       0.0248384 , 0.06214165, 0.04225601, 0.06924747, 0.01472881])"
      ]
     },
     "execution_count": 48,
     "metadata": {},
     "output_type": "execute_result"
    }
   ],
   "source": [
    "y_train_pred = y_train_pred.values.reshape(-1)\n",
    "y_train_pred[:10]"
   ]
  },
  {
   "cell_type": "code",
   "execution_count": 49,
   "id": "36340a10",
   "metadata": {},
   "outputs": [
    {
     "data": {
      "text/html": [
       "<div>\n",
       "<style scoped>\n",
       "    .dataframe tbody tr th:only-of-type {\n",
       "        vertical-align: middle;\n",
       "    }\n",
       "\n",
       "    .dataframe tbody tr th {\n",
       "        vertical-align: top;\n",
       "    }\n",
       "\n",
       "    .dataframe thead th {\n",
       "        text-align: right;\n",
       "    }\n",
       "</style>\n",
       "<table border=\"1\" class=\"dataframe\">\n",
       "  <thead>\n",
       "    <tr style=\"text-align: right;\">\n",
       "      <th></th>\n",
       "      <th>Sub</th>\n",
       "      <th>Sub_prob</th>\n",
       "      <th>Cust_id</th>\n",
       "    </tr>\n",
       "  </thead>\n",
       "  <tbody>\n",
       "    <tr>\n",
       "      <th>0</th>\n",
       "      <td>0</td>\n",
       "      <td>0.084217</td>\n",
       "      <td>18391</td>\n",
       "    </tr>\n",
       "    <tr>\n",
       "      <th>1</th>\n",
       "      <td>0</td>\n",
       "      <td>0.069297</td>\n",
       "      <td>13056</td>\n",
       "    </tr>\n",
       "    <tr>\n",
       "      <th>2</th>\n",
       "      <td>0</td>\n",
       "      <td>0.037968</td>\n",
       "      <td>13415</td>\n",
       "    </tr>\n",
       "    <tr>\n",
       "      <th>3</th>\n",
       "      <td>0</td>\n",
       "      <td>0.191855</td>\n",
       "      <td>21022</td>\n",
       "    </tr>\n",
       "    <tr>\n",
       "      <th>4</th>\n",
       "      <td>0</td>\n",
       "      <td>0.095957</td>\n",
       "      <td>24510</td>\n",
       "    </tr>\n",
       "    <tr>\n",
       "      <th>5</th>\n",
       "      <td>0</td>\n",
       "      <td>0.024838</td>\n",
       "      <td>14062</td>\n",
       "    </tr>\n",
       "    <tr>\n",
       "      <th>6</th>\n",
       "      <td>0</td>\n",
       "      <td>0.062142</td>\n",
       "      <td>16250</td>\n",
       "    </tr>\n",
       "    <tr>\n",
       "      <th>7</th>\n",
       "      <td>0</td>\n",
       "      <td>0.042256</td>\n",
       "      <td>16330</td>\n",
       "    </tr>\n",
       "    <tr>\n",
       "      <th>8</th>\n",
       "      <td>0</td>\n",
       "      <td>0.069247</td>\n",
       "      <td>35883</td>\n",
       "    </tr>\n",
       "    <tr>\n",
       "      <th>9</th>\n",
       "      <td>0</td>\n",
       "      <td>0.014729</td>\n",
       "      <td>12306</td>\n",
       "    </tr>\n",
       "  </tbody>\n",
       "</table>\n",
       "</div>"
      ],
      "text/plain": [
       "   Sub  Sub_prob  Cust_id\n",
       "0    0  0.084217    18391\n",
       "1    0  0.069297    13056\n",
       "2    0  0.037968    13415\n",
       "3    0  0.191855    21022\n",
       "4    0  0.095957    24510\n",
       "5    0  0.024838    14062\n",
       "6    0  0.062142    16250\n",
       "7    0  0.042256    16330\n",
       "8    0  0.069247    35883\n",
       "9    0  0.014729    12306"
      ]
     },
     "execution_count": 49,
     "metadata": {},
     "output_type": "execute_result"
    }
   ],
   "source": [
    "y_train_pred_final = pd.DataFrame({'Sub':y_train.values,'Sub_prob':y_train_pred})\n",
    "y_train_pred_final['Cust_id'] = y_train.index\n",
    "y_train_pred_final.head(10)"
   ]
  },
  {
   "cell_type": "code",
   "execution_count": 50,
   "id": "47d918ac",
   "metadata": {},
   "outputs": [
    {
     "data": {
      "text/html": [
       "<div>\n",
       "<style scoped>\n",
       "    .dataframe tbody tr th:only-of-type {\n",
       "        vertical-align: middle;\n",
       "    }\n",
       "\n",
       "    .dataframe tbody tr th {\n",
       "        vertical-align: top;\n",
       "    }\n",
       "\n",
       "    .dataframe thead th {\n",
       "        text-align: right;\n",
       "    }\n",
       "</style>\n",
       "<table border=\"1\" class=\"dataframe\">\n",
       "  <thead>\n",
       "    <tr style=\"text-align: right;\">\n",
       "      <th></th>\n",
       "      <th>Sub</th>\n",
       "      <th>Sub_prob</th>\n",
       "      <th>Cust_id</th>\n",
       "      <th>predict</th>\n",
       "    </tr>\n",
       "  </thead>\n",
       "  <tbody>\n",
       "    <tr>\n",
       "      <th>0</th>\n",
       "      <td>0</td>\n",
       "      <td>0.084217</td>\n",
       "      <td>18391</td>\n",
       "      <td>0</td>\n",
       "    </tr>\n",
       "    <tr>\n",
       "      <th>1</th>\n",
       "      <td>0</td>\n",
       "      <td>0.069297</td>\n",
       "      <td>13056</td>\n",
       "      <td>0</td>\n",
       "    </tr>\n",
       "    <tr>\n",
       "      <th>2</th>\n",
       "      <td>0</td>\n",
       "      <td>0.037968</td>\n",
       "      <td>13415</td>\n",
       "      <td>0</td>\n",
       "    </tr>\n",
       "    <tr>\n",
       "      <th>3</th>\n",
       "      <td>0</td>\n",
       "      <td>0.191855</td>\n",
       "      <td>21022</td>\n",
       "      <td>0</td>\n",
       "    </tr>\n",
       "    <tr>\n",
       "      <th>4</th>\n",
       "      <td>0</td>\n",
       "      <td>0.095957</td>\n",
       "      <td>24510</td>\n",
       "      <td>0</td>\n",
       "    </tr>\n",
       "    <tr>\n",
       "      <th>5</th>\n",
       "      <td>0</td>\n",
       "      <td>0.024838</td>\n",
       "      <td>14062</td>\n",
       "      <td>0</td>\n",
       "    </tr>\n",
       "    <tr>\n",
       "      <th>6</th>\n",
       "      <td>0</td>\n",
       "      <td>0.062142</td>\n",
       "      <td>16250</td>\n",
       "      <td>0</td>\n",
       "    </tr>\n",
       "    <tr>\n",
       "      <th>7</th>\n",
       "      <td>0</td>\n",
       "      <td>0.042256</td>\n",
       "      <td>16330</td>\n",
       "      <td>0</td>\n",
       "    </tr>\n",
       "    <tr>\n",
       "      <th>8</th>\n",
       "      <td>0</td>\n",
       "      <td>0.069247</td>\n",
       "      <td>35883</td>\n",
       "      <td>0</td>\n",
       "    </tr>\n",
       "    <tr>\n",
       "      <th>9</th>\n",
       "      <td>0</td>\n",
       "      <td>0.014729</td>\n",
       "      <td>12306</td>\n",
       "      <td>0</td>\n",
       "    </tr>\n",
       "  </tbody>\n",
       "</table>\n",
       "</div>"
      ],
      "text/plain": [
       "   Sub  Sub_prob  Cust_id  predict\n",
       "0    0  0.084217    18391        0\n",
       "1    0  0.069297    13056        0\n",
       "2    0  0.037968    13415        0\n",
       "3    0  0.191855    21022        0\n",
       "4    0  0.095957    24510        0\n",
       "5    0  0.024838    14062        0\n",
       "6    0  0.062142    16250        0\n",
       "7    0  0.042256    16330        0\n",
       "8    0  0.069247    35883        0\n",
       "9    0  0.014729    12306        0"
      ]
     },
     "execution_count": 50,
     "metadata": {},
     "output_type": "execute_result"
    }
   ],
   "source": [
    "y_train_pred_final['predict'] = y_train_pred_final['Sub_prob'].map(lambda x: 1 if x>0.5 else 0)\n",
    "y_train_pred_final.head(10)"
   ]
  },
  {
   "cell_type": "code",
   "execution_count": 51,
   "id": "0be4e5e6",
   "metadata": {},
   "outputs": [
    {
     "name": "stdout",
     "output_type": "stream",
     "text": [
      "[[27304   633]\n",
      " [ 2486  1224]]\n"
     ]
    }
   ],
   "source": [
    "print(confusion)"
   ]
  },
  {
   "cell_type": "code",
   "execution_count": 52,
   "id": "560e1296",
   "metadata": {},
   "outputs": [
    {
     "name": "stdout",
     "output_type": "stream",
     "text": [
      "0.9012544632982589\n"
     ]
    }
   ],
   "source": [
    "print(metrics.accuracy_score(y_train_pred_final.Sub, y_train_pred_final.predict))"
   ]
  },
  {
   "cell_type": "markdown",
   "id": "4dc6765d",
   "metadata": {},
   "source": [
    "- The accuracy has increased with a very small margin after dropping the insignificant features from model"
   ]
  },
  {
   "cell_type": "markdown",
   "id": "7ed33674",
   "metadata": {},
   "source": [
    "### Metrics beyond simply accuracy:"
   ]
  },
  {
   "cell_type": "code",
   "execution_count": 53,
   "id": "e790b624",
   "metadata": {},
   "outputs": [],
   "source": [
    "TP = confusion[1,1] # true positive \n",
    "TN = confusion[0,0] # true negatives\n",
    "FP = confusion[0,1] # false positives\n",
    "FN = confusion[1,0] # false negatives"
   ]
  },
  {
   "cell_type": "code",
   "execution_count": 54,
   "id": "de58adb4",
   "metadata": {},
   "outputs": [
    {
     "data": {
      "text/plain": [
       "0.3299191374663073"
      ]
     },
     "execution_count": 54,
     "metadata": {},
     "output_type": "execute_result"
    }
   ],
   "source": [
    "# Let's see the sensitivity of our logistic regression model\n",
    "TP/float(TP+FN)"
   ]
  },
  {
   "cell_type": "code",
   "execution_count": 55,
   "id": "9da7144b",
   "metadata": {},
   "outputs": [
    {
     "data": {
      "text/plain": [
       "0.9773418763646776"
      ]
     },
     "execution_count": 55,
     "metadata": {},
     "output_type": "execute_result"
    }
   ],
   "source": [
    "# Let us calculate specificity\n",
    "TN/float(TN+FP)"
   ]
  },
  {
   "cell_type": "code",
   "execution_count": 56,
   "id": "6d84cb4f",
   "metadata": {},
   "outputs": [
    {
     "data": {
      "text/plain": [
       "0.02265812363532233"
      ]
     },
     "execution_count": 56,
     "metadata": {},
     "output_type": "execute_result"
    }
   ],
   "source": [
    "# Calculate false postive rate - predicting churn when customer does not have churned\n",
    "FP/float(TN+FP)"
   ]
  },
  {
   "cell_type": "code",
   "execution_count": 57,
   "id": "5b2371c0",
   "metadata": {},
   "outputs": [
    {
     "data": {
      "text/plain": [
       "0.6591276252019386"
      ]
     },
     "execution_count": 57,
     "metadata": {},
     "output_type": "execute_result"
    }
   ],
   "source": [
    "# positive predictive value \n",
    "TP/float(TP+FP)"
   ]
  },
  {
   "cell_type": "code",
   "execution_count": 58,
   "id": "cd418e16",
   "metadata": {},
   "outputs": [
    {
     "data": {
      "text/plain": [
       "0.9165491775763679"
      ]
     },
     "execution_count": 58,
     "metadata": {},
     "output_type": "execute_result"
    }
   ],
   "source": [
    "# Negative predictive value\n",
    "TN/float(TN+FN)"
   ]
  },
  {
   "cell_type": "markdown",
   "id": "f33cf351",
   "metadata": {},
   "source": [
    "## Step 7: Plotting the ROC Curve"
   ]
  },
  {
   "cell_type": "markdown",
   "id": "76698dec",
   "metadata": {},
   "source": [
    "An ROC curve demonstrates several things:\n",
    "\n",
    "- It shows the tradeoff between sensitivity and specificity (any increase in sensitivity will be accompanied by a decrease in specificity).\n",
    "- The closer the curve follows the left-hand border and then the top border of the ROC space, the more accurate the test.\n",
    "- The closer the curve comes to the 45-degree diagonal of the ROC space, the less accurate the test.\n"
   ]
  },
  {
   "cell_type": "code",
   "execution_count": 59,
   "id": "4ff4b208",
   "metadata": {},
   "outputs": [],
   "source": [
    "def draw_roc(actual,probs):\n",
    "    fpr, tpr, thresholds = metrics.roc_curve(actual, probs, drop_intermediate=False)\n",
    "    auc_score = metrics.roc_auc_score(actual, probs)\n",
    "    plt.figure(figsize=(5,5))\n",
    "    plt.plot(fpr, tpr, label='ROC curve (area = %0.2f)' % auc_score)\n",
    "    plt.plot([0,1],[0,1],'k--')\n",
    "    plt.xlim([0.0,1.0])\n",
    "    plt.ylim([0.0,1.05])\n",
    "    plt.xlabel('False Positive Rate or [1 - True Negative Rate]')\n",
    "    plt.ylabel('True Positive Rate')\n",
    "    plt.title('Reciever operating characterstic example')\n",
    "    plt.legend(loc='lower right')\n",
    "    plt.show()\n",
    "    \n",
    "    return None"
   ]
  },
  {
   "cell_type": "code",
   "execution_count": 60,
   "id": "cfeca062",
   "metadata": {},
   "outputs": [],
   "source": [
    "fpr, tpr, thresholds = metrics.roc_curve(y_train_pred_final.Sub, y_train_pred_final.Sub_prob,drop_intermediate=False)"
   ]
  },
  {
   "cell_type": "code",
   "execution_count": 61,
   "id": "94dd9fc5",
   "metadata": {},
   "outputs": [
    {
     "data": {
      "image/png": "[encoded data removed]",
      "text/plain": [
       "<Figure size 360x360 with 1 Axes>"
      ]
     },
     "metadata": {
      "needs_background": "light"
     },
     "output_type": "display_data"
    }
   ],
   "source": [
    "draw_roc(y_train_pred_final.Sub, y_train_pred_final.Sub_prob)"
   ]
  },
  {
   "cell_type": "markdown",
   "id": "a235d54f",
   "metadata": {},
   "source": [
    "## Step 8: Finding Optimal Cutoff Point"
   ]
  },
  {
   "cell_type": "markdown",
   "id": "8b100aa1",
   "metadata": {},
   "source": [
    "Optimal cutoff probability is that prob where we get balanced sensitivity and specificity"
   ]
  },
  {
   "cell_type": "code",
   "execution_count": 63,
   "id": "5cdf0a44",
   "metadata": {},
   "outputs": [
    {
     "data": {
      "text/html": [
       "<div>\n",
       "<style scoped>\n",
       "    .dataframe tbody tr th:only-of-type {\n",
       "        vertical-align: middle;\n",
       "    }\n",
       "\n",
       "    .dataframe tbody tr th {\n",
       "        vertical-align: top;\n",
       "    }\n",
       "\n",
       "    .dataframe thead th {\n",
       "        text-align: right;\n",
       "    }\n",
       "</style>\n",
       "<table border=\"1\" class=\"dataframe\">\n",
       "  <thead>\n",
       "    <tr style=\"text-align: right;\">\n",
       "      <th></th>\n",
       "      <th>Sub</th>\n",
       "      <th>Sub_prob</th>\n",
       "      <th>Cust_id</th>\n",
       "      <th>predict</th>\n",
       "      <th>0.0</th>\n",
       "      <th>0.1</th>\n",
       "      <th>0.2</th>\n",
       "      <th>0.3</th>\n",
       "      <th>0.4</th>\n",
       "      <th>0.5</th>\n",
       "      <th>0.6</th>\n",
       "      <th>0.7</th>\n",
       "      <th>0.8</th>\n",
       "      <th>0.9</th>\n",
       "    </tr>\n",
       "  </thead>\n",
       "  <tbody>\n",
       "    <tr>\n",
       "      <th>0</th>\n",
       "      <td>0</td>\n",
       "      <td>0.084217</td>\n",
       "      <td>18391</td>\n",
       "      <td>0</td>\n",
       "      <td>1</td>\n",
       "      <td>0</td>\n",
       "      <td>0</td>\n",
       "      <td>0</td>\n",
       "      <td>0</td>\n",
       "      <td>0</td>\n",
       "      <td>0</td>\n",
       "      <td>0</td>\n",
       "      <td>0</td>\n",
       "      <td>0</td>\n",
       "    </tr>\n",
       "    <tr>\n",
       "      <th>1</th>\n",
       "      <td>0</td>\n",
       "      <td>0.069297</td>\n",
       "      <td>13056</td>\n",
       "      <td>0</td>\n",
       "      <td>1</td>\n",
       "      <td>0</td>\n",
       "      <td>0</td>\n",
       "      <td>0</td>\n",
       "      <td>0</td>\n",
       "      <td>0</td>\n",
       "      <td>0</td>\n",
       "      <td>0</td>\n",
       "      <td>0</td>\n",
       "      <td>0</td>\n",
       "    </tr>\n",
       "    <tr>\n",
       "      <th>2</th>\n",
       "      <td>0</td>\n",
       "      <td>0.037968</td>\n",
       "      <td>13415</td>\n",
       "      <td>0</td>\n",
       "      <td>1</td>\n",
       "      <td>0</td>\n",
       "      <td>0</td>\n",
       "      <td>0</td>\n",
       "      <td>0</td>\n",
       "      <td>0</td>\n",
       "      <td>0</td>\n",
       "      <td>0</td>\n",
       "      <td>0</td>\n",
       "      <td>0</td>\n",
       "    </tr>\n",
       "    <tr>\n",
       "      <th>3</th>\n",
       "      <td>0</td>\n",
       "      <td>0.191855</td>\n",
       "      <td>21022</td>\n",
       "      <td>0</td>\n",
       "      <td>1</td>\n",
       "      <td>1</td>\n",
       "      <td>0</td>\n",
       "      <td>0</td>\n",
       "      <td>0</td>\n",
       "      <td>0</td>\n",
       "      <td>0</td>\n",
       "      <td>0</td>\n",
       "      <td>0</td>\n",
       "      <td>0</td>\n",
       "    </tr>\n",
       "    <tr>\n",
       "      <th>4</th>\n",
       "      <td>0</td>\n",
       "      <td>0.095957</td>\n",
       "      <td>24510</td>\n",
       "      <td>0</td>\n",
       "      <td>1</td>\n",
       "      <td>0</td>\n",
       "      <td>0</td>\n",
       "      <td>0</td>\n",
       "      <td>0</td>\n",
       "      <td>0</td>\n",
       "      <td>0</td>\n",
       "      <td>0</td>\n",
       "      <td>0</td>\n",
       "      <td>0</td>\n",
       "    </tr>\n",
       "  </tbody>\n",
       "</table>\n",
       "</div>"
      ],
      "text/plain": [
       "   Sub  Sub_prob  Cust_id  predict  0.0  0.1  0.2  0.3  0.4  0.5  0.6  0.7  \\\n",
       "0    0  0.084217    18391        0    1    0    0    0    0    0    0    0   \n",
       "1    0  0.069297    13056        0    1    0    0    0    0    0    0    0   \n",
       "2    0  0.037968    13415        0    1    0    0    0    0    0    0    0   \n",
       "3    0  0.191855    21022        0    1    1    0    0    0    0    0    0   \n",
       "4    0  0.095957    24510        0    1    0    0    0    0    0    0    0   \n",
       "\n",
       "   0.8  0.9  \n",
       "0    0    0  \n",
       "1    0    0  \n",
       "2    0    0  \n",
       "3    0    0  \n",
       "4    0    0  "
      ]
     },
     "execution_count": 63,
     "metadata": {},
     "output_type": "execute_result"
    }
   ],
   "source": [
    "# Let's create columns with different probability cutoffs \n",
    "numbers = [float(x)/10 for x in range(10)]\n",
    "for i in numbers:\n",
    "    y_train_pred_final[i] = y_train_pred_final.Sub_prob.map(lambda x: 1 if x>i else 0)\n",
    "y_train_pred_final.head()"
   ]
  },
  {
   "cell_type": "code",
   "execution_count": 64,
   "id": "740794d8",
   "metadata": {},
   "outputs": [
    {
     "name": "stdout",
     "output_type": "stream",
     "text": [
      "     prob  accuracy     sensi     speci\n",
      "0.0   0.0  0.117231  1.000000  0.000000\n",
      "0.1   0.1  0.798717  0.833423  0.794108\n",
      "0.2   0.2  0.882611  0.615094  0.918137\n",
      "0.3   0.3  0.898031  0.487332  0.952572\n",
      "0.4   0.4  0.901286  0.402426  0.967534\n",
      "0.5   0.5  0.901254  0.329380  0.977199\n",
      "0.6   0.6  0.900180  0.268194  0.984107\n",
      "0.7   0.7  0.895346  0.185175  0.989655\n",
      "0.8   0.8  0.890574  0.116173  0.993414\n",
      "0.9   0.9  0.886561  0.058221  0.996564\n"
     ]
    }
   ],
   "source": [
    "# Now let's calculate accuracy sensitivity and specificity for various probability cutoffs\n",
    "cutoff = pd.DataFrame(columns = ['prob','accuracy','sensi','speci'])\n",
    "num = [0.0,0.1,0.2,0.3,0.4,0.5,0.6,0.7,0.8,0.9]\n",
    "for i in num:\n",
    "    cm1 = metrics.confusion_matrix(y_train_pred_final.Sub, y_train_pred_final[i])\n",
    "    total1= sum(sum(cm1))\n",
    "    accuracy = (cm1[0,0]+cm1[1,1])/total1\n",
    "    \n",
    "    speci = cm1[0,0]/(cm1[0,0]+cm1[0,1])\n",
    "    sensi = cm1[1,1]/(cm1[1,0]+cm1[1,1])\n",
    "    cutoff.loc[i] = [i, accuracy, sensi, speci]\n",
    "    \n",
    "print(cutoff)"
   ]
  },
  {
   "cell_type": "code",
   "execution_count": 65,
   "id": "e5191e77",
   "metadata": {},
   "outputs": [
    {
     "data": {
      "image/png": "[encoded data removed]",
      "text/plain": [
       "<Figure size 432x288 with 1 Axes>"
      ]
     },
     "metadata": {
      "needs_background": "light"
     },
     "output_type": "display_data"
    }
   ],
   "source": [
    "# Let's plot accuracy sensitivity and specificity for various probabilities\n",
    "cutoff.plot.line(x='prob',y=['accuracy','sensi','speci'])\n",
    "plt.show()"
   ]
  },
  {
   "cell_type": "markdown",
   "id": "cdbfe981",
   "metadata": {},
   "source": [
    "###### From the curve above, 0.15 is the optimum point to take it as a cutoff probability"
   ]
  },
  {
   "cell_type": "code",
   "execution_count": 66,
   "id": "97cbaa39",
   "metadata": {},
   "outputs": [
    {
     "data": {
      "text/html": [
       "<div>\n",
       "<style scoped>\n",
       "    .dataframe tbody tr th:only-of-type {\n",
       "        vertical-align: middle;\n",
       "    }\n",
       "\n",
       "    .dataframe tbody tr th {\n",
       "        vertical-align: top;\n",
       "    }\n",
       "\n",
       "    .dataframe thead th {\n",
       "        text-align: right;\n",
       "    }\n",
       "</style>\n",
       "<table border=\"1\" class=\"dataframe\">\n",
       "  <thead>\n",
       "    <tr style=\"text-align: right;\">\n",
       "      <th></th>\n",
       "      <th>Sub</th>\n",
       "      <th>Sub_prob</th>\n",
       "      <th>Cust_id</th>\n",
       "      <th>predict</th>\n",
       "      <th>0.0</th>\n",
       "      <th>0.1</th>\n",
       "      <th>0.2</th>\n",
       "      <th>0.3</th>\n",
       "      <th>0.4</th>\n",
       "      <th>0.5</th>\n",
       "      <th>0.6</th>\n",
       "      <th>0.7</th>\n",
       "      <th>0.8</th>\n",
       "      <th>0.9</th>\n",
       "      <th>final_predicted</th>\n",
       "    </tr>\n",
       "  </thead>\n",
       "  <tbody>\n",
       "    <tr>\n",
       "      <th>0</th>\n",
       "      <td>0</td>\n",
       "      <td>0.084217</td>\n",
       "      <td>18391</td>\n",
       "      <td>0</td>\n",
       "      <td>1</td>\n",
       "      <td>0</td>\n",
       "      <td>0</td>\n",
       "      <td>0</td>\n",
       "      <td>0</td>\n",
       "      <td>0</td>\n",
       "      <td>0</td>\n",
       "      <td>0</td>\n",
       "      <td>0</td>\n",
       "      <td>0</td>\n",
       "      <td>0</td>\n",
       "    </tr>\n",
       "    <tr>\n",
       "      <th>1</th>\n",
       "      <td>0</td>\n",
       "      <td>0.069297</td>\n",
       "      <td>13056</td>\n",
       "      <td>0</td>\n",
       "      <td>1</td>\n",
       "      <td>0</td>\n",
       "      <td>0</td>\n",
       "      <td>0</td>\n",
       "      <td>0</td>\n",
       "      <td>0</td>\n",
       "      <td>0</td>\n",
       "      <td>0</td>\n",
       "      <td>0</td>\n",
       "      <td>0</td>\n",
       "      <td>0</td>\n",
       "    </tr>\n",
       "    <tr>\n",
       "      <th>2</th>\n",
       "      <td>0</td>\n",
       "      <td>0.037968</td>\n",
       "      <td>13415</td>\n",
       "      <td>0</td>\n",
       "      <td>1</td>\n",
       "      <td>0</td>\n",
       "      <td>0</td>\n",
       "      <td>0</td>\n",
       "      <td>0</td>\n",
       "      <td>0</td>\n",
       "      <td>0</td>\n",
       "      <td>0</td>\n",
       "      <td>0</td>\n",
       "      <td>0</td>\n",
       "      <td>0</td>\n",
       "    </tr>\n",
       "    <tr>\n",
       "      <th>3</th>\n",
       "      <td>0</td>\n",
       "      <td>0.191855</td>\n",
       "      <td>21022</td>\n",
       "      <td>0</td>\n",
       "      <td>1</td>\n",
       "      <td>1</td>\n",
       "      <td>0</td>\n",
       "      <td>0</td>\n",
       "      <td>0</td>\n",
       "      <td>0</td>\n",
       "      <td>0</td>\n",
       "      <td>0</td>\n",
       "      <td>0</td>\n",
       "      <td>0</td>\n",
       "      <td>1</td>\n",
       "    </tr>\n",
       "    <tr>\n",
       "      <th>4</th>\n",
       "      <td>0</td>\n",
       "      <td>0.095957</td>\n",
       "      <td>24510</td>\n",
       "      <td>0</td>\n",
       "      <td>1</td>\n",
       "      <td>0</td>\n",
       "      <td>0</td>\n",
       "      <td>0</td>\n",
       "      <td>0</td>\n",
       "      <td>0</td>\n",
       "      <td>0</td>\n",
       "      <td>0</td>\n",
       "      <td>0</td>\n",
       "      <td>0</td>\n",
       "      <td>0</td>\n",
       "    </tr>\n",
       "  </tbody>\n",
       "</table>\n",
       "</div>"
      ],
      "text/plain": [
       "   Sub  Sub_prob  Cust_id  predict  0.0  0.1  0.2  0.3  0.4  0.5  0.6  0.7  \\\n",
       "0    0  0.084217    18391        0    1    0    0    0    0    0    0    0   \n",
       "1    0  0.069297    13056        0    1    0    0    0    0    0    0    0   \n",
       "2    0  0.037968    13415        0    1    0    0    0    0    0    0    0   \n",
       "3    0  0.191855    21022        0    1    1    0    0    0    0    0    0   \n",
       "4    0  0.095957    24510        0    1    0    0    0    0    0    0    0   \n",
       "\n",
       "   0.8  0.9  final_predicted  \n",
       "0    0    0                0  \n",
       "1    0    0                0  \n",
       "2    0    0                0  \n",
       "3    0    0                1  \n",
       "4    0    0                0  "
      ]
     },
     "execution_count": 66,
     "metadata": {},
     "output_type": "execute_result"
    }
   ],
   "source": [
    "y_train_pred_final['final_predicted'] = y_train_pred_final.Sub_prob.map(lambda x: 1 if x>0.15 else 0)\n",
    "y_train_pred_final.head()"
   ]
  },
  {
   "cell_type": "code",
   "execution_count": 67,
   "id": "4dd3a255",
   "metadata": {},
   "outputs": [
    {
     "data": {
      "text/plain": [
       "0.8584699971561286"
      ]
     },
     "execution_count": 67,
     "metadata": {},
     "output_type": "execute_result"
    }
   ],
   "source": [
    "metrics.accuracy_score(y_train_pred_final.Sub, y_train_pred_final.final_predicted)"
   ]
  },
  {
   "cell_type": "code",
   "execution_count": 68,
   "id": "5524e016",
   "metadata": {},
   "outputs": [
    {
     "data": {
      "text/plain": [
       "array([[24520,  3417],\n",
       "       [ 1062,  2648]], dtype=int64)"
      ]
     },
     "execution_count": 68,
     "metadata": {},
     "output_type": "execute_result"
    }
   ],
   "source": [
    "confusion2 = metrics.confusion_matrix(y_train_pred_final.Sub, y_train_pred_final.final_predicted)\n",
    "confusion2"
   ]
  },
  {
   "cell_type": "code",
   "execution_count": 69,
   "id": "8b3ded06",
   "metadata": {},
   "outputs": [],
   "source": [
    "TP = confusion2[1,1] # true positive \n",
    "TN = confusion2[0,0] # true negatives\n",
    "FP = confusion2[0,1] # false positives\n",
    "FN = confusion2[1,0] # false negatives"
   ]
  },
  {
   "cell_type": "code",
   "execution_count": 70,
   "id": "910d22fc",
   "metadata": {},
   "outputs": [
    {
     "data": {
      "text/plain": [
       "0.7137466307277628"
      ]
     },
     "execution_count": 70,
     "metadata": {},
     "output_type": "execute_result"
    }
   ],
   "source": [
    "# Let's see the sensitivity of our logistic regression model\n",
    "TP/float(TP+FN)"
   ]
  },
  {
   "cell_type": "code",
   "execution_count": 71,
   "id": "f6895083",
   "metadata": {},
   "outputs": [
    {
     "data": {
      "text/plain": [
       "0.8776890861581416"
      ]
     },
     "execution_count": 71,
     "metadata": {},
     "output_type": "execute_result"
    }
   ],
   "source": [
    "# Let us calculate specificity\n",
    "TN/float(TN+FP)"
   ]
  },
  {
   "cell_type": "code",
   "execution_count": 72,
   "id": "08a258bb",
   "metadata": {},
   "outputs": [
    {
     "data": {
      "text/plain": [
       "0.12231091384185847"
      ]
     },
     "execution_count": 72,
     "metadata": {},
     "output_type": "execute_result"
    }
   ],
   "source": [
    "# Calculate false postive rate - predicting churn when customer does not have churned\n",
    "FP/float(TN+FP)"
   ]
  },
  {
   "cell_type": "code",
   "execution_count": 73,
   "id": "6f52314e",
   "metadata": {},
   "outputs": [
    {
     "data": {
      "text/plain": [
       "0.43660346248969495"
      ]
     },
     "execution_count": 73,
     "metadata": {},
     "output_type": "execute_result"
    }
   ],
   "source": [
    "# Positive predictive value \n",
    "TP/float(TP+FP)"
   ]
  },
  {
   "cell_type": "code",
   "execution_count": 74,
   "id": "d50b6d61",
   "metadata": {},
   "outputs": [
    {
     "data": {
      "text/plain": [
       "0.9584864357751544"
      ]
     },
     "execution_count": 74,
     "metadata": {},
     "output_type": "execute_result"
    }
   ],
   "source": [
    "# Negative predictive value\n",
    "TN/float(TN+ FN)"
   ]
  },
  {
   "cell_type": "markdown",
   "id": "d3e68837",
   "metadata": {},
   "source": [
    "### Precision and Recall:"
   ]
  },
  {
   "cell_type": "code",
   "execution_count": 75,
   "id": "8c8d1118",
   "metadata": {},
   "outputs": [
    {
     "data": {
      "text/plain": [
       "array([[27304,   633],\n",
       "       [ 2486,  1224]], dtype=int64)"
      ]
     },
     "execution_count": 75,
     "metadata": {},
     "output_type": "execute_result"
    }
   ],
   "source": [
    "# Looking at the confusion matrix again\n",
    "confusion"
   ]
  },
  {
   "cell_type": "code",
   "execution_count": 76,
   "id": "d06169fe",
   "metadata": {},
   "outputs": [
    {
     "data": {
      "text/plain": [
       "array([[24520,  3417],\n",
       "       [ 1062,  2648]], dtype=int64)"
      ]
     },
     "execution_count": 76,
     "metadata": {},
     "output_type": "execute_result"
    }
   ],
   "source": [
    "# Second confusion matrix\n",
    "confusion2"
   ]
  },
  {
   "cell_type": "markdown",
   "id": "3eda14a5",
   "metadata": {},
   "source": [
    "#### Precision:"
   ]
  },
  {
   "cell_type": "markdown",
   "id": "0f752561",
   "metadata": {},
   "source": [
    "TP / TP + FP"
   ]
  },
  {
   "cell_type": "code",
   "execution_count": 77,
   "id": "5424bd1c",
   "metadata": {},
   "outputs": [
    {
     "data": {
      "text/plain": [
       "0.6591276252019386"
      ]
     },
     "execution_count": 77,
     "metadata": {},
     "output_type": "execute_result"
    }
   ],
   "source": [
    "confusion[1,1]/(confusion[0,1]+confusion[1,1])"
   ]
  },
  {
   "cell_type": "markdown",
   "id": "f4f03228",
   "metadata": {},
   "source": [
    "#### Recall:"
   ]
  },
  {
   "cell_type": "markdown",
   "id": "f8451754",
   "metadata": {},
   "source": [
    "TP / TP + FN"
   ]
  },
  {
   "cell_type": "code",
   "execution_count": 79,
   "id": "bbdbcf7f",
   "metadata": {},
   "outputs": [
    {
     "data": {
      "text/plain": [
       "0.3299191374663073"
      ]
     },
     "execution_count": 79,
     "metadata": {},
     "output_type": "execute_result"
    }
   ],
   "source": [
    "confusion[1,1]/(confusion[1,0]+confusion[1,1])"
   ]
  },
  {
   "cell_type": "markdown",
   "id": "cbc3d8db",
   "metadata": {},
   "source": [
    "#### Using sklearn utilities for finding precision and recall"
   ]
  },
  {
   "cell_type": "code",
   "execution_count": 80,
   "id": "e49189f8",
   "metadata": {},
   "outputs": [
    {
     "data": {
      "text/plain": [
       "0.6573426573426573"
      ]
     },
     "execution_count": 80,
     "metadata": {},
     "output_type": "execute_result"
    }
   ],
   "source": [
    "precision_score(y_train_pred_final.Sub, y_train_pred_final.predict)"
   ]
  },
  {
   "cell_type": "code",
   "execution_count": 81,
   "id": "6799b258",
   "metadata": {},
   "outputs": [
    {
     "data": {
      "text/plain": [
       "0.3293800539083558"
      ]
     },
     "execution_count": 81,
     "metadata": {},
     "output_type": "execute_result"
    }
   ],
   "source": [
    "recall_score(y_train_pred_final.Sub, y_train_pred_final.predict)"
   ]
  },
  {
   "cell_type": "markdown",
   "id": "085f113a",
   "metadata": {},
   "source": [
    "## Step 9: Precision and Recall takeoff"
   ]
  },
  {
   "cell_type": "code",
   "execution_count": 82,
   "id": "c8ae8415",
   "metadata": {},
   "outputs": [
    {
     "data": {
      "text/plain": [
       "(0        0\n",
       " 1        0\n",
       " 2        0\n",
       " 3        0\n",
       " 4        0\n",
       "         ..\n",
       " 31642    0\n",
       " 31643    0\n",
       " 31644    0\n",
       " 31645    0\n",
       " 31646    0\n",
       " Name: Sub, Length: 31647, dtype: int64,\n",
       " 0        0\n",
       " 1        0\n",
       " 2        0\n",
       " 3        0\n",
       " 4        0\n",
       "         ..\n",
       " 31642    0\n",
       " 31643    0\n",
       " 31644    0\n",
       " 31645    0\n",
       " 31646    0\n",
       " Name: predict, Length: 31647, dtype: int64)"
      ]
     },
     "execution_count": 82,
     "metadata": {},
     "output_type": "execute_result"
    }
   ],
   "source": [
    "y_train_pred_final.Sub, y_train_pred_final.predict"
   ]
  },
  {
   "cell_type": "code",
   "execution_count": 83,
   "id": "eb82d54a",
   "metadata": {},
   "outputs": [],
   "source": [
    "p, r, thresholds = precision_recall_curve(y_train_pred_final.Sub, y_train_pred_final.Sub_prob)"
   ]
  },
  {
   "cell_type": "code",
   "execution_count": 84,
   "id": "18186d2c",
   "metadata": {},
   "outputs": [
    {
     "data": {
      "image/png": "[encoded data removed]",
      "text/plain": [
       "<Figure size 432x288 with 1 Axes>"
      ]
     },
     "metadata": {
      "needs_background": "light"
     },
     "output_type": "display_data"
    }
   ],
   "source": [
    "plt.plot(thresholds, p[:-1], \"g-\")\n",
    "plt.plot(thresholds, r[:-1], \"r-\")\n",
    "plt.show()"
   ]
  },
  {
   "cell_type": "markdown",
   "id": "db10a420",
   "metadata": {},
   "source": [
    "## Step 10: Making predictions on Test data"
   ]
  },
  {
   "cell_type": "code",
   "execution_count": 85,
   "id": "eb568911",
   "metadata": {},
   "outputs": [],
   "source": [
    "# transforming the test data\n",
    "x_test[['age','balance','duration']] = scaler.transform(x_test[['age','balance','duration']])"
   ]
  },
  {
   "cell_type": "code",
   "execution_count": 86,
   "id": "c6b3f4eb",
   "metadata": {},
   "outputs": [
    {
     "data": {
      "text/html": [
       "<div>\n",
       "<style scoped>\n",
       "    .dataframe tbody tr th:only-of-type {\n",
       "        vertical-align: middle;\n",
       "    }\n",
       "\n",
       "    .dataframe tbody tr th {\n",
       "        vertical-align: top;\n",
       "    }\n",
       "\n",
       "    .dataframe thead th {\n",
       "        text-align: right;\n",
       "    }\n",
       "</style>\n",
       "<table border=\"1\" class=\"dataframe\">\n",
       "  <thead>\n",
       "    <tr style=\"text-align: right;\">\n",
       "      <th></th>\n",
       "      <th>housing</th>\n",
       "      <th>loan</th>\n",
       "      <th>duration</th>\n",
       "      <th>poutfailure</th>\n",
       "      <th>poutother</th>\n",
       "      <th>poutsuccess</th>\n",
       "      <th>poutunknown</th>\n",
       "      <th>con_cellular</th>\n",
       "      <th>con_telephone</th>\n",
       "      <th>con_unknown</th>\n",
       "      <th>single</th>\n",
       "      <th>joblue.collar</th>\n",
       "      <th>johousemaid</th>\n",
       "      <th>joself.employed</th>\n",
       "      <th>joservices</th>\n",
       "      <th>jostudent</th>\n",
       "      <th>jotechnician</th>\n",
       "    </tr>\n",
       "  </thead>\n",
       "  <tbody>\n",
       "    <tr>\n",
       "      <th>14789</th>\n",
       "      <td>0</td>\n",
       "      <td>1</td>\n",
       "      <td>-0.403616</td>\n",
       "      <td>0</td>\n",
       "      <td>0</td>\n",
       "      <td>0</td>\n",
       "      <td>1</td>\n",
       "      <td>1</td>\n",
       "      <td>0</td>\n",
       "      <td>0</td>\n",
       "      <td>1</td>\n",
       "      <td>1</td>\n",
       "      <td>0</td>\n",
       "      <td>0</td>\n",
       "      <td>0</td>\n",
       "      <td>0</td>\n",
       "      <td>0</td>\n",
       "    </tr>\n",
       "    <tr>\n",
       "      <th>8968</th>\n",
       "      <td>0</td>\n",
       "      <td>0</td>\n",
       "      <td>-0.310613</td>\n",
       "      <td>0</td>\n",
       "      <td>0</td>\n",
       "      <td>0</td>\n",
       "      <td>1</td>\n",
       "      <td>0</td>\n",
       "      <td>0</td>\n",
       "      <td>1</td>\n",
       "      <td>0</td>\n",
       "      <td>0</td>\n",
       "      <td>0</td>\n",
       "      <td>0</td>\n",
       "      <td>0</td>\n",
       "      <td>0</td>\n",
       "      <td>0</td>\n",
       "    </tr>\n",
       "    <tr>\n",
       "      <th>34685</th>\n",
       "      <td>1</td>\n",
       "      <td>0</td>\n",
       "      <td>-0.740752</td>\n",
       "      <td>0</td>\n",
       "      <td>0</td>\n",
       "      <td>0</td>\n",
       "      <td>1</td>\n",
       "      <td>1</td>\n",
       "      <td>0</td>\n",
       "      <td>0</td>\n",
       "      <td>1</td>\n",
       "      <td>0</td>\n",
       "      <td>0</td>\n",
       "      <td>0</td>\n",
       "      <td>0</td>\n",
       "      <td>0</td>\n",
       "      <td>0</td>\n",
       "    </tr>\n",
       "    <tr>\n",
       "      <th>2369</th>\n",
       "      <td>1</td>\n",
       "      <td>0</td>\n",
       "      <td>-0.213735</td>\n",
       "      <td>0</td>\n",
       "      <td>0</td>\n",
       "      <td>0</td>\n",
       "      <td>1</td>\n",
       "      <td>0</td>\n",
       "      <td>0</td>\n",
       "      <td>1</td>\n",
       "      <td>1</td>\n",
       "      <td>0</td>\n",
       "      <td>0</td>\n",
       "      <td>0</td>\n",
       "      <td>0</td>\n",
       "      <td>0</td>\n",
       "      <td>0</td>\n",
       "    </tr>\n",
       "    <tr>\n",
       "      <th>36561</th>\n",
       "      <td>1</td>\n",
       "      <td>0</td>\n",
       "      <td>1.444816</td>\n",
       "      <td>0</td>\n",
       "      <td>0</td>\n",
       "      <td>1</td>\n",
       "      <td>0</td>\n",
       "      <td>1</td>\n",
       "      <td>0</td>\n",
       "      <td>0</td>\n",
       "      <td>0</td>\n",
       "      <td>0</td>\n",
       "      <td>0</td>\n",
       "      <td>0</td>\n",
       "      <td>1</td>\n",
       "      <td>0</td>\n",
       "      <td>0</td>\n",
       "    </tr>\n",
       "  </tbody>\n",
       "</table>\n",
       "</div>"
      ],
      "text/plain": [
       "       housing  loan  duration  poutfailure  poutother  poutsuccess  \\\n",
       "14789        0     1 -0.403616            0          0            0   \n",
       "8968         0     0 -0.310613            0          0            0   \n",
       "34685        1     0 -0.740752            0          0            0   \n",
       "2369         1     0 -0.213735            0          0            0   \n",
       "36561        1     0  1.444816            0          0            1   \n",
       "\n",
       "       poutunknown  con_cellular  con_telephone  con_unknown  single  \\\n",
       "14789            1             1              0            0       1   \n",
       "8968             1             0              0            1       0   \n",
       "34685            1             1              0            0       1   \n",
       "2369             1             0              0            1       1   \n",
       "36561            0             1              0            0       0   \n",
       "\n",
       "       joblue.collar  johousemaid  joself.employed  joservices  jostudent  \\\n",
       "14789              1            0                0           0          0   \n",
       "8968               0            0                0           0          0   \n",
       "34685              0            0                0           0          0   \n",
       "2369               0            0                0           0          0   \n",
       "36561              0            0                0           1          0   \n",
       "\n",
       "       jotechnician  \n",
       "14789             0  \n",
       "8968              0  \n",
       "34685             0  \n",
       "2369              0  \n",
       "36561             0  "
      ]
     },
     "execution_count": 86,
     "metadata": {},
     "output_type": "execute_result"
    }
   ],
   "source": [
    "x_test = x_test[col1]\n",
    "x_test.head()"
   ]
  },
  {
   "cell_type": "code",
   "execution_count": 87,
   "id": "98fd8e19",
   "metadata": {},
   "outputs": [],
   "source": [
    "x_test_sm = sm.add_constant(x_test)"
   ]
  },
  {
   "cell_type": "markdown",
   "id": "93d28ce5",
   "metadata": {},
   "source": [
    "#### Making predictions on the test data:"
   ]
  },
  {
   "cell_type": "code",
   "execution_count": 88,
   "id": "cd516b33",
   "metadata": {},
   "outputs": [],
   "source": [
    "y_test_pred = res.predict(x_test_sm)"
   ]
  },
  {
   "cell_type": "code",
   "execution_count": 89,
   "id": "db6cb532",
   "metadata": {},
   "outputs": [
    {
     "data": {
      "text/plain": [
       "14789    0.046055\n",
       "8968     0.031751\n",
       "34685    0.039532\n",
       "2369     0.021278\n",
       "36561    0.781652\n",
       "22611    0.088953\n",
       "5137     0.124307\n",
       "1491     0.029924\n",
       "34610    0.031958\n",
       "33988    0.039884\n",
       "dtype: float64"
      ]
     },
     "execution_count": 89,
     "metadata": {},
     "output_type": "execute_result"
    }
   ],
   "source": [
    "y_test_pred[:10]"
   ]
  },
  {
   "cell_type": "code",
   "execution_count": 90,
   "id": "a40a4cc0",
   "metadata": {},
   "outputs": [],
   "source": [
    "# Converting y_test_pred to a dataframe which is an array\n",
    "y_pred_1 = pd.DataFrame(y_test_pred)"
   ]
  },
  {
   "cell_type": "code",
   "execution_count": 91,
   "id": "62847354",
   "metadata": {},
   "outputs": [
    {
     "data": {
      "text/html": [
       "<div>\n",
       "<style scoped>\n",
       "    .dataframe tbody tr th:only-of-type {\n",
       "        vertical-align: middle;\n",
       "    }\n",
       "\n",
       "    .dataframe tbody tr th {\n",
       "        vertical-align: top;\n",
       "    }\n",
       "\n",
       "    .dataframe thead th {\n",
       "        text-align: right;\n",
       "    }\n",
       "</style>\n",
       "<table border=\"1\" class=\"dataframe\">\n",
       "  <thead>\n",
       "    <tr style=\"text-align: right;\">\n",
       "      <th></th>\n",
       "      <th>0</th>\n",
       "    </tr>\n",
       "  </thead>\n",
       "  <tbody>\n",
       "    <tr>\n",
       "      <th>14789</th>\n",
       "      <td>0.046055</td>\n",
       "    </tr>\n",
       "    <tr>\n",
       "      <th>8968</th>\n",
       "      <td>0.031751</td>\n",
       "    </tr>\n",
       "    <tr>\n",
       "      <th>34685</th>\n",
       "      <td>0.039532</td>\n",
       "    </tr>\n",
       "    <tr>\n",
       "      <th>2369</th>\n",
       "      <td>0.021278</td>\n",
       "    </tr>\n",
       "    <tr>\n",
       "      <th>36561</th>\n",
       "      <td>0.781652</td>\n",
       "    </tr>\n",
       "  </tbody>\n",
       "</table>\n",
       "</div>"
      ],
      "text/plain": [
       "              0\n",
       "14789  0.046055\n",
       "8968   0.031751\n",
       "34685  0.039532\n",
       "2369   0.021278\n",
       "36561  0.781652"
      ]
     },
     "execution_count": 91,
     "metadata": {},
     "output_type": "execute_result"
    }
   ],
   "source": [
    "y_pred_1.head()"
   ]
  },
  {
   "cell_type": "code",
   "execution_count": 92,
   "id": "2145363c",
   "metadata": {},
   "outputs": [],
   "source": [
    "# Converting y_test to dataframe\n",
    "y_test_df = pd.DataFrame(y_test)"
   ]
  },
  {
   "cell_type": "code",
   "execution_count": 94,
   "id": "50daab56",
   "metadata": {},
   "outputs": [],
   "source": [
    "# Putting Cust_id to index\n",
    "y_test_df['Cust_id'] = y_test_df.index"
   ]
  },
  {
   "cell_type": "code",
   "execution_count": 95,
   "id": "165fc146",
   "metadata": {},
   "outputs": [],
   "source": [
    "# Removing index for both dataframes to append them side by side \n",
    "y_pred_1.reset_index(drop=True, inplace=True)\n",
    "y_test_df.reset_index(drop=True, inplace=True)"
   ]
  },
  {
   "cell_type": "code",
   "execution_count": 96,
   "id": "7f66f7bc",
   "metadata": {},
   "outputs": [],
   "source": [
    "# Appending y_test_df and y_pred_1\n",
    "y_pred = pd.concat([y_test_df,y_pred_1],axis=1)"
   ]
  },
  {
   "cell_type": "code",
   "execution_count": 97,
   "id": "f9672a6d",
   "metadata": {},
   "outputs": [
    {
     "data": {
      "text/html": [
       "<div>\n",
       "<style scoped>\n",
       "    .dataframe tbody tr th:only-of-type {\n",
       "        vertical-align: middle;\n",
       "    }\n",
       "\n",
       "    .dataframe tbody tr th {\n",
       "        vertical-align: top;\n",
       "    }\n",
       "\n",
       "    .dataframe thead th {\n",
       "        text-align: right;\n",
       "    }\n",
       "</style>\n",
       "<table border=\"1\" class=\"dataframe\">\n",
       "  <thead>\n",
       "    <tr style=\"text-align: right;\">\n",
       "      <th></th>\n",
       "      <th>y</th>\n",
       "      <th>Cust_id</th>\n",
       "      <th>0</th>\n",
       "    </tr>\n",
       "  </thead>\n",
       "  <tbody>\n",
       "    <tr>\n",
       "      <th>0</th>\n",
       "      <td>0</td>\n",
       "      <td>14789</td>\n",
       "      <td>0.046055</td>\n",
       "    </tr>\n",
       "    <tr>\n",
       "      <th>1</th>\n",
       "      <td>0</td>\n",
       "      <td>8968</td>\n",
       "      <td>0.031751</td>\n",
       "    </tr>\n",
       "    <tr>\n",
       "      <th>2</th>\n",
       "      <td>0</td>\n",
       "      <td>34685</td>\n",
       "      <td>0.039532</td>\n",
       "    </tr>\n",
       "    <tr>\n",
       "      <th>3</th>\n",
       "      <td>0</td>\n",
       "      <td>2369</td>\n",
       "      <td>0.021278</td>\n",
       "    </tr>\n",
       "    <tr>\n",
       "      <th>4</th>\n",
       "      <td>0</td>\n",
       "      <td>36561</td>\n",
       "      <td>0.781652</td>\n",
       "    </tr>\n",
       "  </tbody>\n",
       "</table>\n",
       "</div>"
      ],
      "text/plain": [
       "   y  Cust_id         0\n",
       "0  0    14789  0.046055\n",
       "1  0     8968  0.031751\n",
       "2  0    34685  0.039532\n",
       "3  0     2369  0.021278\n",
       "4  0    36561  0.781652"
      ]
     },
     "execution_count": 97,
     "metadata": {},
     "output_type": "execute_result"
    }
   ],
   "source": [
    "y_pred.head()"
   ]
  },
  {
   "cell_type": "code",
   "execution_count": 98,
   "id": "bcd93509",
   "metadata": {},
   "outputs": [],
   "source": [
    "# renaming the columns\n",
    "y_pred.rename(columns={'y':'Sub',0:'Sub_prob'},inplace=True)"
   ]
  },
  {
   "cell_type": "code",
   "execution_count": 99,
   "id": "f9b6b934",
   "metadata": {},
   "outputs": [
    {
     "data": {
      "text/html": [
       "<div>\n",
       "<style scoped>\n",
       "    .dataframe tbody tr th:only-of-type {\n",
       "        vertical-align: middle;\n",
       "    }\n",
       "\n",
       "    .dataframe tbody tr th {\n",
       "        vertical-align: top;\n",
       "    }\n",
       "\n",
       "    .dataframe thead th {\n",
       "        text-align: right;\n",
       "    }\n",
       "</style>\n",
       "<table border=\"1\" class=\"dataframe\">\n",
       "  <thead>\n",
       "    <tr style=\"text-align: right;\">\n",
       "      <th></th>\n",
       "      <th>Sub</th>\n",
       "      <th>Cust_id</th>\n",
       "      <th>Sub_prob</th>\n",
       "    </tr>\n",
       "  </thead>\n",
       "  <tbody>\n",
       "    <tr>\n",
       "      <th>0</th>\n",
       "      <td>0</td>\n",
       "      <td>14789</td>\n",
       "      <td>0.046055</td>\n",
       "    </tr>\n",
       "    <tr>\n",
       "      <th>1</th>\n",
       "      <td>0</td>\n",
       "      <td>8968</td>\n",
       "      <td>0.031751</td>\n",
       "    </tr>\n",
       "    <tr>\n",
       "      <th>2</th>\n",
       "      <td>0</td>\n",
       "      <td>34685</td>\n",
       "      <td>0.039532</td>\n",
       "    </tr>\n",
       "    <tr>\n",
       "      <th>3</th>\n",
       "      <td>0</td>\n",
       "      <td>2369</td>\n",
       "      <td>0.021278</td>\n",
       "    </tr>\n",
       "    <tr>\n",
       "      <th>4</th>\n",
       "      <td>0</td>\n",
       "      <td>36561</td>\n",
       "      <td>0.781652</td>\n",
       "    </tr>\n",
       "  </tbody>\n",
       "</table>\n",
       "</div>"
      ],
      "text/plain": [
       "   Sub  Cust_id  Sub_prob\n",
       "0    0    14789  0.046055\n",
       "1    0     8968  0.031751\n",
       "2    0    34685  0.039532\n",
       "3    0     2369  0.021278\n",
       "4    0    36561  0.781652"
      ]
     },
     "execution_count": 99,
     "metadata": {},
     "output_type": "execute_result"
    }
   ],
   "source": [
    "y_pred.head()"
   ]
  },
  {
   "cell_type": "code",
   "execution_count": 100,
   "id": "d29798fe",
   "metadata": {},
   "outputs": [],
   "source": [
    "# putting the limit of 0.25 from the precision_recall_curve\n",
    "y_pred['final_predict'] = y_pred.Sub_prob.map(lambda x: 1 if x>0.25 else 0)"
   ]
  },
  {
   "cell_type": "code",
   "execution_count": 101,
   "id": "64715353",
   "metadata": {},
   "outputs": [
    {
     "data": {
      "text/html": [
       "<div>\n",
       "<style scoped>\n",
       "    .dataframe tbody tr th:only-of-type {\n",
       "        vertical-align: middle;\n",
       "    }\n",
       "\n",
       "    .dataframe tbody tr th {\n",
       "        vertical-align: top;\n",
       "    }\n",
       "\n",
       "    .dataframe thead th {\n",
       "        text-align: right;\n",
       "    }\n",
       "</style>\n",
       "<table border=\"1\" class=\"dataframe\">\n",
       "  <thead>\n",
       "    <tr style=\"text-align: right;\">\n",
       "      <th></th>\n",
       "      <th>Sub</th>\n",
       "      <th>Cust_id</th>\n",
       "      <th>Sub_prob</th>\n",
       "      <th>final_predict</th>\n",
       "    </tr>\n",
       "  </thead>\n",
       "  <tbody>\n",
       "    <tr>\n",
       "      <th>0</th>\n",
       "      <td>0</td>\n",
       "      <td>14789</td>\n",
       "      <td>0.046055</td>\n",
       "      <td>0</td>\n",
       "    </tr>\n",
       "    <tr>\n",
       "      <th>1</th>\n",
       "      <td>0</td>\n",
       "      <td>8968</td>\n",
       "      <td>0.031751</td>\n",
       "      <td>0</td>\n",
       "    </tr>\n",
       "    <tr>\n",
       "      <th>2</th>\n",
       "      <td>0</td>\n",
       "      <td>34685</td>\n",
       "      <td>0.039532</td>\n",
       "      <td>0</td>\n",
       "    </tr>\n",
       "    <tr>\n",
       "      <th>3</th>\n",
       "      <td>0</td>\n",
       "      <td>2369</td>\n",
       "      <td>0.021278</td>\n",
       "      <td>0</td>\n",
       "    </tr>\n",
       "    <tr>\n",
       "      <th>4</th>\n",
       "      <td>0</td>\n",
       "      <td>36561</td>\n",
       "      <td>0.781652</td>\n",
       "      <td>1</td>\n",
       "    </tr>\n",
       "  </tbody>\n",
       "</table>\n",
       "</div>"
      ],
      "text/plain": [
       "   Sub  Cust_id  Sub_prob  final_predict\n",
       "0    0    14789  0.046055              0\n",
       "1    0     8968  0.031751              0\n",
       "2    0    34685  0.039532              0\n",
       "3    0     2369  0.021278              0\n",
       "4    0    36561  0.781652              1"
      ]
     },
     "execution_count": 101,
     "metadata": {},
     "output_type": "execute_result"
    }
   ],
   "source": [
    "y_pred.head()"
   ]
  },
  {
   "cell_type": "code",
   "execution_count": 102,
   "id": "4a68aea4",
   "metadata": {},
   "outputs": [
    {
     "data": {
      "text/plain": [
       "0.8901503981126512"
      ]
     },
     "execution_count": 102,
     "metadata": {},
     "output_type": "execute_result"
    }
   ],
   "source": [
    "# overall accuracy of the model on test data\n",
    "metrics.accuracy_score(y_pred.Sub, y_pred.final_predict)"
   ]
  },
  {
   "cell_type": "code",
   "execution_count": 103,
   "id": "d53b2472",
   "metadata": {},
   "outputs": [
    {
     "data": {
      "text/plain": [
       "array([[11246,   739],\n",
       "       [  751,   828]], dtype=int64)"
      ]
     },
     "execution_count": 103,
     "metadata": {},
     "output_type": "execute_result"
    }
   ],
   "source": [
    "confusion3 = metrics.confusion_matrix(y_pred.Sub, y_pred.final_predict)\n",
    "confusion3"
   ]
  },
  {
   "cell_type": "code",
   "execution_count": 104,
   "id": "61071b2e",
   "metadata": {},
   "outputs": [],
   "source": [
    "TP = confusion3[1,1] # true positive \n",
    "TN = confusion3[0,0] # true negatives\n",
    "FP = confusion3[0,1] # false positives\n",
    "FN = confusion3[1,0] # false negatives"
   ]
  },
  {
   "cell_type": "code",
   "execution_count": 105,
   "id": "7c08e959",
   "metadata": {},
   "outputs": [
    {
     "data": {
      "text/plain": [
       "0.5243825205826472"
      ]
     },
     "execution_count": 105,
     "metadata": {},
     "output_type": "execute_result"
    }
   ],
   "source": [
    "# Let's see the sensitivity of our logistic regression model\n",
    "TP/float(TP+FN)"
   ]
  },
  {
   "cell_type": "code",
   "execution_count": 106,
   "id": "31c4ee6f",
   "metadata": {},
   "outputs": [
    {
     "data": {
      "text/plain": [
       "0.9383395911556112"
      ]
     },
     "execution_count": 106,
     "metadata": {},
     "output_type": "execute_result"
    }
   ],
   "source": [
    "# Let us calculate specificity\n",
    "TN/float(TN+FP)"
   ]
  }
 ],
 "metadata": {
  "kernelspec": {
   "display_name": "Python 3",
   "language": "python",
   "name": "python3"
  },
  "language_info": {
   "codemirror_mode": {
    "name": "ipython",
    "version": 3
   },
   "file_extension": ".py",
   "mimetype": "text/x-python",
   "name": "python",
   "nbconvert_exporter": "python",
   "pygments_lexer": "ipython3",
   "version": "3.8.8"
  }
 },
 "nbformat": 4,
 "nbformat_minor": 5
}
