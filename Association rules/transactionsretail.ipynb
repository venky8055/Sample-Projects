{
 "cells": [
  {
   "cell_type": "markdown",
   "metadata": {},
   "source": [
    
    "# Topic: Association Rules"
   ]
  },
  {
   "cell_type": "markdown",
   "metadata": {},
   "source": [
    "# ---------------------------------------------------------------------------"
   ]
  },
  {
   "cell_type": "markdown",
   "metadata": {},
   "source": [
    "## 5. A retail store in India, has its transaction data, and it would like to know the buying pattern of the consumers in its locality, you have been assigned this task to provide the manager with rules on how the placement of products needs to be there in shelves so that it can improve the buying patterns of consumes and increase customer footfall. \n"
   ]
  },
  {
   "cell_type": "markdown",
   "metadata": {},
   "source": [
    "## -----------------------------------------------------------------------------------"
   ]
  },
  {
   "cell_type": "markdown",
   "metadata": {},
   "source": [
    "### Business objective: To help the retail store to know the buying pattern of the consumers in its locality.  To apply Association Rule Algorithm, explain how the placement of products needs to be there in shelves so that it can improve the buying patterns of consumes and increase customer footfall."
   ]
  },
  {
   "cell_type": "markdown",
   "metadata": {},
   "source": [
    "## -------------------------------------------------------------------------------------------"
   ]
  },
  {
   "cell_type": "markdown",
   "metadata": {},
   "source": [
    "Import libraries:"
   ]
  },
  {
   "cell_type": "code",
   "execution_count": 6,
   "metadata": {},
   "outputs": [],
   "source": [
    "import pandas as pd\n",
    "import numpy as np\n",
    "from mlxtend.frequent_patterns import apriori, association_rules\n",
    "import matplotlib.pyplot as plt"
   ]
  },
  {
   "cell_type": "markdown",
   "metadata": {},
   "source": [
    "Load Dataset:"
   ]
  },
  {
   "cell_type": "code",
   "execution_count": 7,
   "metadata": {},
   "outputs": [],
   "source": [
    "df = pd.read_csv('G:/transactions_retail.csv', sep=',') "
   ]
  },
  {
   "cell_type": "markdown",
   "metadata": {},
   "source": [
    "Print top 5 rows: "
   ]
  },
  {
   "cell_type": "code",
   "execution_count": 8,
   "metadata": {},
   "outputs": [
    {
     "data": {
      "text/html": [
       "<div>\n",
       "<style scoped>\n",
       "    .dataframe tbody tr th:only-of-type {\n",
       "        vertical-align: middle;\n",
       "    }\n",
       "\n",
       "    .dataframe tbody tr th {\n",
       "        vertical-align: top;\n",
       "    }\n",
       "\n",
       "    .dataframe thead th {\n",
       "        text-align: right;\n",
       "    }\n",
       "</style>\n",
       "<table border=\"1\" class=\"dataframe\">\n",
       "  <thead>\n",
       "    <tr style=\"text-align: right;\">\n",
       "      <th></th>\n",
       "      <th>0</th>\n",
       "      <th>1</th>\n",
       "      <th>2</th>\n",
       "      <th>3</th>\n",
       "      <th>4</th>\n",
       "      <th>5</th>\n",
       "    </tr>\n",
       "  </thead>\n",
       "  <tbody>\n",
       "    <tr>\n",
       "      <th>0</th>\n",
       "      <td>'HANGING'</td>\n",
       "      <td>'HEART'</td>\n",
       "      <td>'HOLDER'</td>\n",
       "      <td>'T-LIGHT'</td>\n",
       "      <td>'WHITE'</td>\n",
       "      <td>NaN</td>\n",
       "    </tr>\n",
       "    <tr>\n",
       "      <th>1</th>\n",
       "      <td>'LANTERN'</td>\n",
       "      <td>'METAL'</td>\n",
       "      <td>'WHITE'</td>\n",
       "      <td>NaN</td>\n",
       "      <td>NaN</td>\n",
       "      <td>NaN</td>\n",
       "    </tr>\n",
       "    <tr>\n",
       "      <th>2</th>\n",
       "      <td>'COAT'</td>\n",
       "      <td>'CREAM'</td>\n",
       "      <td>'CUPID'</td>\n",
       "      <td>'HANGER'</td>\n",
       "      <td>'HEARTS'</td>\n",
       "      <td>NaN</td>\n",
       "    </tr>\n",
       "    <tr>\n",
       "      <th>3</th>\n",
       "      <td>'BOTTLE'</td>\n",
       "      <td>'FLAG'</td>\n",
       "      <td>'HOT'</td>\n",
       "      <td>'KNITTED'</td>\n",
       "      <td>'UNION'</td>\n",
       "      <td>'WATER'</td>\n",
       "    </tr>\n",
       "    <tr>\n",
       "      <th>4</th>\n",
       "      <td>'HEART.'</td>\n",
       "      <td>'HOTTIE'</td>\n",
       "      <td>'RED'</td>\n",
       "      <td>'WHITE'</td>\n",
       "      <td>'WOOLLY'</td>\n",
       "      <td>NaN</td>\n",
       "    </tr>\n",
       "  </tbody>\n",
       "</table>\n",
       "</div>"
      ],
      "text/plain": [
       "           0         1         2          3         4        5\n",
       "0  'HANGING'   'HEART'  'HOLDER'  'T-LIGHT'   'WHITE'      NaN\n",
       "1  'LANTERN'   'METAL'   'WHITE'        NaN       NaN      NaN\n",
       "2     'COAT'   'CREAM'   'CUPID'   'HANGER'  'HEARTS'      NaN\n",
       "3   'BOTTLE'    'FLAG'     'HOT'  'KNITTED'   'UNION'  'WATER'\n",
       "4   'HEART.'  'HOTTIE'     'RED'    'WHITE'  'WOOLLY'      NaN"
      ]
     },
     "execution_count": 8,
     "metadata": {},
     "output_type": "execute_result"
    }
   ],
   "source": [
    "df.head(5)"
   ]
  },
  {
   "cell_type": "markdown",
   "metadata": {},
   "source": [
    "###### Each row of the dataset represents items that were purchased together on the same day at the same store.The dataset is a sparse dataset as relatively high percentage of data is NA or NaN or equivalent."
   ]
  },
  {
   "cell_type": "markdown",
   "metadata": {},
   "source": [
    "###### These NaNs make it hard to read the table. Let’s find out how many unique items are actually there in the table."
   ]
  },
  {
   "cell_type": "code",
   "execution_count": 9,
   "metadata": {
    "scrolled": true
   },
   "outputs": [
    {
     "data": {
      "text/plain": [
       "array([\"'HANGING'\", \"'LANTERN'\", \"'COAT'\", \"'BOTTLE'\", \"'HEART.'\", \"'7'\",\n",
       "       \"'FROSTED'\", \"'HAND'\", \"'DOT'\", \"'ASSORTED'\", \"'BEDROOM'\",\n",
       "       \"'KITCHEN'\", \"'CHARLOTTE'\", \"'COSY'\", \"'6'\", \"'BLOCKS'\",\n",
       "       \"'ALPHABET'\", \"'BLOCK'\", \"'BOX'\", \"'DOORMAT'\", \"'JAM'\", \"'BLUE'\",\n",
       "       \"'BATH'\", \"'ALARM'\", \"'AND'\", \"'GIFT'\", \"'GLOBE'\", \"'RED'\",\n",
       "       \"'BOXES'\", \"'BAG'\", \"'LED'\", \"'2'\", \"'TOWELS'\", \"'JIGSAW'\",\n",
       "       \"'CIRCUS'\", \"'MINI'\", \"'POSTAGE'\", \"'50''S'\", \"'EDWARDIAN'\",\n",
       "       \"'MUG'\", \"'BILLBOARD'\", \"'ANT'\", \"'FINISH'\", \"'ANTIQUE'\", \"'3'\",\n",
       "       \"'PAPER'\", \"'72'\", \"'60'\", \"'PINK'\", \"'CHARLIE+LOLA'\", \"'&'\",\n",
       "       \"'11'\", \"'GIRLY'\", \"'JUMBO'\", \"'AIRLINE'\", \"'CERAMIC'\",\n",
       "       \"'ACRYLIC'\", \"'CLIP'\", \"'CHICKEN'\", \"'BANK'\", \"'CONFUSING'\",\n",
       "       \"'COOK'\", \"'+'\", \"'CHAIN'\", \"'FLOWERS'\", \"'CANDLE'\", \"'JUG'\",\n",
       "       \"'BLACK'\", \"'ART'\", \"'CLOCHE'\", \"'Discount'\", \"'CALCULATOR'\",\n",
       "       \"'GARDEN'\", \"'TIN'\", \"'WICKER'\", \"'COLOUR'\", \"'CHALKBOARD'\",\n",
       "       \"'HEART'\", \"'BIRDCAGE'\", \"'CARD'\", \"'CREAM'\", \"'BUCKET'\", \"'BIN'\",\n",
       "       \"'CHRISTMAS'\", \"'EGG'\", \"'CHILLI'\", \"'BUTTERFILES'\", \"'GARLAND'\",\n",
       "       \"'COTTAGE'\", \"'HOME'\", \"'DOORSTOP'\", \"'DECORATION'\", \"'CANDLES'\",\n",
       "       \"'CARAVAN'\", \"'5'\", \"'10'\", \"'COVER'\", \"'BLACK/BLUE'\", \"'CLOCK'\",\n",
       "       \"'GREEN'\", \"'BALL'\", \"'HOLDER'\", \"'NAPKINS'\", \"'CUPS'\", \"'HAT'\",\n",
       "       \"'DELUXE'\", \"'CUBE'\", \"'12'\", \"'IN'\", \"'ROPE'\", \"'DRAWER'\",\n",
       "       \"'BASKET'\", \"'LAMP'\", \"'BIRTHDAY'\", \"'DESIGN'\", \"'24'\",\n",
       "       \"'CHOCOLATE'\", \"'KIT'\", \"'GLASS'\", \"'BIRD'\", \"'EMBROIDERED'\",\n",
       "       \"'CAKE'\", \"'DOUGHNUT'\", \"'BABUSHKA'\", \"'AM'\", \"'WATER'\",\n",
       "       \"'BOUDOIR'\", \"'CORNICE'\", \"'DOMINOES'\", \"'CROCHET'\", \"'REDS'\",\n",
       "       \"'BALLOONS'\", \"'DINNER'\", \"'4'\", \"'LOOKING'\", \"'BATHROOM'\",\n",
       "       \"'METAL'\", \"'IT'\", \"'HOLIDAY'\", \"'BASIL'\", \"'YOUR'\", \"'20'\", \"'9'\",\n",
       "       \"'APPLE'\", \"'LIGHT'\", \"'JEWELLED'\", \"'HEARTS'\", \"'CANDLEHOLDER'\",\n",
       "       \"'BAROQUE'\", \"'BAROQUECANDLESTICK'\", \"'CLOTH'\", \"'PINKS'\",\n",
       "       \"'BLUES'\", \"'FOOTBALL'\", \"'INVITES'\", \"'BOWLS'\", \"'DINOSAUR'\",\n",
       "       \"'A'\", \"'SKULLS'\", \"'COWBOYS'\", \"'78'\", \"'CAT'\", \"'ANGELS'\",\n",
       "       \"'MAKING'\", \"'500g'\", \"'CHILDRENS'\", \"'CHILDREN''S'\", \"'CUSHION'\",\n",
       "       \"'FLAG'\", \"'BREAKFAST'\", \"'BELL'\", \"'PAISLEY'\", \"'ERASERS'\",\n",
       "       \"'B''FLY'\", \"'JACK'\", \"'AGED'\", \"'BOOM'\", \"'BELLS'\", \"'ANGEL'\",\n",
       "       \"'SNACK'\", \"'PLATE'\", \"'DOLL'\", \"'CASH+CARRY'\", \"'BUTTERFLY'\",\n",
       "       \"'FOLDING'\", \"'CUP'\", \"'CASES'\", \"'BAUBLE'\", \"'REEL'\", \"'SMALL'\",\n",
       "       \"'ADVENT'\", \"'STAR'\", \"'CARDS'\", \"'APRON'\", \"'ANIMALS'\",\n",
       "       \"'DRAWING'\", \"'TO'\", \"'DOLLY'\", \"'CATCH'\", \"'BEACH'\", \"'BOYS'\",\n",
       "       \"'CADDY'\", \"'BISCUIT'\", \"'EMPIRE'\", \"'SWEETHEART'\", \"'GLOVE'\",\n",
       "       \"'INCENSE'\", \"'CLASSICAL'\", \"'BULB'\", \"'CLASSIC'\", \"'DOVE'\",\n",
       "       \"'BROWN'\", \"'FERN'\", \"'CHRYSANTHEMUM'\", \"'CHINESE'\", \"'ETCHED'\",\n",
       "       \"'COOKING'\", \"'CHOICE'\", \"'PLACE'\", \"'FAIRY'\", \"'DIAMANTE'\",\n",
       "       \"'BRACELET'\", \"'AID'\", \"'CANVAS'\", \"'MATCHES'\", \"'3D'\", \"'36'\",\n",
       "       \"'ORANGE'\", \"'TINS'\", \"'DINOSAURS'\", \"'SET'\", \"'BUNTING'\",\n",
       "       \"'BOARD'\", \"'GENTLEMAN'\", \"'''N'''\", \"'ENVELOPES'\", \"'ALPINE'\",\n",
       "       \"'45x45cm'\", \"'TEA'\", \"'BIRDHOUSE'\", \"'CRAZY'\", \"'BED'\", \"'HERB'\",\n",
       "       \"'CHIVES'\", \"'GIANT'\", \"'EASTER'\", \"'CALENDAR'\", \"'-'\", \"'GLOVES'\",\n",
       "       \"'BOWL'\", \"'BAGS'\", \"'DOUBLE'\", \"'CONFETTI'\", \"'16'\", \"'ENGLISH'\",\n",
       "       \"'LARGE'\", \"'ASS'\", \"'IVORY'\", \"'APPLES'\", \"'ENCHANTED'\",\n",
       "       \"'BEAUTIFUL'\", \"'CONFECTIONERY'\", \"'BISCUITS'\", \"'COTTON'\",\n",
       "       \"'JUNK'\", \"'BEURRE'\", \"'COLOURING'\", \"'COOKIE'\", \"'CAN''T'\",\n",
       "       \"'YOU'\", \"'CAN'\", \"'PLEASE'\", \"'PEN'\", \"'DECORATIVE'\", \"'CHEST'\",\n",
       "       \"'BLACK+SILVER'\", \"'FABRIC'\", \"'CANDLEPOT'\", \"'GUMBALL'\",\n",
       "       \"'CHERRY'\", \"'WOOD'\", \"'CHOCOLATECANDLE'\", \"'CABINET'\", \"'IMAGES'\",\n",
       "       \"'CURIOUS'\", \"'BUSY'\", \"'CAMOUFLAGE'\", \"'HELICOPTER'\",\n",
       "       \"'CARRIAGE'\", \"'PONCHO'\", \"'BINGO'\", \"'FRINGE'\", \"'FLORAL'\",\n",
       "       \"'BOHEMIAN'\", \"'CHOC'\", \"'POLKADOTS'\", \"'ALBUM'\", \"'CAFE'\",\n",
       "       \"'MILK'\", \"'CHICK'\", \"'CHOC+BLUE'\", \"'RETROSPOT'\", \"'SPACEBOY'\",\n",
       "       \"'LIPSTICK'\", \"'BUNNY'\", \"'AIR'\", \"'DAISY'\", \"'CHILDS'\", \"'BRUSH'\",\n",
       "       \"'BUNNIES'\", \"'FUN'\", \"'CLAY'\", \"'CARDHOLDER'\", \"'CROQUET'\",\n",
       "       \"'BABY'\", \"'DIVA'\", \"'CONTAINER'\", \"'8'\", \"'CHILDREN'\", \"'60CM'\",\n",
       "       \"'120CM'\", \"'DECORATIONS'\", \"'ENGLAND'\", \"'15C'\", \"'BATHS'\",\n",
       "       \"'HOOK'\", \"'CUPCAKE'\", \"'PINK/PURPLE'\", \"'BLOSSOM'\", \"'50'\",\n",
       "       \"'SET/4'\", \"'15CM'\", \"'CANDLESTICK'\", \"'BEADED'\", \"'DRAGONFLY'\",\n",
       "       \"'21'\", \"'DROP'\", \"'CLUSTER'\", \"'COMB'\", \"'BLING'\", \"'DOTCOM'\",\n",
       "       \"'A5'\", \"'A6'\", \"'A7'\", \"'MOUSE'\", \"'BOBBLES'\", \"'ASSTD'\",\n",
       "       \"'BROCADE'\", \"'INCENSE+FLOWER'\", \"'INCENSE/CANDLE'\",\n",
       "       \"'INCENSE/CANDL'\", \"'INCENSE/CAND'\", \"'BURNER'\", \"'LUGGAGE'\",\n",
       "       \"'CLASS'\", \"'GOLD'\", \"'ABSTRACT'\", \"'ADDRESS'\", \"'ALL'\", \"'DOOR'\",\n",
       "       \"'BEWARE'\", \"'CHART'\", \"'125g'\", \"'250g'\", \"'CANDY'\", \"'PUDDING'\",\n",
       "       \"'PRINT'\", \"',MAGIC'\", \"'LIGHTBULB'\", \"'45x30cm'\", \"'40x40cm'\",\n",
       "       \"'BARRIER'\", \"'FOUR'\", \"'MOD'\", \"'MAGAZINE'\", \"'BOOK'\",\n",
       "       \"'FEATHER'\", \"'AIRMAIL'\", \"'A,B,C'\", \"'GEISHA'\", \"'NEWSPAPER'\",\n",
       "       \"'CHALET'\", \"'Manual'\", \"'BASE'\", \"'GLASS+ZINC'\", \"'20LIGHT'\",\n",
       "       \"'FINE'\", \"'CACTI'\", \"'FUSCHIA'\", \"'KIDS'\", \"'COFFEE'\", \"'HANGER'\",\n",
       "       \"'CONES'\", \"'DREAMS'\", \"'BLOOD'\", \"'CAR'\", \"'LEGS'\", \"'FISHING'\",\n",
       "       \"'BADGES'\", \"'BAIN'\", \"'FRUITS'\", \"'Arouzer'\", \"'FRIDGE'\", \"'BIG'\",\n",
       "       \"'POTTING'\", \"','\", \"'FELT'\", \"'CATS'\", \"'COLLAGE'\", \"'COLANDER'\",\n",
       "       \"'CAST'\", \"'LIVINGROOM'\", \"'BROCANTE'\", \"'CURTAIN'\", \"'FOLKART'\",\n",
       "       \"'CHUNKY'\", \"'BERRIES'\", \"'CAROUSEL'\", \"'A4'\", \"'CORONA'\",\n",
       "       \"'AREA'\", \"'FANNY''S'\", \"'GLAMOUR'\", \"'HOLDERS'\", \"'MIRROR'\",\n",
       "       \"'OF'\", \"'DECOUPAGE'\", \"'FLOWER'\", \"'CRACKED'\", \"'BEAD'\",\n",
       "       \"'CRYSTALS'\", \"'CRYSTAL'\", \"'AMETHYST'\", \"'BROOCH'\", \"'45CM'\",\n",
       "       \"'PURSE'\", \"'COASTER'\", \"'BAMBOO'\", \"'PORCELAIN'\", \"'BAKING'\",\n",
       "       \"'LETTERS'\", \"'JOY'\", \"'35'\", \"'BALLOON'\", \"'BONBON'\", \"'ACCOUNT'\",\n",
       "       \"'EMBOSSED'\", \"'1'\", \"'EN'\", \"'FRAME'\", \"'ELEPHANT'\", \"'DISC'\",\n",
       "       \"'DO'\", \"'TOUCH'\", \"'BOY'\", \"'BEST'\", \"'GLAMOROUS'\", \"'ERASER'\",\n",
       "       \"'FLOCK'\", \"'CLEAR'\", \"'BIRDS'\", \"'200'\", \"'40'\", \"'ARMY'\",\n",
       "       \"'CARROT'\", \"'BLACK+WHITE'\", \"'AMBER'\", \"'GINGHAM'\",\n",
       "       \"'FOOD/DRINK'\", \"'CAKES'\", \"'BOW'\", \"'CUT'\", \"'CLAM'\", \"'COCKLE'\",\n",
       "       \"'DISH'\", \"'FROG'\", \"'HORSE'\", \"'CANDLESTAND'\", \"'OWL'\", \"'Bank'\",\n",
       "       \"'BUTTER'\", \"'ANIMAL'\", \"'CADET'\", \"'CRAFT'\", \"'BURST'\",\n",
       "       \"'BLUE/CREAM'\", \"'CARD,'\", \"'DAIRY'\", \"'KNITTING'\", \"'GREENS'\",\n",
       "       \"'FRYING'\", \"'DOGGY'\", \"'-PAPER'\", \"'FRUIT'\", \"'FOR'\", \"'75'\",\n",
       "       \"'DU'\", \"'LA'\", \"'BEAR'\", \"'BEADS'\", \"'CIRCULAR'\", \"'PLASTIC'\",\n",
       "       \"'COCKEREL'\", \"'DE'\", \"'SHAPE'\", \"'ENAMEL'\", \"'COPPER/OLIVE'\",\n",
       "       \"'FIRE'\", \"'B'\", \"'CARTOON'\", \"'EGGS'\", \"'BUTTERFLIES'\",\n",
       "       \"'STICKERS'\", \"'EIGHT'\", \"'FLU'\", \"'NINJA'\", \"'amazon'\",\n",
       "       \"'CAMPHOR'\", \"'B''DRAW'\", \"'1.8M'\", \"'BONE'\", \"'TREE'\",\n",
       "       \"'MEASURE'\", \"'FRAPPUCINO'\", \"'BLUE/GREEN'\", \"'NECKLACE'\",\n",
       "       \"'EARRINGS'\", \"'BLACK/WHITE'\", \"'?'\", \"'CACTUS'\", \"'BOUQUET'\",\n",
       "       \"'REAM'\", \"'BOX,FUNKY'\", \"'CHILDHOOD'\", \"'CHAIR'\", \"'25W,'\",\n",
       "       \"'FAN'\", \"'CHARM'\", \"'SOMBRERO'\", \"'BITTY'\", \"'CARNIVAL'\",\n",
       "       \"'CHICKS'\", \"'SET/12'\", \"'MOBILE'\", \"'70''S'\", \"'HOUSE'\",\n",
       "       \"'CHECK'\", \"'ASHTRAY'\", \"'CAP'\", \"'FUNKY'\", \"'ECONOMY'\", \"'BIN,'\",\n",
       "       \"'BOTANICAL'\", \"'CHATEAU'\", \"'DECO.WHITE'\", \"'AFGHAN'\", \"'EAR'\",\n",
       "       \"'PAPERWEIGHT'\", \"'JAR'\", \"'CHARGER'\", \"'CHALICE'\", \"'HURRICANE'\",\n",
       "       \"'MICROWAVE'\", \"'CUBES'\", \"'COL'\", \"'FRENCH'\", \"'BUBBLE'\", \"'S/4'\",\n",
       "       \"'FRANGIPANI'\", \"'3.5g'\", \"'VINTAGE'\", \"'CUBIC'\", \"'DAYS'\", \"'0'\",\n",
       "       \"'30CM'\", \"'PARTY'\", \"'DOORBELL'\", \"'BRONZE'\", \"'CRAWLIE'\",\n",
       "       \"'BOOKCOVER'\", \"'65CMx65CM'\", \"'BEA'\", \"'PSYCHEDELIC'\", \"'check'\",\n",
       "       \"'damages'\", \"'DAISIES'\", \"'Cab'\", \"'GOLDFISH'\", \"'TONE'\",\n",
       "       \"'50CM'\", \"'DISC/MIRROR'\", \"'BUDDHA'\", \"'BOUDICCA'\", \"'SAMPLES'\",\n",
       "       \"'AMAZON'\", \"'BUDAH'\", \"'BANQUET'\", \"'DOWN'\", \"'FONT'\",\n",
       "       \"'GARDENERS'\", \"'BASIN'\", \"'BAND'\", \"'I'\", \"'DEC'\", \"'MEDINA'\",\n",
       "       \"'BEAUTY'\", \"'CD'\", \"'FAIR'\", \"'COMPACT'\", \"'POUFFE'\",\n",
       "       \"'*Boombox'\", \"'FROM'\", \"'COCONUT'\", \"'faulty'\", \"'EDGE)'\",\n",
       "       \"'GNOME'\", \"'DANISH'\", \"'ARTIIFCIAL'\", \"'Dotcom'\", \"'GRASS'\",\n",
       "       \"'PENCIL'\", \"'ASST'\", \"'ARTIFICIAL'\", \"'PAINTED'\", \"'DOG'\",\n",
       "       \"'AQUA'\", \"'HIGHLIGHTER'\", \"'DOC'\", \"'LETTER'\", \"'BERTIE'\",\n",
       "       \"'BEDSIDE'\", \"'MR'\", \"'CHOKER'\", \"'BEATEN'\", \"'APERITIF'\",\n",
       "       \"'CANNISTER'\", \"'CHIC'\", \"'MRS'\", \"'JARS'\", \"'CHANDELIER'\",\n",
       "       \"'FLY'\", \"'TIME'\", \"'BLACKBLUE'\", \"'BUS'\", \"'DISCO'\", \"'SETTING'\",\n",
       "       \"'ADE'\", \"'CARLO'\", \"'*USB'\", \"'POLKADOT'\", \"'30CMx30CM'\",\n",
       "       \"'ANEMONE'\", \"'TOYBOX'\", \"'HANDBAG'\", \"'SKULL'\", \"'CARD,SQUARE,'\",\n",
       "       \"'BANNER'\", \"'MOP'\", \"'?40.00'\", \"'Found'\", \"'DARK'\", \"'BEAKER'\",\n",
       "       \"'?50.00'\", \"'CLIPS'\", \"'21/5/10'\", \"'CHEESE'\", \"'CARPET'\",\n",
       "       \"'DAY'\", \"'?30.00'\", \"'?20.00'\", \"'FLAMINGO'\", \"'BAR'\", \"'CITRUS'\",\n",
       "       \"'LIGHTHOUSE'\", \"'JEWELED'\", \"'COMBO'\", \"'away.'\", \"'found'\",\n",
       "       \"'HEN'\", \"'LITTLE'\", \"'counted'\", \"'BLOND'\", \"'SONG'\", \"'BACK'\",\n",
       "       \"'40CM'\", \"'NEST'\", \"'Given'\", \"'FLAMES'\", \"'CABINET,'\", \"'label'\",\n",
       "       \"'samples/damages'\", \"'GOLD/M.O.P'\", \"'NOTEBOOK'\", \"'COLLAR'\",\n",
       "       \"'15'\", \"'BAZAAR'\", \"'HAMMOCK'\", \"'away'\", \"'ICON'\", \"'MADRAS'\",\n",
       "       \"'CIRCLE'\", \"'ALLIUM'\", \"'BLUE/NAT'\", \"'CALM'\", \"'GIRAFFE'\",\n",
       "       \"'REVOLVER'\", \"'PANTRY'\", \"'ASHTRAY,REVOLUTIONARY'\",\n",
       "       \"'DOTCOMGIFTSHOP'\", \"'MURANO'\", \"'OCCUPIED'\", \"'showroom'\",\n",
       "       \"'BILL'\", \"'ABC'\", \"'AMELIE'\", \"'DOLLCRAFT'\", \"'FELTCRAFT'\",\n",
       "       \"'ACAPULCO'\", \"'COASTER,ELVIS'\", \"'MIA'\", \"'Adjustment'\",\n",
       "       \"'?10.00'\", \"'CLOTHES'\", \"'BONBONS'\", \"'as'\", \"'Amazon'\",\n",
       "       \"'dotcom'\", \"'sets'\", \"'?sold'\", \"'RADIO'\", \"'Thrown'\",\n",
       "       \"'damages/display'\", \"'damaged'\", \"'broken'\", \"'(22467)'\",\n",
       "       \"'(22719)'\", \"'BAD'\", \"'CAMO'\", \"'42'\", \"'ICE'\", \"'/'\",\n",
       "       \"'barcode'\", \"'?lost'\", \"'away-can''t'\", \"'CLOSED'\", \"'air'\",\n",
       "       \"'sit'\", \"'damages?'\", \"'GOLDIE'\", \"'6''s'\", \"'in'\", \"'cracked'\",\n",
       "       \"'22467'\", \"'Damaged'\", \"'BARREL'\", \"'1800'\", \"'CHANDLER'\",\n",
       "       \"'DAMAGES'\", \"'CUTLERY'\", \"'DAMAGED'\", \"'DECO'\", \"'a'\", \"'tick'\",\n",
       "       \"'ALUMINIUM'\", \"'COTE'\", \"'GOBLET'\", \"'ANTOIENETT'\", \"'Display'\",\n",
       "       \"'Missing'\", \"'SILVER'\", \"'adjustment'\", \"'returned'\", \"'code?'\",\n",
       "       \"'code'\", \"'PHOTO'\", \"'ENGRAVED'\", \"'adjust'\", \"'34X20CM'\",\n",
       "       \"'REGENCY'\", \"'crushed'\", \"'MULTICOLOUR'\", \"'damages/showroom'\",\n",
       "       \"'samples'\", \"'ASOS.'\", \"'30'\", \"'60x40cm'\", \"'mailout'\",\n",
       "       \"'ANTOINETTE'\", \"'23'\", \"'SIZES'\", \"'10/11/2010'\", \"'JEWELLERY'\",\n",
       "       \"'BON'\", \"'wet/rusty'\", \"'damages/dotcom?'\", \"'cargo'\", \"'FLOWR'\",\n",
       "       \"'smashed'\", \"'CAPIZ'\", \"'47'\", \"'Carriage'\", \"'BLANK'\",\n",
       "       \"'CHERUB'\", \"'Water'\", \"'DOILEY'\", \"'LEAF'\", \"'missing'\", \"'sold'\",\n",
       "       \"'damage'\", \"'DOLPHIN'\", \"'Printing'\", \"'DONKEY'\", \"'APOTHECARY'\",\n",
       "       \"'CRACKLE'\", \"'BONNE'\", \"'order'\", \"'was'\", \"'CORDIAL'\", \"'18PC'\",\n",
       "       \"'6PC'\", \"'HANDLE'\", \"'Samples'\", \"'LIST'\", \"'LEAVES'\", \"'FOUND'\",\n",
       "       \"'c'\", \"'mouldy,'\", \"'FOB'\", \"'CHARGE'\", \"'ARTICULATED'\",\n",
       "       \"'23343'\", \"'20713'\", \"'alan'\", \"'BEADS+HAND'\", \"'NATURAL'\",\n",
       "       \"'NECKLAC'\", \"'BLUE/YELLOW'\", \"'DRESS'\", \"'25x24x12cm'\", \"'FBA'\",\n",
       "       \"'CEATURE'\", \"'FOREST'\", \"'creditted'\", \"'ebay'\", \"'back'\",\n",
       "       \"'Damages/samples'\", \"'?100.00'\", \"'ROLL'\", \"'ADULT'\", \"'JAMPOT'\",\n",
       "       \"'DOILY'\", \"'BOTTLES'\", \"'Adjust'\", \"'BOMB'\", \"'W'\", \"'BUBBLES'\",\n",
       "       \"'CRUK'\", \"'84930'\", \"'?display?'\", \"'?missing'\", \"'BELLE'\",\n",
       "       \"'FOOT'\", \"'BONHEUR'\", \"'BOTANIQUE'\", \"'BLACKBOARD'\", \"'LOLLY'\",\n",
       "       \"'WRAP'\", \"'XMAS'\", \"'Crushed'\", \"'test'\", \"'BACKPACK'\",\n",
       "       \"'allocate'\", \"'CHAMBRE'\", \"'??'\", \"'add'\", \"'for'\", \"'STOCKINGS'\",\n",
       "       \"'17262'\", \"'box'\", \"'!'\", \"'fixed'\", \"'PLAYING'\", \"'Dagamed'\",\n",
       "       \"'CLAIRE'\", \"'DOVECOTE'\", \"'AHOY'\", \"'computer'\", \"'SNOWMAN'\",\n",
       "       \"'Lighthouse'\", \"'Incorrect'\", \"'entry.'\", \"'FEEDING'\",\n",
       "       \"'BASEBALL'\", \"'michel'\", \"'coded-23343'\", \"'ART,ONLY'\",\n",
       "       \"',PUDDINGS'\", \"'boxes'\", \"'WET/MOULDY'\", \"'can''t'\", \"'PURPLE'\",\n",
       "       \"'M.O.P.'\", \"'mouldy'\", \"'MAIDS'\", \"'Wet'\", \"'Had'\", \"'PLANTER'\",\n",
       "       \"'Sale'\", \"'High'\", \"'BRIDGE'\", \"'COVENT'\", \"'BAKER'\", \"'LIGHTS'\",\n",
       "       \"'CAMDEN'\", \"'MIROR'\", \"'GAME'\", \"'FRAMES'\", \"'re-adjustment'\",\n",
       "       \"'Breakages'\", \"'Damages'\", \"'Unsaleable,'\", \"'marked'\", \"'aside'\",\n",
       "       \"'BATTERY'\", \"'ST'\", \"'85123a'\", \"'22804'\", \"'WISE'\", \"'16X16CM'\",\n",
       "       \"'missing?'\", \"'COLOURED'\", \"'rusty'\", \"'THE'\", \"'???lost'\",\n",
       "       \"'dotcomstock'\", \"'John'\", \"'check?'\", \"'pallet'\", \"'????missing'\",\n",
       "       \"'???missing'\", \"'CRATE'\", \"'BICYCLE'\", \"'wet?'\", \"'lost??'\",\n",
       "       \"'???'\", \"'wet'\", \"'????damages????'\", \"'mixed'\", \"'lost'\"],\n",
       "      dtype=object)"
      ]
     },
     "execution_count": 9,
     "metadata": {},
     "output_type": "execute_result"
    }
   ],
   "source": [
    "items = (df['0'].unique())\n",
    "items"
   ]
  },
  {
   "cell_type": "code",
   "execution_count": 13,
   "metadata": {},
   "outputs": [
    {
     "data": {
      "text/plain": [
       "949"
      ]
     },
     "execution_count": 13,
     "metadata": {},
     "output_type": "execute_result"
    }
   ],
   "source": [
    "len(items)"
   ]
  },
  {
   "cell_type": "markdown",
   "metadata": {},
   "source": [
    "######  *There are 949 items in total that make up the entire dataset."
   ]
  },
  {
   "cell_type": "markdown",
   "metadata": {},
   "source": [
    "### Data Preprocessing: "
   ]
  },
  {
   "cell_type": "markdown",
   "metadata": {},
   "source": [
    "To make use of the apriori module given by mlxtend library, we need to convert the dataset according to it’s liking. apriori module requires a dataframe that has either 0 and 1 or True and False as data. The data we have is all string (name of items), we need to One Hot Encode the data."
   ]
  },
  {
   "cell_type": "markdown",
   "metadata": {},
   "source": [
    "##### Custom One Hot Encoding: "
   ]
  },
  {
   "cell_type": "code",
   "execution_count": null,
   "metadata": {},
   "outputs": [],
   "source": [
    "itemset = set(items)\n",
    "encoded_vals = []\n",
    "for index, row in df.iterrows():\n",
    "    rowset = set(row) \n",
    "    labels = {}\n",
    "    uncommons = list(itemset - rowset)\n",
    "    commons = list(itemset.intersection(rowset))\n",
    "    for uc in uncommons:\n",
    "        labels[uc] = 0\n",
    "    for com in commons:\n",
    "        labels[com] = 1\n",
    "    encoded_vals.append(labels)\n",
    "encoded_vals[0]\n",
    "ohe_df = pd.DataFrame(encoded_vals)"
   ]
  },
  {
   "cell_type": "markdown",
   "metadata": {},
   "source": [
    "# Due to my low RAM processing capacity, i could'nt complete the code. apologies from my end. Rest of the code is mentioned below to show my approach towards this problem."
   ]
  },
  {
   "cell_type": "code",
   "execution_count": null,
   "metadata": {},
   "outputs": [],
   "source": [
    "columns_to_keep = [x for x in range(ohe_df.shape[1]) if len(x) > 2 ]"
   ]
  },
  {
   "cell_type": "markdown",
   "metadata": {},
   "source": [
    "### Applying Apriori:"
   ]
  },
  {
   "cell_type": "code",
   "execution_count": 1,
   "metadata": {
    "scrolled": false
   },
   "outputs": [
    {
     "ename": "NameError",
     "evalue": "name 'apriori' is not defined",
     "output_type": "error",
     "traceback": [
      "\u001b[1;31m---------------------------------------------------------------------------\u001b[0m",
      "\u001b[1;31mNameError\u001b[0m                                 Traceback (most recent call last)",
      "\u001b[1;32m<ipython-input-1-5992590fc10c>\u001b[0m in \u001b[0;36m<module>\u001b[1;34m\u001b[0m\n\u001b[1;32m----> 1\u001b[1;33m \u001b[0mfreq_items\u001b[0m \u001b[1;33m=\u001b[0m \u001b[0mapriori\u001b[0m\u001b[1;33m(\u001b[0m\u001b[0mohe_df\u001b[0m\u001b[1;33m,\u001b[0m \u001b[0mmin_support\u001b[0m \u001b[1;33m=\u001b[0m \u001b[1;36m0.0075\u001b[0m\u001b[1;33m,\u001b[0m \u001b[0mmax_len\u001b[0m \u001b[1;33m=\u001b[0m \u001b[1;36m4\u001b[0m\u001b[1;33m,\u001b[0m \u001b[0muse_colnames\u001b[0m\u001b[1;33m=\u001b[0m\u001b[1;32mTrue\u001b[0m\u001b[1;33m,\u001b[0m \u001b[0mverbose\u001b[0m\u001b[1;33m=\u001b[0m\u001b[1;36m1\u001b[0m\u001b[1;33m)\u001b[0m\u001b[1;33m\u001b[0m\u001b[1;33m\u001b[0m\u001b[0m\n\u001b[0m\u001b[0;32m      2\u001b[0m \u001b[0mfreq_items\u001b[0m\u001b[1;33m.\u001b[0m\u001b[0mhead\u001b[0m\u001b[1;33m(\u001b[0m\u001b[1;36m10\u001b[0m\u001b[1;33m)\u001b[0m\u001b[1;33m\u001b[0m\u001b[1;33m\u001b[0m\u001b[0m\n",
      "\u001b[1;31mNameError\u001b[0m: name 'apriori' is not defined"
     ]
    }
   ],
   "source": [
    "freq_items = apriori(ohe_df, min_support = 0.0075, max_len = 4, use_colnames=True, verbose=1)\n",
    "freq_items.head(10)"
   ]
  },
  {
   "cell_type": "markdown",
   "metadata": {},
   "source": [
    "#### Mining Association Rules:"
   ]
  },
  {
   "cell_type": "markdown",
   "metadata": {},
   "source": [
    "#### Most Frequent item sets based on support:"
   ]
  },
  {
   "cell_type": "code",
   "execution_count": 42,
   "metadata": {},
   "outputs": [],
   "source": [
    "freq_items.sort_values('support', ascending = False, inplace = True)"
   ]
  },
  {
   "cell_type": "code",
   "execution_count": null,
   "metadata": {},
   "outputs": [],
   "source": [
    "plt.bar(x = list(range(0, 11)), height = freq_items.support[0:11], color ='rgmyk')\n",
    "plt.xticks(list(range(0, 11)), freq_items.itemsets[0:11], rotation=20)\n",
    "plt.xlabel('item-sets')\n",
    "plt.ylabel('support')\n",
    "plt.rcParams[\"figure.figsize\"]= 20, 10"
   ]
  },
  {
   "cell_type": "markdown",
   "metadata": {},
   "source": [
    "#### Rules:"
   ]
  },
  {
   "cell_type": "code",
   "execution_count": null,
   "metadata": {},
   "outputs": [],
   "source": [
    "rules = association_rules(freq_items, metric = \"lift\", min_threshold = 1)\n",
    "rules.head(20)\n",
    "rules.sort_values('lift', ascending = False).head(10)"
   ]
  },
  {
   "cell_type": "markdown",
   "metadata": {},
   "source": [
    "The result of association analysis shows which item is frequently purchased with other items."
   ]
  },
  {
   "cell_type": "markdown",
   "metadata": {},
   "source": [
    "## Analysis of Rules:"
   ]
  },
  {
   "cell_type": "markdown",
   "metadata": {},
   "source": [
    "### --------------------EXTRA PART-------------------------"
   ]
  },
  {
   "cell_type": "code",
   "execution_count": 31,
   "metadata": {},
   "outputs": [],
   "source": [
    "def to_list(i):\n",
    "    return (sorted(list(i)))"
   ]
  },
  {
   "cell_type": "code",
   "execution_count": 32,
   "metadata": {},
   "outputs": [],
   "source": [
    "ma_X = rules.antecedents.apply(to_list) + rules.consequents.apply(to_list)\n",
    "ma_X = ma_X.apply(sorted)\n",
    "rules_sets = list(ma_X)"
   ]
  },
  {
   "cell_type": "code",
   "execution_count": 33,
   "metadata": {},
   "outputs": [],
   "source": [
    "unique_rules_sets = [list(m) for m in set(tuple(i) for i in rules_sets)]"
   ]
  },
  {
   "cell_type": "code",
   "execution_count": 34,
   "metadata": {},
   "outputs": [],
   "source": [
    "index_rules = []\n",
    "for i in unique_rules_sets:\n",
    "    index_rules.append(rules_sets.index(i))"
   ]
  },
  {
   "cell_type": "markdown",
   "metadata": {},
   "source": [
    "#### Getting rules without any redudancy: "
   ]
  },
  {
   "cell_type": "code",
   "execution_count": 35,
   "metadata": {},
   "outputs": [],
   "source": [
    "rules_no_redudancy = rules.iloc[index_rules, :]"
   ]
  },
  {
   "cell_type": "markdown",
   "metadata": {},
   "source": [
    "#### Sorting them with respect to list and getting top 10 rules:"
   ]
  },
  {
   "cell_type": "code",
   "execution_count": null,
   "metadata": {},
   "outputs": [],
   "source": [
    "rules_no_redudancy.sort_values('lift', ascending = False)"
   ]
  },
  {
   "cell_type": "markdown",
   "metadata": {},
   "source": [
    "##### Recommendations:"
   ]
  }
 ],
 "metadata": {
  "kernelspec": {
   "display_name": "Python 3",
   "language": "python",
   "name": "python3"
  },
  "language_info": {
   "codemirror_mode": {
    "name": "ipython",
    "version": 3
   },
   "file_extension": ".py",
   "mimetype": "text/x-python",
   "name": "python",
   "nbconvert_exporter": "python",
   "pygments_lexer": "ipython3",
   "version": "3.8.3"
  }
 },
 "nbformat": 4,
 "nbformat_minor": 4
}
