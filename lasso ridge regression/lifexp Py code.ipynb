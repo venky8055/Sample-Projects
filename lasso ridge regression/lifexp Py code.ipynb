{
 "cells": [
  {
   "cell_type": "markdown",
   "id": "a5e071d1",
   "metadata": {},
   "source": [
    "# * Kurapati Venkatesh\n",
    "\n",
    "# * 09012021\n",
    "\n",
    "# * Topic: Lasso & Ridge Regression  ✨🐱‍🏍"
   ]
  },
  {
   "cell_type": "markdown",
   "id": "2a7d9eff",
   "metadata": {},
   "source": [
    "# ---------------------------------------------------------------------------"
   ]
  },
  {
   "cell_type": "markdown",
   "id": "30aeb645",
   "metadata": {},
   "source": [
    "## Problem Statement:"
   ]
  },
  {
   "cell_type": "markdown",
   "id": "b2eca843",
   "metadata": {},
   "source": [
    "## Data of various countries and the factors affecting their Life expectancy has been recorded over past few decades. An analytics firm would like to know how it varies country wise and what other factors are influential in model building. Use your skills to analyze the data and build a Lasso and Ridge Regression model and also summarize the output of the model."
   ]
  },
  {
   "cell_type": "markdown",
   "id": "2b539e5a",
   "metadata": {},
   "source": [
    "## -----------------------------------------------------------------------------------"
   ]
  },
  {
   "cell_type": "markdown",
   "id": "27478c5f",
   "metadata": {},
   "source": [
    "### Problem Objective:\n",
    "##### To prepare a prediction model  - To perform the Lasso and Ridge regression on the given data to predict the prices of the gadgets/ Laptops if they wants to sell them."
   ]
  },
  {
   "cell_type": "markdown",
   "id": "f0acedba",
   "metadata": {},
   "source": [
    "## -------------------------------------------------------------------------------------------"
   ]
  },
  {
   "cell_type": "markdown",
   "id": "0cdcbd5d",
   "metadata": {},
   "source": [
    "## import libraries:"
   ]
  },
  {
   "cell_type": "code",
   "execution_count": 25,
   "id": "9af01486",
   "metadata": {},
   "outputs": [],
   "source": [
    "import numpy as np\n",
    "import pandas as pd\n",
    "import matplotlib.pyplot as plt\n",
    "from nose.tools import *\n",
    "from sklearn.model_selection import train_test_split\n",
    "from sklearn.linear_model import LinearRegression\n",
    "from sklearn.model_selection import GridSearchCV\n",
    "from sklearn.metrics import mean_absolute_error, mean_squared_error, r2_score\n",
    "from sklearn.tree import DecisionTreeRegressor\n",
    "from sklearn.ensemble import RandomForestRegressor\n",
    "from sklearn.preprocessing import MinMaxScaler\n",
    "from sklearn.preprocessing import PolynomialFeatures\n",
    "from sklearn.model_selection import KFold\n",
    "from sklearn.model_selection import cross_val_score\n",
    "from sklearn.linear_model import Ridge\n",
    "from sklearn.linear_model import Lasso\n",
    "from sklearn.linear_model import ElasticNet\n",
    "from sklearn.metrics import make_scorer\n",
    "from scipy import stats\n",
    "import seaborn as sns"
   ]
  },
  {
   "cell_type": "markdown",
   "id": "035ff665",
   "metadata": {},
   "source": [
    "## Loading packages:"
   ]
  },
  {
   "cell_type": "markdown",
   "id": "8b5932d3",
   "metadata": {},
   "source": [
    "The following packages have been imported NymPy, Pandas, Matplotlib, Scipy, Seaborn. Sklearn is the most widely used package for the machine learning process. The fallowing subpackages have been used:\n",
    "\n",
    "- train_test_split\n",
    "- linear_model\n",
    "- model_selection\n",
    "- metrics\n",
    "- tree\n",
    "- ensemble\n",
    "- preprocessing"
   ]
  },
  {
   "cell_type": "code",
   "execution_count": 3,
   "id": "b6b32274",
   "metadata": {},
   "outputs": [],
   "source": [
    "life_data = pd.read_csv(r\"G:\\360digit\\assignments meterial\\lasso ridge regression\\Life_expectencey_LR.csv\", sep = ',')"
   ]
  },
  {
   "cell_type": "code",
   "execution_count": 4,
   "id": "87efa5b2",
   "metadata": {},
   "outputs": [],
   "source": [
    "life_data = life_data.drop('Year', axis = 1)"
   ]
  },
  {
   "cell_type": "markdown",
   "id": "544eeeae",
   "metadata": {},
   "source": [
    "## Reading the data:"
   ]
  },
  {
   "cell_type": "markdown",
   "id": "60412331",
   "metadata": {},
   "source": [
    "The data is saved as a csv file as LifeExpectancy.csv and it is read and stored in the life_data variable.The Year column is dropped as it will not be used in the analysis. Below the first 5 rows are shown. The data contains 21 columns and 2938 rows with the header row. The table contains data about:\n",
    "\n",
    "1. Country\n",
    "2. Status\n",
    "3. Life Expectancy\n",
    "4. Adult Mortality\n",
    "5. Alcohol\n",
    "6. percentage expenditure\n",
    "7. Hepatitis B\n",
    "8. Measles\n",
    "9. BMI\n",
    "10. under-five deaths\n",
    "11. Polio\n",
    "12. Total expenditure\n",
    "13. Diphtheria\n",
    "14. HIV/AIDS\n",
    "15. GDP\n",
    "16. Population\n",
    "17. thinness 1-19 years\n",
    "18. thinness 5-9 years\n",
    "19. Income composition of resources\n",
    "20. Schooling\n",
    "\n",
    "\n",
    "With the exclution of Country name and Status(either developed or developing) all of the data is numeric. The values are either in years, precentages, millions or dollars in the case of Gross Domestic Product (GDP)"
   ]
  },
  {
   "cell_type": "code",
   "execution_count": 5,
   "id": "1f9969a0",
   "metadata": {},
   "outputs": [
    {
     "data": {
      "text/html": [
       "<div>\n",
       "<style scoped>\n",
       "    .dataframe tbody tr th:only-of-type {\n",
       "        vertical-align: middle;\n",
       "    }\n",
       "\n",
       "    .dataframe tbody tr th {\n",
       "        vertical-align: top;\n",
       "    }\n",
       "\n",
       "    .dataframe thead th {\n",
       "        text-align: right;\n",
       "    }\n",
       "</style>\n",
       "<table border=\"1\" class=\"dataframe\">\n",
       "  <thead>\n",
       "    <tr style=\"text-align: right;\">\n",
       "      <th></th>\n",
       "      <th>Country</th>\n",
       "      <th>Status</th>\n",
       "      <th>Life_expectancy</th>\n",
       "      <th>Adult_Mortality</th>\n",
       "      <th>infant_deaths</th>\n",
       "      <th>Alcohol</th>\n",
       "      <th>percentage_expenditure</th>\n",
       "      <th>Hepatitis_B</th>\n",
       "      <th>Measles</th>\n",
       "      <th>BMI</th>\n",
       "      <th>...</th>\n",
       "      <th>Polio</th>\n",
       "      <th>Total_expenditure</th>\n",
       "      <th>Diphtheria</th>\n",
       "      <th>HIV_AIDS</th>\n",
       "      <th>GDP</th>\n",
       "      <th>Population</th>\n",
       "      <th>thinness</th>\n",
       "      <th>thinness_yr</th>\n",
       "      <th>Income_composition</th>\n",
       "      <th>Schooling</th>\n",
       "    </tr>\n",
       "  </thead>\n",
       "  <tbody>\n",
       "    <tr>\n",
       "      <th>0</th>\n",
       "      <td>Afghanistan</td>\n",
       "      <td>Developing</td>\n",
       "      <td>65.0</td>\n",
       "      <td>263.0</td>\n",
       "      <td>62</td>\n",
       "      <td>0.01</td>\n",
       "      <td>71.279624</td>\n",
       "      <td>65.0</td>\n",
       "      <td>1154</td>\n",
       "      <td>19.1</td>\n",
       "      <td>...</td>\n",
       "      <td>6.0</td>\n",
       "      <td>8.16</td>\n",
       "      <td>65.0</td>\n",
       "      <td>0.1</td>\n",
       "      <td>584.259210</td>\n",
       "      <td>33736494.0</td>\n",
       "      <td>17.2</td>\n",
       "      <td>17.3</td>\n",
       "      <td>0.479</td>\n",
       "      <td>10.1</td>\n",
       "    </tr>\n",
       "    <tr>\n",
       "      <th>1</th>\n",
       "      <td>Afghanistan</td>\n",
       "      <td>Developing</td>\n",
       "      <td>59.9</td>\n",
       "      <td>271.0</td>\n",
       "      <td>64</td>\n",
       "      <td>0.01</td>\n",
       "      <td>73.523582</td>\n",
       "      <td>62.0</td>\n",
       "      <td>492</td>\n",
       "      <td>18.6</td>\n",
       "      <td>...</td>\n",
       "      <td>58.0</td>\n",
       "      <td>8.18</td>\n",
       "      <td>62.0</td>\n",
       "      <td>0.1</td>\n",
       "      <td>612.696514</td>\n",
       "      <td>327582.0</td>\n",
       "      <td>17.5</td>\n",
       "      <td>17.5</td>\n",
       "      <td>0.476</td>\n",
       "      <td>10.0</td>\n",
       "    </tr>\n",
       "    <tr>\n",
       "      <th>2</th>\n",
       "      <td>Afghanistan</td>\n",
       "      <td>Developing</td>\n",
       "      <td>59.9</td>\n",
       "      <td>268.0</td>\n",
       "      <td>66</td>\n",
       "      <td>0.01</td>\n",
       "      <td>73.219243</td>\n",
       "      <td>64.0</td>\n",
       "      <td>430</td>\n",
       "      <td>18.1</td>\n",
       "      <td>...</td>\n",
       "      <td>62.0</td>\n",
       "      <td>8.13</td>\n",
       "      <td>64.0</td>\n",
       "      <td>0.1</td>\n",
       "      <td>631.744976</td>\n",
       "      <td>31731688.0</td>\n",
       "      <td>17.7</td>\n",
       "      <td>17.7</td>\n",
       "      <td>0.470</td>\n",
       "      <td>9.9</td>\n",
       "    </tr>\n",
       "    <tr>\n",
       "      <th>3</th>\n",
       "      <td>Afghanistan</td>\n",
       "      <td>Developing</td>\n",
       "      <td>59.5</td>\n",
       "      <td>272.0</td>\n",
       "      <td>69</td>\n",
       "      <td>0.01</td>\n",
       "      <td>78.184215</td>\n",
       "      <td>67.0</td>\n",
       "      <td>2787</td>\n",
       "      <td>17.6</td>\n",
       "      <td>...</td>\n",
       "      <td>67.0</td>\n",
       "      <td>8.52</td>\n",
       "      <td>67.0</td>\n",
       "      <td>0.1</td>\n",
       "      <td>669.959000</td>\n",
       "      <td>3696958.0</td>\n",
       "      <td>17.9</td>\n",
       "      <td>18.0</td>\n",
       "      <td>0.463</td>\n",
       "      <td>9.8</td>\n",
       "    </tr>\n",
       "    <tr>\n",
       "      <th>4</th>\n",
       "      <td>Afghanistan</td>\n",
       "      <td>Developing</td>\n",
       "      <td>59.2</td>\n",
       "      <td>275.0</td>\n",
       "      <td>71</td>\n",
       "      <td>0.01</td>\n",
       "      <td>7.097109</td>\n",
       "      <td>68.0</td>\n",
       "      <td>3013</td>\n",
       "      <td>17.2</td>\n",
       "      <td>...</td>\n",
       "      <td>68.0</td>\n",
       "      <td>7.87</td>\n",
       "      <td>68.0</td>\n",
       "      <td>0.1</td>\n",
       "      <td>63.537231</td>\n",
       "      <td>2978599.0</td>\n",
       "      <td>18.2</td>\n",
       "      <td>18.2</td>\n",
       "      <td>0.454</td>\n",
       "      <td>9.5</td>\n",
       "    </tr>\n",
       "  </tbody>\n",
       "</table>\n",
       "<p>5 rows × 21 columns</p>\n",
       "</div>"
      ],
      "text/plain": [
       "       Country      Status  Life_expectancy  Adult_Mortality  infant_deaths  \\\n",
       "0  Afghanistan  Developing             65.0            263.0             62   \n",
       "1  Afghanistan  Developing             59.9            271.0             64   \n",
       "2  Afghanistan  Developing             59.9            268.0             66   \n",
       "3  Afghanistan  Developing             59.5            272.0             69   \n",
       "4  Afghanistan  Developing             59.2            275.0             71   \n",
       "\n",
       "   Alcohol  percentage_expenditure  Hepatitis_B  Measles   BMI  ...  Polio  \\\n",
       "0     0.01               71.279624         65.0     1154  19.1  ...    6.0   \n",
       "1     0.01               73.523582         62.0      492  18.6  ...   58.0   \n",
       "2     0.01               73.219243         64.0      430  18.1  ...   62.0   \n",
       "3     0.01               78.184215         67.0     2787  17.6  ...   67.0   \n",
       "4     0.01                7.097109         68.0     3013  17.2  ...   68.0   \n",
       "\n",
       "   Total_expenditure  Diphtheria  HIV_AIDS         GDP  Population  thinness  \\\n",
       "0               8.16        65.0       0.1  584.259210  33736494.0      17.2   \n",
       "1               8.18        62.0       0.1  612.696514    327582.0      17.5   \n",
       "2               8.13        64.0       0.1  631.744976  31731688.0      17.7   \n",
       "3               8.52        67.0       0.1  669.959000   3696958.0      17.9   \n",
       "4               7.87        68.0       0.1   63.537231   2978599.0      18.2   \n",
       "\n",
       "   thinness_yr  Income_composition  Schooling  \n",
       "0         17.3               0.479       10.1  \n",
       "1         17.5               0.476       10.0  \n",
       "2         17.7               0.470        9.9  \n",
       "3         18.0               0.463        9.8  \n",
       "4         18.2               0.454        9.5  \n",
       "\n",
       "[5 rows x 21 columns]"
      ]
     },
     "execution_count": 5,
     "metadata": {},
     "output_type": "execute_result"
    }
   ],
   "source": [
    "life_data.head()"
   ]
  },
  {
   "cell_type": "code",
   "execution_count": 6,
   "id": "393b7699",
   "metadata": {},
   "outputs": [],
   "source": [
    "status = pd.get_dummies(life_data.Status)"
   ]
  },
  {
   "cell_type": "code",
   "execution_count": 7,
   "id": "5f8e1080",
   "metadata": {},
   "outputs": [],
   "source": [
    "life_data = pd.concat([life_data, status], axis = 1)"
   ]
  },
  {
   "cell_type": "code",
   "execution_count": 8,
   "id": "0e4a6aa5",
   "metadata": {},
   "outputs": [],
   "source": [
    "life_data = life_data.drop(['Status'], axis=1)"
   ]
  },
  {
   "cell_type": "code",
   "execution_count": 9,
   "id": "126ec4f1",
   "metadata": {},
   "outputs": [
    {
     "data": {
      "text/html": [
       "<div>\n",
       "<style scoped>\n",
       "    .dataframe tbody tr th:only-of-type {\n",
       "        vertical-align: middle;\n",
       "    }\n",
       "\n",
       "    .dataframe tbody tr th {\n",
       "        vertical-align: top;\n",
       "    }\n",
       "\n",
       "    .dataframe thead th {\n",
       "        text-align: right;\n",
       "    }\n",
       "</style>\n",
       "<table border=\"1\" class=\"dataframe\">\n",
       "  <thead>\n",
       "    <tr style=\"text-align: right;\">\n",
       "      <th></th>\n",
       "      <th>Country</th>\n",
       "      <th>Life_expectancy</th>\n",
       "      <th>Adult_Mortality</th>\n",
       "      <th>infant_deaths</th>\n",
       "      <th>Alcohol</th>\n",
       "      <th>percentage_expenditure</th>\n",
       "      <th>Hepatitis_B</th>\n",
       "      <th>Measles</th>\n",
       "      <th>BMI</th>\n",
       "      <th>under_five_deaths</th>\n",
       "      <th>...</th>\n",
       "      <th>Diphtheria</th>\n",
       "      <th>HIV_AIDS</th>\n",
       "      <th>GDP</th>\n",
       "      <th>Population</th>\n",
       "      <th>thinness</th>\n",
       "      <th>thinness_yr</th>\n",
       "      <th>Income_composition</th>\n",
       "      <th>Schooling</th>\n",
       "      <th>1</th>\n",
       "      <th>Developing</th>\n",
       "    </tr>\n",
       "  </thead>\n",
       "  <tbody>\n",
       "    <tr>\n",
       "      <th>0</th>\n",
       "      <td>Afghanistan</td>\n",
       "      <td>65.0</td>\n",
       "      <td>263.0</td>\n",
       "      <td>62</td>\n",
       "      <td>0.01</td>\n",
       "      <td>71.279624</td>\n",
       "      <td>65.0</td>\n",
       "      <td>1154</td>\n",
       "      <td>19.1</td>\n",
       "      <td>83</td>\n",
       "      <td>...</td>\n",
       "      <td>65.0</td>\n",
       "      <td>0.1</td>\n",
       "      <td>584.259210</td>\n",
       "      <td>33736494.0</td>\n",
       "      <td>17.2</td>\n",
       "      <td>17.3</td>\n",
       "      <td>0.479</td>\n",
       "      <td>10.1</td>\n",
       "      <td>0</td>\n",
       "      <td>1</td>\n",
       "    </tr>\n",
       "    <tr>\n",
       "      <th>1</th>\n",
       "      <td>Afghanistan</td>\n",
       "      <td>59.9</td>\n",
       "      <td>271.0</td>\n",
       "      <td>64</td>\n",
       "      <td>0.01</td>\n",
       "      <td>73.523582</td>\n",
       "      <td>62.0</td>\n",
       "      <td>492</td>\n",
       "      <td>18.6</td>\n",
       "      <td>86</td>\n",
       "      <td>...</td>\n",
       "      <td>62.0</td>\n",
       "      <td>0.1</td>\n",
       "      <td>612.696514</td>\n",
       "      <td>327582.0</td>\n",
       "      <td>17.5</td>\n",
       "      <td>17.5</td>\n",
       "      <td>0.476</td>\n",
       "      <td>10.0</td>\n",
       "      <td>0</td>\n",
       "      <td>1</td>\n",
       "    </tr>\n",
       "    <tr>\n",
       "      <th>2</th>\n",
       "      <td>Afghanistan</td>\n",
       "      <td>59.9</td>\n",
       "      <td>268.0</td>\n",
       "      <td>66</td>\n",
       "      <td>0.01</td>\n",
       "      <td>73.219243</td>\n",
       "      <td>64.0</td>\n",
       "      <td>430</td>\n",
       "      <td>18.1</td>\n",
       "      <td>89</td>\n",
       "      <td>...</td>\n",
       "      <td>64.0</td>\n",
       "      <td>0.1</td>\n",
       "      <td>631.744976</td>\n",
       "      <td>31731688.0</td>\n",
       "      <td>17.7</td>\n",
       "      <td>17.7</td>\n",
       "      <td>0.470</td>\n",
       "      <td>9.9</td>\n",
       "      <td>0</td>\n",
       "      <td>1</td>\n",
       "    </tr>\n",
       "    <tr>\n",
       "      <th>3</th>\n",
       "      <td>Afghanistan</td>\n",
       "      <td>59.5</td>\n",
       "      <td>272.0</td>\n",
       "      <td>69</td>\n",
       "      <td>0.01</td>\n",
       "      <td>78.184215</td>\n",
       "      <td>67.0</td>\n",
       "      <td>2787</td>\n",
       "      <td>17.6</td>\n",
       "      <td>93</td>\n",
       "      <td>...</td>\n",
       "      <td>67.0</td>\n",
       "      <td>0.1</td>\n",
       "      <td>669.959000</td>\n",
       "      <td>3696958.0</td>\n",
       "      <td>17.9</td>\n",
       "      <td>18.0</td>\n",
       "      <td>0.463</td>\n",
       "      <td>9.8</td>\n",
       "      <td>0</td>\n",
       "      <td>1</td>\n",
       "    </tr>\n",
       "    <tr>\n",
       "      <th>4</th>\n",
       "      <td>Afghanistan</td>\n",
       "      <td>59.2</td>\n",
       "      <td>275.0</td>\n",
       "      <td>71</td>\n",
       "      <td>0.01</td>\n",
       "      <td>7.097109</td>\n",
       "      <td>68.0</td>\n",
       "      <td>3013</td>\n",
       "      <td>17.2</td>\n",
       "      <td>97</td>\n",
       "      <td>...</td>\n",
       "      <td>68.0</td>\n",
       "      <td>0.1</td>\n",
       "      <td>63.537231</td>\n",
       "      <td>2978599.0</td>\n",
       "      <td>18.2</td>\n",
       "      <td>18.2</td>\n",
       "      <td>0.454</td>\n",
       "      <td>9.5</td>\n",
       "      <td>0</td>\n",
       "      <td>1</td>\n",
       "    </tr>\n",
       "    <tr>\n",
       "      <th>...</th>\n",
       "      <td>...</td>\n",
       "      <td>...</td>\n",
       "      <td>...</td>\n",
       "      <td>...</td>\n",
       "      <td>...</td>\n",
       "      <td>...</td>\n",
       "      <td>...</td>\n",
       "      <td>...</td>\n",
       "      <td>...</td>\n",
       "      <td>...</td>\n",
       "      <td>...</td>\n",
       "      <td>...</td>\n",
       "      <td>...</td>\n",
       "      <td>...</td>\n",
       "      <td>...</td>\n",
       "      <td>...</td>\n",
       "      <td>...</td>\n",
       "      <td>...</td>\n",
       "      <td>...</td>\n",
       "      <td>...</td>\n",
       "      <td>...</td>\n",
       "    </tr>\n",
       "    <tr>\n",
       "      <th>2933</th>\n",
       "      <td>Zimbabwe</td>\n",
       "      <td>44.3</td>\n",
       "      <td>723.0</td>\n",
       "      <td>27</td>\n",
       "      <td>4.36</td>\n",
       "      <td>0.000000</td>\n",
       "      <td>68.0</td>\n",
       "      <td>31</td>\n",
       "      <td>27.1</td>\n",
       "      <td>42</td>\n",
       "      <td>...</td>\n",
       "      <td>65.0</td>\n",
       "      <td>33.6</td>\n",
       "      <td>454.366654</td>\n",
       "      <td>12777511.0</td>\n",
       "      <td>9.4</td>\n",
       "      <td>9.4</td>\n",
       "      <td>0.407</td>\n",
       "      <td>9.2</td>\n",
       "      <td>0</td>\n",
       "      <td>1</td>\n",
       "    </tr>\n",
       "    <tr>\n",
       "      <th>2934</th>\n",
       "      <td>Zimbabwe</td>\n",
       "      <td>44.5</td>\n",
       "      <td>715.0</td>\n",
       "      <td>26</td>\n",
       "      <td>4.06</td>\n",
       "      <td>0.000000</td>\n",
       "      <td>7.0</td>\n",
       "      <td>998</td>\n",
       "      <td>26.7</td>\n",
       "      <td>41</td>\n",
       "      <td>...</td>\n",
       "      <td>68.0</td>\n",
       "      <td>36.7</td>\n",
       "      <td>453.351155</td>\n",
       "      <td>12633897.0</td>\n",
       "      <td>9.8</td>\n",
       "      <td>9.9</td>\n",
       "      <td>0.418</td>\n",
       "      <td>9.5</td>\n",
       "      <td>0</td>\n",
       "      <td>1</td>\n",
       "    </tr>\n",
       "    <tr>\n",
       "      <th>2935</th>\n",
       "      <td>Zimbabwe</td>\n",
       "      <td>44.8</td>\n",
       "      <td>73.0</td>\n",
       "      <td>25</td>\n",
       "      <td>4.43</td>\n",
       "      <td>0.000000</td>\n",
       "      <td>73.0</td>\n",
       "      <td>304</td>\n",
       "      <td>26.3</td>\n",
       "      <td>40</td>\n",
       "      <td>...</td>\n",
       "      <td>71.0</td>\n",
       "      <td>39.8</td>\n",
       "      <td>57.348340</td>\n",
       "      <td>125525.0</td>\n",
       "      <td>1.2</td>\n",
       "      <td>1.3</td>\n",
       "      <td>0.427</td>\n",
       "      <td>10.0</td>\n",
       "      <td>0</td>\n",
       "      <td>1</td>\n",
       "    </tr>\n",
       "    <tr>\n",
       "      <th>2936</th>\n",
       "      <td>Zimbabwe</td>\n",
       "      <td>45.3</td>\n",
       "      <td>686.0</td>\n",
       "      <td>25</td>\n",
       "      <td>1.72</td>\n",
       "      <td>0.000000</td>\n",
       "      <td>76.0</td>\n",
       "      <td>529</td>\n",
       "      <td>25.9</td>\n",
       "      <td>39</td>\n",
       "      <td>...</td>\n",
       "      <td>75.0</td>\n",
       "      <td>42.1</td>\n",
       "      <td>548.587312</td>\n",
       "      <td>12366165.0</td>\n",
       "      <td>1.6</td>\n",
       "      <td>1.7</td>\n",
       "      <td>0.427</td>\n",
       "      <td>9.8</td>\n",
       "      <td>0</td>\n",
       "      <td>1</td>\n",
       "    </tr>\n",
       "    <tr>\n",
       "      <th>2937</th>\n",
       "      <td>Zimbabwe</td>\n",
       "      <td>46.0</td>\n",
       "      <td>665.0</td>\n",
       "      <td>24</td>\n",
       "      <td>1.68</td>\n",
       "      <td>0.000000</td>\n",
       "      <td>79.0</td>\n",
       "      <td>1483</td>\n",
       "      <td>25.5</td>\n",
       "      <td>39</td>\n",
       "      <td>...</td>\n",
       "      <td>78.0</td>\n",
       "      <td>43.5</td>\n",
       "      <td>547.358878</td>\n",
       "      <td>12222251.0</td>\n",
       "      <td>11.0</td>\n",
       "      <td>11.2</td>\n",
       "      <td>0.434</td>\n",
       "      <td>9.8</td>\n",
       "      <td>0</td>\n",
       "      <td>1</td>\n",
       "    </tr>\n",
       "  </tbody>\n",
       "</table>\n",
       "<p>2938 rows × 22 columns</p>\n",
       "</div>"
      ],
      "text/plain": [
       "          Country  Life_expectancy  Adult_Mortality  infant_deaths  Alcohol  \\\n",
       "0     Afghanistan             65.0            263.0             62     0.01   \n",
       "1     Afghanistan             59.9            271.0             64     0.01   \n",
       "2     Afghanistan             59.9            268.0             66     0.01   \n",
       "3     Afghanistan             59.5            272.0             69     0.01   \n",
       "4     Afghanistan             59.2            275.0             71     0.01   \n",
       "...           ...              ...              ...            ...      ...   \n",
       "2933     Zimbabwe             44.3            723.0             27     4.36   \n",
       "2934     Zimbabwe             44.5            715.0             26     4.06   \n",
       "2935     Zimbabwe             44.8             73.0             25     4.43   \n",
       "2936     Zimbabwe             45.3            686.0             25     1.72   \n",
       "2937     Zimbabwe             46.0            665.0             24     1.68   \n",
       "\n",
       "      percentage_expenditure  Hepatitis_B  Measles   BMI  under_five_deaths  \\\n",
       "0                  71.279624         65.0     1154  19.1                 83   \n",
       "1                  73.523582         62.0      492  18.6                 86   \n",
       "2                  73.219243         64.0      430  18.1                 89   \n",
       "3                  78.184215         67.0     2787  17.6                 93   \n",
       "4                   7.097109         68.0     3013  17.2                 97   \n",
       "...                      ...          ...      ...   ...                ...   \n",
       "2933                0.000000         68.0       31  27.1                 42   \n",
       "2934                0.000000          7.0      998  26.7                 41   \n",
       "2935                0.000000         73.0      304  26.3                 40   \n",
       "2936                0.000000         76.0      529  25.9                 39   \n",
       "2937                0.000000         79.0     1483  25.5                 39   \n",
       "\n",
       "      ...  Diphtheria  HIV_AIDS         GDP  Population  thinness  \\\n",
       "0     ...        65.0       0.1  584.259210  33736494.0      17.2   \n",
       "1     ...        62.0       0.1  612.696514    327582.0      17.5   \n",
       "2     ...        64.0       0.1  631.744976  31731688.0      17.7   \n",
       "3     ...        67.0       0.1  669.959000   3696958.0      17.9   \n",
       "4     ...        68.0       0.1   63.537231   2978599.0      18.2   \n",
       "...   ...         ...       ...         ...         ...       ...   \n",
       "2933  ...        65.0      33.6  454.366654  12777511.0       9.4   \n",
       "2934  ...        68.0      36.7  453.351155  12633897.0       9.8   \n",
       "2935  ...        71.0      39.8   57.348340    125525.0       1.2   \n",
       "2936  ...        75.0      42.1  548.587312  12366165.0       1.6   \n",
       "2937  ...        78.0      43.5  547.358878  12222251.0      11.0   \n",
       "\n",
       "      thinness_yr  Income_composition  Schooling  1  Developing  \n",
       "0            17.3               0.479       10.1  0           1  \n",
       "1            17.5               0.476       10.0  0           1  \n",
       "2            17.7               0.470        9.9  0           1  \n",
       "3            18.0               0.463        9.8  0           1  \n",
       "4            18.2               0.454        9.5  0           1  \n",
       "...           ...                 ...        ... ..         ...  \n",
       "2933          9.4               0.407        9.2  0           1  \n",
       "2934          9.9               0.418        9.5  0           1  \n",
       "2935          1.3               0.427       10.0  0           1  \n",
       "2936          1.7               0.427        9.8  0           1  \n",
       "2937         11.2               0.434        9.8  0           1  \n",
       "\n",
       "[2938 rows x 22 columns]"
      ]
     },
     "execution_count": 9,
     "metadata": {},
     "output_type": "execute_result"
    }
   ],
   "source": [
    "life_data.rename(columns = {'Deloping' : '0', 'Developed' : 1})"
   ]
  },
  {
   "cell_type": "code",
   "execution_count": 10,
   "id": "a06627b8",
   "metadata": {},
   "outputs": [],
   "source": [
    "life_data = life_data.groupby('Country').mean()"
   ]
  },
  {
   "cell_type": "code",
   "execution_count": 11,
   "id": "309c36bb",
   "metadata": {},
   "outputs": [
    {
     "data": {
      "text/html": [
       "<div>\n",
       "<style scoped>\n",
       "    .dataframe tbody tr th:only-of-type {\n",
       "        vertical-align: middle;\n",
       "    }\n",
       "\n",
       "    .dataframe tbody tr th {\n",
       "        vertical-align: top;\n",
       "    }\n",
       "\n",
       "    .dataframe thead th {\n",
       "        text-align: right;\n",
       "    }\n",
       "</style>\n",
       "<table border=\"1\" class=\"dataframe\">\n",
       "  <thead>\n",
       "    <tr style=\"text-align: right;\">\n",
       "      <th></th>\n",
       "      <th>Life_expectancy</th>\n",
       "      <th>Adult_Mortality</th>\n",
       "      <th>infant_deaths</th>\n",
       "      <th>Alcohol</th>\n",
       "      <th>percentage_expenditure</th>\n",
       "      <th>Hepatitis_B</th>\n",
       "      <th>Measles</th>\n",
       "      <th>BMI</th>\n",
       "      <th>under_five_deaths</th>\n",
       "      <th>Polio</th>\n",
       "      <th>...</th>\n",
       "      <th>Diphtheria</th>\n",
       "      <th>HIV_AIDS</th>\n",
       "      <th>GDP</th>\n",
       "      <th>Population</th>\n",
       "      <th>thinness</th>\n",
       "      <th>thinness_yr</th>\n",
       "      <th>Income_composition</th>\n",
       "      <th>Schooling</th>\n",
       "      <th>Developed</th>\n",
       "      <th>Developing</th>\n",
       "    </tr>\n",
       "    <tr>\n",
       "      <th>Country</th>\n",
       "      <th></th>\n",
       "      <th></th>\n",
       "      <th></th>\n",
       "      <th></th>\n",
       "      <th></th>\n",
       "      <th></th>\n",
       "      <th></th>\n",
       "      <th></th>\n",
       "      <th></th>\n",
       "      <th></th>\n",
       "      <th></th>\n",
       "      <th></th>\n",
       "      <th></th>\n",
       "      <th></th>\n",
       "      <th></th>\n",
       "      <th></th>\n",
       "      <th></th>\n",
       "      <th></th>\n",
       "      <th></th>\n",
       "      <th></th>\n",
       "      <th></th>\n",
       "    </tr>\n",
       "  </thead>\n",
       "  <tbody>\n",
       "    <tr>\n",
       "      <th>Afghanistan</th>\n",
       "      <td>58.19375</td>\n",
       "      <td>269.0625</td>\n",
       "      <td>78.2500</td>\n",
       "      <td>0.014375</td>\n",
       "      <td>34.960110</td>\n",
       "      <td>64.562500</td>\n",
       "      <td>2362.2500</td>\n",
       "      <td>15.51875</td>\n",
       "      <td>107.5625</td>\n",
       "      <td>48.3750</td>\n",
       "      <td>...</td>\n",
       "      <td>52.3125</td>\n",
       "      <td>0.10000</td>\n",
       "      <td>340.015425</td>\n",
       "      <td>9.972260e+06</td>\n",
       "      <td>16.58125</td>\n",
       "      <td>15.58125</td>\n",
       "      <td>0.415375</td>\n",
       "      <td>8.21250</td>\n",
       "      <td>0</td>\n",
       "      <td>1</td>\n",
       "    </tr>\n",
       "    <tr>\n",
       "      <th>Albania</th>\n",
       "      <td>75.15625</td>\n",
       "      <td>45.0625</td>\n",
       "      <td>0.6875</td>\n",
       "      <td>4.848750</td>\n",
       "      <td>193.259091</td>\n",
       "      <td>98.000000</td>\n",
       "      <td>53.3750</td>\n",
       "      <td>49.06875</td>\n",
       "      <td>0.9375</td>\n",
       "      <td>98.1250</td>\n",
       "      <td>...</td>\n",
       "      <td>98.0625</td>\n",
       "      <td>0.10000</td>\n",
       "      <td>2119.726679</td>\n",
       "      <td>6.969116e+05</td>\n",
       "      <td>1.61875</td>\n",
       "      <td>1.70000</td>\n",
       "      <td>0.709875</td>\n",
       "      <td>12.13750</td>\n",
       "      <td>0</td>\n",
       "      <td>1</td>\n",
       "    </tr>\n",
       "    <tr>\n",
       "      <th>Algeria</th>\n",
       "      <td>73.61875</td>\n",
       "      <td>108.1875</td>\n",
       "      <td>20.3125</td>\n",
       "      <td>0.406667</td>\n",
       "      <td>236.185241</td>\n",
       "      <td>78.000000</td>\n",
       "      <td>1943.8750</td>\n",
       "      <td>48.74375</td>\n",
       "      <td>23.5000</td>\n",
       "      <td>91.7500</td>\n",
       "      <td>...</td>\n",
       "      <td>91.8750</td>\n",
       "      <td>0.10000</td>\n",
       "      <td>2847.853392</td>\n",
       "      <td>2.164983e+07</td>\n",
       "      <td>6.09375</td>\n",
       "      <td>5.97500</td>\n",
       "      <td>0.694875</td>\n",
       "      <td>12.71250</td>\n",
       "      <td>0</td>\n",
       "      <td>1</td>\n",
       "    </tr>\n",
       "    <tr>\n",
       "      <th>Angola</th>\n",
       "      <td>49.01875</td>\n",
       "      <td>328.5625</td>\n",
       "      <td>83.7500</td>\n",
       "      <td>5.740667</td>\n",
       "      <td>102.100268</td>\n",
       "      <td>70.222222</td>\n",
       "      <td>3561.3125</td>\n",
       "      <td>18.01875</td>\n",
       "      <td>132.6250</td>\n",
       "      <td>46.1250</td>\n",
       "      <td>...</td>\n",
       "      <td>47.6875</td>\n",
       "      <td>2.36875</td>\n",
       "      <td>1975.143045</td>\n",
       "      <td>1.014710e+07</td>\n",
       "      <td>6.19375</td>\n",
       "      <td>6.66875</td>\n",
       "      <td>0.458375</td>\n",
       "      <td>8.04375</td>\n",
       "      <td>0</td>\n",
       "      <td>1</td>\n",
       "    </tr>\n",
       "    <tr>\n",
       "      <th>Antigua and Barbuda</th>\n",
       "      <td>75.05625</td>\n",
       "      <td>127.5000</td>\n",
       "      <td>0.0000</td>\n",
       "      <td>7.949333</td>\n",
       "      <td>1001.585226</td>\n",
       "      <td>98.266667</td>\n",
       "      <td>0.0000</td>\n",
       "      <td>38.42500</td>\n",
       "      <td>0.0000</td>\n",
       "      <td>96.9375</td>\n",
       "      <td>...</td>\n",
       "      <td>98.3125</td>\n",
       "      <td>0.12500</td>\n",
       "      <td>9759.305728</td>\n",
       "      <td>NaN</td>\n",
       "      <td>3.42500</td>\n",
       "      <td>3.37500</td>\n",
       "      <td>0.488625</td>\n",
       "      <td>8.84375</td>\n",
       "      <td>0</td>\n",
       "      <td>1</td>\n",
       "    </tr>\n",
       "  </tbody>\n",
       "</table>\n",
       "<p>5 rows × 21 columns</p>\n",
       "</div>"
      ],
      "text/plain": [
       "                     Life_expectancy  Adult_Mortality  infant_deaths  \\\n",
       "Country                                                                \n",
       "Afghanistan                 58.19375         269.0625        78.2500   \n",
       "Albania                     75.15625          45.0625         0.6875   \n",
       "Algeria                     73.61875         108.1875        20.3125   \n",
       "Angola                      49.01875         328.5625        83.7500   \n",
       "Antigua and Barbuda         75.05625         127.5000         0.0000   \n",
       "\n",
       "                      Alcohol  percentage_expenditure  Hepatitis_B    Measles  \\\n",
       "Country                                                                         \n",
       "Afghanistan          0.014375               34.960110    64.562500  2362.2500   \n",
       "Albania              4.848750              193.259091    98.000000    53.3750   \n",
       "Algeria              0.406667              236.185241    78.000000  1943.8750   \n",
       "Angola               5.740667              102.100268    70.222222  3561.3125   \n",
       "Antigua and Barbuda  7.949333             1001.585226    98.266667     0.0000   \n",
       "\n",
       "                          BMI  under_five_deaths    Polio  ...  Diphtheria  \\\n",
       "Country                                                    ...               \n",
       "Afghanistan          15.51875           107.5625  48.3750  ...     52.3125   \n",
       "Albania              49.06875             0.9375  98.1250  ...     98.0625   \n",
       "Algeria              48.74375            23.5000  91.7500  ...     91.8750   \n",
       "Angola               18.01875           132.6250  46.1250  ...     47.6875   \n",
       "Antigua and Barbuda  38.42500             0.0000  96.9375  ...     98.3125   \n",
       "\n",
       "                     HIV_AIDS          GDP    Population  thinness  \\\n",
       "Country                                                              \n",
       "Afghanistan           0.10000   340.015425  9.972260e+06  16.58125   \n",
       "Albania               0.10000  2119.726679  6.969116e+05   1.61875   \n",
       "Algeria               0.10000  2847.853392  2.164983e+07   6.09375   \n",
       "Angola                2.36875  1975.143045  1.014710e+07   6.19375   \n",
       "Antigua and Barbuda   0.12500  9759.305728           NaN   3.42500   \n",
       "\n",
       "                     thinness_yr  Income_composition  Schooling  Developed  \\\n",
       "Country                                                                      \n",
       "Afghanistan             15.58125            0.415375    8.21250          0   \n",
       "Albania                  1.70000            0.709875   12.13750          0   \n",
       "Algeria                  5.97500            0.694875   12.71250          0   \n",
       "Angola                   6.66875            0.458375    8.04375          0   \n",
       "Antigua and Barbuda      3.37500            0.488625    8.84375          0   \n",
       "\n",
       "                     Developing  \n",
       "Country                          \n",
       "Afghanistan                   1  \n",
       "Albania                       1  \n",
       "Algeria                       1  \n",
       "Angola                        1  \n",
       "Antigua and Barbuda           1  \n",
       "\n",
       "[5 rows x 21 columns]"
      ]
     },
     "execution_count": 11,
     "metadata": {},
     "output_type": "execute_result"
    }
   ],
   "source": [
    "life_data.head()"
   ]
  },
  {
   "cell_type": "markdown",
   "id": "df0add25",
   "metadata": {},
   "source": [
    "## EDA:"
   ]
  },
  {
   "cell_type": "code",
   "execution_count": 12,
   "id": "d8d10adb",
   "metadata": {},
   "outputs": [
    {
     "data": {
      "text/plain": [
       "Index(['Life_expectancy', 'Adult_Mortality', 'infant_deaths', 'Alcohol',\n",
       "       'percentage_expenditure', 'Hepatitis_B', 'Measles', 'BMI',\n",
       "       'under_five_deaths', 'Polio', 'Total_expenditure', 'Diphtheria',\n",
       "       'HIV_AIDS', 'GDP', 'Population', 'thinness', 'thinness_yr',\n",
       "       'Income_composition', 'Schooling', 'Developed', 'Developing'],\n",
       "      dtype='object')"
      ]
     },
     "execution_count": 12,
     "metadata": {},
     "output_type": "execute_result"
    }
   ],
   "source": [
    "life_data.columns"
   ]
  },
  {
   "cell_type": "code",
   "execution_count": 13,
   "id": "ce3a898a",
   "metadata": {},
   "outputs": [
    {
     "data": {
      "text/plain": [
       "Text(0, 0.5, 'Life_expectancy')"
      ]
     },
     "execution_count": 13,
     "metadata": {},
     "output_type": "execute_result"
    },
    {
     "data": {
      "image/png": "[encoded data removed]",
      "text/plain": [
       "<Figure size 432x288 with 1 Axes>"
      ]
     },
     "metadata": {
      "needs_background": "light"
     },
     "output_type": "display_data"
    }
   ],
   "source": [
    "plt.scatter(life_data['HIV_AIDS'], life_data['Life_expectancy'])\n",
    "plt.xlabel('HIV_AIDS')\n",
    "plt.ylabel('Life_expectancy')"
   ]
  },
  {
   "cell_type": "code",
   "execution_count": 14,
   "id": "c06682e9",
   "metadata": {},
   "outputs": [
    {
     "data": {
      "text/plain": [
       "Text(0, 0.5, 'Life expectancy')"
      ]
     },
     "execution_count": 14,
     "metadata": {},
     "output_type": "execute_result"
    },
    {
     "data": {
      "image/png": "[encoded data removed]",
      "text/plain": [
       "<Figure size 432x288 with 1 Axes>"
      ]
     },
     "metadata": {
      "needs_background": "light"
     },
     "output_type": "display_data"
    }
   ],
   "source": [
    "plt.scatter(life_data.GDP, life_data['Life_expectancy'])\n",
    "plt.xlabel('GDP')\n",
    "plt.ylabel('Life expectancy')"
   ]
  },
  {
   "cell_type": "code",
   "execution_count": 16,
   "id": "2ae366c6",
   "metadata": {},
   "outputs": [
    {
     "data": {
      "text/plain": [
       "Text(0, 0.5, 'Life_expectancy')"
      ]
     },
     "execution_count": 16,
     "metadata": {},
     "output_type": "execute_result"
    },
    {
     "data": {
      "image/png": "[encoded data removed]",
      "text/plain": [
       "<Figure size 432x288 with 1 Axes>"
      ]
     },
     "metadata": {
      "needs_background": "light"
     },
     "output_type": "display_data"
    }
   ],
   "source": [
    "plt.scatter(life_data['BMI'], life_data['Life_expectancy'])\n",
    "plt.xlabel('BMI')\n",
    "plt.ylabel('Life_expectancy')"
   ]
  },
  {
   "cell_type": "code",
   "execution_count": 19,
   "id": "d9cc6325",
   "metadata": {},
   "outputs": [
    {
     "data": {
      "text/plain": [
       "Text(0, 0.5, 'Life_expectancy')"
      ]
     },
     "execution_count": 19,
     "metadata": {},
     "output_type": "execute_result"
    },
    {
     "data": {
      "image/png": "[encoded data removed]",
      "text/plain": [
       "<Figure size 432x288 with 1 Axes>"
      ]
     },
     "metadata": {
      "needs_background": "light"
     },
     "output_type": "display_data"
    }
   ],
   "source": [
    "plt.scatter(life_data['under_five_deaths'], life_data['Life_expectancy'])\n",
    "plt.xlabel('under-five deaths')\n",
    "plt.ylabel('Life_expectancy')"
   ]
  },
  {
   "cell_type": "code",
   "execution_count": 20,
   "id": "d438bf41",
   "metadata": {},
   "outputs": [
    {
     "data": {
      "text/plain": [
       "Text(0, 0.5, 'Life_expectancy')"
      ]
     },
     "execution_count": 20,
     "metadata": {},
     "output_type": "execute_result"
    },
    {
     "data": {
      "image/png": "[encoded data removed]",
      "text/plain": [
       "<Figure size 432x288 with 1 Axes>"
      ]
     },
     "metadata": {
      "needs_background": "light"
     },
     "output_type": "display_data"
    }
   ],
   "source": [
    "plt.scatter(life_data['Alcohol'], life_data['Life_expectancy'])\n",
    "plt.xlabel('Alcohol')\n",
    "plt.ylabel('Life_expectancy')"
   ]
  },
  {
   "cell_type": "code",
   "execution_count": 21,
   "id": "79473d77",
   "metadata": {},
   "outputs": [
    {
     "data": {
      "text/plain": [
       "Text(0, 0.5, 'Life_expectancy')"
      ]
     },
     "execution_count": 21,
     "metadata": {},
     "output_type": "execute_result"
    },
    {
     "data": {
      "image/png": "[encoded data removed]",
      "text/plain": [
       "<Figure size 432x288 with 1 Axes>"
      ]
     },
     "metadata": {
      "needs_background": "light"
     },
     "output_type": "display_data"
    }
   ],
   "source": [
    "plt.scatter(life_data['Adult_Mortality'], life_data['Life_expectancy'])\n",
    "plt.xlabel('Adult_Mortality')\n",
    "plt.ylabel('Life_expectancy')"
   ]
  },
  {
   "cell_type": "code",
   "execution_count": 22,
   "id": "69969529",
   "metadata": {},
   "outputs": [
    {
     "data": {
      "text/plain": [
       "Text(0, 0.5, 'Life_expectancy')"
      ]
     },
     "execution_count": 22,
     "metadata": {},
     "output_type": "execute_result"
    },
    {
     "data": {
      "image/png": "[encoded data removed]",
      "text/plain": [
       "<Figure size 432x288 with 1 Axes>"
      ]
     },
     "metadata": {
      "needs_background": "light"
     },
     "output_type": "display_data"
    }
   ],
   "source": [
    "plt.scatter(life_data['Schooling'], life_data['Life_expectancy'])\n",
    "plt.xlabel('Schooling')\n",
    "plt.ylabel('Life_expectancy')"
   ]
  },
  {
   "cell_type": "code",
   "execution_count": 23,
   "id": "d2ea87b8",
   "metadata": {},
   "outputs": [
    {
     "data": {
      "text/plain": [
       "Text(0, 0.5, 'Life_expectancy')"
      ]
     },
     "execution_count": 23,
     "metadata": {},
     "output_type": "execute_result"
    },
    {
     "data": {
      "image/png": "[encoded data removed]",
      "text/plain": [
       "<Figure size 432x288 with 1 Axes>"
      ]
     },
     "metadata": {
      "needs_background": "light"
     },
     "output_type": "display_data"
    }
   ],
   "source": [
    "plt.scatter(life_data['percentage_expenditure'], life_data['Life_expectancy'])\n",
    "plt.xlabel('Percentage Healhcare_expenditure')\n",
    "plt.ylabel('Life_expectancy')"
   ]
  },
  {
   "cell_type": "markdown",
   "id": "6af5e7ca",
   "metadata": {},
   "source": [
    "Using the scatter plot we plot the Life Expectancy against some other varyables to see if there is any correlation between them.\n",
    "\n",
    "\n",
    "There seem to be a positive correlation between The Percentage of Healthcare Expenditure, Schooling, GDP and BMI and Life Expectancy, while there is a negative one between Adult Mortality, AIDS and Life Expectancy,there does not seem to have any correlation between Alcohol, under 5 years – old deaths and Life Expectancy."
   ]
  },
  {
   "cell_type": "code",
   "execution_count": 26,
   "id": "d7945595",
   "metadata": {},
   "outputs": [
    {
     "data": {
      "text/plain": [
       "<AxesSubplot:>"
      ]
     },
     "execution_count": 26,
     "metadata": {},
     "output_type": "execute_result"
    },
    {
     "data": {
      "image/png": "[encoded data removed]",
      "text/plain": [
       "<Figure size 1008x720 with 2 Axes>"
      ]
     },
     "metadata": {
      "needs_background": "light"
     },
     "output_type": "display_data"
    }
   ],
   "source": [
    "plt.figure(figsize = (14, 10))\n",
    "sns.heatmap(life_data.corr(), annot = True)"
   ]
  },
  {
   "cell_type": "markdown",
   "id": "ec90545d",
   "metadata": {},
   "source": [
    "Now we will plot the correlation matrix visulizing it with a heatmap. The legend tells that the warmer colors show higher and positive correlation, while the colder low or negative.\n",
    "\n",
    "\n",
    "There is a very high correlation between thinness of 5-9 year-old and that of 1-19 year-old. Also between population and infant deaths, under 5 deaths, another is between schooling and income composition of resources. On the other hand Life expectancy and Adult Mortality are very highly negatively correlated."
   ]
  },
  {
   "cell_type": "markdown",
   "id": "2fe91aa0",
   "metadata": {},
   "source": [
    "## Preprocessing the data:"
   ]
  },
  {
   "cell_type": "markdown",
   "id": "d7161615",
   "metadata": {},
   "source": [
    "The raw data is not suitable for us to start building a model so some preprocessing will be done. First the Status of the country is turned into numberical with the get_dummies function, so we get 2 new columns. The original column is being dropped. Second the data is being grouped by the country and we find the mean values during the 2000 – 2015 year period.\n",
    "\n",
    "\n",
    "Then the Life expectancy column is removed to form the life_labels variable or the output, and the rest is stored as the life_features variable. Now we consider that we have some null values in the table, the isnull function has been used to find the with the boolean True. Below that the number of null values are displayed in each separate column. It is mostly situated in the Population and GDP columns.\n",
    "\n",
    "\n",
    "Now the missing values are filled with the mean of its respective column. This will create some distortions, but the other option in removing parts of the table will shrink the data so it will be avoided here because the number of rows is not that high. The final shape for the life_features is 193 rows to 20 columns. Finally considering the large differences in the values of the columns, there will be some scaling with the MinMaxScaler function.\n",
    "\n",
    "\n",
    "Now we will split the data into a training part of 70% and a testing of 30%. Cross validation will be initialized with the creation of 5 fold split."
   ]
  },
  {
   "cell_type": "code",
   "execution_count": 29,
   "id": "b66a349a",
   "metadata": {},
   "outputs": [],
   "source": [
    "life_labels = life_data['Life_expectancy']"
   ]
  },
  {
   "cell_type": "code",
   "execution_count": 30,
   "id": "cea7dad4",
   "metadata": {},
   "outputs": [],
   "source": [
    "life_features = life_data.drop('Life_expectancy', axis = 1)"
   ]
  },
  {
   "cell_type": "code",
   "execution_count": 31,
   "id": "6c0956f5",
   "metadata": {},
   "outputs": [
    {
     "data": {
      "text/html": [
       "<div>\n",
       "<style scoped>\n",
       "    .dataframe tbody tr th:only-of-type {\n",
       "        vertical-align: middle;\n",
       "    }\n",
       "\n",
       "    .dataframe tbody tr th {\n",
       "        vertical-align: top;\n",
       "    }\n",
       "\n",
       "    .dataframe thead th {\n",
       "        text-align: right;\n",
       "    }\n",
       "</style>\n",
       "<table border=\"1\" class=\"dataframe\">\n",
       "  <thead>\n",
       "    <tr style=\"text-align: right;\">\n",
       "      <th></th>\n",
       "      <th>Adult_Mortality</th>\n",
       "      <th>infant_deaths</th>\n",
       "      <th>Alcohol</th>\n",
       "      <th>percentage_expenditure</th>\n",
       "      <th>Hepatitis_B</th>\n",
       "      <th>Measles</th>\n",
       "      <th>BMI</th>\n",
       "      <th>under_five_deaths</th>\n",
       "      <th>Polio</th>\n",
       "      <th>Total_expenditure</th>\n",
       "      <th>Diphtheria</th>\n",
       "      <th>HIV_AIDS</th>\n",
       "      <th>GDP</th>\n",
       "      <th>Population</th>\n",
       "      <th>thinness</th>\n",
       "      <th>thinness_yr</th>\n",
       "      <th>Income_composition</th>\n",
       "      <th>Schooling</th>\n",
       "      <th>Developed</th>\n",
       "      <th>Developing</th>\n",
       "    </tr>\n",
       "    <tr>\n",
       "      <th>Country</th>\n",
       "      <th></th>\n",
       "      <th></th>\n",
       "      <th></th>\n",
       "      <th></th>\n",
       "      <th></th>\n",
       "      <th></th>\n",
       "      <th></th>\n",
       "      <th></th>\n",
       "      <th></th>\n",
       "      <th></th>\n",
       "      <th></th>\n",
       "      <th></th>\n",
       "      <th></th>\n",
       "      <th></th>\n",
       "      <th></th>\n",
       "      <th></th>\n",
       "      <th></th>\n",
       "      <th></th>\n",
       "      <th></th>\n",
       "      <th></th>\n",
       "    </tr>\n",
       "  </thead>\n",
       "  <tbody>\n",
       "    <tr>\n",
       "      <th>Afghanistan</th>\n",
       "      <td>False</td>\n",
       "      <td>False</td>\n",
       "      <td>False</td>\n",
       "      <td>False</td>\n",
       "      <td>False</td>\n",
       "      <td>False</td>\n",
       "      <td>False</td>\n",
       "      <td>False</td>\n",
       "      <td>False</td>\n",
       "      <td>False</td>\n",
       "      <td>False</td>\n",
       "      <td>False</td>\n",
       "      <td>False</td>\n",
       "      <td>False</td>\n",
       "      <td>False</td>\n",
       "      <td>False</td>\n",
       "      <td>False</td>\n",
       "      <td>False</td>\n",
       "      <td>False</td>\n",
       "      <td>False</td>\n",
       "    </tr>\n",
       "    <tr>\n",
       "      <th>Albania</th>\n",
       "      <td>False</td>\n",
       "      <td>False</td>\n",
       "      <td>False</td>\n",
       "      <td>False</td>\n",
       "      <td>False</td>\n",
       "      <td>False</td>\n",
       "      <td>False</td>\n",
       "      <td>False</td>\n",
       "      <td>False</td>\n",
       "      <td>False</td>\n",
       "      <td>False</td>\n",
       "      <td>False</td>\n",
       "      <td>False</td>\n",
       "      <td>False</td>\n",
       "      <td>False</td>\n",
       "      <td>False</td>\n",
       "      <td>False</td>\n",
       "      <td>False</td>\n",
       "      <td>False</td>\n",
       "      <td>False</td>\n",
       "    </tr>\n",
       "    <tr>\n",
       "      <th>Algeria</th>\n",
       "      <td>False</td>\n",
       "      <td>False</td>\n",
       "      <td>False</td>\n",
       "      <td>False</td>\n",
       "      <td>False</td>\n",
       "      <td>False</td>\n",
       "      <td>False</td>\n",
       "      <td>False</td>\n",
       "      <td>False</td>\n",
       "      <td>False</td>\n",
       "      <td>False</td>\n",
       "      <td>False</td>\n",
       "      <td>False</td>\n",
       "      <td>False</td>\n",
       "      <td>False</td>\n",
       "      <td>False</td>\n",
       "      <td>False</td>\n",
       "      <td>False</td>\n",
       "      <td>False</td>\n",
       "      <td>False</td>\n",
       "    </tr>\n",
       "    <tr>\n",
       "      <th>Angola</th>\n",
       "      <td>False</td>\n",
       "      <td>False</td>\n",
       "      <td>False</td>\n",
       "      <td>False</td>\n",
       "      <td>False</td>\n",
       "      <td>False</td>\n",
       "      <td>False</td>\n",
       "      <td>False</td>\n",
       "      <td>False</td>\n",
       "      <td>False</td>\n",
       "      <td>False</td>\n",
       "      <td>False</td>\n",
       "      <td>False</td>\n",
       "      <td>False</td>\n",
       "      <td>False</td>\n",
       "      <td>False</td>\n",
       "      <td>False</td>\n",
       "      <td>False</td>\n",
       "      <td>False</td>\n",
       "      <td>False</td>\n",
       "    </tr>\n",
       "    <tr>\n",
       "      <th>Antigua and Barbuda</th>\n",
       "      <td>False</td>\n",
       "      <td>False</td>\n",
       "      <td>False</td>\n",
       "      <td>False</td>\n",
       "      <td>False</td>\n",
       "      <td>False</td>\n",
       "      <td>False</td>\n",
       "      <td>False</td>\n",
       "      <td>False</td>\n",
       "      <td>False</td>\n",
       "      <td>False</td>\n",
       "      <td>False</td>\n",
       "      <td>False</td>\n",
       "      <td>True</td>\n",
       "      <td>False</td>\n",
       "      <td>False</td>\n",
       "      <td>False</td>\n",
       "      <td>False</td>\n",
       "      <td>False</td>\n",
       "      <td>False</td>\n",
       "    </tr>\n",
       "  </tbody>\n",
       "</table>\n",
       "</div>"
      ],
      "text/plain": [
       "                     Adult_Mortality  infant_deaths  Alcohol  \\\n",
       "Country                                                        \n",
       "Afghanistan                    False          False    False   \n",
       "Albania                        False          False    False   \n",
       "Algeria                        False          False    False   \n",
       "Angola                         False          False    False   \n",
       "Antigua and Barbuda            False          False    False   \n",
       "\n",
       "                     percentage_expenditure  Hepatitis_B  Measles    BMI  \\\n",
       "Country                                                                    \n",
       "Afghanistan                           False        False    False  False   \n",
       "Albania                               False        False    False  False   \n",
       "Algeria                               False        False    False  False   \n",
       "Angola                                False        False    False  False   \n",
       "Antigua and Barbuda                   False        False    False  False   \n",
       "\n",
       "                     under_five_deaths  Polio  Total_expenditure  Diphtheria  \\\n",
       "Country                                                                        \n",
       "Afghanistan                      False  False              False       False   \n",
       "Albania                          False  False              False       False   \n",
       "Algeria                          False  False              False       False   \n",
       "Angola                           False  False              False       False   \n",
       "Antigua and Barbuda              False  False              False       False   \n",
       "\n",
       "                     HIV_AIDS    GDP  Population  thinness  thinness_yr  \\\n",
       "Country                                                                   \n",
       "Afghanistan             False  False       False     False        False   \n",
       "Albania                 False  False       False     False        False   \n",
       "Algeria                 False  False       False     False        False   \n",
       "Angola                  False  False       False     False        False   \n",
       "Antigua and Barbuda     False  False        True     False        False   \n",
       "\n",
       "                     Income_composition  Schooling  Developed  Developing  \n",
       "Country                                                                    \n",
       "Afghanistan                       False      False      False       False  \n",
       "Albania                           False      False      False       False  \n",
       "Algeria                           False      False      False       False  \n",
       "Angola                            False      False      False       False  \n",
       "Antigua and Barbuda               False      False      False       False  "
      ]
     },
     "execution_count": 31,
     "metadata": {},
     "output_type": "execute_result"
    }
   ],
   "source": [
    "life_features.isnull().head()"
   ]
  },
  {
   "cell_type": "code",
   "execution_count": 32,
   "id": "f26686cf",
   "metadata": {},
   "outputs": [
    {
     "data": {
      "text/plain": [
       "Adult_Mortality           10\n",
       "infant_deaths              0\n",
       "Alcohol                    2\n",
       "percentage_expenditure     0\n",
       "Hepatitis_B                9\n",
       "Measles                    0\n",
       "BMI                        4\n",
       "under_five_deaths          0\n",
       "Polio                      0\n",
       "Total_expenditure          2\n",
       "Diphtheria                 0\n",
       "HIV_AIDS                   0\n",
       "GDP                       30\n",
       "Population                48\n",
       "thinness                   4\n",
       "thinness_yr                4\n",
       "Income_composition        17\n",
       "Schooling                 13\n",
       "Developed                  0\n",
       "Developing                 0\n",
       "dtype: int64"
      ]
     },
     "execution_count": 32,
     "metadata": {},
     "output_type": "execute_result"
    }
   ],
   "source": [
    "life_features.isnull().sum()"
   ]
  },
  {
   "cell_type": "code",
   "execution_count": 33,
   "id": "3d86c804",
   "metadata": {},
   "outputs": [
    {
     "data": {
      "text/plain": [
       "10"
      ]
     },
     "execution_count": 33,
     "metadata": {},
     "output_type": "execute_result"
    }
   ],
   "source": [
    "life_labels.isnull().sum()"
   ]
  },
  {
   "cell_type": "code",
   "execution_count": 34,
   "id": "a09901b2",
   "metadata": {},
   "outputs": [],
   "source": [
    "life_features.fillna(value = life_features.mean(), inplace = True)"
   ]
  },
  {
   "cell_type": "code",
   "execution_count": 35,
   "id": "e5089fec",
   "metadata": {},
   "outputs": [],
   "source": [
    "life_labels.fillna(value = life_labels.mean(), inplace = True)"
   ]
  },
  {
   "cell_type": "code",
   "execution_count": 36,
   "id": "2cebed1c",
   "metadata": {},
   "outputs": [
    {
     "data": {
      "text/plain": [
       "DescribeResult(nobs=192, minmax=(array([1.87500000e+01, 0.00000000e+00, 1.00000000e-02, 0.00000000e+00,\n",
       "       8.00000000e+00, 0.00000000e+00, 5.20000000e+00, 0.00000000e+00,\n",
       "       9.00000000e+00, 1.64666667e+00, 9.00000000e+00, 1.00000000e-01,\n",
       "       1.36183210e+02, 2.92000000e+02, 1.00000000e-01, 1.00000000e-01,\n",
       "       1.31687500e-01, 0.00000000e+00, 0.00000000e+00, 0.00000000e+00]), array([5.50062500e+02, 1.36668750e+03, 1.34973333e+01, 9.80181038e+03,\n",
       "       9.90000000e+01, 6.58579375e+04, 8.73000000e+01, 1.81250000e+03,\n",
       "       9.90000000e+01, 1.72400000e+01, 9.90000000e+01, 3.29437500e+01,\n",
       "       5.73628746e+04, 4.21467691e+08, 2.71000000e+01, 2.79437500e+01,\n",
       "       9.31437500e-01, 2.00375000e+01, 1.00000000e+00, 1.00000000e+00])), mean=array([1.64253396e+02, 2.85745443e+01, 4.46296480e+00, 7.12321318e+02,\n",
       "       7.85909681e+01, 2.30174674e+03, 3.96797168e+01, 3.96419271e+01,\n",
       "       8.26078218e+01, 6.01668050e+00, 8.23842541e+01, 1.67047526e+00,\n",
       "       7.25930328e+03, 1.25835883e+07, 4.62089964e+00, 4.65416339e+00,\n",
       "       6.30617733e-01, 1.19132722e+01, 1.66666667e-01, 8.33333333e-01]), variance=array([8.75843142e+03, 1.28540496e+04, 1.48700520e+01, 2.10950227e+06,\n",
       "       3.38370018e+02, 6.25178778e+07, 3.01949462e+02, 2.36800172e+04,\n",
       "       2.74638648e+02, 4.83699092e+00, 2.92218598e+02, 1.89712358e+01,\n",
       "       9.65744006e+07, 1.09787565e+15, 1.57725109e+01, 1.65888768e+01,\n",
       "       3.03882176e-02, 1.03601660e+01, 1.39616056e-01, 1.39616056e-01]), skewness=array([ 1.19225145,  9.3630654 ,  0.5920435 ,  3.27460365, -1.36320782,\n",
       "        6.05254594,  0.09453142,  9.01254987, -1.3261097 ,  1.66458352,\n",
       "       -1.43066862,  4.23443451,  2.46889639, 10.16055662,  1.72955815,\n",
       "        1.8023565 , -0.48106083, -0.71599891,  1.78885438, -1.78885438]), kurtosis=array([  1.604733  , 101.90959278,  -0.86402143,  12.36028988,\n",
       "         2.20027664,  38.55513895,  -0.66005587,  94.30411285,\n",
       "         1.85630801,   6.59116886,   2.06805175,  20.55716829,\n",
       "         6.62435538, 119.83739182,   5.27091348,   5.62745981,\n",
       "        -0.34978933,   1.50234464,   1.2       ,   1.2       ]))"
      ]
     },
     "execution_count": 36,
     "metadata": {},
     "output_type": "execute_result"
    }
   ],
   "source": [
    "stats.describe(life_features[1:])"
   ]
  },
  {
   "cell_type": "code",
   "execution_count": 37,
   "id": "51a034a2",
   "metadata": {},
   "outputs": [],
   "source": [
    "min_max_scaler = MinMaxScaler()"
   ]
  },
  {
   "cell_type": "code",
   "execution_count": 38,
   "id": "7f1c1b07",
   "metadata": {},
   "outputs": [],
   "source": [
    "life_features = min_max_scaler.fit_transform(life_features)"
   ]
  },
  {
   "cell_type": "code",
   "execution_count": 39,
   "id": "ffb631f8",
   "metadata": {},
   "outputs": [
    {
     "data": {
      "text/plain": [
       "array([[4.71121045e-01, 5.72552248e-02, 3.24378429e-04, ...,\n",
       "        4.09856519e-01, 0.00000000e+00, 1.00000000e+00],\n",
       "       [4.95235855e-02, 5.03041112e-04, 3.58762543e-01, ...,\n",
       "        6.05739239e-01, 0.00000000e+00, 1.00000000e+00],\n",
       "       [1.68333137e-01, 1.48625783e-02, 2.94103109e-02, ...,\n",
       "        6.34435434e-01, 0.00000000e+00, 1.00000000e+00],\n",
       "       ...,\n",
       "       [3.63369015e-01, 2.88105364e-02, 2.76802926e-03, ...,\n",
       "        4.24516532e-01, 0.00000000e+00, 1.00000000e+00],\n",
       "       [6.31572756e-01, 2.44660905e-02, 1.65290890e-01, ...,\n",
       "        5.59575795e-01, 0.00000000e+00, 1.00000000e+00],\n",
       "       [8.34960593e-01, 1.94356793e-02, 3.31570362e-01, ...,\n",
       "        4.90330630e-01, 0.00000000e+00, 1.00000000e+00]])"
      ]
     },
     "execution_count": 39,
     "metadata": {},
     "output_type": "execute_result"
    }
   ],
   "source": [
    "life_features"
   ]
  },
  {
   "cell_type": "code",
   "execution_count": 41,
   "id": "3189c1ab",
   "metadata": {},
   "outputs": [],
   "source": [
    "life_features_train, life_features_test, life_labels_train, life_labels_test = train_test_split(life_features, life_labels, train_size = 0.7, test_size = 0.3)"
   ]
  },
  {
   "cell_type": "markdown",
   "id": "398de0f8",
   "metadata": {},
   "source": [
    "# Linear Regression and Lasso and Ridge Regression:"
   ]
  },
  {
   "cell_type": "code",
   "execution_count": 42,
   "id": "6b73892e",
   "metadata": {},
   "outputs": [],
   "source": [
    "linear_model = LinearRegression()"
   ]
  },
  {
   "cell_type": "code",
   "execution_count": 43,
   "id": "8eeebc45",
   "metadata": {},
   "outputs": [
    {
     "data": {
      "text/plain": [
       "LinearRegression()"
      ]
     },
     "execution_count": 43,
     "metadata": {},
     "output_type": "execute_result"
    }
   ],
   "source": [
    "linear_model.fit(life_features_train, life_labels_train)"
   ]
  },
  {
   "cell_type": "code",
   "execution_count": 44,
   "id": "42479cdb",
   "metadata": {},
   "outputs": [
    {
     "name": "stdout",
     "output_type": "stream",
     "text": [
      "R_square score on the training: 0.93\n"
     ]
    }
   ],
   "source": [
    "print('R_square score on the training: %.2f' % linear_model.score(life_features_train, life_labels_train))"
   ]
  },
  {
   "cell_type": "code",
   "execution_count": 45,
   "id": "decb4876",
   "metadata": {},
   "outputs": [],
   "source": [
    "linear_model_predict = linear_model.predict(life_features_test)"
   ]
  },
  {
   "cell_type": "code",
   "execution_count": 46,
   "id": "f030ef0d",
   "metadata": {},
   "outputs": [
    {
     "name": "stdout",
     "output_type": "stream",
     "text": [
      "Coefficients: \n",
      " [-27.97184301  64.84316124   2.85116834   0.82642444  -1.84169401\n",
      "   2.82984021   4.71550732 -81.66727087  -1.35497275   1.61160616\n",
      "   8.05162097  -4.95160306   2.35054926  13.15194059  -4.12831181\n",
      "   5.10012619   5.53522374   3.33300279  -0.23958459   0.23958459]\n",
      "Mean squared error: 5.32\n",
      "Mean absolute error: 1.86\n",
      "R_square score: 0.93\n"
     ]
    }
   ],
   "source": [
    "print('Coefficients: \\n', linear_model.coef_)\n",
    "print(\"Mean squared error: %.2f\"\n",
    "      % mean_squared_error(life_labels_test, linear_model_predict))\n",
    "print(\"Mean absolute error: %.2f\"\n",
    "      % mean_absolute_error(life_labels_test, linear_model_predict))\n",
    "print('R_square score: %.2f' % r2_score(life_labels_test, linear_model_predict))"
   ]
  },
  {
   "cell_type": "markdown",
   "id": "13326524",
   "metadata": {},
   "source": [
    "Several algorithms will be tried out. First the classical linear regression.\n",
    "\n",
    "\n",
    "- The model is fitted first on the trained data the R square is 0.92 on the training data.Later its R square is checked on the testing data. \n",
    "- The score is 87 % in the iteration of writing. We also calculate the MAE (the modulus between the predicted and the real value) at 2.32 and the MSE (the same only put to the power of 2) at 9.8.\n",
    "- Now we will try to have some changes to the initial model. We will use both the properties of the Ridge regression and the Lasso and eventually the ElasticNet to see if the score can be improved."
   ]
  },
  {
   "cell_type": "code",
   "execution_count": 53,
   "id": "186c4a73",
   "metadata": {},
   "outputs": [
    {
     "name": "stderr",
     "output_type": "stream",
     "text": [
      "C:\\Users\\Hp\\anaconda3\\envs\\digit\\lib\\site-packages\\sklearn\\linear_model\\_ridge.py:147: LinAlgWarning: Ill-conditioned matrix (rcond=2.38843e-17): result may not be accurate.\n",
      "  return linalg.solve(A, Xy, sym_pos=True,\n",
      "C:\\Users\\Hp\\anaconda3\\envs\\digit\\lib\\site-packages\\sklearn\\linear_model\\_ridge.py:147: LinAlgWarning: Ill-conditioned matrix (rcond=5.47878e-18): result may not be accurate.\n",
      "  return linalg.solve(A, Xy, sym_pos=True,\n",
      "C:\\Users\\Hp\\anaconda3\\envs\\digit\\lib\\site-packages\\sklearn\\linear_model\\_ridge.py:147: LinAlgWarning: Ill-conditioned matrix (rcond=2.38843e-17): result may not be accurate.\n",
      "  return linalg.solve(A, Xy, sym_pos=True,\n",
      "C:\\Users\\Hp\\anaconda3\\envs\\digit\\lib\\site-packages\\sklearn\\linear_model\\_ridge.py:147: LinAlgWarning: Ill-conditioned matrix (rcond=5.47878e-18): result may not be accurate.\n",
      "  return linalg.solve(A, Xy, sym_pos=True,\n",
      "C:\\Users\\Hp\\anaconda3\\envs\\digit\\lib\\site-packages\\sklearn\\linear_model\\_ridge.py:147: LinAlgWarning: Ill-conditioned matrix (rcond=2.38843e-17): result may not be accurate.\n",
      "  return linalg.solve(A, Xy, sym_pos=True,\n",
      "C:\\Users\\Hp\\anaconda3\\envs\\digit\\lib\\site-packages\\sklearn\\linear_model\\_ridge.py:147: LinAlgWarning: Ill-conditioned matrix (rcond=5.47878e-18): result may not be accurate.\n",
      "  return linalg.solve(A, Xy, sym_pos=True,\n"
     ]
    },
    {
     "name": "stdout",
     "output_type": "stream",
     "text": [
      "Best Parameters: {'alpha': 1, 'max_iter': 10}\n",
      "R^2 score on training data: 0.90\n",
      "R^2 score: 0.92\n",
      "Mean squared error: 5.32\n",
      "Mean absolute error: 1.86\n"
     ]
    }
   ],
   "source": [
    "scoring = make_scorer(r2_score)\n",
    "grid_cv = GridSearchCV(Ridge(),\n",
    "              param_grid={'alpha': range(0, 10), 'max_iter' : [10, 100, 1000]},\n",
    "              scoring=scoring, cv=5, refit=True)\n",
    "\n",
    "grid_cv.fit(life_features_train, life_labels_train)\n",
    "print(\"Best Parameters: \" + str(grid_cv.best_params_))\n",
    "\n",
    "result = grid_cv.cv_results_\n",
    "print(\"R^2 score on training data: %.2f\" %grid_cv.score(life_features_train, life_labels_train))\n",
    "print(\"R^2 score: %.2f\"\n",
    "      % r2_score(life_labels_test, grid_cv.best_estimator_.predict(life_features_test)))\n",
    "print(\"Mean squared error: %.2f\"\n",
    "      % mean_squared_error(life_labels_test, linear_model_predict))\n",
    "print(\"Mean absolute error: %.2f\"\n",
    "      % mean_absolute_error(life_labels_test, linear_model_predict))"
   ]
  },
  {
   "cell_type": "markdown",
   "id": "6c5a6165",
   "metadata": {},
   "source": [
    "The Ridge Regression uses L2 regularization to minimize the weights of the coefficients, this is controlled with the hyperparameter alpha. Increasing the value of alpha decreases the weights of the coefficients.\n",
    "\n",
    "\n",
    "We performed a grid search with cross-validation on the grid regression with alpha varying between 0 and 10 and having 3 max iterations of 10, 100 and 1000. Finally the best parameters here are alpha = 1, and max iterations = 10. The R square on the training data is 90% compared to 92 % on the standard linear model There is some improvement of the R square on the test data statistic 91% vs 87% the errors stayed the same. The MAE is 1.83 better and MSE is 6.05 again lower the classic linear regression"
   ]
  },
  {
   "cell_type": "code",
   "execution_count": 54,
   "id": "31051a75",
   "metadata": {},
   "outputs": [
    {
     "name": "stderr",
     "output_type": "stream",
     "text": [
      "C:\\Users\\Hp\\anaconda3\\envs\\digit\\lib\\site-packages\\sklearn\\model_selection\\_validation.py:593: UserWarning: With alpha=0, this algorithm does not converge well. You are advised to use the LinearRegression estimator\n",
      "  estimator.fit(X_train, y_train, **fit_params)\n",
      "C:\\Users\\Hp\\anaconda3\\envs\\digit\\lib\\site-packages\\sklearn\\linear_model\\_coordinate_descent.py:530: UserWarning: Coordinate descent with no regularization may lead to unexpected results and is discouraged.\n",
      "  model = cd_fast.enet_coordinate_descent(\n",
      "C:\\Users\\Hp\\anaconda3\\envs\\digit\\lib\\site-packages\\sklearn\\linear_model\\_coordinate_descent.py:530: ConvergenceWarning: Objective did not converge. You might want to increase the number of iterations. Duality gap: 354.6723645886365, tolerance: 0.8676557704472319\n",
      "  model = cd_fast.enet_coordinate_descent(\n",
      "C:\\Users\\Hp\\anaconda3\\envs\\digit\\lib\\site-packages\\sklearn\\model_selection\\_validation.py:593: UserWarning: With alpha=0, this algorithm does not converge well. You are advised to use the LinearRegression estimator\n",
      "  estimator.fit(X_train, y_train, **fit_params)\n",
      "C:\\Users\\Hp\\anaconda3\\envs\\digit\\lib\\site-packages\\sklearn\\linear_model\\_coordinate_descent.py:530: UserWarning: Coordinate descent with no regularization may lead to unexpected results and is discouraged.\n",
      "  model = cd_fast.enet_coordinate_descent(\n",
      "C:\\Users\\Hp\\anaconda3\\envs\\digit\\lib\\site-packages\\sklearn\\linear_model\\_coordinate_descent.py:530: ConvergenceWarning: Objective did not converge. You might want to increase the number of iterations. Duality gap: 349.17662930835775, tolerance: 0.8835920777545123\n",
      "  model = cd_fast.enet_coordinate_descent(\n",
      "C:\\Users\\Hp\\anaconda3\\envs\\digit\\lib\\site-packages\\sklearn\\model_selection\\_validation.py:593: UserWarning: With alpha=0, this algorithm does not converge well. You are advised to use the LinearRegression estimator\n",
      "  estimator.fit(X_train, y_train, **fit_params)\n",
      "C:\\Users\\Hp\\anaconda3\\envs\\digit\\lib\\site-packages\\sklearn\\linear_model\\_coordinate_descent.py:530: UserWarning: Coordinate descent with no regularization may lead to unexpected results and is discouraged.\n",
      "  model = cd_fast.enet_coordinate_descent(\n",
      "C:\\Users\\Hp\\anaconda3\\envs\\digit\\lib\\site-packages\\sklearn\\linear_model\\_coordinate_descent.py:530: ConvergenceWarning: Objective did not converge. You might want to increase the number of iterations. Duality gap: 358.1655302790138, tolerance: 0.9758465129439269\n",
      "  model = cd_fast.enet_coordinate_descent(\n",
      "C:\\Users\\Hp\\anaconda3\\envs\\digit\\lib\\site-packages\\sklearn\\model_selection\\_validation.py:593: UserWarning: With alpha=0, this algorithm does not converge well. You are advised to use the LinearRegression estimator\n",
      "  estimator.fit(X_train, y_train, **fit_params)\n",
      "C:\\Users\\Hp\\anaconda3\\envs\\digit\\lib\\site-packages\\sklearn\\linear_model\\_coordinate_descent.py:530: UserWarning: Coordinate descent with no regularization may lead to unexpected results and is discouraged.\n",
      "  model = cd_fast.enet_coordinate_descent(\n",
      "C:\\Users\\Hp\\anaconda3\\envs\\digit\\lib\\site-packages\\sklearn\\linear_model\\_coordinate_descent.py:530: ConvergenceWarning: Objective did not converge. You might want to increase the number of iterations. Duality gap: 317.1665383843632, tolerance: 0.8832357133948913\n",
      "  model = cd_fast.enet_coordinate_descent(\n",
      "C:\\Users\\Hp\\anaconda3\\envs\\digit\\lib\\site-packages\\sklearn\\model_selection\\_validation.py:593: UserWarning: With alpha=0, this algorithm does not converge well. You are advised to use the LinearRegression estimator\n",
      "  estimator.fit(X_train, y_train, **fit_params)\n",
      "C:\\Users\\Hp\\anaconda3\\envs\\digit\\lib\\site-packages\\sklearn\\linear_model\\_coordinate_descent.py:530: UserWarning: Coordinate descent with no regularization may lead to unexpected results and is discouraged.\n",
      "  model = cd_fast.enet_coordinate_descent(\n",
      "C:\\Users\\Hp\\anaconda3\\envs\\digit\\lib\\site-packages\\sklearn\\linear_model\\_coordinate_descent.py:530: ConvergenceWarning: Objective did not converge. You might want to increase the number of iterations. Duality gap: 329.6994636613903, tolerance: 0.839975695766382\n",
      "  model = cd_fast.enet_coordinate_descent(\n",
      "C:\\Users\\Hp\\anaconda3\\envs\\digit\\lib\\site-packages\\sklearn\\model_selection\\_validation.py:593: UserWarning: With alpha=0, this algorithm does not converge well. You are advised to use the LinearRegression estimator\n",
      "  estimator.fit(X_train, y_train, **fit_params)\n",
      "C:\\Users\\Hp\\anaconda3\\envs\\digit\\lib\\site-packages\\sklearn\\linear_model\\_coordinate_descent.py:530: UserWarning: Coordinate descent with no regularization may lead to unexpected results and is discouraged.\n",
      "  model = cd_fast.enet_coordinate_descent(\n",
      "C:\\Users\\Hp\\anaconda3\\envs\\digit\\lib\\site-packages\\sklearn\\linear_model\\_coordinate_descent.py:530: ConvergenceWarning: Objective did not converge. You might want to increase the number of iterations. Duality gap: 330.77576886512924, tolerance: 0.8676557704472319\n",
      "  model = cd_fast.enet_coordinate_descent(\n",
      "C:\\Users\\Hp\\anaconda3\\envs\\digit\\lib\\site-packages\\sklearn\\model_selection\\_validation.py:593: UserWarning: With alpha=0, this algorithm does not converge well. You are advised to use the LinearRegression estimator\n",
      "  estimator.fit(X_train, y_train, **fit_params)\n",
      "C:\\Users\\Hp\\anaconda3\\envs\\digit\\lib\\site-packages\\sklearn\\linear_model\\_coordinate_descent.py:530: UserWarning: Coordinate descent with no regularization may lead to unexpected results and is discouraged.\n",
      "  model = cd_fast.enet_coordinate_descent(\n",
      "C:\\Users\\Hp\\anaconda3\\envs\\digit\\lib\\site-packages\\sklearn\\linear_model\\_coordinate_descent.py:530: ConvergenceWarning: Objective did not converge. You might want to increase the number of iterations. Duality gap: 333.52776559155404, tolerance: 0.8835920777545123\n",
      "  model = cd_fast.enet_coordinate_descent(\n",
      "C:\\Users\\Hp\\anaconda3\\envs\\digit\\lib\\site-packages\\sklearn\\model_selection\\_validation.py:593: UserWarning: With alpha=0, this algorithm does not converge well. You are advised to use the LinearRegression estimator\n",
      "  estimator.fit(X_train, y_train, **fit_params)\n",
      "C:\\Users\\Hp\\anaconda3\\envs\\digit\\lib\\site-packages\\sklearn\\linear_model\\_coordinate_descent.py:530: UserWarning: Coordinate descent with no regularization may lead to unexpected results and is discouraged.\n",
      "  model = cd_fast.enet_coordinate_descent(\n",
      "C:\\Users\\Hp\\anaconda3\\envs\\digit\\lib\\site-packages\\sklearn\\linear_model\\_coordinate_descent.py:530: ConvergenceWarning: Objective did not converge. You might want to increase the number of iterations. Duality gap: 343.7983738593492, tolerance: 0.9758465129439269\n",
      "  model = cd_fast.enet_coordinate_descent(\n",
      "C:\\Users\\Hp\\anaconda3\\envs\\digit\\lib\\site-packages\\sklearn\\model_selection\\_validation.py:593: UserWarning: With alpha=0, this algorithm does not converge well. You are advised to use the LinearRegression estimator\n",
      "  estimator.fit(X_train, y_train, **fit_params)\n",
      "C:\\Users\\Hp\\anaconda3\\envs\\digit\\lib\\site-packages\\sklearn\\linear_model\\_coordinate_descent.py:530: UserWarning: Coordinate descent with no regularization may lead to unexpected results and is discouraged.\n",
      "  model = cd_fast.enet_coordinate_descent(\n",
      "C:\\Users\\Hp\\anaconda3\\envs\\digit\\lib\\site-packages\\sklearn\\linear_model\\_coordinate_descent.py:530: ConvergenceWarning: Objective did not converge. You might want to increase the number of iterations. Duality gap: 303.3692986878177, tolerance: 0.8832357133948913\n",
      "  model = cd_fast.enet_coordinate_descent(\n",
      "C:\\Users\\Hp\\anaconda3\\envs\\digit\\lib\\site-packages\\sklearn\\model_selection\\_validation.py:593: UserWarning: With alpha=0, this algorithm does not converge well. You are advised to use the LinearRegression estimator\n",
      "  estimator.fit(X_train, y_train, **fit_params)\n",
      "C:\\Users\\Hp\\anaconda3\\envs\\digit\\lib\\site-packages\\sklearn\\linear_model\\_coordinate_descent.py:530: UserWarning: Coordinate descent with no regularization may lead to unexpected results and is discouraged.\n",
      "  model = cd_fast.enet_coordinate_descent(\n",
      "C:\\Users\\Hp\\anaconda3\\envs\\digit\\lib\\site-packages\\sklearn\\linear_model\\_coordinate_descent.py:530: ConvergenceWarning: Objective did not converge. You might want to increase the number of iterations. Duality gap: 317.2584822852505, tolerance: 0.839975695766382\n",
      "  model = cd_fast.enet_coordinate_descent(\n",
      "C:\\Users\\Hp\\anaconda3\\envs\\digit\\lib\\site-packages\\sklearn\\model_selection\\_validation.py:593: UserWarning: With alpha=0, this algorithm does not converge well. You are advised to use the LinearRegression estimator\n",
      "  estimator.fit(X_train, y_train, **fit_params)\n",
      "C:\\Users\\Hp\\anaconda3\\envs\\digit\\lib\\site-packages\\sklearn\\linear_model\\_coordinate_descent.py:530: UserWarning: Coordinate descent with no regularization may lead to unexpected results and is discouraged.\n",
      "  model = cd_fast.enet_coordinate_descent(\n",
      "C:\\Users\\Hp\\anaconda3\\envs\\digit\\lib\\site-packages\\sklearn\\linear_model\\_coordinate_descent.py:530: ConvergenceWarning: Objective did not converge. You might want to increase the number of iterations. Duality gap: 317.6368515287737, tolerance: 0.8676557704472319\n",
      "  model = cd_fast.enet_coordinate_descent(\n",
      "C:\\Users\\Hp\\anaconda3\\envs\\digit\\lib\\site-packages\\sklearn\\model_selection\\_validation.py:593: UserWarning: With alpha=0, this algorithm does not converge well. You are advised to use the LinearRegression estimator\n",
      "  estimator.fit(X_train, y_train, **fit_params)\n",
      "C:\\Users\\Hp\\anaconda3\\envs\\digit\\lib\\site-packages\\sklearn\\linear_model\\_coordinate_descent.py:530: UserWarning: Coordinate descent with no regularization may lead to unexpected results and is discouraged.\n",
      "  model = cd_fast.enet_coordinate_descent(\n",
      "C:\\Users\\Hp\\anaconda3\\envs\\digit\\lib\\site-packages\\sklearn\\linear_model\\_coordinate_descent.py:530: ConvergenceWarning: Objective did not converge. You might want to increase the number of iterations. Duality gap: 323.0521262588446, tolerance: 0.8835920777545123\n",
      "  model = cd_fast.enet_coordinate_descent(\n",
      "C:\\Users\\Hp\\anaconda3\\envs\\digit\\lib\\site-packages\\sklearn\\model_selection\\_validation.py:593: UserWarning: With alpha=0, this algorithm does not converge well. You are advised to use the LinearRegression estimator\n",
      "  estimator.fit(X_train, y_train, **fit_params)\n",
      "C:\\Users\\Hp\\anaconda3\\envs\\digit\\lib\\site-packages\\sklearn\\linear_model\\_coordinate_descent.py:530: UserWarning: Coordinate descent with no regularization may lead to unexpected results and is discouraged.\n",
      "  model = cd_fast.enet_coordinate_descent(\n",
      "C:\\Users\\Hp\\anaconda3\\envs\\digit\\lib\\site-packages\\sklearn\\linear_model\\_coordinate_descent.py:530: ConvergenceWarning: Objective did not converge. You might want to increase the number of iterations. Duality gap: 338.49179751290274, tolerance: 0.9758465129439269\n",
      "  model = cd_fast.enet_coordinate_descent(\n",
      "C:\\Users\\Hp\\anaconda3\\envs\\digit\\lib\\site-packages\\sklearn\\model_selection\\_validation.py:593: UserWarning: With alpha=0, this algorithm does not converge well. You are advised to use the LinearRegression estimator\n",
      "  estimator.fit(X_train, y_train, **fit_params)\n",
      "C:\\Users\\Hp\\anaconda3\\envs\\digit\\lib\\site-packages\\sklearn\\linear_model\\_coordinate_descent.py:530: UserWarning: Coordinate descent with no regularization may lead to unexpected results and is discouraged.\n",
      "  model = cd_fast.enet_coordinate_descent(\n",
      "C:\\Users\\Hp\\anaconda3\\envs\\digit\\lib\\site-packages\\sklearn\\linear_model\\_coordinate_descent.py:530: ConvergenceWarning: Objective did not converge. You might want to increase the number of iterations. Duality gap: 297.6617839352173, tolerance: 0.8832357133948913\n",
      "  model = cd_fast.enet_coordinate_descent(\n",
      "C:\\Users\\Hp\\anaconda3\\envs\\digit\\lib\\site-packages\\sklearn\\model_selection\\_validation.py:593: UserWarning: With alpha=0, this algorithm does not converge well. You are advised to use the LinearRegression estimator\n",
      "  estimator.fit(X_train, y_train, **fit_params)\n",
      "C:\\Users\\Hp\\anaconda3\\envs\\digit\\lib\\site-packages\\sklearn\\linear_model\\_coordinate_descent.py:530: UserWarning: Coordinate descent with no regularization may lead to unexpected results and is discouraged.\n",
      "  model = cd_fast.enet_coordinate_descent(\n",
      "C:\\Users\\Hp\\anaconda3\\envs\\digit\\lib\\site-packages\\sklearn\\linear_model\\_coordinate_descent.py:530: ConvergenceWarning: Objective did not converge. You might want to increase the number of iterations. Duality gap: 310.71964235650375, tolerance: 0.839975695766382\n",
      "  model = cd_fast.enet_coordinate_descent(\n"
     ]
    },
    {
     "name": "stdout",
     "output_type": "stream",
     "text": [
      "Best Parameters: {'alpha': 0, 'max_iter': 100}\n",
      "R^2 score on training data: 0.92\n",
      "R^2 score: 0.93\n",
      "Mean squared error: 5.32\n",
      "Mean absolute error: 1.86\n"
     ]
    },
    {
     "name": "stderr",
     "output_type": "stream",
     "text": [
      "C:\\Users\\Hp\\anaconda3\\envs\\digit\\lib\\site-packages\\sklearn\\model_selection\\_search.py:880: UserWarning: With alpha=0, this algorithm does not converge well. You are advised to use the LinearRegression estimator\n",
      "  self.best_estimator_.fit(X, y, **fit_params)\n",
      "C:\\Users\\Hp\\anaconda3\\envs\\digit\\lib\\site-packages\\sklearn\\linear_model\\_coordinate_descent.py:530: UserWarning: Coordinate descent with no regularization may lead to unexpected results and is discouraged.\n",
      "  model = cd_fast.enet_coordinate_descent(\n",
      "C:\\Users\\Hp\\anaconda3\\envs\\digit\\lib\\site-packages\\sklearn\\linear_model\\_coordinate_descent.py:530: ConvergenceWarning: Objective did not converge. You might want to increase the number of iterations. Duality gap: 424.8688706050654, tolerance: 1.1146797360374623\n",
      "  model = cd_fast.enet_coordinate_descent(\n"
     ]
    }
   ],
   "source": [
    "scoring = make_scorer(r2_score)\n",
    "grid_cv = GridSearchCV(Lasso(),\n",
    "              param_grid={'alpha': range(0, 10), 'max_iter' : [10, 100, 1000]},\n",
    "              scoring=scoring, cv=5, refit=True)\n",
    "\n",
    "grid_cv.fit(life_features_train, life_labels_train)\n",
    "print(\"Best Parameters: \" + str(grid_cv.best_params_))\n",
    "\n",
    "result = grid_cv.cv_results_\n",
    "print(\"R^2 score on training data: %.2f\" % grid_cv.score(life_features_train, life_labels_train))\n",
    "print(\"R^2 score: %.2f\"\n",
    "      % r2_score(life_labels_test, grid_cv.best_estimator_.predict(life_features_test)))\n",
    "print(\"Mean squared error: %.2f\"\n",
    "      % mean_squared_error(life_labels_test, linear_model_predict))\n",
    "print(\"Mean absolute error: %.2f\"\n",
    "      % mean_absolute_error(life_labels_test, linear_model_predict))"
   ]
  },
  {
   "cell_type": "markdown",
   "id": "ae5fd15e",
   "metadata": {},
   "source": [
    "- Best Parameters: {'alpha': 0, 'max_iter': 100}\n",
    "\n",
    "    \n",
    "- R^2 score on training data: 0.92\n",
    "\n",
    "    \n",
    "- R^2 score: 0.93\n",
    "\n",
    "    \n",
    "- Mean squared error: 5.32\n",
    "\n",
    "    \n",
    "- Mean absolute error: 1.86"
   ]
  },
  {
   "cell_type": "markdown",
   "id": "ac5c86b4",
   "metadata": {},
   "source": [
    "The Lasso Regression uses the L1 regularization which reduces some coefficent weights to zero. Again the regularization is controlled with aplha, decreasing it reduces the weights, also at the same time the max iterations hyperparameter needs to be increased.\n",
    "\n",
    "\n",
    "The best parameters for the Lasso Regression are alpha = 0, and max iterations set to 100. The R square is a little higher at 92 % on the training data and 92 % on the test data the errors continue to stay the same as the Ridge regression."
   ]
  },
  {
   "cell_type": "code",
   "execution_count": 55,
   "id": "7558d920",
   "metadata": {},
   "outputs": [
    {
     "name": "stderr",
     "output_type": "stream",
     "text": [
      "C:\\Users\\Hp\\anaconda3\\envs\\digit\\lib\\site-packages\\sklearn\\model_selection\\_validation.py:593: UserWarning: With alpha=0, this algorithm does not converge well. You are advised to use the LinearRegression estimator\n",
      "  estimator.fit(X_train, y_train, **fit_params)\n",
      "C:\\Users\\Hp\\anaconda3\\envs\\digit\\lib\\site-packages\\sklearn\\linear_model\\_coordinate_descent.py:530: UserWarning: Coordinate descent with no regularization may lead to unexpected results and is discouraged.\n",
      "  model = cd_fast.enet_coordinate_descent(\n",
      "C:\\Users\\Hp\\anaconda3\\envs\\digit\\lib\\site-packages\\sklearn\\linear_model\\_coordinate_descent.py:530: ConvergenceWarning: Objective did not converge. You might want to increase the number of iterations. Duality gap: 354.6723645886365, tolerance: 0.8676557704472319\n",
      "  model = cd_fast.enet_coordinate_descent(\n",
      "C:\\Users\\Hp\\anaconda3\\envs\\digit\\lib\\site-packages\\sklearn\\model_selection\\_validation.py:593: UserWarning: With alpha=0, this algorithm does not converge well. You are advised to use the LinearRegression estimator\n",
      "  estimator.fit(X_train, y_train, **fit_params)\n",
      "C:\\Users\\Hp\\anaconda3\\envs\\digit\\lib\\site-packages\\sklearn\\linear_model\\_coordinate_descent.py:530: UserWarning: Coordinate descent with no regularization may lead to unexpected results and is discouraged.\n",
      "  model = cd_fast.enet_coordinate_descent(\n",
      "C:\\Users\\Hp\\anaconda3\\envs\\digit\\lib\\site-packages\\sklearn\\linear_model\\_coordinate_descent.py:530: ConvergenceWarning: Objective did not converge. You might want to increase the number of iterations. Duality gap: 349.17662930835775, tolerance: 0.8835920777545123\n",
      "  model = cd_fast.enet_coordinate_descent(\n",
      "C:\\Users\\Hp\\anaconda3\\envs\\digit\\lib\\site-packages\\sklearn\\model_selection\\_validation.py:593: UserWarning: With alpha=0, this algorithm does not converge well. You are advised to use the LinearRegression estimator\n",
      "  estimator.fit(X_train, y_train, **fit_params)\n",
      "C:\\Users\\Hp\\anaconda3\\envs\\digit\\lib\\site-packages\\sklearn\\linear_model\\_coordinate_descent.py:530: UserWarning: Coordinate descent with no regularization may lead to unexpected results and is discouraged.\n",
      "  model = cd_fast.enet_coordinate_descent(\n",
      "C:\\Users\\Hp\\anaconda3\\envs\\digit\\lib\\site-packages\\sklearn\\linear_model\\_coordinate_descent.py:530: ConvergenceWarning: Objective did not converge. You might want to increase the number of iterations. Duality gap: 358.1655302790138, tolerance: 0.9758465129439269\n",
      "  model = cd_fast.enet_coordinate_descent(\n",
      "C:\\Users\\Hp\\anaconda3\\envs\\digit\\lib\\site-packages\\sklearn\\model_selection\\_validation.py:593: UserWarning: With alpha=0, this algorithm does not converge well. You are advised to use the LinearRegression estimator\n",
      "  estimator.fit(X_train, y_train, **fit_params)\n",
      "C:\\Users\\Hp\\anaconda3\\envs\\digit\\lib\\site-packages\\sklearn\\linear_model\\_coordinate_descent.py:530: UserWarning: Coordinate descent with no regularization may lead to unexpected results and is discouraged.\n",
      "  model = cd_fast.enet_coordinate_descent(\n",
      "C:\\Users\\Hp\\anaconda3\\envs\\digit\\lib\\site-packages\\sklearn\\linear_model\\_coordinate_descent.py:530: ConvergenceWarning: Objective did not converge. You might want to increase the number of iterations. Duality gap: 317.1665383843632, tolerance: 0.8832357133948913\n",
      "  model = cd_fast.enet_coordinate_descent(\n",
      "C:\\Users\\Hp\\anaconda3\\envs\\digit\\lib\\site-packages\\sklearn\\model_selection\\_validation.py:593: UserWarning: With alpha=0, this algorithm does not converge well. You are advised to use the LinearRegression estimator\n",
      "  estimator.fit(X_train, y_train, **fit_params)\n",
      "C:\\Users\\Hp\\anaconda3\\envs\\digit\\lib\\site-packages\\sklearn\\linear_model\\_coordinate_descent.py:530: UserWarning: Coordinate descent with no regularization may lead to unexpected results and is discouraged.\n",
      "  model = cd_fast.enet_coordinate_descent(\n",
      "C:\\Users\\Hp\\anaconda3\\envs\\digit\\lib\\site-packages\\sklearn\\linear_model\\_coordinate_descent.py:530: ConvergenceWarning: Objective did not converge. You might want to increase the number of iterations. Duality gap: 329.6994636613903, tolerance: 0.839975695766382\n",
      "  model = cd_fast.enet_coordinate_descent(\n",
      "C:\\Users\\Hp\\anaconda3\\envs\\digit\\lib\\site-packages\\sklearn\\model_selection\\_validation.py:593: UserWarning: With alpha=0, this algorithm does not converge well. You are advised to use the LinearRegression estimator\n",
      "  estimator.fit(X_train, y_train, **fit_params)\n",
      "C:\\Users\\Hp\\anaconda3\\envs\\digit\\lib\\site-packages\\sklearn\\linear_model\\_coordinate_descent.py:530: UserWarning: Coordinate descent with no regularization may lead to unexpected results and is discouraged.\n",
      "  model = cd_fast.enet_coordinate_descent(\n",
      "C:\\Users\\Hp\\anaconda3\\envs\\digit\\lib\\site-packages\\sklearn\\linear_model\\_coordinate_descent.py:530: ConvergenceWarning: Objective did not converge. You might want to increase the number of iterations. Duality gap: 330.77576886512924, tolerance: 0.8676557704472319\n",
      "  model = cd_fast.enet_coordinate_descent(\n",
      "C:\\Users\\Hp\\anaconda3\\envs\\digit\\lib\\site-packages\\sklearn\\model_selection\\_validation.py:593: UserWarning: With alpha=0, this algorithm does not converge well. You are advised to use the LinearRegression estimator\n",
      "  estimator.fit(X_train, y_train, **fit_params)\n",
      "C:\\Users\\Hp\\anaconda3\\envs\\digit\\lib\\site-packages\\sklearn\\linear_model\\_coordinate_descent.py:530: UserWarning: Coordinate descent with no regularization may lead to unexpected results and is discouraged.\n",
      "  model = cd_fast.enet_coordinate_descent(\n",
      "C:\\Users\\Hp\\anaconda3\\envs\\digit\\lib\\site-packages\\sklearn\\linear_model\\_coordinate_descent.py:530: ConvergenceWarning: Objective did not converge. You might want to increase the number of iterations. Duality gap: 333.52776559155404, tolerance: 0.8835920777545123\n",
      "  model = cd_fast.enet_coordinate_descent(\n",
      "C:\\Users\\Hp\\anaconda3\\envs\\digit\\lib\\site-packages\\sklearn\\model_selection\\_validation.py:593: UserWarning: With alpha=0, this algorithm does not converge well. You are advised to use the LinearRegression estimator\n",
      "  estimator.fit(X_train, y_train, **fit_params)\n",
      "C:\\Users\\Hp\\anaconda3\\envs\\digit\\lib\\site-packages\\sklearn\\linear_model\\_coordinate_descent.py:530: UserWarning: Coordinate descent with no regularization may lead to unexpected results and is discouraged.\n",
      "  model = cd_fast.enet_coordinate_descent(\n",
      "C:\\Users\\Hp\\anaconda3\\envs\\digit\\lib\\site-packages\\sklearn\\linear_model\\_coordinate_descent.py:530: ConvergenceWarning: Objective did not converge. You might want to increase the number of iterations. Duality gap: 343.7983738593492, tolerance: 0.9758465129439269\n",
      "  model = cd_fast.enet_coordinate_descent(\n",
      "C:\\Users\\Hp\\anaconda3\\envs\\digit\\lib\\site-packages\\sklearn\\model_selection\\_validation.py:593: UserWarning: With alpha=0, this algorithm does not converge well. You are advised to use the LinearRegression estimator\n",
      "  estimator.fit(X_train, y_train, **fit_params)\n",
      "C:\\Users\\Hp\\anaconda3\\envs\\digit\\lib\\site-packages\\sklearn\\linear_model\\_coordinate_descent.py:530: UserWarning: Coordinate descent with no regularization may lead to unexpected results and is discouraged.\n",
      "  model = cd_fast.enet_coordinate_descent(\n",
      "C:\\Users\\Hp\\anaconda3\\envs\\digit\\lib\\site-packages\\sklearn\\linear_model\\_coordinate_descent.py:530: ConvergenceWarning: Objective did not converge. You might want to increase the number of iterations. Duality gap: 303.3692986878177, tolerance: 0.8832357133948913\n",
      "  model = cd_fast.enet_coordinate_descent(\n",
      "C:\\Users\\Hp\\anaconda3\\envs\\digit\\lib\\site-packages\\sklearn\\model_selection\\_validation.py:593: UserWarning: With alpha=0, this algorithm does not converge well. You are advised to use the LinearRegression estimator\n",
      "  estimator.fit(X_train, y_train, **fit_params)\n",
      "C:\\Users\\Hp\\anaconda3\\envs\\digit\\lib\\site-packages\\sklearn\\linear_model\\_coordinate_descent.py:530: UserWarning: Coordinate descent with no regularization may lead to unexpected results and is discouraged.\n",
      "  model = cd_fast.enet_coordinate_descent(\n",
      "C:\\Users\\Hp\\anaconda3\\envs\\digit\\lib\\site-packages\\sklearn\\linear_model\\_coordinate_descent.py:530: ConvergenceWarning: Objective did not converge. You might want to increase the number of iterations. Duality gap: 317.2584822852505, tolerance: 0.839975695766382\n",
      "  model = cd_fast.enet_coordinate_descent(\n",
      "C:\\Users\\Hp\\anaconda3\\envs\\digit\\lib\\site-packages\\sklearn\\model_selection\\_validation.py:593: UserWarning: With alpha=0, this algorithm does not converge well. You are advised to use the LinearRegression estimator\n",
      "  estimator.fit(X_train, y_train, **fit_params)\n",
      "C:\\Users\\Hp\\anaconda3\\envs\\digit\\lib\\site-packages\\sklearn\\linear_model\\_coordinate_descent.py:530: UserWarning: Coordinate descent with no regularization may lead to unexpected results and is discouraged.\n",
      "  model = cd_fast.enet_coordinate_descent(\n",
      "C:\\Users\\Hp\\anaconda3\\envs\\digit\\lib\\site-packages\\sklearn\\linear_model\\_coordinate_descent.py:530: ConvergenceWarning: Objective did not converge. You might want to increase the number of iterations. Duality gap: 317.6368515287737, tolerance: 0.8676557704472319\n",
      "  model = cd_fast.enet_coordinate_descent(\n",
      "C:\\Users\\Hp\\anaconda3\\envs\\digit\\lib\\site-packages\\sklearn\\model_selection\\_validation.py:593: UserWarning: With alpha=0, this algorithm does not converge well. You are advised to use the LinearRegression estimator\n",
      "  estimator.fit(X_train, y_train, **fit_params)\n",
      "C:\\Users\\Hp\\anaconda3\\envs\\digit\\lib\\site-packages\\sklearn\\linear_model\\_coordinate_descent.py:530: UserWarning: Coordinate descent with no regularization may lead to unexpected results and is discouraged.\n",
      "  model = cd_fast.enet_coordinate_descent(\n",
      "C:\\Users\\Hp\\anaconda3\\envs\\digit\\lib\\site-packages\\sklearn\\linear_model\\_coordinate_descent.py:530: ConvergenceWarning: Objective did not converge. You might want to increase the number of iterations. Duality gap: 323.0521262588446, tolerance: 0.8835920777545123\n",
      "  model = cd_fast.enet_coordinate_descent(\n",
      "C:\\Users\\Hp\\anaconda3\\envs\\digit\\lib\\site-packages\\sklearn\\model_selection\\_validation.py:593: UserWarning: With alpha=0, this algorithm does not converge well. You are advised to use the LinearRegression estimator\n",
      "  estimator.fit(X_train, y_train, **fit_params)\n",
      "C:\\Users\\Hp\\anaconda3\\envs\\digit\\lib\\site-packages\\sklearn\\linear_model\\_coordinate_descent.py:530: UserWarning: Coordinate descent with no regularization may lead to unexpected results and is discouraged.\n",
      "  model = cd_fast.enet_coordinate_descent(\n",
      "C:\\Users\\Hp\\anaconda3\\envs\\digit\\lib\\site-packages\\sklearn\\linear_model\\_coordinate_descent.py:530: ConvergenceWarning: Objective did not converge. You might want to increase the number of iterations. Duality gap: 338.49179751290274, tolerance: 0.9758465129439269\n",
      "  model = cd_fast.enet_coordinate_descent(\n",
      "C:\\Users\\Hp\\anaconda3\\envs\\digit\\lib\\site-packages\\sklearn\\model_selection\\_validation.py:593: UserWarning: With alpha=0, this algorithm does not converge well. You are advised to use the LinearRegression estimator\n",
      "  estimator.fit(X_train, y_train, **fit_params)\n",
      "C:\\Users\\Hp\\anaconda3\\envs\\digit\\lib\\site-packages\\sklearn\\linear_model\\_coordinate_descent.py:530: UserWarning: Coordinate descent with no regularization may lead to unexpected results and is discouraged.\n",
      "  model = cd_fast.enet_coordinate_descent(\n",
      "C:\\Users\\Hp\\anaconda3\\envs\\digit\\lib\\site-packages\\sklearn\\linear_model\\_coordinate_descent.py:530: ConvergenceWarning: Objective did not converge. You might want to increase the number of iterations. Duality gap: 297.6617839352173, tolerance: 0.8832357133948913\n",
      "  model = cd_fast.enet_coordinate_descent(\n",
      "C:\\Users\\Hp\\anaconda3\\envs\\digit\\lib\\site-packages\\sklearn\\model_selection\\_validation.py:593: UserWarning: With alpha=0, this algorithm does not converge well. You are advised to use the LinearRegression estimator\n",
      "  estimator.fit(X_train, y_train, **fit_params)\n",
      "C:\\Users\\Hp\\anaconda3\\envs\\digit\\lib\\site-packages\\sklearn\\linear_model\\_coordinate_descent.py:530: UserWarning: Coordinate descent with no regularization may lead to unexpected results and is discouraged.\n",
      "  model = cd_fast.enet_coordinate_descent(\n",
      "C:\\Users\\Hp\\anaconda3\\envs\\digit\\lib\\site-packages\\sklearn\\linear_model\\_coordinate_descent.py:530: ConvergenceWarning: Objective did not converge. You might want to increase the number of iterations. Duality gap: 310.71964235650375, tolerance: 0.839975695766382\n",
      "  model = cd_fast.enet_coordinate_descent(\n",
      "C:\\Users\\Hp\\anaconda3\\envs\\digit\\lib\\site-packages\\sklearn\\model_selection\\_validation.py:593: UserWarning: With alpha=0, this algorithm does not converge well. You are advised to use the LinearRegression estimator\n",
      "  estimator.fit(X_train, y_train, **fit_params)\n",
      "C:\\Users\\Hp\\anaconda3\\envs\\digit\\lib\\site-packages\\sklearn\\linear_model\\_coordinate_descent.py:530: UserWarning: Coordinate descent with no regularization may lead to unexpected results and is discouraged.\n",
      "  model = cd_fast.enet_coordinate_descent(\n",
      "C:\\Users\\Hp\\anaconda3\\envs\\digit\\lib\\site-packages\\sklearn\\linear_model\\_coordinate_descent.py:530: ConvergenceWarning: Objective did not converge. You might want to increase the number of iterations. Duality gap: 354.6723645886365, tolerance: 0.8676557704472319\n",
      "  model = cd_fast.enet_coordinate_descent(\n",
      "C:\\Users\\Hp\\anaconda3\\envs\\digit\\lib\\site-packages\\sklearn\\model_selection\\_validation.py:593: UserWarning: With alpha=0, this algorithm does not converge well. You are advised to use the LinearRegression estimator\n",
      "  estimator.fit(X_train, y_train, **fit_params)\n",
      "C:\\Users\\Hp\\anaconda3\\envs\\digit\\lib\\site-packages\\sklearn\\linear_model\\_coordinate_descent.py:530: UserWarning: Coordinate descent with no regularization may lead to unexpected results and is discouraged.\n",
      "  model = cd_fast.enet_coordinate_descent(\n",
      "C:\\Users\\Hp\\anaconda3\\envs\\digit\\lib\\site-packages\\sklearn\\linear_model\\_coordinate_descent.py:530: ConvergenceWarning: Objective did not converge. You might want to increase the number of iterations. Duality gap: 349.17662930835775, tolerance: 0.8835920777545123\n",
      "  model = cd_fast.enet_coordinate_descent(\n",
      "C:\\Users\\Hp\\anaconda3\\envs\\digit\\lib\\site-packages\\sklearn\\model_selection\\_validation.py:593: UserWarning: With alpha=0, this algorithm does not converge well. You are advised to use the LinearRegression estimator\n",
      "  estimator.fit(X_train, y_train, **fit_params)\n",
      "C:\\Users\\Hp\\anaconda3\\envs\\digit\\lib\\site-packages\\sklearn\\linear_model\\_coordinate_descent.py:530: UserWarning: Coordinate descent with no regularization may lead to unexpected results and is discouraged.\n",
      "  model = cd_fast.enet_coordinate_descent(\n",
      "C:\\Users\\Hp\\anaconda3\\envs\\digit\\lib\\site-packages\\sklearn\\linear_model\\_coordinate_descent.py:530: ConvergenceWarning: Objective did not converge. You might want to increase the number of iterations. Duality gap: 358.1655302790138, tolerance: 0.9758465129439269\n",
      "  model = cd_fast.enet_coordinate_descent(\n",
      "C:\\Users\\Hp\\anaconda3\\envs\\digit\\lib\\site-packages\\sklearn\\model_selection\\_validation.py:593: UserWarning: With alpha=0, this algorithm does not converge well. You are advised to use the LinearRegression estimator\n",
      "  estimator.fit(X_train, y_train, **fit_params)\n",
      "C:\\Users\\Hp\\anaconda3\\envs\\digit\\lib\\site-packages\\sklearn\\linear_model\\_coordinate_descent.py:530: UserWarning: Coordinate descent with no regularization may lead to unexpected results and is discouraged.\n",
      "  model = cd_fast.enet_coordinate_descent(\n",
      "C:\\Users\\Hp\\anaconda3\\envs\\digit\\lib\\site-packages\\sklearn\\linear_model\\_coordinate_descent.py:530: ConvergenceWarning: Objective did not converge. You might want to increase the number of iterations. Duality gap: 317.1665383843632, tolerance: 0.8832357133948913\n",
      "  model = cd_fast.enet_coordinate_descent(\n",
      "C:\\Users\\Hp\\anaconda3\\envs\\digit\\lib\\site-packages\\sklearn\\model_selection\\_validation.py:593: UserWarning: With alpha=0, this algorithm does not converge well. You are advised to use the LinearRegression estimator\n",
      "  estimator.fit(X_train, y_train, **fit_params)\n",
      "C:\\Users\\Hp\\anaconda3\\envs\\digit\\lib\\site-packages\\sklearn\\linear_model\\_coordinate_descent.py:530: UserWarning: Coordinate descent with no regularization may lead to unexpected results and is discouraged.\n",
      "  model = cd_fast.enet_coordinate_descent(\n",
      "C:\\Users\\Hp\\anaconda3\\envs\\digit\\lib\\site-packages\\sklearn\\linear_model\\_coordinate_descent.py:530: ConvergenceWarning: Objective did not converge. You might want to increase the number of iterations. Duality gap: 329.6994636613903, tolerance: 0.839975695766382\n",
      "  model = cd_fast.enet_coordinate_descent(\n",
      "C:\\Users\\Hp\\anaconda3\\envs\\digit\\lib\\site-packages\\sklearn\\model_selection\\_validation.py:593: UserWarning: With alpha=0, this algorithm does not converge well. You are advised to use the LinearRegression estimator\n",
      "  estimator.fit(X_train, y_train, **fit_params)\n",
      "C:\\Users\\Hp\\anaconda3\\envs\\digit\\lib\\site-packages\\sklearn\\linear_model\\_coordinate_descent.py:530: UserWarning: Coordinate descent with no regularization may lead to unexpected results and is discouraged.\n",
      "  model = cd_fast.enet_coordinate_descent(\n",
      "C:\\Users\\Hp\\anaconda3\\envs\\digit\\lib\\site-packages\\sklearn\\linear_model\\_coordinate_descent.py:530: ConvergenceWarning: Objective did not converge. You might want to increase the number of iterations. Duality gap: 330.77576886512924, tolerance: 0.8676557704472319\n",
      "  model = cd_fast.enet_coordinate_descent(\n",
      "C:\\Users\\Hp\\anaconda3\\envs\\digit\\lib\\site-packages\\sklearn\\model_selection\\_validation.py:593: UserWarning: With alpha=0, this algorithm does not converge well. You are advised to use the LinearRegression estimator\n",
      "  estimator.fit(X_train, y_train, **fit_params)\n",
      "C:\\Users\\Hp\\anaconda3\\envs\\digit\\lib\\site-packages\\sklearn\\linear_model\\_coordinate_descent.py:530: UserWarning: Coordinate descent with no regularization may lead to unexpected results and is discouraged.\n",
      "  model = cd_fast.enet_coordinate_descent(\n",
      "C:\\Users\\Hp\\anaconda3\\envs\\digit\\lib\\site-packages\\sklearn\\linear_model\\_coordinate_descent.py:530: ConvergenceWarning: Objective did not converge. You might want to increase the number of iterations. Duality gap: 333.52776559155404, tolerance: 0.8835920777545123\n",
      "  model = cd_fast.enet_coordinate_descent(\n",
      "C:\\Users\\Hp\\anaconda3\\envs\\digit\\lib\\site-packages\\sklearn\\model_selection\\_validation.py:593: UserWarning: With alpha=0, this algorithm does not converge well. You are advised to use the LinearRegression estimator\n",
      "  estimator.fit(X_train, y_train, **fit_params)\n",
      "C:\\Users\\Hp\\anaconda3\\envs\\digit\\lib\\site-packages\\sklearn\\linear_model\\_coordinate_descent.py:530: UserWarning: Coordinate descent with no regularization may lead to unexpected results and is discouraged.\n",
      "  model = cd_fast.enet_coordinate_descent(\n",
      "C:\\Users\\Hp\\anaconda3\\envs\\digit\\lib\\site-packages\\sklearn\\linear_model\\_coordinate_descent.py:530: ConvergenceWarning: Objective did not converge. You might want to increase the number of iterations. Duality gap: 343.7983738593492, tolerance: 0.9758465129439269\n",
      "  model = cd_fast.enet_coordinate_descent(\n",
      "C:\\Users\\Hp\\anaconda3\\envs\\digit\\lib\\site-packages\\sklearn\\model_selection\\_validation.py:593: UserWarning: With alpha=0, this algorithm does not converge well. You are advised to use the LinearRegression estimator\n",
      "  estimator.fit(X_train, y_train, **fit_params)\n",
      "C:\\Users\\Hp\\anaconda3\\envs\\digit\\lib\\site-packages\\sklearn\\linear_model\\_coordinate_descent.py:530: UserWarning: Coordinate descent with no regularization may lead to unexpected results and is discouraged.\n",
      "  model = cd_fast.enet_coordinate_descent(\n",
      "C:\\Users\\Hp\\anaconda3\\envs\\digit\\lib\\site-packages\\sklearn\\linear_model\\_coordinate_descent.py:530: ConvergenceWarning: Objective did not converge. You might want to increase the number of iterations. Duality gap: 303.3692986878177, tolerance: 0.8832357133948913\n",
      "  model = cd_fast.enet_coordinate_descent(\n",
      "C:\\Users\\Hp\\anaconda3\\envs\\digit\\lib\\site-packages\\sklearn\\model_selection\\_validation.py:593: UserWarning: With alpha=0, this algorithm does not converge well. You are advised to use the LinearRegression estimator\n",
      "  estimator.fit(X_train, y_train, **fit_params)\n",
      "C:\\Users\\Hp\\anaconda3\\envs\\digit\\lib\\site-packages\\sklearn\\linear_model\\_coordinate_descent.py:530: UserWarning: Coordinate descent with no regularization may lead to unexpected results and is discouraged.\n",
      "  model = cd_fast.enet_coordinate_descent(\n",
      "C:\\Users\\Hp\\anaconda3\\envs\\digit\\lib\\site-packages\\sklearn\\linear_model\\_coordinate_descent.py:530: ConvergenceWarning: Objective did not converge. You might want to increase the number of iterations. Duality gap: 317.2584822852505, tolerance: 0.839975695766382\n",
      "  model = cd_fast.enet_coordinate_descent(\n",
      "C:\\Users\\Hp\\anaconda3\\envs\\digit\\lib\\site-packages\\sklearn\\model_selection\\_validation.py:593: UserWarning: With alpha=0, this algorithm does not converge well. You are advised to use the LinearRegression estimator\n",
      "  estimator.fit(X_train, y_train, **fit_params)\n",
      "C:\\Users\\Hp\\anaconda3\\envs\\digit\\lib\\site-packages\\sklearn\\linear_model\\_coordinate_descent.py:530: UserWarning: Coordinate descent with no regularization may lead to unexpected results and is discouraged.\n",
      "  model = cd_fast.enet_coordinate_descent(\n",
      "C:\\Users\\Hp\\anaconda3\\envs\\digit\\lib\\site-packages\\sklearn\\linear_model\\_coordinate_descent.py:530: ConvergenceWarning: Objective did not converge. You might want to increase the number of iterations. Duality gap: 317.6368515287737, tolerance: 0.8676557704472319\n",
      "  model = cd_fast.enet_coordinate_descent(\n",
      "C:\\Users\\Hp\\anaconda3\\envs\\digit\\lib\\site-packages\\sklearn\\model_selection\\_validation.py:593: UserWarning: With alpha=0, this algorithm does not converge well. You are advised to use the LinearRegression estimator\n",
      "  estimator.fit(X_train, y_train, **fit_params)\n",
      "C:\\Users\\Hp\\anaconda3\\envs\\digit\\lib\\site-packages\\sklearn\\linear_model\\_coordinate_descent.py:530: UserWarning: Coordinate descent with no regularization may lead to unexpected results and is discouraged.\n",
      "  model = cd_fast.enet_coordinate_descent(\n",
      "C:\\Users\\Hp\\anaconda3\\envs\\digit\\lib\\site-packages\\sklearn\\linear_model\\_coordinate_descent.py:530: ConvergenceWarning: Objective did not converge. You might want to increase the number of iterations. Duality gap: 323.0521262588446, tolerance: 0.8835920777545123\n",
      "  model = cd_fast.enet_coordinate_descent(\n",
      "C:\\Users\\Hp\\anaconda3\\envs\\digit\\lib\\site-packages\\sklearn\\model_selection\\_validation.py:593: UserWarning: With alpha=0, this algorithm does not converge well. You are advised to use the LinearRegression estimator\n",
      "  estimator.fit(X_train, y_train, **fit_params)\n",
      "C:\\Users\\Hp\\anaconda3\\envs\\digit\\lib\\site-packages\\sklearn\\linear_model\\_coordinate_descent.py:530: UserWarning: Coordinate descent with no regularization may lead to unexpected results and is discouraged.\n",
      "  model = cd_fast.enet_coordinate_descent(\n",
      "C:\\Users\\Hp\\anaconda3\\envs\\digit\\lib\\site-packages\\sklearn\\linear_model\\_coordinate_descent.py:530: ConvergenceWarning: Objective did not converge. You might want to increase the number of iterations. Duality gap: 338.49179751290274, tolerance: 0.9758465129439269\n",
      "  model = cd_fast.enet_coordinate_descent(\n",
      "C:\\Users\\Hp\\anaconda3\\envs\\digit\\lib\\site-packages\\sklearn\\model_selection\\_validation.py:593: UserWarning: With alpha=0, this algorithm does not converge well. You are advised to use the LinearRegression estimator\n",
      "  estimator.fit(X_train, y_train, **fit_params)\n",
      "C:\\Users\\Hp\\anaconda3\\envs\\digit\\lib\\site-packages\\sklearn\\linear_model\\_coordinate_descent.py:530: UserWarning: Coordinate descent with no regularization may lead to unexpected results and is discouraged.\n",
      "  model = cd_fast.enet_coordinate_descent(\n",
      "C:\\Users\\Hp\\anaconda3\\envs\\digit\\lib\\site-packages\\sklearn\\linear_model\\_coordinate_descent.py:530: ConvergenceWarning: Objective did not converge. You might want to increase the number of iterations. Duality gap: 297.6617839352173, tolerance: 0.8832357133948913\n",
      "  model = cd_fast.enet_coordinate_descent(\n",
      "C:\\Users\\Hp\\anaconda3\\envs\\digit\\lib\\site-packages\\sklearn\\model_selection\\_validation.py:593: UserWarning: With alpha=0, this algorithm does not converge well. You are advised to use the LinearRegression estimator\n",
      "  estimator.fit(X_train, y_train, **fit_params)\n",
      "C:\\Users\\Hp\\anaconda3\\envs\\digit\\lib\\site-packages\\sklearn\\linear_model\\_coordinate_descent.py:530: UserWarning: Coordinate descent with no regularization may lead to unexpected results and is discouraged.\n",
      "  model = cd_fast.enet_coordinate_descent(\n",
      "C:\\Users\\Hp\\anaconda3\\envs\\digit\\lib\\site-packages\\sklearn\\linear_model\\_coordinate_descent.py:530: ConvergenceWarning: Objective did not converge. You might want to increase the number of iterations. Duality gap: 310.71964235650375, tolerance: 0.839975695766382\n",
      "  model = cd_fast.enet_coordinate_descent(\n",
      "C:\\Users\\Hp\\anaconda3\\envs\\digit\\lib\\site-packages\\sklearn\\model_selection\\_validation.py:593: UserWarning: With alpha=0, this algorithm does not converge well. You are advised to use the LinearRegression estimator\n",
      "  estimator.fit(X_train, y_train, **fit_params)\n",
      "C:\\Users\\Hp\\anaconda3\\envs\\digit\\lib\\site-packages\\sklearn\\linear_model\\_coordinate_descent.py:530: UserWarning: Coordinate descent with no regularization may lead to unexpected results and is discouraged.\n",
      "  model = cd_fast.enet_coordinate_descent(\n",
      "C:\\Users\\Hp\\anaconda3\\envs\\digit\\lib\\site-packages\\sklearn\\linear_model\\_coordinate_descent.py:530: ConvergenceWarning: Objective did not converge. You might want to increase the number of iterations. Duality gap: 354.6723645886365, tolerance: 0.8676557704472319\n",
      "  model = cd_fast.enet_coordinate_descent(\n",
      "C:\\Users\\Hp\\anaconda3\\envs\\digit\\lib\\site-packages\\sklearn\\model_selection\\_validation.py:593: UserWarning: With alpha=0, this algorithm does not converge well. You are advised to use the LinearRegression estimator\n",
      "  estimator.fit(X_train, y_train, **fit_params)\n",
      "C:\\Users\\Hp\\anaconda3\\envs\\digit\\lib\\site-packages\\sklearn\\linear_model\\_coordinate_descent.py:530: UserWarning: Coordinate descent with no regularization may lead to unexpected results and is discouraged.\n",
      "  model = cd_fast.enet_coordinate_descent(\n",
      "C:\\Users\\Hp\\anaconda3\\envs\\digit\\lib\\site-packages\\sklearn\\linear_model\\_coordinate_descent.py:530: ConvergenceWarning: Objective did not converge. You might want to increase the number of iterations. Duality gap: 349.17662930835775, tolerance: 0.8835920777545123\n",
      "  model = cd_fast.enet_coordinate_descent(\n",
      "C:\\Users\\Hp\\anaconda3\\envs\\digit\\lib\\site-packages\\sklearn\\model_selection\\_validation.py:593: UserWarning: With alpha=0, this algorithm does not converge well. You are advised to use the LinearRegression estimator\n",
      "  estimator.fit(X_train, y_train, **fit_params)\n",
      "C:\\Users\\Hp\\anaconda3\\envs\\digit\\lib\\site-packages\\sklearn\\linear_model\\_coordinate_descent.py:530: UserWarning: Coordinate descent with no regularization may lead to unexpected results and is discouraged.\n",
      "  model = cd_fast.enet_coordinate_descent(\n",
      "C:\\Users\\Hp\\anaconda3\\envs\\digit\\lib\\site-packages\\sklearn\\linear_model\\_coordinate_descent.py:530: ConvergenceWarning: Objective did not converge. You might want to increase the number of iterations. Duality gap: 358.1655302790138, tolerance: 0.9758465129439269\n",
      "  model = cd_fast.enet_coordinate_descent(\n",
      "C:\\Users\\Hp\\anaconda3\\envs\\digit\\lib\\site-packages\\sklearn\\model_selection\\_validation.py:593: UserWarning: With alpha=0, this algorithm does not converge well. You are advised to use the LinearRegression estimator\n",
      "  estimator.fit(X_train, y_train, **fit_params)\n",
      "C:\\Users\\Hp\\anaconda3\\envs\\digit\\lib\\site-packages\\sklearn\\linear_model\\_coordinate_descent.py:530: UserWarning: Coordinate descent with no regularization may lead to unexpected results and is discouraged.\n",
      "  model = cd_fast.enet_coordinate_descent(\n",
      "C:\\Users\\Hp\\anaconda3\\envs\\digit\\lib\\site-packages\\sklearn\\linear_model\\_coordinate_descent.py:530: ConvergenceWarning: Objective did not converge. You might want to increase the number of iterations. Duality gap: 317.1665383843632, tolerance: 0.8832357133948913\n",
      "  model = cd_fast.enet_coordinate_descent(\n",
      "C:\\Users\\Hp\\anaconda3\\envs\\digit\\lib\\site-packages\\sklearn\\model_selection\\_validation.py:593: UserWarning: With alpha=0, this algorithm does not converge well. You are advised to use the LinearRegression estimator\n",
      "  estimator.fit(X_train, y_train, **fit_params)\n",
      "C:\\Users\\Hp\\anaconda3\\envs\\digit\\lib\\site-packages\\sklearn\\linear_model\\_coordinate_descent.py:530: UserWarning: Coordinate descent with no regularization may lead to unexpected results and is discouraged.\n",
      "  model = cd_fast.enet_coordinate_descent(\n",
      "C:\\Users\\Hp\\anaconda3\\envs\\digit\\lib\\site-packages\\sklearn\\linear_model\\_coordinate_descent.py:530: ConvergenceWarning: Objective did not converge. You might want to increase the number of iterations. Duality gap: 329.6994636613903, tolerance: 0.839975695766382\n",
      "  model = cd_fast.enet_coordinate_descent(\n",
      "C:\\Users\\Hp\\anaconda3\\envs\\digit\\lib\\site-packages\\sklearn\\model_selection\\_validation.py:593: UserWarning: With alpha=0, this algorithm does not converge well. You are advised to use the LinearRegression estimator\n",
      "  estimator.fit(X_train, y_train, **fit_params)\n",
      "C:\\Users\\Hp\\anaconda3\\envs\\digit\\lib\\site-packages\\sklearn\\linear_model\\_coordinate_descent.py:530: UserWarning: Coordinate descent with no regularization may lead to unexpected results and is discouraged.\n",
      "  model = cd_fast.enet_coordinate_descent(\n",
      "C:\\Users\\Hp\\anaconda3\\envs\\digit\\lib\\site-packages\\sklearn\\linear_model\\_coordinate_descent.py:530: ConvergenceWarning: Objective did not converge. You might want to increase the number of iterations. Duality gap: 330.77576886512924, tolerance: 0.8676557704472319\n",
      "  model = cd_fast.enet_coordinate_descent(\n",
      "C:\\Users\\Hp\\anaconda3\\envs\\digit\\lib\\site-packages\\sklearn\\model_selection\\_validation.py:593: UserWarning: With alpha=0, this algorithm does not converge well. You are advised to use the LinearRegression estimator\n",
      "  estimator.fit(X_train, y_train, **fit_params)\n",
      "C:\\Users\\Hp\\anaconda3\\envs\\digit\\lib\\site-packages\\sklearn\\linear_model\\_coordinate_descent.py:530: UserWarning: Coordinate descent with no regularization may lead to unexpected results and is discouraged.\n",
      "  model = cd_fast.enet_coordinate_descent(\n",
      "C:\\Users\\Hp\\anaconda3\\envs\\digit\\lib\\site-packages\\sklearn\\linear_model\\_coordinate_descent.py:530: ConvergenceWarning: Objective did not converge. You might want to increase the number of iterations. Duality gap: 333.52776559155404, tolerance: 0.8835920777545123\n",
      "  model = cd_fast.enet_coordinate_descent(\n",
      "C:\\Users\\Hp\\anaconda3\\envs\\digit\\lib\\site-packages\\sklearn\\model_selection\\_validation.py:593: UserWarning: With alpha=0, this algorithm does not converge well. You are advised to use the LinearRegression estimator\n",
      "  estimator.fit(X_train, y_train, **fit_params)\n",
      "C:\\Users\\Hp\\anaconda3\\envs\\digit\\lib\\site-packages\\sklearn\\linear_model\\_coordinate_descent.py:530: UserWarning: Coordinate descent with no regularization may lead to unexpected results and is discouraged.\n",
      "  model = cd_fast.enet_coordinate_descent(\n",
      "C:\\Users\\Hp\\anaconda3\\envs\\digit\\lib\\site-packages\\sklearn\\linear_model\\_coordinate_descent.py:530: ConvergenceWarning: Objective did not converge. You might want to increase the number of iterations. Duality gap: 343.7983738593492, tolerance: 0.9758465129439269\n",
      "  model = cd_fast.enet_coordinate_descent(\n",
      "C:\\Users\\Hp\\anaconda3\\envs\\digit\\lib\\site-packages\\sklearn\\model_selection\\_validation.py:593: UserWarning: With alpha=0, this algorithm does not converge well. You are advised to use the LinearRegression estimator\n",
      "  estimator.fit(X_train, y_train, **fit_params)\n",
      "C:\\Users\\Hp\\anaconda3\\envs\\digit\\lib\\site-packages\\sklearn\\linear_model\\_coordinate_descent.py:530: UserWarning: Coordinate descent with no regularization may lead to unexpected results and is discouraged.\n",
      "  model = cd_fast.enet_coordinate_descent(\n",
      "C:\\Users\\Hp\\anaconda3\\envs\\digit\\lib\\site-packages\\sklearn\\linear_model\\_coordinate_descent.py:530: ConvergenceWarning: Objective did not converge. You might want to increase the number of iterations. Duality gap: 303.3692986878177, tolerance: 0.8832357133948913\n",
      "  model = cd_fast.enet_coordinate_descent(\n",
      "C:\\Users\\Hp\\anaconda3\\envs\\digit\\lib\\site-packages\\sklearn\\model_selection\\_validation.py:593: UserWarning: With alpha=0, this algorithm does not converge well. You are advised to use the LinearRegression estimator\n",
      "  estimator.fit(X_train, y_train, **fit_params)\n",
      "C:\\Users\\Hp\\anaconda3\\envs\\digit\\lib\\site-packages\\sklearn\\linear_model\\_coordinate_descent.py:530: UserWarning: Coordinate descent with no regularization may lead to unexpected results and is discouraged.\n",
      "  model = cd_fast.enet_coordinate_descent(\n",
      "C:\\Users\\Hp\\anaconda3\\envs\\digit\\lib\\site-packages\\sklearn\\linear_model\\_coordinate_descent.py:530: ConvergenceWarning: Objective did not converge. You might want to increase the number of iterations. Duality gap: 317.2584822852505, tolerance: 0.839975695766382\n",
      "  model = cd_fast.enet_coordinate_descent(\n",
      "C:\\Users\\Hp\\anaconda3\\envs\\digit\\lib\\site-packages\\sklearn\\model_selection\\_validation.py:593: UserWarning: With alpha=0, this algorithm does not converge well. You are advised to use the LinearRegression estimator\n",
      "  estimator.fit(X_train, y_train, **fit_params)\n",
      "C:\\Users\\Hp\\anaconda3\\envs\\digit\\lib\\site-packages\\sklearn\\linear_model\\_coordinate_descent.py:530: UserWarning: Coordinate descent with no regularization may lead to unexpected results and is discouraged.\n",
      "  model = cd_fast.enet_coordinate_descent(\n",
      "C:\\Users\\Hp\\anaconda3\\envs\\digit\\lib\\site-packages\\sklearn\\linear_model\\_coordinate_descent.py:530: ConvergenceWarning: Objective did not converge. You might want to increase the number of iterations. Duality gap: 317.6368515287737, tolerance: 0.8676557704472319\n",
      "  model = cd_fast.enet_coordinate_descent(\n"
     ]
    },
    {
     "name": "stderr",
     "output_type": "stream",
     "text": [
      "C:\\Users\\Hp\\anaconda3\\envs\\digit\\lib\\site-packages\\sklearn\\model_selection\\_validation.py:593: UserWarning: With alpha=0, this algorithm does not converge well. You are advised to use the LinearRegression estimator\n",
      "  estimator.fit(X_train, y_train, **fit_params)\n",
      "C:\\Users\\Hp\\anaconda3\\envs\\digit\\lib\\site-packages\\sklearn\\linear_model\\_coordinate_descent.py:530: UserWarning: Coordinate descent with no regularization may lead to unexpected results and is discouraged.\n",
      "  model = cd_fast.enet_coordinate_descent(\n",
      "C:\\Users\\Hp\\anaconda3\\envs\\digit\\lib\\site-packages\\sklearn\\linear_model\\_coordinate_descent.py:530: ConvergenceWarning: Objective did not converge. You might want to increase the number of iterations. Duality gap: 323.0521262588446, tolerance: 0.8835920777545123\n",
      "  model = cd_fast.enet_coordinate_descent(\n",
      "C:\\Users\\Hp\\anaconda3\\envs\\digit\\lib\\site-packages\\sklearn\\model_selection\\_validation.py:593: UserWarning: With alpha=0, this algorithm does not converge well. You are advised to use the LinearRegression estimator\n",
      "  estimator.fit(X_train, y_train, **fit_params)\n",
      "C:\\Users\\Hp\\anaconda3\\envs\\digit\\lib\\site-packages\\sklearn\\linear_model\\_coordinate_descent.py:530: UserWarning: Coordinate descent with no regularization may lead to unexpected results and is discouraged.\n",
      "  model = cd_fast.enet_coordinate_descent(\n",
      "C:\\Users\\Hp\\anaconda3\\envs\\digit\\lib\\site-packages\\sklearn\\linear_model\\_coordinate_descent.py:530: ConvergenceWarning: Objective did not converge. You might want to increase the number of iterations. Duality gap: 338.49179751290274, tolerance: 0.9758465129439269\n",
      "  model = cd_fast.enet_coordinate_descent(\n",
      "C:\\Users\\Hp\\anaconda3\\envs\\digit\\lib\\site-packages\\sklearn\\model_selection\\_validation.py:593: UserWarning: With alpha=0, this algorithm does not converge well. You are advised to use the LinearRegression estimator\n",
      "  estimator.fit(X_train, y_train, **fit_params)\n",
      "C:\\Users\\Hp\\anaconda3\\envs\\digit\\lib\\site-packages\\sklearn\\linear_model\\_coordinate_descent.py:530: UserWarning: Coordinate descent with no regularization may lead to unexpected results and is discouraged.\n",
      "  model = cd_fast.enet_coordinate_descent(\n",
      "C:\\Users\\Hp\\anaconda3\\envs\\digit\\lib\\site-packages\\sklearn\\linear_model\\_coordinate_descent.py:530: ConvergenceWarning: Objective did not converge. You might want to increase the number of iterations. Duality gap: 297.6617839352173, tolerance: 0.8832357133948913\n",
      "  model = cd_fast.enet_coordinate_descent(\n",
      "C:\\Users\\Hp\\anaconda3\\envs\\digit\\lib\\site-packages\\sklearn\\model_selection\\_validation.py:593: UserWarning: With alpha=0, this algorithm does not converge well. You are advised to use the LinearRegression estimator\n",
      "  estimator.fit(X_train, y_train, **fit_params)\n",
      "C:\\Users\\Hp\\anaconda3\\envs\\digit\\lib\\site-packages\\sklearn\\linear_model\\_coordinate_descent.py:530: UserWarning: Coordinate descent with no regularization may lead to unexpected results and is discouraged.\n",
      "  model = cd_fast.enet_coordinate_descent(\n",
      "C:\\Users\\Hp\\anaconda3\\envs\\digit\\lib\\site-packages\\sklearn\\linear_model\\_coordinate_descent.py:530: ConvergenceWarning: Objective did not converge. You might want to increase the number of iterations. Duality gap: 310.71964235650375, tolerance: 0.839975695766382\n",
      "  model = cd_fast.enet_coordinate_descent(\n"
     ]
    },
    {
     "name": "stdout",
     "output_type": "stream",
     "text": [
      "Best Parameters: {'alpha': 0, 'l1_ratio': 0.1, 'max_iter': 100}\n",
      "R^2 score on training data: 0.92\n",
      "R^2 score: 0.93\n",
      "Mean squared error: 5.32\n",
      "Mean absolute error: 1.86\n"
     ]
    },
    {
     "name": "stderr",
     "output_type": "stream",
     "text": [
      "C:\\Users\\Hp\\anaconda3\\envs\\digit\\lib\\site-packages\\sklearn\\model_selection\\_search.py:880: UserWarning: With alpha=0, this algorithm does not converge well. You are advised to use the LinearRegression estimator\n",
      "  self.best_estimator_.fit(X, y, **fit_params)\n",
      "C:\\Users\\Hp\\anaconda3\\envs\\digit\\lib\\site-packages\\sklearn\\linear_model\\_coordinate_descent.py:530: UserWarning: Coordinate descent with no regularization may lead to unexpected results and is discouraged.\n",
      "  model = cd_fast.enet_coordinate_descent(\n",
      "C:\\Users\\Hp\\anaconda3\\envs\\digit\\lib\\site-packages\\sklearn\\linear_model\\_coordinate_descent.py:530: ConvergenceWarning: Objective did not converge. You might want to increase the number of iterations. Duality gap: 424.8688706050654, tolerance: 1.1146797360374623\n",
      "  model = cd_fast.enet_coordinate_descent(\n"
     ]
    }
   ],
   "source": [
    "scoring = make_scorer(r2_score)\n",
    "grid_cv = GridSearchCV(ElasticNet(),\n",
    "              param_grid={'alpha': range(0, 10), 'max_iter' : [10, 100, 1000], 'l1_ratio' : [0.1, 0.4, 0.8]},\n",
    "              scoring=scoring, cv=5, refit=True)\n",
    "\n",
    "grid_cv.fit(life_features_train, life_labels_train)\n",
    "print(\"Best Parameters: \" + str(grid_cv.best_params_))\n",
    "\n",
    "result = grid_cv.cv_results_\n",
    "print(\"R^2 score on training data: %.2f\" % grid_cv.score(life_features_train, life_labels_train))\n",
    "print(\"R^2 score: %.2f\"\n",
    "      % r2_score(life_labels_test, grid_cv.best_estimator_.predict(life_features_test)))\n",
    "print(\"Mean squared error: %.2f\"\n",
    "      % mean_squared_error(life_labels_test, linear_model_predict))\n",
    "print(\"Mean absolute error: %.2f\"\n",
    "      % mean_absolute_error(life_labels_test, linear_model_predict))"
   ]
  },
  {
   "cell_type": "markdown",
   "id": "382c135e",
   "metadata": {},
   "source": [
    "- Best Parameters: {'alpha': 0, 'l1_ratio': 0.1, 'max_iter': 100}\n",
    "\n",
    "\n",
    "- R^2 score on training data: 0.92\n",
    "\n",
    "\n",
    "- R^2 score: 0.93\n",
    "\n",
    "\n",
    "- Mean squared error: 5.32\n",
    "\n",
    "\n",
    "- Mean absolute error: 1.86"
   ]
  },
  {
   "cell_type": "markdown",
   "id": "4c74bfe5",
   "metadata": {},
   "source": [
    "The ElasticNet combines both L1 and L2 regularization of the previous regression types.\n",
    "\n",
    "\n",
    "Finally the grid search concerning ElasticNet shows that it performs as well as the Lasso regression so far with alpha = 0, max iterations = 100 and the L1 ration set at 0.1. The R square and the errors remain the same as the Lasso Regression"
   ]
  },
  {
   "cell_type": "markdown",
   "id": "72800243",
   "metadata": {},
   "source": [
    "## Linear Regression with Polynomial Features:"
   ]
  },
  {
   "cell_type": "markdown",
   "id": "bc97148f",
   "metadata": {},
   "source": [
    "The Polynomial Features function has been used to get the interactions of the input variables only to the power of 2"
   ]
  },
  {
   "cell_type": "code",
   "execution_count": 56,
   "id": "8b05a15f",
   "metadata": {},
   "outputs": [],
   "source": [
    "quad_feature_transformer = PolynomialFeatures(2, interaction_only = True)\n",
    "quad_feature_transformer.fit(life_features_train)\n",
    "life_features_train_quad = quad_feature_transformer.transform(life_features_train)\n",
    "life_features_test_quad = quad_feature_transformer.transform(life_features_test)"
   ]
  },
  {
   "cell_type": "code",
   "execution_count": 57,
   "id": "992bf67c",
   "metadata": {},
   "outputs": [
    {
     "name": "stdout",
     "output_type": "stream",
     "text": [
      "1.0\n"
     ]
    }
   ],
   "source": [
    "poly_model_quad = LinearRegression()\n",
    "poly_model_quad.fit(life_features_train_quad, life_labels_train)\n",
    "accuracy_score_quad = poly_model_quad.score(life_features_train_quad, life_labels_train)\n",
    "print(accuracy_score_quad)"
   ]
  },
  {
   "cell_type": "markdown",
   "id": "dbc168bd",
   "metadata": {},
   "source": [
    "The Linear Regression is being tested on the training data with the new Polynomial Features, the accuracy is 1, meaning the model has learned all the data. An prediction for the life_features_test_quad variable has been made."
   ]
  },
  {
   "cell_type": "code",
   "execution_count": 58,
   "id": "9a3f98fd",
   "metadata": {},
   "outputs": [],
   "source": [
    "poly_model_quad_predict = poly_model_quad.predict(life_features_test_quad)"
   ]
  },
  {
   "cell_type": "code",
   "execution_count": 59,
   "id": "c667bcf9",
   "metadata": {},
   "outputs": [
    {
     "name": "stdout",
     "output_type": "stream",
     "text": [
      "Mean squared error: 544.70\n",
      "Mean absolute error: 8.48\n",
      "R_square score: -6.51\n"
     ]
    }
   ],
   "source": [
    "print(\"Mean squared error: %.2f\"\n",
    "      % mean_squared_error(life_labels_test, poly_model_quad_predict))\n",
    "print(\"Mean absolute error: %.2f\"\n",
    "      % mean_absolute_error(life_labels_test, poly_model_quad_predict))\n",
    "print('R_square score: %.2f' % r2_score(life_labels_test, poly_model_quad_predict))"
   ]
  },
  {
   "cell_type": "markdown",
   "id": "80a13472",
   "metadata": {},
   "source": [
    "All the errors are significantly higher then the privious models, and the R square is in this case negative (this happens only in sklearn). This is the worst performing model for now."
   ]
  },
  {
   "cell_type": "markdown",
   "id": "1b609c40",
   "metadata": {},
   "source": [
    "## Decision Tree Regression:"
   ]
  },
  {
   "cell_type": "code",
   "execution_count": 60,
   "id": "bf6d8472",
   "metadata": {},
   "outputs": [
    {
     "name": "stdout",
     "output_type": "stream",
     "text": [
      "mean cross validation score: 0.80\n",
      "score without cv: 1.00\n",
      "R^2 score on the test data 0.83\n"
     ]
    }
   ],
   "source": [
    "decision_tree_model = DecisionTreeRegressor()\n",
    "decision_tree_fit = decision_tree_model.fit(life_features_train, life_labels_train)\n",
    "\n",
    "decision_tree_score = cross_val_score(decision_tree_fit, life_features_train, life_labels_train, cv = 5)\n",
    "print(\"mean cross validation score: %.2f\"  % np.mean(decision_tree_score))\n",
    "print(\"score without cv: %.2f\" % decision_tree_fit.score(life_features_train, life_labels_train))\n",
    "print(\"R^2 score on the test data %.2f\"% r2_score(life_labels_test, decision_tree_fit.predict(life_features_test)))"
   ]
  },
  {
   "cell_type": "markdown",
   "id": "57f584c8",
   "metadata": {},
   "source": [
    "- Now we will try the Decision Tree Regression. Cross Validation has been performed\n",
    "- The R square on the training data is 1 meaning that the algorithm has learned the data by heart, with the cross validation the figure declines to 77% and using the test date we get 80%\n",
    "- Now we use the algorithm to predict the values of the life_features_test."
   ]
  },
  {
   "cell_type": "code",
   "execution_count": 61,
   "id": "9f87fdf3",
   "metadata": {},
   "outputs": [],
   "source": [
    "decision_tree_model_predict = decision_tree_model.predict(life_features_test)"
   ]
  },
  {
   "cell_type": "code",
   "execution_count": 62,
   "id": "6984f061",
   "metadata": {},
   "outputs": [
    {
     "name": "stdout",
     "output_type": "stream",
     "text": [
      "Best Parameters: {'min_samples_split': 5}\n",
      "R^2 score on training data: 1.00\n",
      "R^2 score: 0.81\n",
      "Mean squared error: 12.24\n",
      "Mean absolute error: 2.47\n"
     ]
    }
   ],
   "source": [
    "scoring = make_scorer(r2_score)\n",
    "grid_cv = GridSearchCV(DecisionTreeRegressor(),\n",
    "              param_grid={'min_samples_split': range(2, 10)},\n",
    "              scoring=scoring, cv=5, refit=True)\n",
    "\n",
    "grid_cv.fit(life_features_train, life_labels_train)\n",
    "grid_cv.best_params_\n",
    "\n",
    "print(\"Best Parameters: \" + str(grid_cv.best_params_))\n",
    "result = grid_cv.cv_results_\n",
    "print(\"R^2 score on training data: %.2f\"  % grid_cv.best_estimator_.score(life_features_train, life_labels_train))\n",
    "print(\"R^2 score: %.2f\"\n",
    "      % r2_score(life_labels_test, grid_cv.best_estimator_.predict(life_features_test)))\n",
    "print(\"Mean squared error: %.2f\"\n",
    "      % mean_squared_error(life_labels_test, decision_tree_model_predict))\n",
    "print(\"Mean absolute error: %.2f\"\n",
    "      % mean_absolute_error(life_labels_test, decision_tree_model_predict))"
   ]
  },
  {
   "cell_type": "markdown",
   "id": "4ad75da8",
   "metadata": {},
   "source": [
    "- After performing grid search with minimun samples split in the range between 2 and 10 we get the best split of 3.\n",
    "- The R square on the training data is 98%, the algorithms has nearly leaned the data by hearth. \n",
    "- On the test data we get R square of 81 %, the MAE is 2.71 and MSE is 16.59. \n",
    "- This method is worse than the Elastic Net Regression"
   ]
  },
  {
   "cell_type": "markdown",
   "id": "30038bc2",
   "metadata": {},
   "source": [
    "## Random Forest Regression:"
   ]
  },
  {
   "cell_type": "code",
   "execution_count": 63,
   "id": "f740fa99",
   "metadata": {},
   "outputs": [
    {
     "name": "stdout",
     "output_type": "stream",
     "text": [
      "mean cross validation score: 0.90\n",
      "score without cv: 0.99\n",
      "R^2 score on the test data 0.86\n"
     ]
    }
   ],
   "source": [
    "random_forest_model = RandomForestRegressor()\n",
    "random_forest_fit = random_forest_model.fit(life_features_train, life_labels_train)\n",
    "\n",
    "random_forest_score = cross_val_score(random_forest_fit, life_features_train, life_labels_train, cv = 5)\n",
    "print(\"mean cross validation score: %.2f\"\n",
    "       % np.mean(random_forest_score))\n",
    "print(\"score without cv: %.2f\"\n",
    "      % random_forest_fit.score(life_features_train, life_labels_train))\n",
    "print(\"R^2 score on the test data %.2f\"\n",
    "      %r2_score(life_labels_test, random_forest_fit.predict(life_features_test)))"
   ]
  },
  {
   "cell_type": "markdown",
   "id": "af55b03e",
   "metadata": {},
   "source": [
    "- Now we will use the Random Forest Regression\n",
    "- The alogorithm has learned 98% on the training data without cross validation and 88% with, the value is 92 % on the test data."
   ]
  },
  {
   "cell_type": "code",
   "execution_count": 65,
   "id": "5d9781f5",
   "metadata": {},
   "outputs": [],
   "source": [
    "random_forest_model_predict = random_forest_model.predict(life_features_test)"
   ]
  },
  {
   "cell_type": "code",
   "execution_count": 66,
   "id": "7969bb8c",
   "metadata": {},
   "outputs": [
    {
     "name": "stdout",
     "output_type": "stream",
     "text": [
      "Best Parameters: {'min_samples_split': 7}\n",
      "R^2 score on training data: 0.98\n",
      "R^2 score: 0.87\n",
      "Mean squared error: 10.32\n",
      "Mean absolute error: 2.21\n"
     ]
    }
   ],
   "source": [
    "scoring = make_scorer(r2_score)\n",
    "grid_cv = GridSearchCV(RandomForestRegressor(),\n",
    "              param_grid={'min_samples_split': range(2, 10)},\n",
    "              scoring=scoring, cv=5, refit=True)\n",
    "\n",
    "grid_cv.fit(life_features_train, life_labels_train)\n",
    "grid_cv.best_params_\n",
    "\n",
    "result = grid_cv.cv_results_\n",
    "print(\"Best Parameters: \" + str(grid_cv.best_params_))\n",
    "result = grid_cv.cv_results_\n",
    "print(\"R^2 score on training data: %.2f\"  % grid_cv.best_estimator_.score(life_features_train, life_labels_train))\n",
    "print(\"R^2 score: %.2f\"\n",
    "      % r2_score(life_labels_test, grid_cv.best_estimator_.predict(life_features_test)))\n",
    "print(\"Mean squared error: %.2f\"\n",
    "      % mean_squared_error(life_labels_test, random_forest_model_predict))\n",
    "print(\"Mean absolute error: %.2f\"\n",
    "      % mean_absolute_error(life_labels_test, random_forest_model_predict))"
   ]
  },
  {
   "cell_type": "markdown",
   "id": "f76ba331",
   "metadata": {},
   "source": [
    "After performing grid search in the range 2 to 10 for the minimun samples split we get 2 for the split. The R square on the training is 98 % while on the test it is 91% and a MAE of 1.89 and MSE of 6.71."
   ]
  },
  {
   "cell_type": "markdown",
   "id": "62f62af9",
   "metadata": {},
   "source": [
    "# Conclusion:"
   ]
  },
  {
   "cell_type": "markdown",
   "id": "79ba9b26",
   "metadata": {},
   "source": [
    "After comparing all the algorithms we can conclude the Lasso and the Elastic Net Regression offer which are the same:\n",
    "\n",
    "1. Best Parameters: {‘alpha’: 0, ‘max_iter’: 10}\n",
    "2. R square on the test data of 92%\n",
    "3. MAE of 1.83\n",
    "4. MSE of 6.05"
   ]
  },
  {
   "cell_type": "markdown",
   "id": "1dfb063a",
   "metadata": {},
   "source": [
    "## References and Sources:"
   ]
  },
  {
   "cell_type": "markdown",
   "id": "a5f5468f",
   "metadata": {},
   "source": [
    "The following sources have been used:\n",
    "\n",
    "1. https://www.kaggle.com/kumarajarshi/life-expectancy-who/data\n",
    "2. Introduction to Machine Learning with Python by Andreas C. Müller & Sarah Guido\n",
    "3. Labs of the course(coursera)\n",
    "4. stack overflow\n",
    "5. Lectures of the course"
   ]
  }
 ],
 "metadata": {
  "kernelspec": {
   "display_name": "Python 3",
   "language": "python",
   "name": "python3"
  },
  "language_info": {
   "codemirror_mode": {
    "name": "ipython",
    "version": 3
   },
   "file_extension": ".py",
   "mimetype": "text/x-python",
   "name": "python",
   "nbconvert_exporter": "python",
   "pygments_lexer": "ipython3",
   "version": "3.8.8"
  }
 },
 "nbformat": 4,
 "nbformat_minor": 5
}
